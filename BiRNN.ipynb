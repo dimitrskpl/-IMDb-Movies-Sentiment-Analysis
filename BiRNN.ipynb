{
  "cells": [
    {
      "cell_type": "markdown",
      "metadata": {
        "id": "K3oZUIy1-nyd"
      },
      "source": [
        "# **Sentiment Analysis for IMDb movies 🍿👀📽**"
      ]
    },
    {
      "cell_type": "markdown",
      "metadata": {
        "id": "O8JvYNH7kMG2"
      },
      "source": [
        "In this project, I perform sentiment analysis on IMDb movies' reviews. The inputs to my model are **GloVe word embeddings**. I classify the reviews into two classes (Positive and Negative) using a **bidirectional stacked RNNs** with **LSTM/GRU** experimenting with several parameters.\n",
        "\n",
        "---\n",
        "\n"
      ]
    },
    {
      "cell_type": "code",
      "execution_count": null,
      "metadata": {
        "id": "Gno_zeC-kpMp",
        "colab": {
          "base_uri": "https://localhost:8080/"
        },
        "outputId": "75955103-003b-46ee-f5ea-4114e31f80b0"
      },
      "outputs": [
        {
          "output_type": "stream",
          "name": "stdout",
          "text": [
            "Looking in indexes: https://pypi.org/simple, https://us-python.pkg.dev/colab-wheels/public/simple/\n",
            "Collecting torchtext==0.9.0\n",
            "  Downloading torchtext-0.9.0-cp38-cp38-manylinux1_x86_64.whl (7.0 MB)\n",
            "\u001b[2K     \u001b[90m━━━━━━━━━━━━━━━━━━━━━━━━━━━━━━━━━━━━━━━━\u001b[0m \u001b[32m7.0/7.0 MB\u001b[0m \u001b[31m43.2 MB/s\u001b[0m eta \u001b[36m0:00:00\u001b[0m\n",
            "\u001b[?25hCollecting torch==1.8.0\n",
            "  Downloading torch-1.8.0-cp38-cp38-manylinux1_x86_64.whl (735.5 MB)\n",
            "\u001b[2K     \u001b[90m━━━━━━━━━━━━━━━━━━━━━━━━━━━━━━━━━━━━━━━\u001b[0m \u001b[32m735.5/735.5 MB\u001b[0m \u001b[31m2.0 MB/s\u001b[0m eta \u001b[36m0:00:00\u001b[0m\n",
            "\u001b[?25hRequirement already satisfied: tqdm in /usr/local/lib/python3.8/dist-packages (from torchtext==0.9.0) (4.64.1)\n",
            "Requirement already satisfied: numpy in /usr/local/lib/python3.8/dist-packages (from torchtext==0.9.0) (1.21.6)\n",
            "Requirement already satisfied: requests in /usr/local/lib/python3.8/dist-packages (from torchtext==0.9.0) (2.25.1)\n",
            "Requirement already satisfied: typing-extensions in /usr/local/lib/python3.8/dist-packages (from torch==1.8.0->torchtext==0.9.0) (4.4.0)\n",
            "Requirement already satisfied: chardet<5,>=3.0.2 in /usr/local/lib/python3.8/dist-packages (from requests->torchtext==0.9.0) (4.0.0)\n",
            "Requirement already satisfied: certifi>=2017.4.17 in /usr/local/lib/python3.8/dist-packages (from requests->torchtext==0.9.0) (2022.12.7)\n",
            "Requirement already satisfied: idna<3,>=2.5 in /usr/local/lib/python3.8/dist-packages (from requests->torchtext==0.9.0) (2.10)\n",
            "Requirement already satisfied: urllib3<1.27,>=1.21.1 in /usr/local/lib/python3.8/dist-packages (from requests->torchtext==0.9.0) (1.24.3)\n",
            "Installing collected packages: torch, torchtext\n",
            "  Attempting uninstall: torch\n",
            "    Found existing installation: torch 1.13.0+cu116\n",
            "    Uninstalling torch-1.13.0+cu116:\n",
            "      Successfully uninstalled torch-1.13.0+cu116\n",
            "  Attempting uninstall: torchtext\n",
            "    Found existing installation: torchtext 0.14.0\n",
            "    Uninstalling torchtext-0.14.0:\n",
            "      Successfully uninstalled torchtext-0.14.0\n",
            "\u001b[31mERROR: pip's dependency resolver does not currently take into account all the packages that are installed. This behaviour is the source of the following dependency conflicts.\n",
            "torchvision 0.14.0+cu116 requires torch==1.13.0, but you have torch 1.8.0 which is incompatible.\n",
            "torchaudio 0.13.0+cu116 requires torch==1.13.0, but you have torch 1.8.0 which is incompatible.\u001b[0m\u001b[31m\n",
            "\u001b[0mSuccessfully installed torch-1.8.0 torchtext-0.9.0\n"
          ]
        }
      ],
      "source": [
        "#for module torchtext.legacy\n",
        "!pip install torchtext==0.9.0"
      ]
    },
    {
      "cell_type": "code",
      "execution_count": null,
      "metadata": {
        "id": "-8NVHXlUCyhG",
        "colab": {
          "base_uri": "https://localhost:8080/"
        },
        "outputId": "b46d8d6e-42c9-4345-ab46-b0a6003b12e7"
      },
      "outputs": [
        {
          "output_type": "stream",
          "name": "stdout",
          "text": [
            "Looking in indexes: https://pypi.org/simple, https://us-python.pkg.dev/colab-wheels/public/simple/\n",
            "Looking in links: https://download.pytorch.org/whl/torch_stable.html\n",
            "Collecting torch==1.8.0+cu111\n",
            "  Downloading https://download.pytorch.org/whl/cu111/torch-1.8.0%2Bcu111-cp38-cp38-linux_x86_64.whl (1982.2 MB)\n",
            "\u001b[2K     \u001b[91m━━━━━━━━━━━━━━━━━━━━━━━━━━━━━━━━━━━━━━━\u001b[0m\u001b[91m╸\u001b[0m \u001b[32m2.0/2.0 GB\u001b[0m \u001b[31m46.1 MB/s\u001b[0m eta \u001b[36m0:00:01\u001b[0mtcmalloc: large alloc 1982242816 bytes == 0x3916000 @  0x7f152b7c11e7 0x4d30a0 0x4d312c 0x5d6f4c 0x51edd1 0x51ef5b 0x4f750a 0x4997a2 0x55cd91 0x5d8941 0x4997a2 0x55cd91 0x5d8941 0x4997a2 0x55cd91 0x5d8941 0x4997a2 0x55cd91 0x5d8941 0x4997a2 0x55cd91 0x5d8941 0x4997a2 0x5d8868 0x4997a2 0x55cd91 0x5d8941 0x49abe4 0x55cd91 0x5d8941 0x4997a2\n",
            "\u001b[2K     \u001b[91m━━━━━━━━━━━━━━━━━━━━━━━━━━━━━━━━━━━━━━━\u001b[0m\u001b[91m╸\u001b[0m \u001b[32m2.0/2.0 GB\u001b[0m \u001b[31m45.4 MB/s\u001b[0m eta \u001b[36m0:00:01\u001b[0mtcmalloc: large alloc 2477809664 bytes == 0x79b80000 @  0x7f152b7c2615 0x5d6f4c 0x51edd1 0x51ef5b 0x4f750a 0x4997a2 0x55cd91 0x5d8941 0x4997a2 0x55cd91 0x5d8941 0x4997a2 0x55cd91 0x5d8941 0x4997a2 0x55cd91 0x5d8941 0x4997a2 0x55cd91 0x5d8941 0x4997a2 0x5d8868 0x4997a2 0x55cd91 0x5d8941 0x49abe4 0x55cd91 0x5d8941 0x4997a2 0x55cd91 0x5d8941\n",
            "tcmalloc: large alloc 1982242816 bytes == 0x3916000 @  0x7f152b7c11e7 0x4d30a0 0x5dede2 0x6758aa 0x4f750a 0x4997a2 0x55cd91 0x5d8941 0x4997a2 0x55cd91 0x5d8941 0x4fe318 0x5da092 0x62042c 0x5d8d8c 0x561f80 0x4fd2db 0x4997c7 0x4fd8b5 0x4997c7 0x4fd8b5 0x49abe4 0x4f5fe9 0x55e146 0x4f5fe9 0x55e146 0x4f5fe9 0x55e146 0x5d8868 0x5da092 0x587116\n",
            "\u001b[2K     \u001b[90m━━━━━━━━━━━━━━━━━━━━━━━━━━━━━━━━━━━━━━━━\u001b[0m \u001b[32m2.0/2.0 GB\u001b[0m \u001b[31m854.7 kB/s\u001b[0m eta \u001b[36m0:00:00\u001b[0m\n",
            "\u001b[?25hCollecting torchvision==0.9.0+cu111\n",
            "  Downloading https://download.pytorch.org/whl/cu111/torchvision-0.9.0%2Bcu111-cp38-cp38-linux_x86_64.whl (17.6 MB)\n",
            "\u001b[2K     \u001b[90m━━━━━━━━━━━━━━━━━━━━━━━━━━━━━━━━━━━━━━━━\u001b[0m \u001b[32m17.6/17.6 MB\u001b[0m \u001b[31m32.9 MB/s\u001b[0m eta \u001b[36m0:00:00\u001b[0m\n",
            "\u001b[?25hCollecting torchaudio==0.8.0\n",
            "  Downloading torchaudio-0.8.0-cp38-cp38-manylinux1_x86_64.whl (1.9 MB)\n",
            "\u001b[2K     \u001b[90m━━━━━━━━━━━━━━━━━━━━━━━━━━━━━━━━━━━━━━━━\u001b[0m \u001b[32m1.9/1.9 MB\u001b[0m \u001b[31m13.5 MB/s\u001b[0m eta \u001b[36m0:00:00\u001b[0m\n",
            "\u001b[?25hRequirement already satisfied: typing-extensions in /usr/local/lib/python3.8/dist-packages (from torch==1.8.0+cu111) (4.4.0)\n",
            "Requirement already satisfied: numpy in /usr/local/lib/python3.8/dist-packages (from torch==1.8.0+cu111) (1.21.6)\n",
            "Requirement already satisfied: pillow>=4.1.1 in /usr/local/lib/python3.8/dist-packages (from torchvision==0.9.0+cu111) (7.1.2)\n",
            "Installing collected packages: torch, torchvision, torchaudio\n",
            "  Attempting uninstall: torch\n",
            "    Found existing installation: torch 1.8.0\n",
            "    Uninstalling torch-1.8.0:\n",
            "      Successfully uninstalled torch-1.8.0\n",
            "  Attempting uninstall: torchvision\n",
            "    Found existing installation: torchvision 0.14.0+cu116\n",
            "    Uninstalling torchvision-0.14.0+cu116:\n",
            "      Successfully uninstalled torchvision-0.14.0+cu116\n",
            "  Attempting uninstall: torchaudio\n",
            "    Found existing installation: torchaudio 0.13.0+cu116\n",
            "    Uninstalling torchaudio-0.13.0+cu116:\n",
            "      Successfully uninstalled torchaudio-0.13.0+cu116\n",
            "Successfully installed torch-1.8.0+cu111 torchaudio-0.8.0 torchvision-0.9.0+cu111\n"
          ]
        }
      ],
      "source": [
        "#for resolving RuntimeError: cuDNN error: CUDNN_STATUS_NOT_INITIALIZED\n",
        "!pip install torch==1.8.0+cu111 torchvision==0.9.0+cu111 torchaudio==0.8.0 -f https://download.pytorch.org/whl/torch_stable.html"
      ]
    },
    {
      "cell_type": "code",
      "execution_count": null,
      "metadata": {
        "id": "fMGmxNGYMZ8G"
      },
      "outputs": [],
      "source": [
        "from google.colab import drive\n",
        "import pandas as pd\n",
        "import matplotlib.pyplot as plt\n",
        "import numpy as np\n",
        "import torch.optim as optim"
      ]
    },
    {
      "cell_type": "markdown",
      "metadata": {
        "id": "Re-tpvevCQhm"
      },
      "source": [
        "## **Load the dataset** "
      ]
    },
    {
      "cell_type": "markdown",
      "metadata": {
        "id": "_PgDmpg8En2s"
      },
      "source": [
        "For **testing** the model give to **TESTING_DATA_PATH** variable the path where the file with testing data is located"
      ]
    },
    {
      "cell_type": "code",
      "execution_count": null,
      "metadata": {
        "id": "hI_ZUAceEloX"
      },
      "outputs": [],
      "source": [
        "TESTING_DATA_PATH=\"\"\n",
        "DATA_PATH=\"\""
      ]
    },
    {
      "cell_type": "code",
      "execution_count": null,
      "metadata": {
        "colab": {
          "base_uri": "https://localhost:8080/"
        },
        "id": "u7Fhi8drMfHA",
        "outputId": "9e83118e-71d6-4a8e-a861-314795a454cc"
      },
      "outputs": [
        {
          "output_type": "stream",
          "name": "stdout",
          "text": [
            "Mounted at /content/drive\n"
          ]
        }
      ],
      "source": [
        "if not DATA_PATH:\n",
        "  drive.mount('/content/drive')\n",
        "  DATA_PATH = \"/content/drive/MyDrive/AI_2_exercise_1_data/imdb-reviews.csv\"\n",
        "df = pd.read_csv(filepath_or_buffer=DATA_PATH, sep='\\t')\n",
        "\n",
        "if TESTING_DATA_PATH:\n",
        "  # test_df = df.copy()\n",
        "  # test_df = test_df.iloc[36006:45009]\n",
        "  test_df = pd.read_csv(file_or_buffer=TESTING_DATA_PATH, sep='\\t')"
      ]
    },
    {
      "cell_type": "markdown",
      "metadata": {
        "id": "9qGpOMLxBKDN"
      },
      "source": [
        "A look at our data"
      ]
    },
    {
      "cell_type": "code",
      "execution_count": null,
      "metadata": {
        "colab": {
          "base_uri": "https://localhost:8080/"
        },
        "id": "B6IH1SqvAZDt",
        "outputId": "14719076-2500-4bf0-811f-36990387a509"
      },
      "outputs": [
        {
          "output_type": "stream",
          "name": "stdout",
          "text": [
            "Dataset shape: (45008, 3)\n"
          ]
        }
      ],
      "source": [
        "if not TESTING_DATA_PATH:\n",
        "  print(f\"Dataset shape: {df.shape}\")\n",
        "  pd.set_option('display.max_colwidth', 1000)\n",
        "  df.head()"
      ]
    },
    {
      "cell_type": "markdown",
      "metadata": {
        "id": "hK3Zf_jkCjlm"
      },
      "source": [
        "Convert the sentiments as following:\n",
        "\n",
        "* POS → 0\n",
        "* NEG → 1"
      ]
    },
    {
      "cell_type": "code",
      "execution_count": null,
      "metadata": {
        "id": "nZovRTKiCS23"
      },
      "outputs": [],
      "source": [
        " df.loc[df['rating'] < 5, ['rating']] = 0\n",
        " df.loc[df['rating'] > 6, ['rating']] = 1\n",
        " if TESTING_DATA_PATH:\n",
        "   test_df.loc[test_df['rating'] < 5, ['rating']] = 0\n",
        "   test_df.loc[test_df['rating'] > 6, ['rating']] = 1"
      ]
    },
    {
      "cell_type": "markdown",
      "metadata": {
        "id": "saSZVAFZC98X"
      },
      "source": [
        "## **Data pre-processing**"
      ]
    },
    {
      "cell_type": "markdown",
      "metadata": {
        "id": "2Xe4oY09ceMn"
      },
      "source": [
        "In order to aply logistic regression in the data, they must first be pre-processed."
      ]
    },
    {
      "cell_type": "markdown",
      "metadata": {
        "id": "0tQWnoDa7jxO"
      },
      "source": [
        "### **Text Transformation**"
      ]
    },
    {
      "cell_type": "code",
      "execution_count": null,
      "metadata": {
        "id": "9G9wQ_CK-xnn"
      },
      "outputs": [],
      "source": [
        "df.drop('url', inplace=True, axis=1)\n",
        "if TESTING_DATA_PATH:\n",
        "  test_df.drop('url', inplace=True, axis=1)"
      ]
    },
    {
      "cell_type": "code",
      "execution_count": null,
      "metadata": {
        "colab": {
          "base_uri": "https://localhost:8080/"
        },
        "id": "g-2nO3eLI1Sv",
        "outputId": "3665cf7a-2d84-4f0f-b04e-07f1fa101f2e"
      },
      "outputs": [
        {
          "output_type": "stream",
          "name": "stdout",
          "text": [
            "rating    0\n",
            "review    0\n",
            "dtype: int64\n"
          ]
        }
      ],
      "source": [
        "if not TESTING_DATA_PATH:\n",
        "  print(df.isnull().sum())"
      ]
    },
    {
      "cell_type": "markdown",
      "metadata": {
        "id": "ex-GDAy2CDNy"
      },
      "source": [
        "We detect no missing values in the dataset"
      ]
    },
    {
      "cell_type": "code",
      "execution_count": null,
      "metadata": {
        "colab": {
          "base_uri": "https://localhost:8080/"
        },
        "id": "EMQwt9iv2UKr",
        "outputId": "e2c5669f-52cd-4008-9ea1-8596f428d97b"
      },
      "outputs": [
        {
          "output_type": "stream",
          "name": "stderr",
          "text": [
            "[nltk_data] Downloading package stopwords to /root/nltk_data...\n",
            "[nltk_data]   Unzipping corpora/stopwords.zip.\n"
          ]
        }
      ],
      "source": [
        "import re\n",
        "import string\n",
        "import nltk\n",
        "from nltk.corpus import stopwords\n",
        "from nltk.stem.snowball import SnowballStemmer\n",
        "\n",
        "nltk.download('stopwords')\n",
        "\n",
        "# Define the function for text transformation\n",
        "def text_transformation(text):\n",
        "  # Lower characters\n",
        "  text = text.lower()\n",
        "  # Remove links\n",
        "  text = re.sub('http://\\S+|https://\\S+', '', text)\n",
        "  # Remove non letter characters\n",
        "  text = re.sub(r'[^A-Za-z]+', ' ', text)\n",
        "  # Remove punctuation\n",
        "  text = text.translate(str.maketrans('', '', string.punctuation))\n",
        "  # Remove stopwords\n",
        "  StopWords = stopwords.words(\"english\")\n",
        "  text = ' '.join([word for word in text.split() if word not in StopWords])\n",
        "  # Lemmatization\n",
        "  snow_stemmer = SnowballStemmer(language='english')\n",
        "  text = ' '.join([snow_stemmer.stem(word) for word in text.split()])\n",
        "  \n",
        "  return text  "
      ]
    },
    {
      "cell_type": "code",
      "execution_count": null,
      "metadata": {
        "id": "UizOOiqy3Xvn"
      },
      "outputs": [],
      "source": [
        "df['review'] = df['review'].apply(text_transformation)\n",
        "if TESTING_DATA_PATH:\n",
        "  test_df['review'] = test_df['review'].apply(text_transformation)\n"
      ]
    },
    {
      "cell_type": "code",
      "execution_count": null,
      "metadata": {
        "colab": {
          "base_uri": "https://localhost:8080/",
          "height": 389
        },
        "id": "1KzukulEDHTH",
        "outputId": "d217f450-026b-4f6d-badc-2be0891729e4"
      },
      "outputs": [
        {
          "output_type": "execute_result",
          "data": {
            "text/plain": [
              "   rating  \\\n",
              "0     1.0   \n",
              "1     1.0   \n",
              "2     1.0   \n",
              "3     0.0   \n",
              "4     1.0   \n",
              "\n",
              "                                                                                                                                                                                                                                                                                                                                                                                                                                                                                                                                                                                                                                                                                                                                                                                                                                                                                                                                                                                                                                    review  \n",
              "0                                                                                                                                                                                                                                                                                                                                                                                                                                                                                                                                                                                                                                                                                                                                                                                                                                                                                                                                                                        thought quiet good movi fun watch like best outtak end movi great  \n",
              "1  wagon master uniqu film amongst john ford work main one base stori written john ford stori elabor frank nugent director son patrick ford turn screenplay director person opinion regard wagon master film john ford call one came closest want achiev say say littl ford confess lindsay anderson favourit nonetheless darl clementin br br wagon master ingredi one might expect find john ford film wonder cast deliv best thou featur major star except fordian actor ben johnson peculiar small charact provid obligatori comic relief wagon master quit horn blow sister ledyard jane darwel shot inspir gig last least legendari monument valley john ford fifth passag stagecoach darl clementin fort apach wore yellow ribbon br br film start two friend cowboy travi blue ben johnson sandi owen harri carey jr hire wagon master guid caravan mormon settler head silver valley place like promis land way join peculiar dr locksley hall alan mowbray two beauti women suppos wife daughter call actor head direct simpl...  \n",
              "2  film near perfect film john ford made film magic masterpiec reason ford well ford want know ford great one explain br br photographi cours superb black white black white wonder shot shoulder convers pure ford great moment big littl famous rip pant ward bond appar two dog kept invad set fight ford want use fight scene instead fight one dog ran away attack ward bond rip pant caus ford end mirth whole scene around plait rope way ben johnson burn snuff rope wonder foreshadow anticip final harri carey naiv court prudenc usual ford line scare show bond hors accident fall left film johnson bond fantast scene lord help ford actor stay charact camera roll even hors fall top br br coupl sweet romanc intrud whole focus two likabl lead mention girl number time camera focus ben johnson rather delight backsid br br lot old time stuntmen get line role cliff lyon frank mcgrath wonder charact studi most face stare villain main star set villain rival group western br br mani mani fordian shot face g...  \n",
              "3                                                                                                                                                                                                                                                                                                                                                                                                                                                     gave star lot interest theme mani alreadi mention domest violenc sexual mani taboo therein outsid gore realli would call horror much would scienc fiction br br bleak depress hopeless mind less cheeri end realli tire human suck clich central everi movi know get liber art degre today without bow alter self hatr member human race bout writer director pretend differ everyon els pack notic alien kill human race evil right read believ human deserv die go find lake swim til arm tire way around direct next film write next book tell deserv die aliv silli thought bore  \n",
              "4                                                                                                                                                                                                                                                                                                                                                                                                                                             movi realli genuin random realli hard find movi like bunch movi hollywood realli enjoy watch movi bought dvd tuesday week watch time love spanglish accent paz realli cute act morgan funni natur br br movi tast might realli differ other say realli love movi simpl best br br learn someth life movi well least usa life life realli random sometim u meet someon pass life friend coincid u spend much time mayb u enjoy u never meet time u togeth realli unforgett keep moment mind grate nice memori br br movi might cheap make price mean total cheap rare learn anyth movi except  "
            ],
            "text/html": [
              "\n",
              "  <div id=\"df-3c20a75b-06f8-47e6-86f6-24ef2e9b3b4d\">\n",
              "    <div class=\"colab-df-container\">\n",
              "      <div>\n",
              "<style scoped>\n",
              "    .dataframe tbody tr th:only-of-type {\n",
              "        vertical-align: middle;\n",
              "    }\n",
              "\n",
              "    .dataframe tbody tr th {\n",
              "        vertical-align: top;\n",
              "    }\n",
              "\n",
              "    .dataframe thead th {\n",
              "        text-align: right;\n",
              "    }\n",
              "</style>\n",
              "<table border=\"1\" class=\"dataframe\">\n",
              "  <thead>\n",
              "    <tr style=\"text-align: right;\">\n",
              "      <th></th>\n",
              "      <th>rating</th>\n",
              "      <th>review</th>\n",
              "    </tr>\n",
              "  </thead>\n",
              "  <tbody>\n",
              "    <tr>\n",
              "      <th>0</th>\n",
              "      <td>1.0</td>\n",
              "      <td>thought quiet good movi fun watch like best outtak end movi great</td>\n",
              "    </tr>\n",
              "    <tr>\n",
              "      <th>1</th>\n",
              "      <td>1.0</td>\n",
              "      <td>wagon master uniqu film amongst john ford work main one base stori written john ford stori elabor frank nugent director son patrick ford turn screenplay director person opinion regard wagon master film john ford call one came closest want achiev say say littl ford confess lindsay anderson favourit nonetheless darl clementin br br wagon master ingredi one might expect find john ford film wonder cast deliv best thou featur major star except fordian actor ben johnson peculiar small charact provid obligatori comic relief wagon master quit horn blow sister ledyard jane darwel shot inspir gig last least legendari monument valley john ford fifth passag stagecoach darl clementin fort apach wore yellow ribbon br br film start two friend cowboy travi blue ben johnson sandi owen harri carey jr hire wagon master guid caravan mormon settler head silver valley place like promis land way join peculiar dr locksley hall alan mowbray two beauti women suppos wife daughter call actor head direct simpl...</td>\n",
              "    </tr>\n",
              "    <tr>\n",
              "      <th>2</th>\n",
              "      <td>1.0</td>\n",
              "      <td>film near perfect film john ford made film magic masterpiec reason ford well ford want know ford great one explain br br photographi cours superb black white black white wonder shot shoulder convers pure ford great moment big littl famous rip pant ward bond appar two dog kept invad set fight ford want use fight scene instead fight one dog ran away attack ward bond rip pant caus ford end mirth whole scene around plait rope way ben johnson burn snuff rope wonder foreshadow anticip final harri carey naiv court prudenc usual ford line scare show bond hors accident fall left film johnson bond fantast scene lord help ford actor stay charact camera roll even hors fall top br br coupl sweet romanc intrud whole focus two likabl lead mention girl number time camera focus ben johnson rather delight backsid br br lot old time stuntmen get line role cliff lyon frank mcgrath wonder charact studi most face stare villain main star set villain rival group western br br mani mani fordian shot face g...</td>\n",
              "    </tr>\n",
              "    <tr>\n",
              "      <th>3</th>\n",
              "      <td>0.0</td>\n",
              "      <td>gave star lot interest theme mani alreadi mention domest violenc sexual mani taboo therein outsid gore realli would call horror much would scienc fiction br br bleak depress hopeless mind less cheeri end realli tire human suck clich central everi movi know get liber art degre today without bow alter self hatr member human race bout writer director pretend differ everyon els pack notic alien kill human race evil right read believ human deserv die go find lake swim til arm tire way around direct next film write next book tell deserv die aliv silli thought bore</td>\n",
              "    </tr>\n",
              "    <tr>\n",
              "      <th>4</th>\n",
              "      <td>1.0</td>\n",
              "      <td>movi realli genuin random realli hard find movi like bunch movi hollywood realli enjoy watch movi bought dvd tuesday week watch time love spanglish accent paz realli cute act morgan funni natur br br movi tast might realli differ other say realli love movi simpl best br br learn someth life movi well least usa life life realli random sometim u meet someon pass life friend coincid u spend much time mayb u enjoy u never meet time u togeth realli unforgett keep moment mind grate nice memori br br movi might cheap make price mean total cheap rare learn anyth movi except</td>\n",
              "    </tr>\n",
              "  </tbody>\n",
              "</table>\n",
              "</div>\n",
              "      <button class=\"colab-df-convert\" onclick=\"convertToInteractive('df-3c20a75b-06f8-47e6-86f6-24ef2e9b3b4d')\"\n",
              "              title=\"Convert this dataframe to an interactive table.\"\n",
              "              style=\"display:none;\">\n",
              "        \n",
              "  <svg xmlns=\"http://www.w3.org/2000/svg\" height=\"24px\"viewBox=\"0 0 24 24\"\n",
              "       width=\"24px\">\n",
              "    <path d=\"M0 0h24v24H0V0z\" fill=\"none\"/>\n",
              "    <path d=\"M18.56 5.44l.94 2.06.94-2.06 2.06-.94-2.06-.94-.94-2.06-.94 2.06-2.06.94zm-11 1L8.5 8.5l.94-2.06 2.06-.94-2.06-.94L8.5 2.5l-.94 2.06-2.06.94zm10 10l.94 2.06.94-2.06 2.06-.94-2.06-.94-.94-2.06-.94 2.06-2.06.94z\"/><path d=\"M17.41 7.96l-1.37-1.37c-.4-.4-.92-.59-1.43-.59-.52 0-1.04.2-1.43.59L10.3 9.45l-7.72 7.72c-.78.78-.78 2.05 0 2.83L4 21.41c.39.39.9.59 1.41.59.51 0 1.02-.2 1.41-.59l7.78-7.78 2.81-2.81c.8-.78.8-2.07 0-2.86zM5.41 20L4 18.59l7.72-7.72 1.47 1.35L5.41 20z\"/>\n",
              "  </svg>\n",
              "      </button>\n",
              "      \n",
              "  <style>\n",
              "    .colab-df-container {\n",
              "      display:flex;\n",
              "      flex-wrap:wrap;\n",
              "      gap: 12px;\n",
              "    }\n",
              "\n",
              "    .colab-df-convert {\n",
              "      background-color: #E8F0FE;\n",
              "      border: none;\n",
              "      border-radius: 50%;\n",
              "      cursor: pointer;\n",
              "      display: none;\n",
              "      fill: #1967D2;\n",
              "      height: 32px;\n",
              "      padding: 0 0 0 0;\n",
              "      width: 32px;\n",
              "    }\n",
              "\n",
              "    .colab-df-convert:hover {\n",
              "      background-color: #E2EBFA;\n",
              "      box-shadow: 0px 1px 2px rgba(60, 64, 67, 0.3), 0px 1px 3px 1px rgba(60, 64, 67, 0.15);\n",
              "      fill: #174EA6;\n",
              "    }\n",
              "\n",
              "    [theme=dark] .colab-df-convert {\n",
              "      background-color: #3B4455;\n",
              "      fill: #D2E3FC;\n",
              "    }\n",
              "\n",
              "    [theme=dark] .colab-df-convert:hover {\n",
              "      background-color: #434B5C;\n",
              "      box-shadow: 0px 1px 3px 1px rgba(0, 0, 0, 0.15);\n",
              "      filter: drop-shadow(0px 1px 2px rgba(0, 0, 0, 0.3));\n",
              "      fill: #FFFFFF;\n",
              "    }\n",
              "  </style>\n",
              "\n",
              "      <script>\n",
              "        const buttonEl =\n",
              "          document.querySelector('#df-3c20a75b-06f8-47e6-86f6-24ef2e9b3b4d button.colab-df-convert');\n",
              "        buttonEl.style.display =\n",
              "          google.colab.kernel.accessAllowed ? 'block' : 'none';\n",
              "\n",
              "        async function convertToInteractive(key) {\n",
              "          const element = document.querySelector('#df-3c20a75b-06f8-47e6-86f6-24ef2e9b3b4d');\n",
              "          const dataTable =\n",
              "            await google.colab.kernel.invokeFunction('convertToInteractive',\n",
              "                                                     [key], {});\n",
              "          if (!dataTable) return;\n",
              "\n",
              "          const docLinkHtml = 'Like what you see? Visit the ' +\n",
              "            '<a target=\"_blank\" href=https://colab.research.google.com/notebooks/data_table.ipynb>data table notebook</a>'\n",
              "            + ' to learn more about interactive tables.';\n",
              "          element.innerHTML = '';\n",
              "          dataTable['output_type'] = 'display_data';\n",
              "          await google.colab.output.renderOutput(dataTable, element);\n",
              "          const docLink = document.createElement('div');\n",
              "          docLink.innerHTML = docLinkHtml;\n",
              "          element.appendChild(docLink);\n",
              "        }\n",
              "      </script>\n",
              "    </div>\n",
              "  </div>\n",
              "  "
            ]
          },
          "metadata": {},
          "execution_count": 12
        }
      ],
      "source": [
        "df.head()"
      ]
    },
    {
      "cell_type": "markdown",
      "metadata": {
        "id": "MesPNFm7Pf31"
      },
      "source": [
        "### **Train Test split**"
      ]
    },
    {
      "cell_type": "code",
      "execution_count": null,
      "metadata": {
        "colab": {
          "base_uri": "https://localhost:8080/"
        },
        "id": "Ze_bSOe62Ge1",
        "outputId": "8ffad725-6a43-4492-8b44-4c83eece2fcf"
      },
      "outputs": [
        {
          "output_type": "stream",
          "name": "stdout",
          "text": [
            "Device available for running: \n",
            "cuda\n"
          ]
        }
      ],
      "source": [
        "import torch\n",
        "\n",
        "device = torch.device(\"cuda\" if torch.cuda.is_available() else \"cpu\")\n",
        "print(\"Device available for running: \")\n",
        "print(device)"
      ]
    },
    {
      "cell_type": "markdown",
      "metadata": {
        "id": "8k6fPqFfUOQB"
      },
      "source": [
        "Save datasets in csv format for the TabularDataset"
      ]
    },
    {
      "cell_type": "code",
      "execution_count": null,
      "metadata": {
        "id": "fWdRkmXr3sCr"
      },
      "outputs": [],
      "source": [
        "from sklearn.model_selection import train_test_split\n",
        "\n",
        "train, test = train_test_split(df, test_size=0.2, random_state=42)\n",
        "if not TESTING_DATA_PATH:\n",
        "  train, val = train_test_split(train, test_size=0.2, random_state=42)\n",
        "  val.to_csv(\"/content/drive/MyDrive/valid.csv\", index=False)\n",
        "if TESTING_DATA_PATH:\n",
        "  test = test_df\n",
        "\n",
        "train.to_csv(\"/content/drive/MyDrive/train.csv\", index=False)\n",
        "test.to_csv(\"/content/drive/MyDrive/test.csv\", index=False)"
      ]
    },
    {
      "cell_type": "markdown",
      "metadata": {
        "id": "EnhIsz_CgUs2"
      },
      "source": [
        "### **Field objects**"
      ]
    },
    {
      "cell_type": "code",
      "execution_count": null,
      "metadata": {
        "colab": {
          "base_uri": "https://localhost:8080/"
        },
        "id": "coSDy8iw4OkV",
        "outputId": "bea88d94-1e86-4e57-9620-90c96b60bd83"
      },
      "outputs": [
        {
          "output_type": "stream",
          "name": "stderr",
          "text": [
            "/usr/local/lib/python3.8/dist-packages/torchtext/data/utils.py:123: UserWarning: Spacy model \"en\" could not be loaded, trying \"en_core_web_sm\" instead\n",
            "  warnings.warn(f'Spacy model \"{language}\" could not be loaded, trying \"{OLD_MODEL_SHORTCUTS[language]}\" instead')\n"
          ]
        }
      ],
      "source": [
        "import torchtext\n",
        "from torchtext.legacy import data\n",
        "\n",
        "#We are using the SpaCy tokenizer.\n",
        "#include_lengths = True so as to khow the length\n",
        "#of the sequences to use packed padded sequences\n",
        "REVIEW = torchtext.legacy.data.Field(tokenize = \"spacy\", include_lengths = True)\n",
        "\n",
        "RATING = data.LabelField(dtype=torch.float)"
      ]
    },
    {
      "cell_type": "markdown",
      "metadata": {
        "id": "BFFuK8yViIv3"
      },
      "source": [
        "Importing the data with TabularDataset"
      ]
    },
    {
      "cell_type": "code",
      "execution_count": null,
      "metadata": {
        "id": "htUmguXZ9x2y"
      },
      "outputs": [],
      "source": [
        "if not TESTING_DATA_PATH:\n",
        "  train_data, valid_data, test_data = data.TabularDataset.splits(\n",
        "      path = \"/content/drive/MyDrive/\", \n",
        "      train = \"train.csv\", \n",
        "      validation = \"valid.csv\", \n",
        "      test = \"test.csv\",\n",
        "      format = \"csv\", \n",
        "      skip_header = True, \n",
        "      fields = [('rating', RATING), ('review', REVIEW)]\n",
        "  )\n",
        "else:\n",
        "  train_data, test_data = data.TabularDataset.splits(\n",
        "      path = \"/content/drive/MyDrive/\", \n",
        "      train = \"train.csv\", \n",
        "      test = \"test.csv\",\n",
        "      format = \"csv\", \n",
        "      skip_header = True, \n",
        "      fields = [('rating', RATING), ('review', REVIEW)]\n",
        "  )"
      ]
    },
    {
      "cell_type": "markdown",
      "metadata": {
        "id": "-vpcBuNGiuKo"
      },
      "source": [
        "Each row has text and label field"
      ]
    },
    {
      "cell_type": "code",
      "execution_count": null,
      "metadata": {
        "colab": {
          "base_uri": "https://localhost:8080/"
        },
        "id": "6CezAcJMisTj",
        "outputId": "fdea932e-65cf-4db3-9d03-f1243da47e23"
      },
      "outputs": [
        {
          "output_type": "stream",
          "name": "stdout",
          "text": [
            "['back', 'matthew', 'lawrenc', 'hot', 'chick', 'also', 'saw', 'drumlin', 'day', 'drumlin', 'win', 'default', 'comebcak', 'releas', 'march', 'plan', 'time', 'tmnt', 'releas', 'tmnt', 'would', 'default', 'br', 'br', 'grant', 'matthew', 'lawrenc', 'fine', 'job', 'portray', 'quarterback', 'resort', 'utter', 'dirti', 'word', 'plus', 'start', 'play', 'privat', 'part', 'well', 'anoth', 'footbal', 'player', 'touch', 'girl', 'boob', 'minus', 'br', 'br', 'biggest', 'minus', 'tick', 'everi', 'footbal', 'player', 'got', 'particip', 'mock', 'music', 'video', 'except', 'matthew', 'lawrenc', 'insert', 'price', 'right', 'lose', 'horn', 'anoth', 'blown', 'music', 'opportun', 'shi', 'music', 'br', 'br', 'past', 'matt', 'disappoint', 'mani', 'time', 'super', 'human', 'samurai', 'syber', 'squad', 'came', 'close', 'music', 'moment', 'end', 'fail', 'br', 'br', 'sure', 'joey', 'sing', 'career', 'two', 'album', 'belt', 'andrew', 'start', 'music', 'career', 'rare', 'find', 'matt', 'music', 'moment', 'two', 'stand', 'would', 'brother', 'love', 'play', 'guitar', 'sang', 'pigeon', 'car', 'art', 'atrack', 'wrote', 'way', 'romant', 'boy', 'meet', 'world', 'moment', 'sang', 'dame', 'time', 'goe', 'br', 'br', 'matt', 'play', 'jock', 'long', 'make', 'music', 'comeback', 'good', 'voic', 'miss', 'music', 'side']\n",
            "0.0\n"
          ]
        }
      ],
      "source": [
        "print(train_data[0].review)\n",
        "print(train_data[0].rating)"
      ]
    },
    {
      "cell_type": "markdown",
      "metadata": {
        "id": "4jAgetnbjLaq"
      },
      "source": [
        "### **GloVe**"
      ]
    },
    {
      "cell_type": "markdown",
      "metadata": {
        "id": "kYUPTkU4kJwD"
      },
      "source": [
        "Mapping all the unique words (defined by max_size parameter) to the corresponding GloVe word embedding."
      ]
    },
    {
      "cell_type": "code",
      "execution_count": null,
      "metadata": {
        "colab": {
          "base_uri": "https://localhost:8080/"
        },
        "id": "caUqbHOtPk4d",
        "outputId": "614055a9-9ac8-4d42-9f04-dcb0543a0ac8"
      },
      "outputs": [
        {
          "output_type": "stream",
          "name": "stdout",
          "text": [
            "--2023-01-15 15:56:07--  http://nlp.stanford.edu/data/glove.6B.zip\n",
            "Resolving nlp.stanford.edu (nlp.stanford.edu)... 171.64.67.140\n",
            "Connecting to nlp.stanford.edu (nlp.stanford.edu)|171.64.67.140|:80... connected.\n",
            "HTTP request sent, awaiting response... 302 Found\n",
            "Location: https://nlp.stanford.edu/data/glove.6B.zip [following]\n",
            "--2023-01-15 15:56:07--  https://nlp.stanford.edu/data/glove.6B.zip\n",
            "Connecting to nlp.stanford.edu (nlp.stanford.edu)|171.64.67.140|:443... connected.\n",
            "HTTP request sent, awaiting response... 301 Moved Permanently\n",
            "Location: https://downloads.cs.stanford.edu/nlp/data/glove.6B.zip [following]\n",
            "--2023-01-15 15:56:07--  https://downloads.cs.stanford.edu/nlp/data/glove.6B.zip\n",
            "Resolving downloads.cs.stanford.edu (downloads.cs.stanford.edu)... 171.64.64.22\n",
            "Connecting to downloads.cs.stanford.edu (downloads.cs.stanford.edu)|171.64.64.22|:443... connected.\n",
            "HTTP request sent, awaiting response... 200 OK\n",
            "Length: 862182613 (822M) [application/zip]\n",
            "Saving to: ‘glove.6B.zip’\n",
            "\n",
            "glove.6B.zip        100%[===================>] 822.24M  5.10MB/s    in 2m 39s  \n",
            "\n",
            "2023-01-15 15:58:46 (5.19 MB/s) - ‘glove.6B.zip’ saved [862182613/862182613]\n",
            "\n",
            "Archive:  glove.6B.zip\n",
            "  inflating: glove.6B.50d.txt        \n",
            "  inflating: glove.6B.100d.txt       \n",
            "  inflating: glove.6B.200d.txt       \n",
            "  inflating: glove.6B.300d.txt       \n"
          ]
        }
      ],
      "source": [
        "!wget http://nlp.stanford.edu/data/glove.6B.zip\n",
        "!unzip glove*.zip"
      ]
    },
    {
      "cell_type": "markdown",
      "metadata": {
        "id": "g3vnXYaejtWZ"
      },
      "source": [
        "By default, TorchText will initialize words in our vocabulary but not in our pre-trained embeddings to zero. We don't want this, and instead initialize them randomly by setting unk_init = torch.Tensor.normal_. This will now initialize those words via a Gaussian distribution."
      ]
    },
    {
      "cell_type": "code",
      "execution_count": null,
      "metadata": {
        "id": "dmXASegLBbDo",
        "colab": {
          "base_uri": "https://localhost:8080/"
        },
        "outputId": "a1ff9cea-f2e8-47d7-dcb8-645529742edd"
      },
      "outputs": [
        {
          "output_type": "stream",
          "name": "stderr",
          "text": [
            "100%|█████████▉| 399999/400000 [00:07<00:00, 50434.46it/s]\n"
          ]
        }
      ],
      "source": [
        "GloVe_path = '/content/glove.6B.50d.txt'\n",
        "MAX_VOCAB_SIZE = 20000\n",
        "\n",
        "REVIEW.build_vocab(train_data,\n",
        "                 max_size = MAX_VOCAB_SIZE,\n",
        "                 vectors=torchtext.vocab.Vectors(GloVe_path), \n",
        "                 unk_init = torch.Tensor.normal_)\n",
        "\n",
        "RATING.build_vocab(train_data)"
      ]
    },
    {
      "cell_type": "code",
      "execution_count": null,
      "metadata": {
        "id": "DNHoXT6AD7ww"
      },
      "outputs": [],
      "source": [
        "BATCH_SIZE = 256\n",
        "\n",
        "if not TESTING_DATA_PATH:\n",
        "  #We sort all the tensors in a batch by their lengths\n",
        "  train_iterator, valid_iterator, test_iterator = data.BucketIterator.splits(\n",
        "      (train_data, valid_data, test_data), \n",
        "      batch_size = BATCH_SIZE, \n",
        "      sort_within_batch = True,\n",
        "      sort_key = lambda x: len(x.review,),\n",
        "      device = device)\n",
        "else:\n",
        "  train_iterator, test_iterator = data.BucketIterator.splits(\n",
        "      (train_data, test_data), \n",
        "      batch_size = BATCH_SIZE, \n",
        "      sort_within_batch = True,\n",
        "      sort_key = lambda x: len(x.review,),\n",
        "      device = device)"
      ]
    },
    {
      "cell_type": "markdown",
      "metadata": {
        "id": "GMue552p4YZ2"
      },
      "source": [
        "## **BRNN**"
      ]
    },
    {
      "cell_type": "markdown",
      "metadata": {
        "id": "gaukQd1DqJQP"
      },
      "source": [
        "### Initializing BRNN class"
      ]
    },
    {
      "cell_type": "markdown",
      "metadata": {
        "id": "S4BADj8IpNVV"
      },
      "source": [
        "- We pass the index of our <pad> token as the padding_idx argument to the nn.Embedding layer, in order not to  to learn the embedding for the <pad> token.\n",
        "- We get the top two hidden layers from the first dimension, hidden[-2,:,:] and hidden[-1,:,:], and concatenate them together before passing them to the linear layer (after applying dropout), to get the final (top) layer forward and backward hidden states, . "
      ]
    },
    {
      "cell_type": "code",
      "execution_count": null,
      "metadata": {
        "id": "wy-RxFOm4dfe"
      },
      "outputs": [],
      "source": [
        "import torch.nn as nn\n",
        "\n",
        "class BRNN(nn.Module):\n",
        "    def __init__(self, cell_type, vocab_size, embedding_dim, hidden_dim, \n",
        "                 output_dim, n_layers, dropout, pad_idx):\n",
        "      \n",
        "        super(BRNN, self).__init__()\n",
        "        \n",
        "        cells = {\n",
        "            \"LSTM\" : nn.LSTM,\n",
        "            \"GRU\"  : nn.GRU\n",
        "        }\n",
        "        \n",
        "        self.cell_type = cell_type\n",
        "        self.input_dim = vocab_size \n",
        "        self.embedding_dim = embedding_dim\n",
        "        self.hidden_dim = hidden_dim\n",
        "        self.n_layers = n_layers\n",
        "\n",
        "        #Embedding layer\n",
        "        self.embedding = nn.Embedding(vocab_size, embedding_dim, padding_idx = pad_idx)\n",
        "        \n",
        "        #RNN layer\n",
        "        self.rnn = cells[cell_type](embedding_dim, \n",
        "                                    hidden_dim, \n",
        "                                    num_layers = n_layers, \n",
        "                                    bidirectional = True, \n",
        "                                    dropout = dropout)\n",
        "        \n",
        "        #Dropout layer\n",
        "        self.dropout = nn.Dropout(dropout)\n",
        "        \n",
        "        #Output layer\n",
        "        self.out = nn.Linear(hidden_dim * 2, output_dim)\n",
        "\n",
        "        #Sigmoid activation function layer\n",
        "        self.sigmoid = nn.Sigmoid()\n",
        "\n",
        "    def forward(self, text, text_length):\n",
        "                \n",
        "        embedded_text = self.dropout(self.embedding(text))\n",
        "        packed_embedded = nn.utils.rnn.pack_padded_sequence(embedded_text, text_length.to('cpu'))\n",
        "\n",
        "        if self.cell_type == 'LSTM':\n",
        "          output, (hidden, _) = self.rnn(packed_embedded)\n",
        "        else:\n",
        "          output, hidden = self.rnn(packed_embedded)\n",
        "\n",
        "        # concat the final forward (hidden[-2,:,:]) and backward (hidden[-1,:,:]) hidden layers\n",
        "        hidden = torch.cat((hidden[-2,:,:], hidden[-1,:,:]), dim = 1)\n",
        "\n",
        "        return self.sigmoid(self.out(self.dropout(hidden)))"
      ]
    },
    {
      "cell_type": "code",
      "execution_count": null,
      "metadata": {
        "id": "ntxR_VnIeWxU"
      },
      "outputs": [],
      "source": [
        "def get_accuracy(y_true, y_pred):\n",
        "  y_pred = torch.round(y_pred)\n",
        "  correct = (y_true == y_pred).float() \n",
        "  accuracy = correct.sum() / len(correct)\n",
        "  return accuracy"
      ]
    },
    {
      "cell_type": "markdown",
      "metadata": {
        "id": "VYhVN4vtqfIZ"
      },
      "source": [
        "### Training and evaluating functions"
      ]
    },
    {
      "cell_type": "code",
      "execution_count": null,
      "metadata": {
        "id": "9dApqUJZUPgU"
      },
      "outputs": [],
      "source": [
        "#train the model on the training dataset\n",
        "#returns epoch loss and accuracy\n",
        "def train(model, iterator, optimizer, criterion, clip_value = 5):\n",
        "    \n",
        "    epoch_loss = 0\n",
        "    epoch_acc = 0\n",
        "\n",
        "    model.train()\n",
        "    for batch in iterator:\n",
        "      optimizer.zero_grad()\n",
        "      text, text_length = batch.review      \n",
        "      pred = model(text, text_length).squeeze(1)\n",
        "      loss = criterion(pred, batch.rating)\n",
        "      acc = get_accuracy(batch.rating, pred)\n",
        "      \n",
        "      loss.backward()\n",
        "\n",
        "      # Clip gradients\n",
        "      torch.nn.utils.clip_grad_norm_(model.parameters(), clip_value)\n",
        "\n",
        "      optimizer.step()\n",
        "      \n",
        "      epoch_loss += loss.item()\n",
        "      epoch_acc += acc.item()\n",
        "        \n",
        "    return epoch_loss / len(iterator), epoch_acc / len(iterator)"
      ]
    },
    {
      "cell_type": "code",
      "execution_count": null,
      "metadata": {
        "id": "IWwjM7hBU8Ao"
      },
      "outputs": [],
      "source": [
        "#evaluates the model on the validation dataset\n",
        "#returns epoch loss and accuracy\n",
        "def evaluate(model, iterator, criterion):\n",
        "    epoch_loss = 0\n",
        "    epoch_acc = 0\n",
        "    model.eval()\n",
        "    \n",
        "    with torch.no_grad():\n",
        "        for batch in iterator:\n",
        "            text, text_length = batch.review\n",
        "            pred = model(text, text_length).squeeze(1)\n",
        "            loss = criterion(pred, batch.rating)\n",
        "            acc = get_accuracy(batch.rating, pred)\n",
        "\n",
        "            epoch_loss += loss.item()\n",
        "            epoch_acc += acc.item()\n",
        "        \n",
        "    return epoch_loss / len(iterator), epoch_acc / len(iterator)"
      ]
    },
    {
      "cell_type": "markdown",
      "metadata": {
        "id": "kb7XXnKFp0aE"
      },
      "source": [
        "###Choosing hyperparameters"
      ]
    },
    {
      "cell_type": "code",
      "execution_count": null,
      "metadata": {
        "colab": {
          "base_uri": "https://localhost:8080/"
        },
        "id": "Q6cbK6w9-r2U",
        "outputId": "99d4e782-13b0-4d1a-c143-b1870a9b5ef0"
      },
      "outputs": [
        {
          "output_type": "stream",
          "name": "stdout",
          "text": [
            "Looking in indexes: https://pypi.org/simple, https://us-python.pkg.dev/colab-wheels/public/simple/\n",
            "Collecting optuna\n",
            "  Downloading optuna-3.0.5-py3-none-any.whl (348 kB)\n",
            "\u001b[2K     \u001b[90m━━━━━━━━━━━━━━━━━━━━━━━━━━━━━━━━━━━━━━━\u001b[0m \u001b[32m348.5/348.5 KB\u001b[0m \u001b[31m7.7 MB/s\u001b[0m eta \u001b[36m0:00:00\u001b[0m\n",
            "\u001b[?25hRequirement already satisfied: packaging>=20.0 in /usr/local/lib/python3.8/dist-packages (from optuna) (21.3)\n",
            "Collecting cliff\n",
            "  Downloading cliff-4.1.0-py3-none-any.whl (81 kB)\n",
            "\u001b[2K     \u001b[90m━━━━━━━━━━━━━━━━━━━━━━━━━━━━━━━━━━━━━━━━\u001b[0m \u001b[32m81.0/81.0 KB\u001b[0m \u001b[31m11.0 MB/s\u001b[0m eta \u001b[36m0:00:00\u001b[0m\n",
            "\u001b[?25hRequirement already satisfied: tqdm in /usr/local/lib/python3.8/dist-packages (from optuna) (4.64.1)\n",
            "Requirement already satisfied: PyYAML in /usr/local/lib/python3.8/dist-packages (from optuna) (6.0)\n",
            "Requirement already satisfied: scipy<1.9.0,>=1.7.0 in /usr/local/lib/python3.8/dist-packages (from optuna) (1.7.3)\n",
            "Requirement already satisfied: numpy in /usr/local/lib/python3.8/dist-packages (from optuna) (1.21.6)\n",
            "Requirement already satisfied: sqlalchemy>=1.3.0 in /usr/local/lib/python3.8/dist-packages (from optuna) (1.4.46)\n",
            "Collecting alembic>=1.5.0\n",
            "  Downloading alembic-1.9.2-py3-none-any.whl (210 kB)\n",
            "\u001b[2K     \u001b[90m━━━━━━━━━━━━━━━━━━━━━━━━━━━━━━━━━━━━━━\u001b[0m \u001b[32m210.6/210.6 KB\u001b[0m \u001b[31m23.3 MB/s\u001b[0m eta \u001b[36m0:00:00\u001b[0m\n",
            "\u001b[?25hCollecting importlib-metadata<5.0.0\n",
            "  Downloading importlib_metadata-4.13.0-py3-none-any.whl (23 kB)\n",
            "Collecting colorlog\n",
            "  Downloading colorlog-6.7.0-py2.py3-none-any.whl (11 kB)\n",
            "Collecting cmaes>=0.8.2\n",
            "  Downloading cmaes-0.9.1-py3-none-any.whl (21 kB)\n",
            "Collecting Mako\n",
            "  Downloading Mako-1.2.4-py3-none-any.whl (78 kB)\n",
            "\u001b[2K     \u001b[90m━━━━━━━━━━━━━━━━━━━━━━━━━━━━━━━━━━━━━━━━\u001b[0m \u001b[32m78.7/78.7 KB\u001b[0m \u001b[31m11.3 MB/s\u001b[0m eta \u001b[36m0:00:00\u001b[0m\n",
            "\u001b[?25hRequirement already satisfied: importlib-resources in /usr/local/lib/python3.8/dist-packages (from alembic>=1.5.0->optuna) (5.10.2)\n",
            "Requirement already satisfied: zipp>=0.5 in /usr/local/lib/python3.8/dist-packages (from importlib-metadata<5.0.0->optuna) (3.11.0)\n",
            "Requirement already satisfied: pyparsing!=3.0.5,>=2.0.2 in /usr/local/lib/python3.8/dist-packages (from packaging>=20.0->optuna) (3.0.9)\n",
            "Requirement already satisfied: greenlet!=0.4.17 in /usr/local/lib/python3.8/dist-packages (from sqlalchemy>=1.3.0->optuna) (2.0.1)\n",
            "Requirement already satisfied: PrettyTable>=0.7.2 in /usr/local/lib/python3.8/dist-packages (from cliff->optuna) (3.5.0)\n",
            "Collecting cmd2>=1.0.0\n",
            "  Downloading cmd2-2.4.2-py3-none-any.whl (147 kB)\n",
            "\u001b[2K     \u001b[90m━━━━━━━━━━━━━━━━━━━━━━━━━━━━━━━━━━━━━━\u001b[0m \u001b[32m147.1/147.1 KB\u001b[0m \u001b[31m19.5 MB/s\u001b[0m eta \u001b[36m0:00:00\u001b[0m\n",
            "\u001b[?25hCollecting stevedore>=2.0.1\n",
            "  Downloading stevedore-4.1.1-py3-none-any.whl (50 kB)\n",
            "\u001b[2K     \u001b[90m━━━━━━━━━━━━━━━━━━━━━━━━━━━━━━━━━━━━━━━━\u001b[0m \u001b[32m50.0/50.0 KB\u001b[0m \u001b[31m7.3 MB/s\u001b[0m eta \u001b[36m0:00:00\u001b[0m\n",
            "\u001b[?25hCollecting autopage>=0.4.0\n",
            "  Downloading autopage-0.5.1-py3-none-any.whl (29 kB)\n",
            "Requirement already satisfied: wcwidth>=0.1.7 in /usr/local/lib/python3.8/dist-packages (from cmd2>=1.0.0->cliff->optuna) (0.2.5)\n",
            "Requirement already satisfied: attrs>=16.3.0 in /usr/local/lib/python3.8/dist-packages (from cmd2>=1.0.0->cliff->optuna) (22.2.0)\n",
            "Collecting pyperclip>=1.6\n",
            "  Downloading pyperclip-1.8.2.tar.gz (20 kB)\n",
            "  Preparing metadata (setup.py) ... \u001b[?25l\u001b[?25hdone\n",
            "Collecting pbr!=2.1.0,>=2.0.0\n",
            "  Downloading pbr-5.11.1-py2.py3-none-any.whl (112 kB)\n",
            "\u001b[2K     \u001b[90m━━━━━━━━━━━━━━━━━━━━━━━━━━━━━━━━━━━━━━\u001b[0m \u001b[32m112.7/112.7 KB\u001b[0m \u001b[31m15.0 MB/s\u001b[0m eta \u001b[36m0:00:00\u001b[0m\n",
            "\u001b[?25hRequirement already satisfied: MarkupSafe>=0.9.2 in /usr/local/lib/python3.8/dist-packages (from Mako->alembic>=1.5.0->optuna) (2.0.1)\n",
            "Building wheels for collected packages: pyperclip\n",
            "  Building wheel for pyperclip (setup.py) ... \u001b[?25l\u001b[?25hdone\n",
            "  Created wheel for pyperclip: filename=pyperclip-1.8.2-py3-none-any.whl size=11136 sha256=26da65a41686411914fed6b2b0ba27c48d603cae2a42b91963d64523e336d0fb\n",
            "  Stored in directory: /root/.cache/pip/wheels/7f/1a/65/84ff8c386bec21fca6d220ea1f5498a0367883a78dd5ba6122\n",
            "Successfully built pyperclip\n",
            "Installing collected packages: pyperclip, pbr, Mako, importlib-metadata, colorlog, cmd2, cmaes, autopage, stevedore, alembic, cliff, optuna\n",
            "  Attempting uninstall: importlib-metadata\n",
            "    Found existing installation: importlib-metadata 6.0.0\n",
            "    Uninstalling importlib-metadata-6.0.0:\n",
            "      Successfully uninstalled importlib-metadata-6.0.0\n",
            "Successfully installed Mako-1.2.4 alembic-1.9.2 autopage-0.5.1 cliff-4.1.0 cmaes-0.9.1 cmd2-2.4.2 colorlog-6.7.0 importlib-metadata-4.13.0 optuna-3.0.5 pbr-5.11.1 pyperclip-1.8.2 stevedore-4.1.1\n"
          ]
        }
      ],
      "source": [
        "if not TESTING_DATA_PATH:\n",
        "  %pip install optuna"
      ]
    },
    {
      "cell_type": "markdown",
      "metadata": {
        "id": "yrA0GTWzxrB7"
      },
      "source": [
        "An open source hyperparameter optimization framework to automate hyperparameter search. We experiment with cell type, hidden dimension, number of layers, dropout value, clip value, number of epochs maximizing the accuracy of the model"
      ]
    },
    {
      "cell_type": "code",
      "execution_count": null,
      "metadata": {
        "id": "r3EQA1GK98vx",
        "colab": {
          "base_uri": "https://localhost:8080/"
        },
        "outputId": "5d229cca-5d88-444d-bf88-ace58838f317"
      },
      "outputs": [
        {
          "output_type": "stream",
          "name": "stderr",
          "text": [
            "\u001b[32m[I 2023-01-15 15:59:26,282]\u001b[0m A new study created in memory with name: no-name-d9f3eac1-eb55-40e0-9431-77b8d1b0aecf\u001b[0m\n"
          ]
        },
        {
          "output_type": "stream",
          "name": "stdout",
          "text": [
            "Epoch: 01\n",
            "\tTrain Loss: 0.552 | Train Acc: 70.34%\n",
            "\t Val. Loss: 0.408 |  Val. Acc: 82.71%\n",
            "Epoch: 02\n",
            "\tTrain Loss: 0.352 | Train Acc: 84.91%\n",
            "\t Val. Loss: 0.314 |  Val. Acc: 86.54%\n",
            "Epoch: 03\n",
            "\tTrain Loss: 0.266 | Train Acc: 89.13%\n",
            "\t Val. Loss: 0.276 |  Val. Acc: 88.68%\n",
            "Epoch: 04\n",
            "\tTrain Loss: 0.230 | Train Acc: 90.87%\n",
            "\t Val. Loss: 0.283 |  Val. Acc: 88.93%\n"
          ]
        },
        {
          "output_type": "stream",
          "name": "stderr",
          "text": [
            "\u001b[32m[I 2023-01-15 16:00:45,976]\u001b[0m Trial 0 finished with value: 0.8932397303910091 and parameters: {'CELL_TYPE': 'GRU', 'HIDDEN_DIM': 128, 'N_LAYERS': 3, 'DROPOUT': 0.07541046236432003, 'N_EPOCHS': 5, 'CLIP_VALUE': 5}. Best is trial 0 with value: 0.8932397303910091.\u001b[0m\n"
          ]
        },
        {
          "output_type": "stream",
          "name": "stdout",
          "text": [
            "Epoch: 05\n",
            "\tTrain Loss: 0.185 | Train Acc: 93.00%\n",
            "\t Val. Loss: 0.301 |  Val. Acc: 89.32%\n",
            "Epoch: 01\n",
            "\tTrain Loss: 0.608 | Train Acc: 65.32%\n",
            "\t Val. Loss: 0.460 |  Val. Acc: 79.41%\n",
            "Epoch: 02\n",
            "\tTrain Loss: 0.451 | Train Acc: 79.12%\n",
            "\t Val. Loss: 0.354 |  Val. Acc: 84.37%\n",
            "Epoch: 03\n",
            "\tTrain Loss: 0.366 | Train Acc: 84.37%\n",
            "\t Val. Loss: 0.299 |  Val. Acc: 87.38%\n",
            "Epoch: 04\n",
            "\tTrain Loss: 0.319 | Train Acc: 86.64%\n",
            "\t Val. Loss: 0.269 |  Val. Acc: 89.22%\n",
            "Epoch: 05\n",
            "\tTrain Loss: 0.284 | Train Acc: 88.37%\n",
            "\t Val. Loss: 0.279 |  Val. Acc: 88.54%\n",
            "Epoch: 06\n",
            "\tTrain Loss: 0.262 | Train Acc: 89.13%\n",
            "\t Val. Loss: 0.312 |  Val. Acc: 86.89%\n"
          ]
        },
        {
          "output_type": "stream",
          "name": "stderr",
          "text": [
            "\u001b[32m[I 2023-01-15 16:01:26,384]\u001b[0m Trial 1 finished with value: 0.9026686097013539 and parameters: {'CELL_TYPE': 'GRU', 'HIDDEN_DIM': 64, 'N_LAYERS': 2, 'DROPOUT': 0.4950486840764762, 'N_EPOCHS': 7, 'CLIP_VALUE': 4}. Best is trial 1 with value: 0.9026686097013539.\u001b[0m\n"
          ]
        },
        {
          "output_type": "stream",
          "name": "stdout",
          "text": [
            "Epoch: 07\n",
            "\tTrain Loss: 0.238 | Train Acc: 90.30%\n",
            "\t Val. Loss: 0.252 |  Val. Acc: 90.27%\n",
            "Epoch: 01\n",
            "\tTrain Loss: 0.660 | Train Acc: 59.18%\n",
            "\t Val. Loss: 0.539 |  Val. Acc: 73.76%\n",
            "Epoch: 02\n",
            "\tTrain Loss: 0.518 | Train Acc: 74.85%\n",
            "\t Val. Loss: 0.432 |  Val. Acc: 80.35%\n",
            "Epoch: 03\n",
            "\tTrain Loss: 0.422 | Train Acc: 81.15%\n",
            "\t Val. Loss: 0.341 |  Val. Acc: 85.51%\n",
            "Epoch: 04\n",
            "\tTrain Loss: 0.361 | Train Acc: 84.52%\n",
            "\t Val. Loss: 0.319 |  Val. Acc: 87.09%\n",
            "Epoch: 05\n",
            "\tTrain Loss: 0.331 | Train Acc: 86.25%\n",
            "\t Val. Loss: 0.299 |  Val. Acc: 88.26%\n",
            "Epoch: 06\n",
            "\tTrain Loss: 0.297 | Train Acc: 87.90%\n",
            "\t Val. Loss: 0.286 |  Val. Acc: 88.58%\n",
            "Epoch: 07\n",
            "\tTrain Loss: 0.273 | Train Acc: 88.87%\n",
            "\t Val. Loss: 0.265 |  Val. Acc: 89.48%\n",
            "Epoch: 08\n",
            "\tTrain Loss: 0.252 | Train Acc: 89.85%\n",
            "\t Val. Loss: 0.273 |  Val. Acc: 89.41%\n",
            "Epoch: 09\n",
            "\tTrain Loss: 0.241 | Train Acc: 90.53%\n",
            "\t Val. Loss: 0.289 |  Val. Acc: 88.56%\n",
            "Epoch: 10\n",
            "\tTrain Loss: 0.224 | Train Acc: 91.08%\n",
            "\t Val. Loss: 0.257 |  Val. Acc: 90.26%\n",
            "Epoch: 11\n",
            "\tTrain Loss: 0.211 | Train Acc: 91.83%\n",
            "\t Val. Loss: 0.267 |  Val. Acc: 89.92%\n",
            "Epoch: 12\n",
            "\tTrain Loss: 0.205 | Train Acc: 91.94%\n",
            "\t Val. Loss: 0.260 |  Val. Acc: 90.62%\n",
            "Epoch: 13\n",
            "\tTrain Loss: 0.196 | Train Acc: 92.36%\n",
            "\t Val. Loss: 0.272 |  Val. Acc: 90.65%\n",
            "Epoch: 14\n",
            "\tTrain Loss: 0.184 | Train Acc: 93.08%\n",
            "\t Val. Loss: 0.263 |  Val. Acc: 90.67%\n"
          ]
        },
        {
          "output_type": "stream",
          "name": "stderr",
          "text": [
            "\u001b[32m[I 2023-01-15 16:02:42,027]\u001b[0m Trial 2 finished with value: 0.9058459051724138 and parameters: {'CELL_TYPE': 'GRU', 'HIDDEN_DIM': 32, 'N_LAYERS': 2, 'DROPOUT': 0.5267170200734055, 'N_EPOCHS': 15, 'CLIP_VALUE': 3}. Best is trial 2 with value: 0.9058459051724138.\u001b[0m\n"
          ]
        },
        {
          "output_type": "stream",
          "name": "stdout",
          "text": [
            "Epoch: 15\n",
            "\tTrain Loss: 0.178 | Train Acc: 93.19%\n",
            "\t Val. Loss: 0.280 |  Val. Acc: 90.58%\n",
            "Epoch: 01\n",
            "\tTrain Loss: 0.593 | Train Acc: 67.19%\n",
            "\t Val. Loss: 0.449 |  Val. Acc: 79.48%\n",
            "Epoch: 02\n",
            "\tTrain Loss: 0.442 | Train Acc: 79.92%\n",
            "\t Val. Loss: 0.357 |  Val. Acc: 84.23%\n",
            "Epoch: 03\n",
            "\tTrain Loss: 0.366 | Train Acc: 84.24%\n",
            "\t Val. Loss: 0.317 |  Val. Acc: 86.81%\n",
            "Epoch: 04\n",
            "\tTrain Loss: 0.309 | Train Acc: 87.02%\n",
            "\t Val. Loss: 0.300 |  Val. Acc: 88.04%\n",
            "Epoch: 05\n",
            "\tTrain Loss: 0.284 | Train Acc: 88.19%\n",
            "\t Val. Loss: 0.261 |  Val. Acc: 89.47%\n",
            "Epoch: 06\n",
            "\tTrain Loss: 0.253 | Train Acc: 89.60%\n",
            "\t Val. Loss: 0.301 |  Val. Acc: 88.95%\n",
            "Epoch: 07\n",
            "\tTrain Loss: 0.235 | Train Acc: 90.46%\n",
            "\t Val. Loss: 0.265 |  Val. Acc: 89.63%\n",
            "Epoch: 08\n",
            "\tTrain Loss: 0.226 | Train Acc: 90.89%\n",
            "\t Val. Loss: 0.249 |  Val. Acc: 90.20%\n"
          ]
        },
        {
          "output_type": "stream",
          "name": "stderr",
          "text": [
            "\u001b[32m[I 2023-01-15 16:04:31,342]\u001b[0m Trial 3 finished with value: 0.884547730972027 and parameters: {'CELL_TYPE': 'GRU', 'HIDDEN_DIM': 128, 'N_LAYERS': 3, 'DROPOUT': 0.4764704501067334, 'N_EPOCHS': 9, 'CLIP_VALUE': 4}. Best is trial 2 with value: 0.9058459051724138.\u001b[0m\n"
          ]
        },
        {
          "output_type": "stream",
          "name": "stdout",
          "text": [
            "Epoch: 09\n",
            "\tTrain Loss: 0.206 | Train Acc: 91.81%\n",
            "\t Val. Loss: 0.298 |  Val. Acc: 88.45%\n",
            "Epoch: 01\n",
            "\tTrain Loss: 0.651 | Train Acc: 61.00%\n",
            "\t Val. Loss: 0.536 |  Val. Acc: 73.93%\n",
            "Epoch: 02\n",
            "\tTrain Loss: 0.525 | Train Acc: 74.30%\n",
            "\t Val. Loss: 0.527 |  Val. Acc: 79.02%\n",
            "Epoch: 03\n",
            "\tTrain Loss: 0.453 | Train Acc: 79.45%\n",
            "\t Val. Loss: 0.476 |  Val. Acc: 81.29%\n",
            "Epoch: 04\n",
            "\tTrain Loss: 0.398 | Train Acc: 82.49%\n",
            "\t Val. Loss: 0.415 |  Val. Acc: 85.13%\n",
            "Epoch: 05\n",
            "\tTrain Loss: 0.358 | Train Acc: 84.72%\n",
            "\t Val. Loss: 0.426 |  Val. Acc: 84.72%\n",
            "Epoch: 06\n",
            "\tTrain Loss: 0.338 | Train Acc: 85.91%\n",
            "\t Val. Loss: 0.346 |  Val. Acc: 87.90%\n",
            "Epoch: 07\n",
            "\tTrain Loss: 0.313 | Train Acc: 87.06%\n",
            "\t Val. Loss: 0.375 |  Val. Acc: 86.62%\n",
            "Epoch: 08\n",
            "\tTrain Loss: 0.301 | Train Acc: 87.55%\n",
            "\t Val. Loss: 0.385 |  Val. Acc: 86.14%\n",
            "Epoch: 09\n",
            "\tTrain Loss: 0.288 | Train Acc: 88.29%\n",
            "\t Val. Loss: 0.365 |  Val. Acc: 88.04%\n"
          ]
        },
        {
          "output_type": "stream",
          "name": "stderr",
          "text": [
            "\u001b[32m[I 2023-01-15 16:05:33,166]\u001b[0m Trial 4 finished with value: 0.8869009881184019 and parameters: {'CELL_TYPE': 'LSTM', 'HIDDEN_DIM': 64, 'N_LAYERS': 2, 'DROPOUT': 0.6605847097548111, 'N_EPOCHS': 10, 'CLIP_VALUE': 1}. Best is trial 2 with value: 0.9058459051724138.\u001b[0m\n"
          ]
        },
        {
          "output_type": "stream",
          "name": "stdout",
          "text": [
            "Epoch: 10\n",
            "\tTrain Loss: 0.271 | Train Acc: 89.21%\n",
            "\t Val. Loss: 0.344 |  Val. Acc: 88.69%\n",
            "Epoch: 01\n",
            "\tTrain Loss: 0.694 | Train Acc: 50.38%\n",
            "\t Val. Loss: 0.691 |  Val. Acc: 50.61%\n",
            "Epoch: 02\n",
            "\tTrain Loss: 0.678 | Train Acc: 55.97%\n",
            "\t Val. Loss: 0.563 |  Val. Acc: 71.55%\n",
            "Epoch: 03\n",
            "\tTrain Loss: 0.637 | Train Acc: 65.04%\n",
            "\t Val. Loss: 0.542 |  Val. Acc: 72.87%\n",
            "Epoch: 04\n",
            "\tTrain Loss: 0.590 | Train Acc: 69.67%\n",
            "\t Val. Loss: 0.553 |  Val. Acc: 73.57%\n",
            "Epoch: 05\n",
            "\tTrain Loss: 0.545 | Train Acc: 73.19%\n",
            "\t Val. Loss: 0.523 |  Val. Acc: 77.90%\n",
            "Epoch: 06\n",
            "\tTrain Loss: 0.517 | Train Acc: 75.12%\n",
            "\t Val. Loss: 0.544 |  Val. Acc: 78.62%\n",
            "Epoch: 07\n",
            "\tTrain Loss: 0.486 | Train Acc: 77.64%\n",
            "\t Val. Loss: 0.418 |  Val. Acc: 84.29%\n",
            "Epoch: 08\n",
            "\tTrain Loss: 0.446 | Train Acc: 79.72%\n",
            "\t Val. Loss: 0.522 |  Val. Acc: 82.02%\n"
          ]
        },
        {
          "output_type": "stream",
          "name": "stderr",
          "text": [
            "\u001b[32m[I 2023-01-15 16:06:51,179]\u001b[0m Trial 5 finished with value: 0.8094970213955847 and parameters: {'CELL_TYPE': 'LSTM', 'HIDDEN_DIM': 64, 'N_LAYERS': 3, 'DROPOUT': 0.8603796226236731, 'N_EPOCHS': 9, 'CLIP_VALUE': 3}. Best is trial 2 with value: 0.9058459051724138.\u001b[0m\n"
          ]
        },
        {
          "output_type": "stream",
          "name": "stdout",
          "text": [
            "Epoch: 09\n",
            "\tTrain Loss: 0.433 | Train Acc: 80.72%\n",
            "\t Val. Loss: 0.607 |  Val. Acc: 80.95%\n",
            "Epoch: 01\n",
            "\tTrain Loss: 0.693 | Train Acc: 51.30%\n",
            "\t Val. Loss: 0.681 |  Val. Acc: 62.47%\n",
            "Epoch: 02\n",
            "\tTrain Loss: 0.655 | Train Acc: 61.95%\n",
            "\t Val. Loss: 0.569 |  Val. Acc: 71.80%\n",
            "Epoch: 03\n",
            "\tTrain Loss: 0.586 | Train Acc: 70.22%\n",
            "\t Val. Loss: 0.495 |  Val. Acc: 77.07%\n",
            "Epoch: 04\n",
            "\tTrain Loss: 0.539 | Train Acc: 73.80%\n",
            "\t Val. Loss: 0.437 |  Val. Acc: 80.90%\n",
            "Epoch: 05\n",
            "\tTrain Loss: 0.490 | Train Acc: 77.36%\n",
            "\t Val. Loss: 0.413 |  Val. Acc: 83.36%\n",
            "Epoch: 06\n",
            "\tTrain Loss: 0.443 | Train Acc: 80.01%\n",
            "\t Val. Loss: 0.382 |  Val. Acc: 83.94%\n"
          ]
        },
        {
          "output_type": "stream",
          "name": "stderr",
          "text": [
            "\u001b[32m[I 2023-01-15 16:07:26,173]\u001b[0m Trial 6 finished with value: 0.8646123861444408 and parameters: {'CELL_TYPE': 'LSTM', 'HIDDEN_DIM': 32, 'N_LAYERS': 2, 'DROPOUT': 0.7638026210026725, 'N_EPOCHS': 7, 'CLIP_VALUE': 4}. Best is trial 2 with value: 0.9058459051724138.\u001b[0m\n"
          ]
        },
        {
          "output_type": "stream",
          "name": "stdout",
          "text": [
            "Epoch: 07\n",
            "\tTrain Loss: 0.417 | Train Acc: 81.69%\n",
            "\t Val. Loss: 0.356 |  Val. Acc: 86.46%\n",
            "Epoch: 01\n",
            "\tTrain Loss: 0.679 | Train Acc: 56.46%\n",
            "\t Val. Loss: 0.621 |  Val. Acc: 62.35%\n",
            "Epoch: 02\n",
            "\tTrain Loss: 0.608 | Train Acc: 67.56%\n",
            "\t Val. Loss: 0.525 |  Val. Acc: 76.51%\n",
            "Epoch: 03\n",
            "\tTrain Loss: 0.558 | Train Acc: 72.08%\n",
            "\t Val. Loss: 0.471 |  Val. Acc: 77.07%\n",
            "Epoch: 04\n",
            "\tTrain Loss: 0.506 | Train Acc: 75.88%\n",
            "\t Val. Loss: 0.412 |  Val. Acc: 82.30%\n",
            "Epoch: 05\n",
            "\tTrain Loss: 0.459 | Train Acc: 78.92%\n",
            "\t Val. Loss: 0.468 |  Val. Acc: 79.47%\n",
            "Epoch: 06\n",
            "\tTrain Loss: 0.428 | Train Acc: 80.60%\n",
            "\t Val. Loss: 0.464 |  Val. Acc: 80.23%\n",
            "Epoch: 07\n",
            "\tTrain Loss: 0.397 | Train Acc: 82.36%\n",
            "\t Val. Loss: 0.370 |  Val. Acc: 85.21%\n",
            "Epoch: 08\n",
            "\tTrain Loss: 0.375 | Train Acc: 83.63%\n",
            "\t Val. Loss: 0.302 |  Val. Acc: 87.53%\n",
            "Epoch: 09\n",
            "\tTrain Loss: 0.359 | Train Acc: 84.58%\n",
            "\t Val. Loss: 0.353 |  Val. Acc: 87.13%\n",
            "Epoch: 10\n",
            "\tTrain Loss: 0.335 | Train Acc: 85.59%\n",
            "\t Val. Loss: 0.417 |  Val. Acc: 84.86%\n"
          ]
        },
        {
          "output_type": "stream",
          "name": "stderr",
          "text": [
            "\u001b[32m[I 2023-01-15 16:08:51,706]\u001b[0m Trial 7 finished with value: 0.8785496950149536 and parameters: {'CELL_TYPE': 'GRU', 'HIDDEN_DIM': 128, 'N_LAYERS': 2, 'DROPOUT': 0.8148093864210177, 'N_EPOCHS': 11, 'CLIP_VALUE': 5}. Best is trial 2 with value: 0.9058459051724138.\u001b[0m\n"
          ]
        },
        {
          "output_type": "stream",
          "name": "stdout",
          "text": [
            "Epoch: 11\n",
            "\tTrain Loss: 0.325 | Train Acc: 86.26%\n",
            "\t Val. Loss: 0.344 |  Val. Acc: 87.85%\n",
            "Epoch: 01\n",
            "\tTrain Loss: 0.611 | Train Acc: 65.02%\n",
            "\t Val. Loss: 0.458 |  Val. Acc: 78.41%\n",
            "Epoch: 02\n",
            "\tTrain Loss: 0.403 | Train Acc: 82.03%\n",
            "\t Val. Loss: 0.328 |  Val. Acc: 86.41%\n",
            "Epoch: 03\n",
            "\tTrain Loss: 0.316 | Train Acc: 86.58%\n",
            "\t Val. Loss: 0.283 |  Val. Acc: 88.63%\n",
            "Epoch: 04\n",
            "\tTrain Loss: 0.264 | Train Acc: 89.27%\n",
            "\t Val. Loss: 0.276 |  Val. Acc: 88.84%\n",
            "Epoch: 05\n",
            "\tTrain Loss: 0.238 | Train Acc: 90.54%\n",
            "\t Val. Loss: 0.267 |  Val. Acc: 89.50%\n",
            "Epoch: 06\n",
            "\tTrain Loss: 0.207 | Train Acc: 91.98%\n",
            "\t Val. Loss: 0.253 |  Val. Acc: 89.98%\n",
            "Epoch: 07\n",
            "\tTrain Loss: 0.188 | Train Acc: 92.73%\n",
            "\t Val. Loss: 0.270 |  Val. Acc: 89.95%\n",
            "Epoch: 08\n",
            "\tTrain Loss: 0.172 | Train Acc: 93.41%\n",
            "\t Val. Loss: 0.278 |  Val. Acc: 90.07%\n",
            "Epoch: 09\n",
            "\tTrain Loss: 0.156 | Train Acc: 94.14%\n",
            "\t Val. Loss: 0.282 |  Val. Acc: 90.15%\n",
            "Epoch: 10\n",
            "\tTrain Loss: 0.145 | Train Acc: 94.63%\n",
            "\t Val. Loss: 0.277 |  Val. Acc: 90.28%\n",
            "Epoch: 11\n",
            "\tTrain Loss: 0.130 | Train Acc: 95.27%\n",
            "\t Val. Loss: 0.306 |  Val. Acc: 89.33%\n",
            "Epoch: 12\n",
            "\tTrain Loss: 0.122 | Train Acc: 95.61%\n",
            "\t Val. Loss: 0.306 |  Val. Acc: 90.21%\n"
          ]
        },
        {
          "output_type": "stream",
          "name": "stderr",
          "text": [
            "\u001b[32m[I 2023-01-15 16:09:57,013]\u001b[0m Trial 8 finished with value: 0.8954028281672247 and parameters: {'CELL_TYPE': 'GRU', 'HIDDEN_DIM': 32, 'N_LAYERS': 2, 'DROPOUT': 0.27332497907332587, 'N_EPOCHS': 13, 'CLIP_VALUE': 4}. Best is trial 2 with value: 0.9058459051724138.\u001b[0m\n"
          ]
        },
        {
          "output_type": "stream",
          "name": "stdout",
          "text": [
            "Epoch: 13\n",
            "\tTrain Loss: 0.117 | Train Acc: 95.68%\n",
            "\t Val. Loss: 0.323 |  Val. Acc: 89.54%\n",
            "Epoch: 01\n",
            "\tTrain Loss: 0.722 | Train Acc: 50.06%\n",
            "\t Val. Loss: 0.693 |  Val. Acc: 52.37%\n",
            "Epoch: 02\n",
            "\tTrain Loss: 0.700 | Train Acc: 50.03%\n",
            "\t Val. Loss: 0.693 |  Val. Acc: 54.93%\n",
            "Epoch: 03\n",
            "\tTrain Loss: 0.695 | Train Acc: 50.42%\n",
            "\t Val. Loss: 0.693 |  Val. Acc: 53.98%\n",
            "Epoch: 04\n",
            "\tTrain Loss: 0.694 | Train Acc: 50.50%\n",
            "\t Val. Loss: 0.693 |  Val. Acc: 54.32%\n"
          ]
        },
        {
          "output_type": "stream",
          "name": "stderr",
          "text": [
            "\u001b[32m[I 2023-01-15 16:10:31,835]\u001b[0m Trial 9 finished with value: 0.5075431034482759 and parameters: {'CELL_TYPE': 'GRU', 'HIDDEN_DIM': 32, 'N_LAYERS': 3, 'DROPOUT': 0.8843057202997832, 'N_EPOCHS': 5, 'CLIP_VALUE': 2}. Best is trial 2 with value: 0.9058459051724138.\u001b[0m\n"
          ]
        },
        {
          "output_type": "stream",
          "name": "stdout",
          "text": [
            "Epoch: 05\n",
            "\tTrain Loss: 0.694 | Train Acc: 49.94%\n",
            "\t Val. Loss: 0.693 |  Val. Acc: 50.75%\n",
            "Epoch: 01\n",
            "\tTrain Loss: 0.617 | Train Acc: 64.84%\n",
            "\t Val. Loss: 0.464 |  Val. Acc: 79.00%\n",
            "Epoch: 02\n",
            "\tTrain Loss: 0.434 | Train Acc: 80.52%\n",
            "\t Val. Loss: 0.348 |  Val. Acc: 84.90%\n",
            "Epoch: 03\n",
            "\tTrain Loss: 0.335 | Train Acc: 85.98%\n",
            "\t Val. Loss: 0.298 |  Val. Acc: 87.82%\n",
            "Epoch: 04\n",
            "\tTrain Loss: 0.284 | Train Acc: 88.37%\n",
            "\t Val. Loss: 0.321 |  Val. Acc: 86.18%\n",
            "Epoch: 05\n",
            "\tTrain Loss: 0.246 | Train Acc: 90.10%\n",
            "\t Val. Loss: 0.270 |  Val. Acc: 89.38%\n",
            "Epoch: 06\n",
            "\tTrain Loss: 0.224 | Train Acc: 91.02%\n",
            "\t Val. Loss: 0.256 |  Val. Acc: 89.96%\n",
            "Epoch: 07\n",
            "\tTrain Loss: 0.205 | Train Acc: 91.99%\n",
            "\t Val. Loss: 0.257 |  Val. Acc: 90.13%\n",
            "Epoch: 08\n",
            "\tTrain Loss: 0.184 | Train Acc: 93.01%\n",
            "\t Val. Loss: 0.271 |  Val. Acc: 89.57%\n",
            "Epoch: 09\n",
            "\tTrain Loss: 0.167 | Train Acc: 93.64%\n",
            "\t Val. Loss: 0.308 |  Val. Acc: 89.17%\n",
            "Epoch: 10\n",
            "\tTrain Loss: 0.155 | Train Acc: 94.03%\n",
            "\t Val. Loss: 0.273 |  Val. Acc: 90.25%\n",
            "Epoch: 11\n",
            "\tTrain Loss: 0.145 | Train Acc: 94.54%\n",
            "\t Val. Loss: 0.302 |  Val. Acc: 89.98%\n",
            "Epoch: 12\n",
            "\tTrain Loss: 0.132 | Train Acc: 95.11%\n",
            "\t Val. Loss: 0.304 |  Val. Acc: 89.63%\n",
            "Epoch: 13\n",
            "\tTrain Loss: 0.127 | Train Acc: 95.31%\n",
            "\t Val. Loss: 0.302 |  Val. Acc: 88.97%\n",
            "Epoch: 14\n",
            "\tTrain Loss: 0.115 | Train Acc: 95.78%\n",
            "\t Val. Loss: 0.296 |  Val. Acc: 89.82%\n"
          ]
        },
        {
          "output_type": "stream",
          "name": "stderr",
          "text": [
            "\u001b[32m[I 2023-01-15 16:11:47,145]\u001b[0m Trial 10 finished with value: 0.8965438008308411 and parameters: {'CELL_TYPE': 'GRU', 'HIDDEN_DIM': 32, 'N_LAYERS': 2, 'DROPOUT': 0.315557522548795, 'N_EPOCHS': 15, 'CLIP_VALUE': 2}. Best is trial 2 with value: 0.9058459051724138.\u001b[0m\n"
          ]
        },
        {
          "output_type": "stream",
          "name": "stdout",
          "text": [
            "Epoch: 15\n",
            "\tTrain Loss: 0.112 | Train Acc: 95.89%\n",
            "\t Val. Loss: 0.320 |  Val. Acc: 89.65%\n",
            "Epoch: 01\n",
            "\tTrain Loss: 0.625 | Train Acc: 63.99%\n",
            "\t Val. Loss: 0.487 |  Val. Acc: 77.70%\n",
            "Epoch: 02\n",
            "\tTrain Loss: 0.473 | Train Acc: 78.25%\n",
            "\t Val. Loss: 0.409 |  Val. Acc: 82.49%\n",
            "Epoch: 03\n",
            "\tTrain Loss: 0.388 | Train Acc: 82.83%\n",
            "\t Val. Loss: 0.312 |  Val. Acc: 87.28%\n",
            "Epoch: 04\n",
            "\tTrain Loss: 0.332 | Train Acc: 86.07%\n",
            "\t Val. Loss: 0.292 |  Val. Acc: 88.35%\n",
            "Epoch: 05\n",
            "\tTrain Loss: 0.298 | Train Acc: 87.83%\n",
            "\t Val. Loss: 0.269 |  Val. Acc: 89.16%\n",
            "Epoch: 06\n",
            "\tTrain Loss: 0.274 | Train Acc: 88.64%\n",
            "\t Val. Loss: 0.281 |  Val. Acc: 89.41%\n",
            "Epoch: 07\n",
            "\tTrain Loss: 0.255 | Train Acc: 89.74%\n",
            "\t Val. Loss: 0.257 |  Val. Acc: 89.87%\n",
            "Epoch: 08\n",
            "\tTrain Loss: 0.234 | Train Acc: 90.48%\n",
            "\t Val. Loss: 0.253 |  Val. Acc: 90.25%\n",
            "Epoch: 09\n",
            "\tTrain Loss: 0.219 | Train Acc: 91.38%\n",
            "\t Val. Loss: 0.261 |  Val. Acc: 89.97%\n",
            "Epoch: 10\n",
            "\tTrain Loss: 0.210 | Train Acc: 91.88%\n",
            "\t Val. Loss: 0.277 |  Val. Acc: 89.84%\n",
            "Epoch: 11\n",
            "\tTrain Loss: 0.200 | Train Acc: 92.04%\n",
            "\t Val. Loss: 0.266 |  Val. Acc: 90.25%\n",
            "Epoch: 12\n",
            "\tTrain Loss: 0.195 | Train Acc: 92.44%\n",
            "\t Val. Loss: 0.264 |  Val. Acc: 90.31%\n",
            "Epoch: 13\n",
            "\tTrain Loss: 0.180 | Train Acc: 92.98%\n",
            "\t Val. Loss: 0.275 |  Val. Acc: 90.79%\n",
            "Epoch: 14\n",
            "\tTrain Loss: 0.173 | Train Acc: 93.31%\n",
            "\t Val. Loss: 0.269 |  Val. Acc: 91.12%\n"
          ]
        },
        {
          "output_type": "stream",
          "name": "stderr",
          "text": [
            "\u001b[32m[I 2023-01-15 16:13:10,602]\u001b[0m Trial 11 finished with value: 0.9070502663480824 and parameters: {'CELL_TYPE': 'GRU', 'HIDDEN_DIM': 64, 'N_LAYERS': 2, 'DROPOUT': 0.5280268378151399, 'N_EPOCHS': 15, 'CLIP_VALUE': 3}. Best is trial 11 with value: 0.9070502663480824.\u001b[0m\n"
          ]
        },
        {
          "output_type": "stream",
          "name": "stdout",
          "text": [
            "Epoch: 15\n",
            "\tTrain Loss: 0.167 | Train Acc: 93.61%\n",
            "\t Val. Loss: 0.276 |  Val. Acc: 90.71%\n",
            "Epoch: 01\n",
            "\tTrain Loss: 0.644 | Train Acc: 61.50%\n",
            "\t Val. Loss: 0.523 |  Val. Acc: 75.61%\n",
            "Epoch: 02\n",
            "\tTrain Loss: 0.514 | Train Acc: 75.30%\n",
            "\t Val. Loss: 0.421 |  Val. Acc: 82.39%\n",
            "Epoch: 03\n",
            "\tTrain Loss: 0.430 | Train Acc: 80.77%\n",
            "\t Val. Loss: 0.341 |  Val. Acc: 85.65%\n",
            "Epoch: 04\n",
            "\tTrain Loss: 0.372 | Train Acc: 83.97%\n",
            "\t Val. Loss: 0.385 |  Val. Acc: 83.33%\n",
            "Epoch: 05\n",
            "\tTrain Loss: 0.331 | Train Acc: 86.12%\n",
            "\t Val. Loss: 0.291 |  Val. Acc: 88.06%\n",
            "Epoch: 06\n",
            "\tTrain Loss: 0.310 | Train Acc: 87.12%\n",
            "\t Val. Loss: 0.270 |  Val. Acc: 89.07%\n",
            "Epoch: 07\n",
            "\tTrain Loss: 0.286 | Train Acc: 88.24%\n",
            "\t Val. Loss: 0.261 |  Val. Acc: 89.76%\n",
            "Epoch: 08\n",
            "\tTrain Loss: 0.268 | Train Acc: 89.13%\n",
            "\t Val. Loss: 0.293 |  Val. Acc: 88.47%\n",
            "Epoch: 09\n",
            "\tTrain Loss: 0.252 | Train Acc: 89.77%\n",
            "\t Val. Loss: 0.303 |  Val. Acc: 88.88%\n",
            "Epoch: 10\n",
            "\tTrain Loss: 0.239 | Train Acc: 90.33%\n",
            "\t Val. Loss: 0.265 |  Val. Acc: 90.35%\n",
            "Epoch: 11\n",
            "\tTrain Loss: 0.232 | Train Acc: 90.57%\n",
            "\t Val. Loss: 0.255 |  Val. Acc: 90.58%\n",
            "Epoch: 12\n",
            "\tTrain Loss: 0.219 | Train Acc: 91.19%\n",
            "\t Val. Loss: 0.262 |  Val. Acc: 89.98%\n",
            "Epoch: 13\n",
            "\tTrain Loss: 0.214 | Train Acc: 91.53%\n",
            "\t Val. Loss: 0.264 |  Val. Acc: 90.25%\n",
            "Epoch: 14\n",
            "\tTrain Loss: 0.199 | Train Acc: 92.32%\n",
            "\t Val. Loss: 0.275 |  Val. Acc: 90.10%\n"
          ]
        },
        {
          "output_type": "stream",
          "name": "stderr",
          "text": [
            "\u001b[32m[I 2023-01-15 16:14:33,885]\u001b[0m Trial 12 finished with value: 0.8992377663480824 and parameters: {'CELL_TYPE': 'GRU', 'HIDDEN_DIM': 64, 'N_LAYERS': 2, 'DROPOUT': 0.6189647553601262, 'N_EPOCHS': 15, 'CLIP_VALUE': 3}. Best is trial 11 with value: 0.9070502663480824.\u001b[0m\n"
          ]
        },
        {
          "output_type": "stream",
          "name": "stdout",
          "text": [
            "Epoch: 15\n",
            "\tTrain Loss: 0.193 | Train Acc: 92.40%\n",
            "\t Val. Loss: 0.283 |  Val. Acc: 89.92%\n",
            "Epoch: 01\n",
            "\tTrain Loss: 0.582 | Train Acc: 68.08%\n",
            "\t Val. Loss: 0.447 |  Val. Acc: 80.24%\n",
            "Epoch: 02\n",
            "\tTrain Loss: 0.395 | Train Acc: 82.46%\n",
            "\t Val. Loss: 0.340 |  Val. Acc: 85.32%\n",
            "Epoch: 03\n",
            "\tTrain Loss: 0.320 | Train Acc: 86.62%\n",
            "\t Val. Loss: 0.281 |  Val. Acc: 88.61%\n",
            "Epoch: 04\n",
            "\tTrain Loss: 0.271 | Train Acc: 88.98%\n",
            "\t Val. Loss: 0.262 |  Val. Acc: 89.49%\n",
            "Epoch: 05\n",
            "\tTrain Loss: 0.245 | Train Acc: 90.04%\n",
            "\t Val. Loss: 0.255 |  Val. Acc: 90.11%\n",
            "Epoch: 06\n",
            "\tTrain Loss: 0.217 | Train Acc: 91.37%\n",
            "\t Val. Loss: 0.251 |  Val. Acc: 90.06%\n",
            "Epoch: 07\n",
            "\tTrain Loss: 0.202 | Train Acc: 92.05%\n",
            "\t Val. Loss: 0.267 |  Val. Acc: 89.68%\n",
            "Epoch: 08\n",
            "\tTrain Loss: 0.183 | Train Acc: 92.80%\n",
            "\t Val. Loss: 0.247 |  Val. Acc: 90.52%\n",
            "Epoch: 09\n",
            "\tTrain Loss: 0.166 | Train Acc: 93.55%\n",
            "\t Val. Loss: 0.257 |  Val. Acc: 90.28%\n",
            "Epoch: 10\n",
            "\tTrain Loss: 0.151 | Train Acc: 94.19%\n",
            "\t Val. Loss: 0.263 |  Val. Acc: 90.36%\n",
            "Epoch: 11\n",
            "\tTrain Loss: 0.141 | Train Acc: 94.64%\n",
            "\t Val. Loss: 0.303 |  Val. Acc: 89.38%\n",
            "Epoch: 12\n",
            "\tTrain Loss: 0.133 | Train Acc: 94.96%\n",
            "\t Val. Loss: 0.268 |  Val. Acc: 90.12%\n"
          ]
        },
        {
          "output_type": "stream",
          "name": "stderr",
          "text": [
            "\u001b[32m[I 2023-01-15 16:15:45,797]\u001b[0m Trial 13 finished with value: 0.9041582160982592 and parameters: {'CELL_TYPE': 'GRU', 'HIDDEN_DIM': 64, 'N_LAYERS': 2, 'DROPOUT': 0.33306090123028126, 'N_EPOCHS': 13, 'CLIP_VALUE': 2}. Best is trial 11 with value: 0.9070502663480824.\u001b[0m\n"
          ]
        },
        {
          "output_type": "stream",
          "name": "stdout",
          "text": [
            "Epoch: 13\n",
            "\tTrain Loss: 0.123 | Train Acc: 95.39%\n",
            "\t Val. Loss: 0.290 |  Val. Acc: 90.42%\n",
            "Epoch: 01\n",
            "\tTrain Loss: 0.682 | Train Acc: 55.33%\n",
            "\t Val. Loss: 0.601 |  Val. Acc: 68.50%\n",
            "Epoch: 02\n",
            "\tTrain Loss: 0.556 | Train Acc: 71.71%\n",
            "\t Val. Loss: 0.499 |  Val. Acc: 79.50%\n",
            "Epoch: 03\n",
            "\tTrain Loss: 0.471 | Train Acc: 78.46%\n",
            "\t Val. Loss: 0.399 |  Val. Acc: 83.98%\n",
            "Epoch: 04\n",
            "\tTrain Loss: 0.408 | Train Acc: 81.88%\n",
            "\t Val. Loss: 0.341 |  Val. Acc: 85.46%\n",
            "Epoch: 05\n",
            "\tTrain Loss: 0.362 | Train Acc: 84.75%\n",
            "\t Val. Loss: 0.309 |  Val. Acc: 88.21%\n",
            "Epoch: 06\n",
            "\tTrain Loss: 0.333 | Train Acc: 85.99%\n",
            "\t Val. Loss: 0.297 |  Val. Acc: 88.83%\n",
            "Epoch: 07\n",
            "\tTrain Loss: 0.307 | Train Acc: 87.22%\n",
            "\t Val. Loss: 0.277 |  Val. Acc: 89.52%\n",
            "Epoch: 08\n",
            "\tTrain Loss: 0.291 | Train Acc: 88.21%\n",
            "\t Val. Loss: 0.275 |  Val. Acc: 89.74%\n",
            "Epoch: 09\n",
            "\tTrain Loss: 0.280 | Train Acc: 88.59%\n",
            "\t Val. Loss: 0.263 |  Val. Acc: 90.15%\n",
            "Epoch: 10\n",
            "\tTrain Loss: 0.258 | Train Acc: 89.76%\n",
            "\t Val. Loss: 0.265 |  Val. Acc: 90.47%\n",
            "Epoch: 11\n",
            "\tTrain Loss: 0.250 | Train Acc: 90.14%\n",
            "\t Val. Loss: 0.316 |  Val. Acc: 88.86%\n",
            "Epoch: 12\n",
            "\tTrain Loss: 0.241 | Train Acc: 90.40%\n",
            "\t Val. Loss: 0.254 |  Val. Acc: 90.41%\n"
          ]
        },
        {
          "output_type": "stream",
          "name": "stderr",
          "text": [
            "\u001b[32m[I 2023-01-15 16:16:53,734]\u001b[0m Trial 14 finished with value: 0.905639897132742 and parameters: {'CELL_TYPE': 'GRU', 'HIDDEN_DIM': 32, 'N_LAYERS': 2, 'DROPOUT': 0.6212660301003445, 'N_EPOCHS': 13, 'CLIP_VALUE': 3}. Best is trial 11 with value: 0.9070502663480824.\u001b[0m\n"
          ]
        },
        {
          "output_type": "stream",
          "name": "stdout",
          "text": [
            "Epoch: 13\n",
            "\tTrain Loss: 0.226 | Train Acc: 91.04%\n",
            "\t Val. Loss: 0.270 |  Val. Acc: 90.56%\n",
            "Epoch: 01\n",
            "\tTrain Loss: 0.631 | Train Acc: 62.76%\n",
            "\t Val. Loss: 0.502 |  Val. Acc: 76.19%\n",
            "Epoch: 02\n",
            "\tTrain Loss: 0.481 | Train Acc: 77.57%\n",
            "\t Val. Loss: 0.390 |  Val. Acc: 83.03%\n",
            "Epoch: 03\n",
            "\tTrain Loss: 0.388 | Train Acc: 83.06%\n",
            "\t Val. Loss: 0.327 |  Val. Acc: 86.65%\n",
            "Epoch: 04\n",
            "\tTrain Loss: 0.333 | Train Acc: 85.98%\n",
            "\t Val. Loss: 0.307 |  Val. Acc: 87.69%\n",
            "Epoch: 05\n",
            "\tTrain Loss: 0.302 | Train Acc: 87.71%\n",
            "\t Val. Loss: 0.301 |  Val. Acc: 88.81%\n",
            "Epoch: 06\n",
            "\tTrain Loss: 0.277 | Train Acc: 88.80%\n",
            "\t Val. Loss: 0.347 |  Val. Acc: 86.80%\n",
            "Epoch: 07\n",
            "\tTrain Loss: 0.250 | Train Acc: 90.08%\n",
            "\t Val. Loss: 0.369 |  Val. Acc: 85.46%\n",
            "Epoch: 08\n",
            "\tTrain Loss: 0.236 | Train Acc: 90.64%\n",
            "\t Val. Loss: 0.307 |  Val. Acc: 87.77%\n",
            "Epoch: 09\n",
            "\tTrain Loss: 0.218 | Train Acc: 91.33%\n",
            "\t Val. Loss: 0.258 |  Val. Acc: 89.94%\n",
            "Epoch: 10\n",
            "\tTrain Loss: 0.206 | Train Acc: 91.99%\n",
            "\t Val. Loss: 0.285 |  Val. Acc: 89.25%\n",
            "Epoch: 11\n",
            "\tTrain Loss: 0.196 | Train Acc: 92.42%\n",
            "\t Val. Loss: 0.258 |  Val. Acc: 90.20%\n",
            "Epoch: 12\n",
            "\tTrain Loss: 0.186 | Train Acc: 92.84%\n",
            "\t Val. Loss: 0.271 |  Val. Acc: 90.07%\n",
            "Epoch: 13\n",
            "\tTrain Loss: 0.173 | Train Acc: 93.35%\n",
            "\t Val. Loss: 0.284 |  Val. Acc: 89.44%\n",
            "Epoch: 14\n",
            "\tTrain Loss: 0.165 | Train Acc: 93.70%\n",
            "\t Val. Loss: 0.316 |  Val. Acc: 88.81%\n"
          ]
        },
        {
          "output_type": "stream",
          "name": "stderr",
          "text": [
            "\u001b[32m[I 2023-01-15 16:18:08,156]\u001b[0m Trial 15 finished with value: 0.8919640594515307 and parameters: {'CELL_TYPE': 'LSTM', 'HIDDEN_DIM': 32, 'N_LAYERS': 2, 'DROPOUT': 0.420279488443629, 'N_EPOCHS': 15, 'CLIP_VALUE': 1}. Best is trial 11 with value: 0.9070502663480824.\u001b[0m\n"
          ]
        },
        {
          "output_type": "stream",
          "name": "stdout",
          "text": [
            "Epoch: 15\n",
            "\tTrain Loss: 0.155 | Train Acc: 94.24%\n",
            "\t Val. Loss: 0.329 |  Val. Acc: 89.20%\n",
            "Epoch: 01\n",
            "\tTrain Loss: 0.888 | Train Acc: 50.40%\n",
            "\t Val. Loss: 0.693 |  Val. Acc: 48.37%\n",
            "Epoch: 02\n",
            "\tTrain Loss: 0.701 | Train Acc: 50.20%\n",
            "\t Val. Loss: 0.693 |  Val. Acc: 56.77%\n",
            "Epoch: 03\n",
            "\tTrain Loss: 0.697 | Train Acc: 49.81%\n",
            "\t Val. Loss: 0.693 |  Val. Acc: 50.52%\n",
            "Epoch: 04\n",
            "\tTrain Loss: 0.698 | Train Acc: 49.74%\n",
            "\t Val. Loss: 0.693 |  Val. Acc: 51.13%\n",
            "Epoch: 05\n",
            "\tTrain Loss: 0.697 | Train Acc: 50.08%\n",
            "\t Val. Loss: 0.693 |  Val. Acc: 48.71%\n",
            "Epoch: 06\n",
            "\tTrain Loss: 0.697 | Train Acc: 50.32%\n",
            "\t Val. Loss: 0.693 |  Val. Acc: 50.54%\n",
            "Epoch: 07\n",
            "\tTrain Loss: 0.698 | Train Acc: 50.33%\n",
            "\t Val. Loss: 0.693 |  Val. Acc: 48.31%\n",
            "Epoch: 08\n",
            "\tTrain Loss: 0.699 | Train Acc: 49.51%\n",
            "\t Val. Loss: 0.693 |  Val. Acc: 53.89%\n",
            "Epoch: 09\n",
            "\tTrain Loss: 0.697 | Train Acc: 50.07%\n",
            "\t Val. Loss: 0.693 |  Val. Acc: 49.43%\n",
            "Epoch: 10\n",
            "\tTrain Loss: 0.698 | Train Acc: 49.95%\n",
            "\t Val. Loss: 0.693 |  Val. Acc: 50.52%\n",
            "Epoch: 11\n",
            "\tTrain Loss: 0.698 | Train Acc: 50.02%\n",
            "\t Val. Loss: 0.693 |  Val. Acc: 50.68%\n"
          ]
        },
        {
          "output_type": "stream",
          "name": "stderr",
          "text": [
            "\u001b[32m[I 2023-01-15 16:19:14,421]\u001b[0m Trial 16 finished with value: 0.5150069727979857 and parameters: {'CELL_TYPE': 'GRU', 'HIDDEN_DIM': 64, 'N_LAYERS': 2, 'DROPOUT': 0.9918232616991149, 'N_EPOCHS': 12, 'CLIP_VALUE': 2}. Best is trial 11 with value: 0.9070502663480824.\u001b[0m\n"
          ]
        },
        {
          "output_type": "stream",
          "name": "stdout",
          "text": [
            "Epoch: 12\n",
            "\tTrain Loss: 0.698 | Train Acc: 49.74%\n",
            "\t Val. Loss: 0.693 |  Val. Acc: 51.50%\n",
            "Epoch: 01\n",
            "\tTrain Loss: 0.665 | Train Acc: 58.40%\n",
            "\t Val. Loss: 0.589 |  Val. Acc: 70.15%\n",
            "Epoch: 02\n",
            "\tTrain Loss: 0.543 | Train Acc: 73.04%\n",
            "\t Val. Loss: 0.447 |  Val. Acc: 81.63%\n",
            "Epoch: 03\n",
            "\tTrain Loss: 0.448 | Train Acc: 79.71%\n",
            "\t Val. Loss: 0.389 |  Val. Acc: 83.88%\n",
            "Epoch: 04\n",
            "\tTrain Loss: 0.392 | Train Acc: 82.76%\n",
            "\t Val. Loss: 0.384 |  Val. Acc: 84.95%\n",
            "Epoch: 05\n",
            "\tTrain Loss: 0.361 | Train Acc: 84.19%\n",
            "\t Val. Loss: 0.303 |  Val. Acc: 88.00%\n",
            "Epoch: 06\n",
            "\tTrain Loss: 0.338 | Train Acc: 85.76%\n",
            "\t Val. Loss: 0.321 |  Val. Acc: 87.82%\n",
            "Epoch: 07\n",
            "\tTrain Loss: 0.307 | Train Acc: 87.17%\n",
            "\t Val. Loss: 0.326 |  Val. Acc: 87.77%\n",
            "Epoch: 08\n",
            "\tTrain Loss: 0.290 | Train Acc: 87.99%\n",
            "\t Val. Loss: 0.311 |  Val. Acc: 88.87%\n",
            "Epoch: 09\n",
            "\tTrain Loss: 0.276 | Train Acc: 88.62%\n",
            "\t Val. Loss: 0.328 |  Val. Acc: 87.55%\n",
            "Epoch: 10\n",
            "\tTrain Loss: 0.265 | Train Acc: 89.18%\n",
            "\t Val. Loss: 0.320 |  Val. Acc: 88.28%\n",
            "Epoch: 11\n",
            "\tTrain Loss: 0.256 | Train Acc: 89.49%\n",
            "\t Val. Loss: 0.295 |  Val. Acc: 88.74%\n",
            "Epoch: 12\n",
            "\tTrain Loss: 0.242 | Train Acc: 90.09%\n",
            "\t Val. Loss: 0.299 |  Val. Acc: 89.26%\n",
            "Epoch: 13\n",
            "\tTrain Loss: 0.244 | Train Acc: 90.15%\n",
            "\t Val. Loss: 0.461 |  Val. Acc: 84.69%\n"
          ]
        },
        {
          "output_type": "stream",
          "name": "stderr",
          "text": [
            "\u001b[32m[I 2023-01-15 16:21:05,431]\u001b[0m Trial 17 finished with value: 0.8942460068340959 and parameters: {'CELL_TYPE': 'GRU', 'HIDDEN_DIM': 64, 'N_LAYERS': 3, 'DROPOUT': 0.6912917807916646, 'N_EPOCHS': 14, 'CLIP_VALUE': 3}. Best is trial 11 with value: 0.9070502663480824.\u001b[0m\n"
          ]
        },
        {
          "output_type": "stream",
          "name": "stdout",
          "text": [
            "Epoch: 14\n",
            "\tTrain Loss: 0.234 | Train Acc: 90.54%\n",
            "\t Val. Loss: 0.296 |  Val. Acc: 89.42%\n",
            "Epoch: 01\n",
            "\tTrain Loss: 0.664 | Train Acc: 58.34%\n",
            "\t Val. Loss: 0.551 |  Val. Acc: 73.46%\n",
            "Epoch: 02\n",
            "\tTrain Loss: 0.516 | Train Acc: 75.35%\n",
            "\t Val. Loss: 0.501 |  Val. Acc: 77.81%\n",
            "Epoch: 03\n",
            "\tTrain Loss: 0.441 | Train Acc: 80.00%\n",
            "\t Val. Loss: 0.398 |  Val. Acc: 83.19%\n",
            "Epoch: 04\n",
            "\tTrain Loss: 0.380 | Train Acc: 83.55%\n",
            "\t Val. Loss: 0.348 |  Val. Acc: 85.39%\n",
            "Epoch: 05\n",
            "\tTrain Loss: 0.341 | Train Acc: 85.62%\n",
            "\t Val. Loss: 0.352 |  Val. Acc: 87.32%\n",
            "Epoch: 06\n",
            "\tTrain Loss: 0.310 | Train Acc: 87.32%\n",
            "\t Val. Loss: 0.304 |  Val. Acc: 88.19%\n",
            "Epoch: 07\n",
            "\tTrain Loss: 0.290 | Train Acc: 88.18%\n",
            "\t Val. Loss: 0.299 |  Val. Acc: 87.75%\n",
            "Epoch: 08\n",
            "\tTrain Loss: 0.276 | Train Acc: 88.77%\n",
            "\t Val. Loss: 0.272 |  Val. Acc: 89.38%\n",
            "Epoch: 09\n",
            "\tTrain Loss: 0.253 | Train Acc: 89.95%\n",
            "\t Val. Loss: 0.278 |  Val. Acc: 89.15%\n",
            "Epoch: 10\n",
            "\tTrain Loss: 0.243 | Train Acc: 90.30%\n",
            "\t Val. Loss: 0.264 |  Val. Acc: 89.53%\n",
            "Epoch: 11\n",
            "\tTrain Loss: 0.233 | Train Acc: 90.81%\n",
            "\t Val. Loss: 0.282 |  Val. Acc: 89.59%\n",
            "Epoch: 12\n",
            "\tTrain Loss: 0.216 | Train Acc: 91.57%\n",
            "\t Val. Loss: 0.282 |  Val. Acc: 89.59%\n",
            "Epoch: 13\n",
            "\tTrain Loss: 0.212 | Train Acc: 91.69%\n",
            "\t Val. Loss: 0.280 |  Val. Acc: 89.49%\n"
          ]
        },
        {
          "output_type": "stream",
          "name": "stderr",
          "text": [
            "\u001b[32m[I 2023-01-15 16:22:14,844]\u001b[0m Trial 18 finished with value: 0.8904110665979057 and parameters: {'CELL_TYPE': 'LSTM', 'HIDDEN_DIM': 32, 'N_LAYERS': 2, 'DROPOUT': 0.5584982953040744, 'N_EPOCHS': 14, 'CLIP_VALUE': 3}. Best is trial 11 with value: 0.9070502663480824.\u001b[0m\n"
          ]
        },
        {
          "output_type": "stream",
          "name": "stdout",
          "text": [
            "Epoch: 14\n",
            "\tTrain Loss: 0.203 | Train Acc: 92.19%\n",
            "\t Val. Loss: 0.302 |  Val. Acc: 89.04%\n",
            "Epoch: 01\n",
            "\tTrain Loss: 0.570 | Train Acc: 69.24%\n",
            "\t Val. Loss: 0.431 |  Val. Acc: 80.63%\n",
            "Epoch: 02\n",
            "\tTrain Loss: 0.376 | Train Acc: 83.76%\n",
            "\t Val. Loss: 0.332 |  Val. Acc: 86.39%\n",
            "Epoch: 03\n",
            "\tTrain Loss: 0.283 | Train Acc: 88.29%\n",
            "\t Val. Loss: 0.285 |  Val. Acc: 88.44%\n",
            "Epoch: 04\n",
            "\tTrain Loss: 0.239 | Train Acc: 90.57%\n",
            "\t Val. Loss: 0.287 |  Val. Acc: 88.83%\n",
            "Epoch: 05\n",
            "\tTrain Loss: 0.201 | Train Acc: 92.27%\n",
            "\t Val. Loss: 0.275 |  Val. Acc: 89.25%\n",
            "Epoch: 06\n",
            "\tTrain Loss: 0.178 | Train Acc: 93.37%\n",
            "\t Val. Loss: 0.275 |  Val. Acc: 89.78%\n",
            "Epoch: 07\n",
            "\tTrain Loss: 0.152 | Train Acc: 94.29%\n",
            "\t Val. Loss: 0.292 |  Val. Acc: 89.45%\n",
            "Epoch: 08\n",
            "\tTrain Loss: 0.131 | Train Acc: 95.20%\n",
            "\t Val. Loss: 0.300 |  Val. Acc: 89.57%\n",
            "Epoch: 09\n",
            "\tTrain Loss: 0.120 | Train Acc: 95.45%\n",
            "\t Val. Loss: 0.282 |  Val. Acc: 89.32%\n",
            "Epoch: 10\n",
            "\tTrain Loss: 0.099 | Train Acc: 96.47%\n",
            "\t Val. Loss: 0.373 |  Val. Acc: 88.52%\n"
          ]
        },
        {
          "output_type": "stream",
          "name": "stderr",
          "text": [
            "\u001b[32m[I 2023-01-15 16:23:40,716]\u001b[0m Trial 19 finished with value: 0.8878517993565264 and parameters: {'CELL_TYPE': 'GRU', 'HIDDEN_DIM': 128, 'N_LAYERS': 2, 'DROPOUT': 0.1487096447480183, 'N_EPOCHS': 11, 'CLIP_VALUE': 2}. Best is trial 11 with value: 0.9070502663480824.\u001b[0m\n"
          ]
        },
        {
          "output_type": "stream",
          "name": "stdout",
          "text": [
            "Epoch: 11\n",
            "\tTrain Loss: 0.090 | Train Acc: 96.89%\n",
            "\t Val. Loss: 0.335 |  Val. Acc: 88.79%\n",
            "Epoch: 01\n",
            "\tTrain Loss: 0.629 | Train Acc: 63.01%\n",
            "\t Val. Loss: 0.495 |  Val. Acc: 76.44%\n",
            "Epoch: 02\n",
            "\tTrain Loss: 0.448 | Train Acc: 79.36%\n",
            "\t Val. Loss: 0.369 |  Val. Acc: 83.66%\n",
            "Epoch: 03\n",
            "\tTrain Loss: 0.350 | Train Acc: 85.09%\n",
            "\t Val. Loss: 0.294 |  Val. Acc: 87.94%\n",
            "Epoch: 04\n",
            "\tTrain Loss: 0.299 | Train Acc: 87.49%\n",
            "\t Val. Loss: 0.274 |  Val. Acc: 89.18%\n",
            "Epoch: 05\n",
            "\tTrain Loss: 0.263 | Train Acc: 89.28%\n",
            "\t Val. Loss: 0.259 |  Val. Acc: 89.34%\n",
            "Epoch: 06\n",
            "\tTrain Loss: 0.244 | Train Acc: 90.04%\n",
            "\t Val. Loss: 0.261 |  Val. Acc: 89.53%\n",
            "Epoch: 07\n",
            "\tTrain Loss: 0.218 | Train Acc: 91.48%\n",
            "\t Val. Loss: 0.254 |  Val. Acc: 90.32%\n",
            "Epoch: 08\n",
            "\tTrain Loss: 0.200 | Train Acc: 92.19%\n",
            "\t Val. Loss: 0.302 |  Val. Acc: 88.16%\n",
            "Epoch: 09\n",
            "\tTrain Loss: 0.194 | Train Acc: 92.34%\n",
            "\t Val. Loss: 0.268 |  Val. Acc: 90.58%\n",
            "Epoch: 10\n",
            "\tTrain Loss: 0.179 | Train Acc: 93.22%\n",
            "\t Val. Loss: 0.276 |  Val. Acc: 90.46%\n",
            "Epoch: 11\n",
            "\tTrain Loss: 0.164 | Train Acc: 93.73%\n",
            "\t Val. Loss: 0.273 |  Val. Acc: 90.51%\n",
            "Epoch: 12\n",
            "\tTrain Loss: 0.154 | Train Acc: 94.17%\n",
            "\t Val. Loss: 0.270 |  Val. Acc: 90.48%\n",
            "Epoch: 13\n",
            "\tTrain Loss: 0.147 | Train Acc: 94.36%\n",
            "\t Val. Loss: 0.283 |  Val. Acc: 90.34%\n"
          ]
        },
        {
          "output_type": "stream",
          "name": "stderr",
          "text": [
            "\u001b[32m[I 2023-01-15 16:25:19,310]\u001b[0m Trial 20 finished with value: 0.9053071120689655 and parameters: {'CELL_TYPE': 'GRU', 'HIDDEN_DIM': 32, 'N_LAYERS': 3, 'DROPOUT': 0.4031170790210753, 'N_EPOCHS': 14, 'CLIP_VALUE': 4}. Best is trial 11 with value: 0.9070502663480824.\u001b[0m\n"
          ]
        },
        {
          "output_type": "stream",
          "name": "stdout",
          "text": [
            "Epoch: 14\n",
            "\tTrain Loss: 0.139 | Train Acc: 94.79%\n",
            "\t Val. Loss: 0.292 |  Val. Acc: 90.53%\n",
            "Epoch: 01\n",
            "\tTrain Loss: 0.666 | Train Acc: 58.65%\n",
            "\t Val. Loss: 0.548 |  Val. Acc: 72.99%\n",
            "Epoch: 02\n",
            "\tTrain Loss: 0.523 | Train Acc: 74.18%\n",
            "\t Val. Loss: 0.461 |  Val. Acc: 80.19%\n",
            "Epoch: 03\n",
            "\tTrain Loss: 0.438 | Train Acc: 80.44%\n",
            "\t Val. Loss: 0.363 |  Val. Acc: 85.77%\n",
            "Epoch: 04\n",
            "\tTrain Loss: 0.381 | Train Acc: 83.65%\n",
            "\t Val. Loss: 0.342 |  Val. Acc: 86.16%\n",
            "Epoch: 05\n",
            "\tTrain Loss: 0.345 | Train Acc: 85.41%\n",
            "\t Val. Loss: 0.382 |  Val. Acc: 84.84%\n",
            "Epoch: 06\n",
            "\tTrain Loss: 0.319 | Train Acc: 86.63%\n",
            "\t Val. Loss: 0.306 |  Val. Acc: 87.73%\n",
            "Epoch: 07\n",
            "\tTrain Loss: 0.293 | Train Acc: 88.08%\n",
            "\t Val. Loss: 0.299 |  Val. Acc: 88.68%\n",
            "Epoch: 08\n",
            "\tTrain Loss: 0.273 | Train Acc: 89.05%\n",
            "\t Val. Loss: 0.281 |  Val. Acc: 89.61%\n",
            "Epoch: 09\n",
            "\tTrain Loss: 0.261 | Train Acc: 89.67%\n",
            "\t Val. Loss: 0.284 |  Val. Acc: 89.49%\n",
            "Epoch: 10\n",
            "\tTrain Loss: 0.244 | Train Acc: 90.22%\n",
            "\t Val. Loss: 0.292 |  Val. Acc: 89.48%\n",
            "Epoch: 11\n",
            "\tTrain Loss: 0.232 | Train Acc: 90.81%\n",
            "\t Val. Loss: 0.333 |  Val. Acc: 88.53%\n",
            "Epoch: 12\n",
            "\tTrain Loss: 0.222 | Train Acc: 91.11%\n",
            "\t Val. Loss: 0.295 |  Val. Acc: 89.46%\n"
          ]
        },
        {
          "output_type": "stream",
          "name": "stderr",
          "text": [
            "\u001b[32m[I 2023-01-15 16:26:26,791]\u001b[0m Trial 21 finished with value: 0.9007907592017075 and parameters: {'CELL_TYPE': 'GRU', 'HIDDEN_DIM': 32, 'N_LAYERS': 2, 'DROPOUT': 0.5891433716605924, 'N_EPOCHS': 13, 'CLIP_VALUE': 3}. Best is trial 11 with value: 0.9070502663480824.\u001b[0m\n"
          ]
        },
        {
          "output_type": "stream",
          "name": "stdout",
          "text": [
            "Epoch: 13\n",
            "\tTrain Loss: 0.216 | Train Acc: 91.38%\n",
            "\t Val. Loss: 0.277 |  Val. Acc: 90.08%\n",
            "Epoch: 01\n",
            "\tTrain Loss: 0.697 | Train Acc: 51.82%\n",
            "\t Val. Loss: 0.671 |  Val. Acc: 64.48%\n",
            "Epoch: 02\n",
            "\tTrain Loss: 0.650 | Train Acc: 61.78%\n",
            "\t Val. Loss: 0.523 |  Val. Acc: 75.39%\n",
            "Epoch: 03\n",
            "\tTrain Loss: 0.559 | Train Acc: 72.12%\n",
            "\t Val. Loss: 0.480 |  Val. Acc: 79.51%\n",
            "Epoch: 04\n",
            "\tTrain Loss: 0.509 | Train Acc: 76.02%\n",
            "\t Val. Loss: 0.412 |  Val. Acc: 82.91%\n",
            "Epoch: 05\n",
            "\tTrain Loss: 0.462 | Train Acc: 79.23%\n",
            "\t Val. Loss: 0.382 |  Val. Acc: 83.83%\n",
            "Epoch: 06\n",
            "\tTrain Loss: 0.423 | Train Acc: 81.34%\n",
            "\t Val. Loss: 0.353 |  Val. Acc: 85.73%\n",
            "Epoch: 07\n",
            "\tTrain Loss: 0.392 | Train Acc: 83.22%\n",
            "\t Val. Loss: 0.337 |  Val. Acc: 87.14%\n",
            "Epoch: 08\n",
            "\tTrain Loss: 0.362 | Train Acc: 84.75%\n",
            "\t Val. Loss: 0.335 |  Val. Acc: 87.55%\n",
            "Epoch: 09\n",
            "\tTrain Loss: 0.344 | Train Acc: 85.40%\n",
            "\t Val. Loss: 0.356 |  Val. Acc: 86.96%\n",
            "Epoch: 10\n",
            "\tTrain Loss: 0.328 | Train Acc: 86.33%\n",
            "\t Val. Loss: 0.301 |  Val. Acc: 88.89%\n",
            "Epoch: 11\n",
            "\tTrain Loss: 0.312 | Train Acc: 87.03%\n",
            "\t Val. Loss: 0.317 |  Val. Acc: 88.90%\n",
            "Epoch: 12\n",
            "\tTrain Loss: 0.297 | Train Acc: 87.89%\n",
            "\t Val. Loss: 0.326 |  Val. Acc: 88.57%\n",
            "Epoch: 13\n",
            "\tTrain Loss: 0.285 | Train Acc: 88.40%\n",
            "\t Val. Loss: 0.312 |  Val. Acc: 88.99%\n",
            "Epoch: 14\n",
            "\tTrain Loss: 0.274 | Train Acc: 89.03%\n",
            "\t Val. Loss: 0.312 |  Val. Acc: 89.50%\n"
          ]
        },
        {
          "output_type": "stream",
          "name": "stderr",
          "text": [
            "\u001b[32m[I 2023-01-15 16:27:42,881]\u001b[0m Trial 22 finished with value: 0.8929782592017075 and parameters: {'CELL_TYPE': 'GRU', 'HIDDEN_DIM': 32, 'N_LAYERS': 2, 'DROPOUT': 0.7265640572804851, 'N_EPOCHS': 15, 'CLIP_VALUE': 3}. Best is trial 11 with value: 0.9070502663480824.\u001b[0m\n"
          ]
        },
        {
          "output_type": "stream",
          "name": "stdout",
          "text": [
            "Epoch: 15\n",
            "\tTrain Loss: 0.268 | Train Acc: 89.30%\n",
            "\t Val. Loss: 0.320 |  Val. Acc: 89.30%\n",
            "Epoch: 01\n",
            "\tTrain Loss: 0.660 | Train Acc: 59.29%\n",
            "\t Val. Loss: 0.530 |  Val. Acc: 74.66%\n",
            "Epoch: 02\n",
            "\tTrain Loss: 0.516 | Train Acc: 75.23%\n",
            "\t Val. Loss: 0.402 |  Val. Acc: 82.70%\n",
            "Epoch: 03\n",
            "\tTrain Loss: 0.418 | Train Acc: 81.38%\n",
            "\t Val. Loss: 0.383 |  Val. Acc: 83.90%\n",
            "Epoch: 04\n",
            "\tTrain Loss: 0.363 | Train Acc: 84.57%\n",
            "\t Val. Loss: 0.329 |  Val. Acc: 87.66%\n",
            "Epoch: 05\n",
            "\tTrain Loss: 0.327 | Train Acc: 86.32%\n",
            "\t Val. Loss: 0.289 |  Val. Acc: 88.21%\n",
            "Epoch: 06\n",
            "\tTrain Loss: 0.296 | Train Acc: 87.79%\n",
            "\t Val. Loss: 0.286 |  Val. Acc: 89.18%\n",
            "Epoch: 07\n",
            "\tTrain Loss: 0.271 | Train Acc: 89.10%\n",
            "\t Val. Loss: 0.277 |  Val. Acc: 89.51%\n",
            "Epoch: 08\n",
            "\tTrain Loss: 0.252 | Train Acc: 89.85%\n",
            "\t Val. Loss: 0.272 |  Val. Acc: 89.88%\n",
            "Epoch: 09\n",
            "\tTrain Loss: 0.245 | Train Acc: 90.15%\n",
            "\t Val. Loss: 0.264 |  Val. Acc: 89.97%\n",
            "Epoch: 10\n",
            "\tTrain Loss: 0.225 | Train Acc: 91.16%\n",
            "\t Val. Loss: 0.268 |  Val. Acc: 90.10%\n",
            "Epoch: 11\n",
            "\tTrain Loss: 0.219 | Train Acc: 91.32%\n",
            "\t Val. Loss: 0.282 |  Val. Acc: 89.71%\n"
          ]
        },
        {
          "output_type": "stream",
          "name": "stderr",
          "text": [
            "\u001b[32m[I 2023-01-15 16:28:43,954]\u001b[0m Trial 23 finished with value: 0.9024071385120523 and parameters: {'CELL_TYPE': 'GRU', 'HIDDEN_DIM': 32, 'N_LAYERS': 2, 'DROPOUT': 0.5456107265797209, 'N_EPOCHS': 12, 'CLIP_VALUE': 3}. Best is trial 11 with value: 0.9070502663480824.\u001b[0m\n"
          ]
        },
        {
          "output_type": "stream",
          "name": "stdout",
          "text": [
            "Epoch: 12\n",
            "\tTrain Loss: 0.209 | Train Acc: 91.94%\n",
            "\t Val. Loss: 0.274 |  Val. Acc: 90.24%\n",
            "Epoch: 01\n",
            "\tTrain Loss: 0.636 | Train Acc: 62.28%\n",
            "\t Val. Loss: 0.495 |  Val. Acc: 76.78%\n",
            "Epoch: 02\n",
            "\tTrain Loss: 0.462 | Train Acc: 79.06%\n",
            "\t Val. Loss: 0.382 |  Val. Acc: 83.82%\n",
            "Epoch: 03\n",
            "\tTrain Loss: 0.369 | Train Acc: 84.13%\n",
            "\t Val. Loss: 0.353 |  Val. Acc: 85.50%\n",
            "Epoch: 04\n",
            "\tTrain Loss: 0.316 | Train Acc: 86.93%\n",
            "\t Val. Loss: 0.292 |  Val. Acc: 88.39%\n",
            "Epoch: 05\n",
            "\tTrain Loss: 0.276 | Train Acc: 88.86%\n",
            "\t Val. Loss: 0.287 |  Val. Acc: 88.74%\n",
            "Epoch: 06\n",
            "\tTrain Loss: 0.253 | Train Acc: 89.83%\n",
            "\t Val. Loss: 0.316 |  Val. Acc: 87.62%\n",
            "Epoch: 07\n",
            "\tTrain Loss: 0.234 | Train Acc: 90.54%\n",
            "\t Val. Loss: 0.312 |  Val. Acc: 88.32%\n",
            "Epoch: 08\n",
            "\tTrain Loss: 0.213 | Train Acc: 91.67%\n",
            "\t Val. Loss: 0.341 |  Val. Acc: 87.17%\n",
            "Epoch: 09\n",
            "\tTrain Loss: 0.199 | Train Acc: 92.35%\n",
            "\t Val. Loss: 0.314 |  Val. Acc: 88.68%\n",
            "Epoch: 10\n",
            "\tTrain Loss: 0.190 | Train Acc: 92.71%\n",
            "\t Val. Loss: 0.277 |  Val. Acc: 90.09%\n",
            "Epoch: 11\n",
            "\tTrain Loss: 0.179 | Train Acc: 93.21%\n",
            "\t Val. Loss: 0.329 |  Val. Acc: 87.98%\n",
            "Epoch: 12\n",
            "\tTrain Loss: 0.163 | Train Acc: 93.88%\n",
            "\t Val. Loss: 0.286 |  Val. Acc: 89.88%\n",
            "Epoch: 13\n",
            "\tTrain Loss: 0.154 | Train Acc: 94.18%\n",
            "\t Val. Loss: 0.365 |  Val. Acc: 87.48%\n"
          ]
        },
        {
          "output_type": "stream",
          "name": "stderr",
          "text": [
            "\u001b[32m[I 2023-01-15 16:29:54,934]\u001b[0m Trial 24 finished with value: 0.8996418611756687 and parameters: {'CELL_TYPE': 'GRU', 'HIDDEN_DIM': 32, 'N_LAYERS': 2, 'DROPOUT': 0.42299273625416367, 'N_EPOCHS': 14, 'CLIP_VALUE': 3}. Best is trial 11 with value: 0.9070502663480824.\u001b[0m\n"
          ]
        },
        {
          "output_type": "stream",
          "name": "stdout",
          "text": [
            "Epoch: 14\n",
            "\tTrain Loss: 0.149 | Train Acc: 94.29%\n",
            "\t Val. Loss: 0.311 |  Val. Acc: 89.96%\n",
            "Epoch: 01\n",
            "\tTrain Loss: 0.566 | Train Acc: 69.60%\n",
            "\t Val. Loss: 0.421 |  Val. Acc: 80.99%\n",
            "Epoch: 02\n",
            "\tTrain Loss: 0.371 | Train Acc: 84.02%\n",
            "\t Val. Loss: 0.318 |  Val. Acc: 86.48%\n",
            "Epoch: 03\n",
            "\tTrain Loss: 0.289 | Train Acc: 88.14%\n",
            "\t Val. Loss: 0.278 |  Val. Acc: 88.31%\n",
            "Epoch: 04\n",
            "\tTrain Loss: 0.237 | Train Acc: 90.63%\n",
            "\t Val. Loss: 0.294 |  Val. Acc: 88.16%\n",
            "Epoch: 05\n",
            "\tTrain Loss: 0.214 | Train Acc: 91.49%\n",
            "\t Val. Loss: 0.258 |  Val. Acc: 89.98%\n",
            "Epoch: 06\n",
            "\tTrain Loss: 0.177 | Train Acc: 93.34%\n",
            "\t Val. Loss: 0.276 |  Val. Acc: 89.82%\n",
            "Epoch: 07\n",
            "\tTrain Loss: 0.162 | Train Acc: 93.90%\n",
            "\t Val. Loss: 0.266 |  Val. Acc: 89.98%\n",
            "Epoch: 08\n",
            "\tTrain Loss: 0.145 | Train Acc: 94.61%\n",
            "\t Val. Loss: 0.309 |  Val. Acc: 89.16%\n",
            "Epoch: 09\n",
            "\tTrain Loss: 0.129 | Train Acc: 95.25%\n",
            "\t Val. Loss: 0.296 |  Val. Acc: 89.84%\n",
            "Epoch: 10\n",
            "\tTrain Loss: 0.111 | Train Acc: 95.99%\n",
            "\t Val. Loss: 0.300 |  Val. Acc: 89.80%\n",
            "Epoch: 11\n",
            "\tTrain Loss: 0.099 | Train Acc: 96.41%\n",
            "\t Val. Loss: 0.333 |  Val. Acc: 89.96%\n"
          ]
        },
        {
          "output_type": "stream",
          "name": "stderr",
          "text": [
            "\u001b[32m[I 2023-01-15 16:31:02,183]\u001b[0m Trial 25 finished with value: 0.8913539545289402 and parameters: {'CELL_TYPE': 'GRU', 'HIDDEN_DIM': 64, 'N_LAYERS': 2, 'DROPOUT': 0.18287555642953468, 'N_EPOCHS': 12, 'CLIP_VALUE': 4}. Best is trial 11 with value: 0.9070502663480824.\u001b[0m\n"
          ]
        },
        {
          "output_type": "stream",
          "name": "stdout",
          "text": [
            "Epoch: 12\n",
            "\tTrain Loss: 0.099 | Train Acc: 96.32%\n",
            "\t Val. Loss: 0.344 |  Val. Acc: 89.14%\n",
            "Epoch: 01\n",
            "\tTrain Loss: 0.666 | Train Acc: 57.92%\n",
            "\t Val. Loss: 0.554 |  Val. Acc: 72.91%\n",
            "Epoch: 02\n",
            "\tTrain Loss: 0.542 | Train Acc: 73.45%\n",
            "\t Val. Loss: 0.449 |  Val. Acc: 80.27%\n",
            "Epoch: 03\n",
            "\tTrain Loss: 0.474 | Train Acc: 78.14%\n",
            "\t Val. Loss: 0.394 |  Val. Acc: 83.14%\n",
            "Epoch: 04\n",
            "\tTrain Loss: 0.421 | Train Acc: 81.32%\n",
            "\t Val. Loss: 0.353 |  Val. Acc: 85.44%\n",
            "Epoch: 05\n",
            "\tTrain Loss: 0.380 | Train Acc: 83.69%\n",
            "\t Val. Loss: 0.317 |  Val. Acc: 87.05%\n",
            "Epoch: 06\n",
            "\tTrain Loss: 0.346 | Train Acc: 85.43%\n",
            "\t Val. Loss: 0.332 |  Val. Acc: 87.41%\n",
            "Epoch: 07\n",
            "\tTrain Loss: 0.322 | Train Acc: 86.87%\n",
            "\t Val. Loss: 0.306 |  Val. Acc: 88.00%\n",
            "Epoch: 08\n",
            "\tTrain Loss: 0.302 | Train Acc: 87.63%\n",
            "\t Val. Loss: 0.303 |  Val. Acc: 88.68%\n",
            "Epoch: 09\n",
            "\tTrain Loss: 0.289 | Train Acc: 88.30%\n",
            "\t Val. Loss: 0.297 |  Val. Acc: 88.28%\n",
            "Epoch: 10\n",
            "\tTrain Loss: 0.278 | Train Acc: 88.62%\n",
            "\t Val. Loss: 0.295 |  Val. Acc: 89.38%\n",
            "Epoch: 11\n",
            "\tTrain Loss: 0.267 | Train Acc: 89.33%\n",
            "\t Val. Loss: 0.290 |  Val. Acc: 89.32%\n",
            "Epoch: 12\n",
            "\tTrain Loss: 0.250 | Train Acc: 89.99%\n",
            "\t Val. Loss: 0.278 |  Val. Acc: 89.95%\n"
          ]
        },
        {
          "output_type": "stream",
          "name": "stderr",
          "text": [
            "\u001b[32m[I 2023-01-15 16:32:07,406]\u001b[0m Trial 26 finished with value: 0.8939132217703194 and parameters: {'CELL_TYPE': 'LSTM', 'HIDDEN_DIM': 32, 'N_LAYERS': 2, 'DROPOUT': 0.636352344814237, 'N_EPOCHS': 13, 'CLIP_VALUE': 2}. Best is trial 11 with value: 0.9070502663480824.\u001b[0m\n"
          ]
        },
        {
          "output_type": "stream",
          "name": "stdout",
          "text": [
            "Epoch: 13\n",
            "\tTrain Loss: 0.239 | Train Acc: 90.70%\n",
            "\t Val. Loss: 0.276 |  Val. Acc: 89.39%\n",
            "Epoch: 01\n",
            "\tTrain Loss: 0.609 | Train Acc: 65.35%\n",
            "\t Val. Loss: 0.485 |  Val. Acc: 78.44%\n",
            "Epoch: 02\n",
            "\tTrain Loss: 0.465 | Train Acc: 78.47%\n",
            "\t Val. Loss: 0.356 |  Val. Acc: 84.81%\n",
            "Epoch: 03\n",
            "\tTrain Loss: 0.386 | Train Acc: 82.98%\n",
            "\t Val. Loss: 0.339 |  Val. Acc: 85.79%\n",
            "Epoch: 04\n",
            "\tTrain Loss: 0.328 | Train Acc: 86.19%\n",
            "\t Val. Loss: 0.281 |  Val. Acc: 88.31%\n",
            "Epoch: 05\n",
            "\tTrain Loss: 0.297 | Train Acc: 87.61%\n",
            "\t Val. Loss: 0.268 |  Val. Acc: 88.96%\n",
            "Epoch: 06\n",
            "\tTrain Loss: 0.269 | Train Acc: 88.93%\n",
            "\t Val. Loss: 0.275 |  Val. Acc: 89.21%\n",
            "Epoch: 07\n",
            "\tTrain Loss: 0.254 | Train Acc: 89.61%\n",
            "\t Val. Loss: 0.248 |  Val. Acc: 90.09%\n",
            "Epoch: 08\n",
            "\tTrain Loss: 0.238 | Train Acc: 90.46%\n",
            "\t Val. Loss: 0.260 |  Val. Acc: 90.16%\n",
            "Epoch: 09\n",
            "\tTrain Loss: 0.220 | Train Acc: 91.12%\n",
            "\t Val. Loss: 0.259 |  Val. Acc: 90.25%\n",
            "Epoch: 10\n",
            "\tTrain Loss: 0.208 | Train Acc: 91.83%\n",
            "\t Val. Loss: 0.263 |  Val. Acc: 90.43%\n",
            "Epoch: 11\n",
            "\tTrain Loss: 0.199 | Train Acc: 92.12%\n",
            "\t Val. Loss: 0.260 |  Val. Acc: 90.54%\n",
            "Epoch: 12\n",
            "\tTrain Loss: 0.188 | Train Acc: 92.67%\n",
            "\t Val. Loss: 0.252 |  Val. Acc: 90.60%\n",
            "Epoch: 13\n",
            "\tTrain Loss: 0.176 | Train Acc: 93.22%\n",
            "\t Val. Loss: 0.264 |  Val. Acc: 90.91%\n",
            "Epoch: 14\n",
            "\tTrain Loss: 0.172 | Train Acc: 93.27%\n",
            "\t Val. Loss: 0.284 |  Val. Acc: 89.68%\n"
          ]
        },
        {
          "output_type": "stream",
          "name": "stderr",
          "text": [
            "\u001b[32m[I 2023-01-15 16:33:31,704]\u001b[0m Trial 27 finished with value: 0.9080010775862069 and parameters: {'CELL_TYPE': 'GRU', 'HIDDEN_DIM': 64, 'N_LAYERS': 2, 'DROPOUT': 0.5215314218035322, 'N_EPOCHS': 15, 'CLIP_VALUE': 3}. Best is trial 27 with value: 0.9080010775862069.\u001b[0m\n"
          ]
        },
        {
          "output_type": "stream",
          "name": "stdout",
          "text": [
            "Epoch: 15\n",
            "\tTrain Loss: 0.163 | Train Acc: 93.60%\n",
            "\t Val. Loss: 0.270 |  Val. Acc: 90.80%\n",
            "Epoch: 01\n",
            "\tTrain Loss: 0.615 | Train Acc: 64.61%\n",
            "\t Val. Loss: 0.555 |  Val. Acc: 73.90%\n",
            "Epoch: 02\n",
            "\tTrain Loss: 0.465 | Train Acc: 78.58%\n",
            "\t Val. Loss: 0.362 |  Val. Acc: 84.40%\n",
            "Epoch: 03\n",
            "\tTrain Loss: 0.375 | Train Acc: 83.63%\n",
            "\t Val. Loss: 0.301 |  Val. Acc: 87.36%\n",
            "Epoch: 04\n",
            "\tTrain Loss: 0.319 | Train Acc: 86.59%\n",
            "\t Val. Loss: 0.288 |  Val. Acc: 88.15%\n",
            "Epoch: 05\n",
            "\tTrain Loss: 0.283 | Train Acc: 88.27%\n",
            "\t Val. Loss: 0.269 |  Val. Acc: 89.26%\n",
            "Epoch: 06\n",
            "\tTrain Loss: 0.264 | Train Acc: 89.35%\n",
            "\t Val. Loss: 0.261 |  Val. Acc: 89.49%\n",
            "Epoch: 07\n",
            "\tTrain Loss: 0.246 | Train Acc: 90.09%\n",
            "\t Val. Loss: 0.267 |  Val. Acc: 89.83%\n",
            "Epoch: 08\n",
            "\tTrain Loss: 0.235 | Train Acc: 90.44%\n",
            "\t Val. Loss: 0.255 |  Val. Acc: 90.27%\n",
            "Epoch: 09\n",
            "\tTrain Loss: 0.216 | Train Acc: 91.50%\n",
            "\t Val. Loss: 0.255 |  Val. Acc: 89.94%\n",
            "Epoch: 10\n",
            "\tTrain Loss: 0.205 | Train Acc: 91.80%\n",
            "\t Val. Loss: 0.287 |  Val. Acc: 89.45%\n",
            "Epoch: 11\n",
            "\tTrain Loss: 0.191 | Train Acc: 92.57%\n",
            "\t Val. Loss: 0.268 |  Val. Acc: 89.75%\n",
            "Epoch: 12\n",
            "\tTrain Loss: 0.186 | Train Acc: 92.58%\n",
            "\t Val. Loss: 0.259 |  Val. Acc: 90.33%\n",
            "Epoch: 13\n",
            "\tTrain Loss: 0.171 | Train Acc: 93.40%\n",
            "\t Val. Loss: 0.281 |  Val. Acc: 90.31%\n",
            "Epoch: 14\n",
            "\tTrain Loss: 0.171 | Train Acc: 93.55%\n",
            "\t Val. Loss: 0.283 |  Val. Acc: 89.88%\n"
          ]
        },
        {
          "output_type": "stream",
          "name": "stderr",
          "text": [
            "\u001b[32m[I 2023-01-15 16:34:55,527]\u001b[0m Trial 28 finished with value: 0.8804354708770226 and parameters: {'CELL_TYPE': 'GRU', 'HIDDEN_DIM': 64, 'N_LAYERS': 2, 'DROPOUT': 0.5183393833081851, 'N_EPOCHS': 15, 'CLIP_VALUE': 4}. Best is trial 27 with value: 0.9080010775862069.\u001b[0m\n"
          ]
        },
        {
          "output_type": "stream",
          "name": "stdout",
          "text": [
            "Epoch: 15\n",
            "\tTrain Loss: 0.159 | Train Acc: 93.97%\n",
            "\t Val. Loss: 0.347 |  Val. Acc: 88.04%\n",
            "Epoch: 01\n",
            "\tTrain Loss: 0.584 | Train Acc: 68.30%\n",
            "\t Val. Loss: 0.430 |  Val. Acc: 80.52%\n",
            "Epoch: 02\n",
            "\tTrain Loss: 0.410 | Train Acc: 81.73%\n",
            "\t Val. Loss: 0.334 |  Val. Acc: 85.88%\n",
            "Epoch: 03\n",
            "\tTrain Loss: 0.331 | Train Acc: 85.81%\n",
            "\t Val. Loss: 0.306 |  Val. Acc: 86.99%\n",
            "Epoch: 04\n",
            "\tTrain Loss: 0.282 | Train Acc: 88.23%\n",
            "\t Val. Loss: 0.267 |  Val. Acc: 88.81%\n",
            "Epoch: 05\n",
            "\tTrain Loss: 0.249 | Train Acc: 89.78%\n",
            "\t Val. Loss: 0.257 |  Val. Acc: 89.26%\n",
            "Epoch: 06\n",
            "\tTrain Loss: 0.229 | Train Acc: 90.97%\n",
            "\t Val. Loss: 0.251 |  Val. Acc: 89.99%\n",
            "Epoch: 07\n",
            "\tTrain Loss: 0.210 | Train Acc: 91.79%\n",
            "\t Val. Loss: 0.254 |  Val. Acc: 90.05%\n",
            "Epoch: 08\n",
            "\tTrain Loss: 0.194 | Train Acc: 92.50%\n",
            "\t Val. Loss: 0.255 |  Val. Acc: 90.58%\n",
            "Epoch: 09\n",
            "\tTrain Loss: 0.183 | Train Acc: 92.80%\n",
            "\t Val. Loss: 0.269 |  Val. Acc: 90.42%\n",
            "Epoch: 10\n",
            "\tTrain Loss: 0.160 | Train Acc: 93.93%\n",
            "\t Val. Loss: 0.280 |  Val. Acc: 90.56%\n",
            "Epoch: 11\n",
            "\tTrain Loss: 0.149 | Train Acc: 94.27%\n",
            "\t Val. Loss: 0.270 |  Val. Acc: 90.44%\n",
            "Epoch: 12\n",
            "\tTrain Loss: 0.144 | Train Acc: 94.51%\n",
            "\t Val. Loss: 0.284 |  Val. Acc: 89.71%\n",
            "Epoch: 13\n",
            "\tTrain Loss: 0.132 | Train Acc: 94.92%\n",
            "\t Val. Loss: 0.302 |  Val. Acc: 89.81%\n"
          ]
        },
        {
          "output_type": "stream",
          "name": "stderr",
          "text": [
            "\u001b[32m[I 2023-01-15 16:36:47,896]\u001b[0m Trial 29 finished with value: 0.901733647132742 and parameters: {'CELL_TYPE': 'GRU', 'HIDDEN_DIM': 64, 'N_LAYERS': 3, 'DROPOUT': 0.37175963181104116, 'N_EPOCHS': 14, 'CLIP_VALUE': 2}. Best is trial 27 with value: 0.9080010775862069.\u001b[0m\n"
          ]
        },
        {
          "output_type": "stream",
          "name": "stdout",
          "text": [
            "Epoch: 14\n",
            "\tTrain Loss: 0.129 | Train Acc: 95.11%\n",
            "\t Val. Loss: 0.300 |  Val. Acc: 90.17%\n",
            "Epoch: 01\n",
            "\tTrain Loss: 0.538 | Train Acc: 71.59%\n",
            "\t Val. Loss: 0.427 |  Val. Acc: 80.06%\n",
            "Epoch: 02\n",
            "\tTrain Loss: 0.349 | Train Acc: 85.02%\n",
            "\t Val. Loss: 0.305 |  Val. Acc: 87.63%\n",
            "Epoch: 03\n",
            "\tTrain Loss: 0.255 | Train Acc: 89.86%\n",
            "\t Val. Loss: 0.275 |  Val. Acc: 89.19%\n",
            "Epoch: 04\n",
            "\tTrain Loss: 0.211 | Train Acc: 91.82%\n",
            "\t Val. Loss: 0.272 |  Val. Acc: 89.61%\n",
            "Epoch: 05\n",
            "\tTrain Loss: 0.180 | Train Acc: 93.22%\n",
            "\t Val. Loss: 0.278 |  Val. Acc: 89.57%\n",
            "Epoch: 06\n",
            "\tTrain Loss: 0.144 | Train Acc: 94.72%\n",
            "\t Val. Loss: 0.292 |  Val. Acc: 89.47%\n",
            "Epoch: 07\n",
            "\tTrain Loss: 0.113 | Train Acc: 96.01%\n",
            "\t Val. Loss: 0.300 |  Val. Acc: 89.65%\n",
            "Epoch: 08\n",
            "\tTrain Loss: 0.093 | Train Acc: 96.89%\n",
            "\t Val. Loss: 0.335 |  Val. Acc: 88.70%\n",
            "Epoch: 09\n",
            "\tTrain Loss: 0.074 | Train Acc: 97.56%\n",
            "\t Val. Loss: 0.391 |  Val. Acc: 88.93%\n",
            "Epoch: 10\n",
            "\tTrain Loss: 0.060 | Train Acc: 97.98%\n",
            "\t Val. Loss: 0.442 |  Val. Acc: 88.55%\n",
            "Epoch: 11\n",
            "\tTrain Loss: 0.053 | Train Acc: 98.28%\n",
            "\t Val. Loss: 0.444 |  Val. Acc: 88.67%\n",
            "Epoch: 12\n",
            "\tTrain Loss: 0.038 | Train Acc: 98.79%\n",
            "\t Val. Loss: 0.471 |  Val. Acc: 88.48%\n",
            "Epoch: 13\n",
            "\tTrain Loss: 0.028 | Train Acc: 99.18%\n",
            "\t Val. Loss: 0.496 |  Val. Acc: 88.56%\n",
            "Epoch: 14\n",
            "\tTrain Loss: 0.026 | Train Acc: 99.17%\n",
            "\t Val. Loss: 0.573 |  Val. Acc: 88.02%\n"
          ]
        },
        {
          "output_type": "stream",
          "name": "stderr",
          "text": [
            "\u001b[32m[I 2023-01-15 16:38:45,710]\u001b[0m Trial 30 finished with value: 0.8768065407358366 and parameters: {'CELL_TYPE': 'GRU', 'HIDDEN_DIM': 128, 'N_LAYERS': 2, 'DROPOUT': 0.0367999886097784, 'N_EPOCHS': 15, 'CLIP_VALUE': 5}. Best is trial 27 with value: 0.9080010775862069.\u001b[0m\n"
          ]
        },
        {
          "output_type": "stream",
          "name": "stdout",
          "text": [
            "Epoch: 15\n",
            "\tTrain Loss: 0.028 | Train Acc: 99.08%\n",
            "\t Val. Loss: 0.582 |  Val. Acc: 87.68%\n",
            "Epoch: 01\n",
            "\tTrain Loss: 0.604 | Train Acc: 65.60%\n",
            "\t Val. Loss: 0.469 |  Val. Acc: 78.52%\n",
            "Epoch: 02\n",
            "\tTrain Loss: 0.439 | Train Acc: 79.98%\n",
            "\t Val. Loss: 0.345 |  Val. Acc: 85.57%\n",
            "Epoch: 03\n",
            "\tTrain Loss: 0.365 | Train Acc: 84.26%\n",
            "\t Val. Loss: 0.317 |  Val. Acc: 86.39%\n",
            "Epoch: 04\n",
            "\tTrain Loss: 0.306 | Train Acc: 87.11%\n",
            "\t Val. Loss: 0.270 |  Val. Acc: 89.05%\n",
            "Epoch: 05\n",
            "\tTrain Loss: 0.274 | Train Acc: 88.78%\n",
            "\t Val. Loss: 0.264 |  Val. Acc: 89.54%\n",
            "Epoch: 06\n",
            "\tTrain Loss: 0.262 | Train Acc: 89.13%\n",
            "\t Val. Loss: 0.273 |  Val. Acc: 89.11%\n",
            "Epoch: 07\n",
            "\tTrain Loss: 0.231 | Train Acc: 90.74%\n",
            "\t Val. Loss: 0.253 |  Val. Acc: 90.02%\n",
            "Epoch: 08\n",
            "\tTrain Loss: 0.221 | Train Acc: 91.41%\n",
            "\t Val. Loss: 0.250 |  Val. Acc: 90.05%\n",
            "Epoch: 09\n",
            "\tTrain Loss: 0.207 | Train Acc: 91.81%\n",
            "\t Val. Loss: 0.338 |  Val. Acc: 86.78%\n",
            "Epoch: 10\n",
            "\tTrain Loss: 0.201 | Train Acc: 92.07%\n",
            "\t Val. Loss: 0.265 |  Val. Acc: 90.46%\n",
            "Epoch: 11\n",
            "\tTrain Loss: 0.181 | Train Acc: 92.99%\n",
            "\t Val. Loss: 0.293 |  Val. Acc: 88.83%\n",
            "Epoch: 12\n",
            "\tTrain Loss: 0.171 | Train Acc: 93.46%\n",
            "\t Val. Loss: 0.261 |  Val. Acc: 90.74%\n",
            "Epoch: 13\n",
            "\tTrain Loss: 0.161 | Train Acc: 93.78%\n",
            "\t Val. Loss: 0.280 |  Val. Acc: 89.76%\n"
          ]
        },
        {
          "output_type": "stream",
          "name": "stderr",
          "text": [
            "\u001b[32m[I 2023-01-15 16:40:04,199]\u001b[0m Trial 31 finished with value: 0.8986989732446342 and parameters: {'CELL_TYPE': 'GRU', 'HIDDEN_DIM': 64, 'N_LAYERS': 2, 'DROPOUT': 0.4749292680808599, 'N_EPOCHS': 14, 'CLIP_VALUE': 3}. Best is trial 27 with value: 0.9080010775862069.\u001b[0m\n"
          ]
        },
        {
          "output_type": "stream",
          "name": "stdout",
          "text": [
            "Epoch: 14\n",
            "\tTrain Loss: 0.153 | Train Acc: 94.09%\n",
            "\t Val. Loss: 0.290 |  Val. Acc: 89.87%\n",
            "Epoch: 01\n",
            "\tTrain Loss: 0.625 | Train Acc: 64.16%\n",
            "\t Val. Loss: 0.481 |  Val. Acc: 78.01%\n",
            "Epoch: 02\n",
            "\tTrain Loss: 0.472 | Train Acc: 78.26%\n",
            "\t Val. Loss: 0.377 |  Val. Acc: 84.53%\n",
            "Epoch: 03\n",
            "\tTrain Loss: 0.394 | Train Acc: 82.45%\n",
            "\t Val. Loss: 0.315 |  Val. Acc: 87.04%\n",
            "Epoch: 04\n",
            "\tTrain Loss: 0.350 | Train Acc: 84.79%\n",
            "\t Val. Loss: 0.403 |  Val. Acc: 83.82%\n",
            "Epoch: 05\n",
            "\tTrain Loss: 0.318 | Train Acc: 86.53%\n",
            "\t Val. Loss: 0.295 |  Val. Acc: 88.48%\n",
            "Epoch: 06\n",
            "\tTrain Loss: 0.290 | Train Acc: 87.87%\n",
            "\t Val. Loss: 0.261 |  Val. Acc: 89.32%\n",
            "Epoch: 07\n",
            "\tTrain Loss: 0.271 | Train Acc: 88.77%\n",
            "\t Val. Loss: 0.273 |  Val. Acc: 89.77%\n",
            "Epoch: 08\n",
            "\tTrain Loss: 0.252 | Train Acc: 89.83%\n",
            "\t Val. Loss: 0.259 |  Val. Acc: 89.69%\n",
            "Epoch: 09\n",
            "\tTrain Loss: 0.242 | Train Acc: 90.21%\n",
            "\t Val. Loss: 0.250 |  Val. Acc: 89.96%\n",
            "Epoch: 10\n",
            "\tTrain Loss: 0.227 | Train Acc: 90.93%\n",
            "\t Val. Loss: 0.287 |  Val. Acc: 89.11%\n",
            "Epoch: 11\n",
            "\tTrain Loss: 0.214 | Train Acc: 91.49%\n",
            "\t Val. Loss: 0.280 |  Val. Acc: 89.38%\n",
            "Epoch: 12\n",
            "\tTrain Loss: 0.212 | Train Acc: 91.67%\n",
            "\t Val. Loss: 0.313 |  Val. Acc: 88.81%\n"
          ]
        },
        {
          "output_type": "stream",
          "name": "stderr",
          "text": [
            "\u001b[32m[I 2023-01-15 16:41:17,417]\u001b[0m Trial 32 finished with value: 0.8993090781672247 and parameters: {'CELL_TYPE': 'GRU', 'HIDDEN_DIM': 64, 'N_LAYERS': 2, 'DROPOUT': 0.5774185729497074, 'N_EPOCHS': 13, 'CLIP_VALUE': 3}. Best is trial 27 with value: 0.9080010775862069.\u001b[0m\n"
          ]
        },
        {
          "output_type": "stream",
          "name": "stdout",
          "text": [
            "Epoch: 13\n",
            "\tTrain Loss: 0.195 | Train Acc: 92.44%\n",
            "\t Val. Loss: 0.275 |  Val. Acc: 89.93%\n",
            "Epoch: 01\n",
            "\tTrain Loss: 0.589 | Train Acc: 68.03%\n",
            "\t Val. Loss: 0.456 |  Val. Acc: 79.11%\n",
            "Epoch: 02\n",
            "\tTrain Loss: 0.433 | Train Acc: 80.30%\n",
            "\t Val. Loss: 0.357 |  Val. Acc: 85.53%\n",
            "Epoch: 03\n",
            "\tTrain Loss: 0.350 | Train Acc: 84.89%\n",
            "\t Val. Loss: 0.301 |  Val. Acc: 87.38%\n",
            "Epoch: 04\n",
            "\tTrain Loss: 0.307 | Train Acc: 87.11%\n",
            "\t Val. Loss: 0.271 |  Val. Acc: 88.77%\n",
            "Epoch: 05\n",
            "\tTrain Loss: 0.273 | Train Acc: 88.70%\n",
            "\t Val. Loss: 0.273 |  Val. Acc: 88.82%\n",
            "Epoch: 06\n",
            "\tTrain Loss: 0.253 | Train Acc: 89.73%\n",
            "\t Val. Loss: 0.252 |  Val. Acc: 89.62%\n",
            "Epoch: 07\n",
            "\tTrain Loss: 0.228 | Train Acc: 90.84%\n",
            "\t Val. Loss: 0.248 |  Val. Acc: 90.02%\n",
            "Epoch: 08\n",
            "\tTrain Loss: 0.212 | Train Acc: 91.47%\n",
            "\t Val. Loss: 0.255 |  Val. Acc: 90.13%\n",
            "Epoch: 09\n",
            "\tTrain Loss: 0.201 | Train Acc: 91.93%\n",
            "\t Val. Loss: 0.278 |  Val. Acc: 89.41%\n",
            "Epoch: 10\n",
            "\tTrain Loss: 0.187 | Train Acc: 92.64%\n",
            "\t Val. Loss: 0.261 |  Val. Acc: 90.47%\n",
            "Epoch: 11\n",
            "\tTrain Loss: 0.175 | Train Acc: 93.20%\n",
            "\t Val. Loss: 0.251 |  Val. Acc: 90.46%\n",
            "Epoch: 12\n",
            "\tTrain Loss: 0.168 | Train Acc: 93.52%\n",
            "\t Val. Loss: 0.263 |  Val. Acc: 90.68%\n",
            "Epoch: 13\n",
            "\tTrain Loss: 0.159 | Train Acc: 93.88%\n",
            "\t Val. Loss: 0.264 |  Val. Acc: 90.77%\n",
            "Epoch: 14\n",
            "\tTrain Loss: 0.148 | Train Acc: 94.41%\n",
            "\t Val. Loss: 0.278 |  Val. Acc: 90.10%\n"
          ]
        },
        {
          "output_type": "stream",
          "name": "stderr",
          "text": [
            "\u001b[32m[I 2023-01-15 16:43:14,371]\u001b[0m Trial 33 finished with value: 0.90159894885688 and parameters: {'CELL_TYPE': 'GRU', 'HIDDEN_DIM': 128, 'N_LAYERS': 2, 'DROPOUT': 0.46650129291836046, 'N_EPOCHS': 15, 'CLIP_VALUE': 3}. Best is trial 27 with value: 0.9080010775862069.\u001b[0m\n"
          ]
        },
        {
          "output_type": "stream",
          "name": "stdout",
          "text": [
            "Epoch: 15\n",
            "\tTrain Loss: 0.148 | Train Acc: 94.21%\n",
            "\t Val. Loss: 0.306 |  Val. Acc: 90.16%\n",
            "Epoch: 01\n",
            "\tTrain Loss: 0.664 | Train Acc: 58.47%\n",
            "\t Val. Loss: 0.532 |  Val. Acc: 73.65%\n",
            "Epoch: 02\n",
            "\tTrain Loss: 0.542 | Train Acc: 72.97%\n",
            "\t Val. Loss: 0.440 |  Val. Acc: 80.83%\n",
            "Epoch: 03\n",
            "\tTrain Loss: 0.460 | Train Acc: 78.79%\n",
            "\t Val. Loss: 0.359 |  Val. Acc: 84.42%\n",
            "Epoch: 04\n",
            "\tTrain Loss: 0.411 | Train Acc: 82.00%\n",
            "\t Val. Loss: 0.333 |  Val. Acc: 86.64%\n",
            "Epoch: 05\n",
            "\tTrain Loss: 0.372 | Train Acc: 83.88%\n",
            "\t Val. Loss: 0.307 |  Val. Acc: 87.42%\n",
            "Epoch: 06\n",
            "\tTrain Loss: 0.335 | Train Acc: 85.77%\n",
            "\t Val. Loss: 0.289 |  Val. Acc: 88.45%\n",
            "Epoch: 07\n",
            "\tTrain Loss: 0.314 | Train Acc: 86.63%\n",
            "\t Val. Loss: 0.300 |  Val. Acc: 88.89%\n",
            "Epoch: 08\n",
            "\tTrain Loss: 0.298 | Train Acc: 87.45%\n",
            "\t Val. Loss: 0.298 |  Val. Acc: 89.29%\n",
            "Epoch: 09\n",
            "\tTrain Loss: 0.281 | Train Acc: 88.44%\n",
            "\t Val. Loss: 0.281 |  Val. Acc: 88.60%\n",
            "Epoch: 10\n",
            "\tTrain Loss: 0.272 | Train Acc: 88.83%\n",
            "\t Val. Loss: 0.280 |  Val. Acc: 89.75%\n",
            "Epoch: 11\n",
            "\tTrain Loss: 0.258 | Train Acc: 89.51%\n",
            "\t Val. Loss: 0.279 |  Val. Acc: 90.13%\n",
            "Epoch: 12\n",
            "\tTrain Loss: 0.250 | Train Acc: 89.84%\n",
            "\t Val. Loss: 0.276 |  Val. Acc: 90.34%\n",
            "Epoch: 13\n",
            "\tTrain Loss: 0.242 | Train Acc: 90.36%\n",
            "\t Val. Loss: 0.284 |  Val. Acc: 90.29%\n"
          ]
        },
        {
          "output_type": "stream",
          "name": "stderr",
          "text": [
            "\u001b[32m[I 2023-01-15 16:44:32,930]\u001b[0m Trial 34 finished with value: 0.9009888439342894 and parameters: {'CELL_TYPE': 'GRU', 'HIDDEN_DIM': 64, 'N_LAYERS': 2, 'DROPOUT': 0.6924300847321826, 'N_EPOCHS': 14, 'CLIP_VALUE': 4}. Best is trial 27 with value: 0.9080010775862069.\u001b[0m\n"
          ]
        },
        {
          "output_type": "stream",
          "name": "stdout",
          "text": [
            "Epoch: 14\n",
            "\tTrain Loss: 0.231 | Train Acc: 90.93%\n",
            "\t Val. Loss: 0.283 |  Val. Acc: 90.10%\n",
            "Epoch: 01\n",
            "\tTrain Loss: 0.616 | Train Acc: 64.67%\n",
            "\t Val. Loss: 0.500 |  Val. Acc: 76.19%\n",
            "Epoch: 02\n",
            "\tTrain Loss: 0.464 | Train Acc: 78.44%\n",
            "\t Val. Loss: 0.359 |  Val. Acc: 84.94%\n",
            "Epoch: 03\n",
            "\tTrain Loss: 0.368 | Train Acc: 83.92%\n",
            "\t Val. Loss: 0.307 |  Val. Acc: 87.28%\n",
            "Epoch: 04\n",
            "\tTrain Loss: 0.322 | Train Acc: 86.35%\n",
            "\t Val. Loss: 0.285 |  Val. Acc: 88.75%\n",
            "Epoch: 05\n",
            "\tTrain Loss: 0.285 | Train Acc: 88.23%\n",
            "\t Val. Loss: 0.270 |  Val. Acc: 89.51%\n",
            "Epoch: 06\n",
            "\tTrain Loss: 0.260 | Train Acc: 89.15%\n",
            "\t Val. Loss: 0.269 |  Val. Acc: 89.43%\n",
            "Epoch: 07\n",
            "\tTrain Loss: 0.247 | Train Acc: 89.93%\n",
            "\t Val. Loss: 0.266 |  Val. Acc: 89.83%\n"
          ]
        },
        {
          "output_type": "stream",
          "name": "stderr",
          "text": [
            "\u001b[32m[I 2023-01-15 16:45:17,002]\u001b[0m Trial 35 finished with value: 0.8730270657046088 and parameters: {'CELL_TYPE': 'GRU', 'HIDDEN_DIM': 64, 'N_LAYERS': 2, 'DROPOUT': 0.5032336961740127, 'N_EPOCHS': 8, 'CLIP_VALUE': 3}. Best is trial 27 with value: 0.9080010775862069.\u001b[0m\n"
          ]
        },
        {
          "output_type": "stream",
          "name": "stdout",
          "text": [
            "Epoch: 08\n",
            "\tTrain Loss: 0.223 | Train Acc: 90.97%\n",
            "\t Val. Loss: 0.315 |  Val. Acc: 87.30%\n",
            "Epoch: 01\n",
            "\tTrain Loss: 0.675 | Train Acc: 56.65%\n",
            "\t Val. Loss: 0.625 |  Val. Acc: 67.28%\n",
            "Epoch: 02\n",
            "\tTrain Loss: 0.558 | Train Acc: 72.02%\n",
            "\t Val. Loss: 0.470 |  Val. Acc: 78.86%\n",
            "Epoch: 03\n",
            "\tTrain Loss: 0.495 | Train Acc: 77.10%\n",
            "\t Val. Loss: 0.406 |  Val. Acc: 82.72%\n",
            "Epoch: 04\n",
            "\tTrain Loss: 0.443 | Train Acc: 80.11%\n",
            "\t Val. Loss: 0.369 |  Val. Acc: 84.28%\n",
            "Epoch: 05\n",
            "\tTrain Loss: 0.396 | Train Acc: 82.91%\n",
            "\t Val. Loss: 0.331 |  Val. Acc: 86.44%\n",
            "Epoch: 06\n",
            "\tTrain Loss: 0.356 | Train Acc: 85.19%\n",
            "\t Val. Loss: 0.354 |  Val. Acc: 85.68%\n",
            "Epoch: 07\n",
            "\tTrain Loss: 0.333 | Train Acc: 85.87%\n",
            "\t Val. Loss: 0.319 |  Val. Acc: 88.41%\n",
            "Epoch: 08\n",
            "\tTrain Loss: 0.310 | Train Acc: 87.22%\n",
            "\t Val. Loss: 0.294 |  Val. Acc: 88.93%\n",
            "Epoch: 09\n",
            "\tTrain Loss: 0.298 | Train Acc: 87.89%\n",
            "\t Val. Loss: 0.299 |  Val. Acc: 87.33%\n",
            "Epoch: 10\n",
            "\tTrain Loss: 0.278 | Train Acc: 88.64%\n",
            "\t Val. Loss: 0.291 |  Val. Acc: 89.38%\n"
          ]
        },
        {
          "output_type": "stream",
          "name": "stderr",
          "text": [
            "\u001b[32m[I 2023-01-15 16:46:11,680]\u001b[0m Trial 36 finished with value: 0.8982235665979057 and parameters: {'CELL_TYPE': 'LSTM', 'HIDDEN_DIM': 32, 'N_LAYERS': 2, 'DROPOUT': 0.6320932137488714, 'N_EPOCHS': 11, 'CLIP_VALUE': 4}. Best is trial 27 with value: 0.9080010775862069.\u001b[0m\n"
          ]
        },
        {
          "output_type": "stream",
          "name": "stdout",
          "text": [
            "Epoch: 11\n",
            "\tTrain Loss: 0.265 | Train Acc: 89.33%\n",
            "\t Val. Loss: 0.273 |  Val. Acc: 89.82%\n",
            "Epoch: 01\n",
            "\tTrain Loss: 0.698 | Train Acc: 51.40%\n",
            "\t Val. Loss: 0.665 |  Val. Acc: 60.23%\n",
            "Epoch: 02\n",
            "\tTrain Loss: 0.640 | Train Acc: 63.27%\n",
            "\t Val. Loss: 0.567 |  Val. Acc: 75.31%\n",
            "Epoch: 03\n",
            "\tTrain Loss: 0.555 | Train Acc: 72.40%\n",
            "\t Val. Loss: 0.482 |  Val. Acc: 78.90%\n",
            "Epoch: 04\n",
            "\tTrain Loss: 0.491 | Train Acc: 77.06%\n",
            "\t Val. Loss: 0.555 |  Val. Acc: 75.21%\n",
            "Epoch: 05\n",
            "\tTrain Loss: 0.456 | Train Acc: 79.54%\n",
            "\t Val. Loss: 0.450 |  Val. Acc: 78.70%\n",
            "Epoch: 06\n",
            "\tTrain Loss: 0.413 | Train Acc: 81.51%\n",
            "\t Val. Loss: 0.404 |  Val. Acc: 84.25%\n",
            "Epoch: 07\n",
            "\tTrain Loss: 0.386 | Train Acc: 83.25%\n",
            "\t Val. Loss: 0.444 |  Val. Acc: 82.54%\n",
            "Epoch: 08\n",
            "\tTrain Loss: 0.362 | Train Acc: 84.45%\n",
            "\t Val. Loss: 0.395 |  Val. Acc: 86.39%\n",
            "Epoch: 09\n",
            "\tTrain Loss: 0.340 | Train Acc: 85.60%\n",
            "\t Val. Loss: 0.442 |  Val. Acc: 85.11%\n",
            "Epoch: 10\n",
            "\tTrain Loss: 0.327 | Train Acc: 86.15%\n",
            "\t Val. Loss: 0.431 |  Val. Acc: 86.24%\n",
            "Epoch: 11\n",
            "\tTrain Loss: 0.313 | Train Acc: 86.87%\n",
            "\t Val. Loss: 0.431 |  Val. Acc: 85.77%\n"
          ]
        },
        {
          "output_type": "stream",
          "name": "stderr",
          "text": [
            "\u001b[32m[I 2023-01-15 16:47:46,994]\u001b[0m Trial 37 finished with value: 0.8582102553597812 and parameters: {'CELL_TYPE': 'GRU', 'HIDDEN_DIM': 64, 'N_LAYERS': 3, 'DROPOUT': 0.7841040700702011, 'N_EPOCHS': 12, 'CLIP_VALUE': 2}. Best is trial 27 with value: 0.9080010775862069.\u001b[0m\n"
          ]
        },
        {
          "output_type": "stream",
          "name": "stdout",
          "text": [
            "Epoch: 12\n",
            "\tTrain Loss: 0.300 | Train Acc: 87.40%\n",
            "\t Val. Loss: 0.427 |  Val. Acc: 85.82%\n",
            "Epoch: 01\n",
            "\tTrain Loss: 0.641 | Train Acc: 62.10%\n",
            "\t Val. Loss: 0.541 |  Val. Acc: 75.20%\n",
            "Epoch: 02\n",
            "\tTrain Loss: 0.550 | Train Acc: 72.70%\n",
            "\t Val. Loss: 0.506 |  Val. Acc: 76.92%\n",
            "Epoch: 03\n",
            "\tTrain Loss: 0.486 | Train Acc: 77.18%\n",
            "\t Val. Loss: 0.443 |  Val. Acc: 82.43%\n",
            "Epoch: 04\n",
            "\tTrain Loss: 0.440 | Train Acc: 80.12%\n",
            "\t Val. Loss: 0.372 |  Val. Acc: 85.28%\n",
            "Epoch: 05\n",
            "\tTrain Loss: 0.399 | Train Acc: 82.70%\n",
            "\t Val. Loss: 0.330 |  Val. Acc: 86.71%\n",
            "Epoch: 06\n",
            "\tTrain Loss: 0.362 | Train Acc: 84.38%\n",
            "\t Val. Loss: 0.375 |  Val. Acc: 86.68%\n",
            "Epoch: 07\n",
            "\tTrain Loss: 0.350 | Train Acc: 85.06%\n",
            "\t Val. Loss: 0.355 |  Val. Acc: 86.29%\n",
            "Epoch: 08\n",
            "\tTrain Loss: 0.334 | Train Acc: 85.69%\n",
            "\t Val. Loss: 0.334 |  Val. Acc: 87.77%\n",
            "Epoch: 09\n",
            "\tTrain Loss: 0.316 | Train Acc: 86.78%\n",
            "\t Val. Loss: 0.333 |  Val. Acc: 86.54%\n"
          ]
        },
        {
          "output_type": "stream",
          "name": "stderr",
          "text": [
            "\u001b[32m[I 2023-01-15 16:49:11,093]\u001b[0m Trial 38 finished with value: 0.883272057977216 and parameters: {'CELL_TYPE': 'LSTM', 'HIDDEN_DIM': 128, 'N_LAYERS': 2, 'DROPOUT': 0.7315204311826492, 'N_EPOCHS': 10, 'CLIP_VALUE': 4}. Best is trial 27 with value: 0.9080010775862069.\u001b[0m\n"
          ]
        },
        {
          "output_type": "stream",
          "name": "stdout",
          "text": [
            "Epoch: 10\n",
            "\tTrain Loss: 0.304 | Train Acc: 87.27%\n",
            "\t Val. Loss: 0.319 |  Val. Acc: 88.33%\n",
            "Epoch: 01\n",
            "\tTrain Loss: 0.641 | Train Acc: 61.65%\n",
            "\t Val. Loss: 0.509 |  Val. Acc: 76.00%\n",
            "Epoch: 02\n",
            "\tTrain Loss: 0.476 | Train Acc: 77.86%\n",
            "\t Val. Loss: 0.382 |  Val. Acc: 84.33%\n",
            "Epoch: 03\n",
            "\tTrain Loss: 0.384 | Train Acc: 83.33%\n",
            "\t Val. Loss: 0.323 |  Val. Acc: 86.02%\n",
            "Epoch: 04\n",
            "\tTrain Loss: 0.324 | Train Acc: 86.43%\n",
            "\t Val. Loss: 0.298 |  Val. Acc: 87.53%\n"
          ]
        },
        {
          "output_type": "stream",
          "name": "stderr",
          "text": [
            "\u001b[32m[I 2023-01-15 16:49:36,523]\u001b[0m Trial 39 finished with value: 0.886568205109958 and parameters: {'CELL_TYPE': 'GRU', 'HIDDEN_DIM': 32, 'N_LAYERS': 2, 'DROPOUT': 0.45699136467991225, 'N_EPOCHS': 5, 'CLIP_VALUE': 1}. Best is trial 27 with value: 0.9080010775862069.\u001b[0m\n"
          ]
        },
        {
          "output_type": "stream",
          "name": "stdout",
          "text": [
            "Epoch: 05\n",
            "\tTrain Loss: 0.288 | Train Acc: 87.97%\n",
            "\t Val. Loss: 0.275 |  Val. Acc: 88.66%\n",
            "Epoch: 01\n",
            "\tTrain Loss: 0.573 | Train Acc: 68.96%\n",
            "\t Val. Loss: 0.446 |  Val. Acc: 79.17%\n",
            "Epoch: 02\n",
            "\tTrain Loss: 0.392 | Train Acc: 82.73%\n",
            "\t Val. Loss: 0.316 |  Val. Acc: 86.82%\n",
            "Epoch: 03\n",
            "\tTrain Loss: 0.304 | Train Acc: 87.26%\n",
            "\t Val. Loss: 0.276 |  Val. Acc: 88.58%\n",
            "Epoch: 04\n",
            "\tTrain Loss: 0.255 | Train Acc: 89.56%\n",
            "\t Val. Loss: 0.301 |  Val. Acc: 87.29%\n",
            "Epoch: 05\n",
            "\tTrain Loss: 0.223 | Train Acc: 91.07%\n",
            "\t Val. Loss: 0.253 |  Val. Acc: 89.77%\n",
            "Epoch: 06\n",
            "\tTrain Loss: 0.198 | Train Acc: 92.22%\n",
            "\t Val. Loss: 0.273 |  Val. Acc: 89.18%\n",
            "Epoch: 07\n",
            "\tTrain Loss: 0.182 | Train Acc: 92.98%\n",
            "\t Val. Loss: 0.260 |  Val. Acc: 89.93%\n",
            "Epoch: 08\n",
            "\tTrain Loss: 0.165 | Train Acc: 93.57%\n",
            "\t Val. Loss: 0.260 |  Val. Acc: 90.15%\n",
            "Epoch: 09\n",
            "\tTrain Loss: 0.154 | Train Acc: 94.07%\n",
            "\t Val. Loss: 0.266 |  Val. Acc: 90.22%\n",
            "Epoch: 10\n",
            "\tTrain Loss: 0.139 | Train Acc: 94.82%\n",
            "\t Val. Loss: 0.278 |  Val. Acc: 89.92%\n",
            "Epoch: 11\n",
            "\tTrain Loss: 0.126 | Train Acc: 95.40%\n",
            "\t Val. Loss: 0.296 |  Val. Acc: 89.99%\n",
            "Epoch: 12\n",
            "\tTrain Loss: 0.113 | Train Acc: 95.95%\n",
            "\t Val. Loss: 0.314 |  Val. Acc: 89.96%\n"
          ]
        },
        {
          "output_type": "stream",
          "name": "stderr",
          "text": [
            "\u001b[32m[I 2023-01-15 16:50:48,442]\u001b[0m Trial 40 finished with value: 0.8994437764430868 and parameters: {'CELL_TYPE': 'GRU', 'HIDDEN_DIM': 64, 'N_LAYERS': 2, 'DROPOUT': 0.264511662042091, 'N_EPOCHS': 13, 'CLIP_VALUE': 3}. Best is trial 27 with value: 0.9080010775862069.\u001b[0m\n"
          ]
        },
        {
          "output_type": "stream",
          "name": "stdout",
          "text": [
            "Epoch: 13\n",
            "\tTrain Loss: 0.103 | Train Acc: 96.20%\n",
            "\t Val. Loss: 0.305 |  Val. Acc: 89.94%\n",
            "Epoch: 01\n",
            "\tTrain Loss: 0.619 | Train Acc: 64.99%\n",
            "\t Val. Loss: 0.473 |  Val. Acc: 78.87%\n",
            "Epoch: 02\n",
            "\tTrain Loss: 0.439 | Train Acc: 80.19%\n",
            "\t Val. Loss: 0.342 |  Val. Acc: 85.43%\n",
            "Epoch: 03\n",
            "\tTrain Loss: 0.344 | Train Acc: 85.31%\n",
            "\t Val. Loss: 0.293 |  Val. Acc: 87.75%\n",
            "Epoch: 04\n",
            "\tTrain Loss: 0.292 | Train Acc: 87.84%\n",
            "\t Val. Loss: 0.283 |  Val. Acc: 88.85%\n",
            "Epoch: 05\n",
            "\tTrain Loss: 0.263 | Train Acc: 89.34%\n",
            "\t Val. Loss: 0.298 |  Val. Acc: 87.91%\n",
            "Epoch: 06\n",
            "\tTrain Loss: 0.240 | Train Acc: 90.38%\n",
            "\t Val. Loss: 0.293 |  Val. Acc: 87.97%\n",
            "Epoch: 07\n",
            "\tTrain Loss: 0.218 | Train Acc: 91.60%\n",
            "\t Val. Loss: 0.309 |  Val. Acc: 87.84%\n",
            "Epoch: 08\n",
            "\tTrain Loss: 0.202 | Train Acc: 92.05%\n",
            "\t Val. Loss: 0.281 |  Val. Acc: 89.88%\n",
            "Epoch: 09\n",
            "\tTrain Loss: 0.187 | Train Acc: 92.67%\n",
            "\t Val. Loss: 0.261 |  Val. Acc: 90.70%\n",
            "Epoch: 10\n",
            "\tTrain Loss: 0.174 | Train Acc: 93.29%\n",
            "\t Val. Loss: 0.278 |  Val. Acc: 90.03%\n",
            "Epoch: 11\n",
            "\tTrain Loss: 0.162 | Train Acc: 93.98%\n",
            "\t Val. Loss: 0.319 |  Val. Acc: 87.73%\n",
            "Epoch: 12\n",
            "\tTrain Loss: 0.160 | Train Acc: 93.94%\n",
            "\t Val. Loss: 0.282 |  Val. Acc: 90.50%\n",
            "Epoch: 13\n",
            "\tTrain Loss: 0.144 | Train Acc: 94.69%\n",
            "\t Val. Loss: 0.294 |  Val. Acc: 90.19%\n"
          ]
        },
        {
          "output_type": "stream",
          "name": "stderr",
          "text": [
            "\u001b[32m[I 2023-01-15 16:52:24,956]\u001b[0m Trial 41 finished with value: 0.9032866379310345 and parameters: {'CELL_TYPE': 'GRU', 'HIDDEN_DIM': 32, 'N_LAYERS': 3, 'DROPOUT': 0.38716378998778145, 'N_EPOCHS': 14, 'CLIP_VALUE': 4}. Best is trial 27 with value: 0.9080010775862069.\u001b[0m\n"
          ]
        },
        {
          "output_type": "stream",
          "name": "stdout",
          "text": [
            "Epoch: 14\n",
            "\tTrain Loss: 0.137 | Train Acc: 94.99%\n",
            "\t Val. Loss: 0.283 |  Val. Acc: 90.33%\n",
            "Epoch: 01\n",
            "\tTrain Loss: 0.659 | Train Acc: 59.08%\n",
            "\t Val. Loss: 0.550 |  Val. Acc: 72.27%\n",
            "Epoch: 02\n",
            "\tTrain Loss: 0.506 | Train Acc: 75.94%\n",
            "\t Val. Loss: 0.379 |  Val. Acc: 83.65%\n",
            "Epoch: 03\n",
            "\tTrain Loss: 0.414 | Train Acc: 81.50%\n",
            "\t Val. Loss: 0.327 |  Val. Acc: 86.12%\n",
            "Epoch: 04\n",
            "\tTrain Loss: 0.355 | Train Acc: 84.87%\n",
            "\t Val. Loss: 0.303 |  Val. Acc: 87.73%\n",
            "Epoch: 05\n",
            "\tTrain Loss: 0.318 | Train Acc: 86.75%\n",
            "\t Val. Loss: 0.276 |  Val. Acc: 88.63%\n",
            "Epoch: 06\n",
            "\tTrain Loss: 0.294 | Train Acc: 88.09%\n",
            "\t Val. Loss: 0.317 |  Val. Acc: 87.45%\n",
            "Epoch: 07\n",
            "\tTrain Loss: 0.278 | Train Acc: 88.65%\n",
            "\t Val. Loss: 0.281 |  Val. Acc: 89.41%\n",
            "Epoch: 08\n",
            "\tTrain Loss: 0.265 | Train Acc: 89.27%\n",
            "\t Val. Loss: 0.267 |  Val. Acc: 89.59%\n",
            "Epoch: 09\n",
            "\tTrain Loss: 0.245 | Train Acc: 90.21%\n",
            "\t Val. Loss: 0.266 |  Val. Acc: 89.57%\n",
            "Epoch: 10\n",
            "\tTrain Loss: 0.232 | Train Acc: 90.63%\n",
            "\t Val. Loss: 0.258 |  Val. Acc: 90.35%\n",
            "Epoch: 11\n",
            "\tTrain Loss: 0.220 | Train Acc: 91.37%\n",
            "\t Val. Loss: 0.254 |  Val. Acc: 90.19%\n",
            "Epoch: 12\n",
            "\tTrain Loss: 0.213 | Train Acc: 91.46%\n",
            "\t Val. Loss: 0.271 |  Val. Acc: 90.32%\n",
            "Epoch: 13\n",
            "\tTrain Loss: 0.199 | Train Acc: 92.14%\n",
            "\t Val. Loss: 0.252 |  Val. Acc: 90.34%\n",
            "Epoch: 14\n",
            "\tTrain Loss: 0.195 | Train Acc: 92.47%\n",
            "\t Val. Loss: 0.267 |  Val. Acc: 90.59%\n"
          ]
        },
        {
          "output_type": "stream",
          "name": "stderr",
          "text": [
            "\u001b[32m[I 2023-01-15 16:54:08,444]\u001b[0m Trial 42 finished with value: 0.9034847247189489 and parameters: {'CELL_TYPE': 'GRU', 'HIDDEN_DIM': 32, 'N_LAYERS': 3, 'DROPOUT': 0.5824981124008288, 'N_EPOCHS': 15, 'CLIP_VALUE': 5}. Best is trial 27 with value: 0.9080010775862069.\u001b[0m\n"
          ]
        },
        {
          "output_type": "stream",
          "name": "stdout",
          "text": [
            "Epoch: 15\n",
            "\tTrain Loss: 0.187 | Train Acc: 92.78%\n",
            "\t Val. Loss: 0.273 |  Val. Acc: 90.35%\n",
            "Epoch: 01\n",
            "\tTrain Loss: 0.647 | Train Acc: 60.79%\n",
            "\t Val. Loss: 0.547 |  Val. Acc: 73.26%\n",
            "Epoch: 02\n",
            "\tTrain Loss: 0.501 | Train Acc: 76.17%\n",
            "\t Val. Loss: 0.415 |  Val. Acc: 81.46%\n",
            "Epoch: 03\n",
            "\tTrain Loss: 0.411 | Train Acc: 82.05%\n",
            "\t Val. Loss: 0.340 |  Val. Acc: 86.11%\n",
            "Epoch: 04\n",
            "\tTrain Loss: 0.352 | Train Acc: 84.91%\n",
            "\t Val. Loss: 0.305 |  Val. Acc: 87.47%\n",
            "Epoch: 05\n",
            "\tTrain Loss: 0.313 | Train Acc: 87.03%\n",
            "\t Val. Loss: 0.313 |  Val. Acc: 87.92%\n",
            "Epoch: 06\n",
            "\tTrain Loss: 0.285 | Train Acc: 88.43%\n",
            "\t Val. Loss: 0.304 |  Val. Acc: 87.84%\n",
            "Epoch: 07\n",
            "\tTrain Loss: 0.275 | Train Acc: 88.75%\n",
            "\t Val. Loss: 0.304 |  Val. Acc: 88.14%\n",
            "Epoch: 08\n",
            "\tTrain Loss: 0.254 | Train Acc: 89.70%\n",
            "\t Val. Loss: 0.265 |  Val. Acc: 89.96%\n",
            "Epoch: 09\n",
            "\tTrain Loss: 0.239 | Train Acc: 90.32%\n",
            "\t Val. Loss: 0.276 |  Val. Acc: 89.67%\n",
            "Epoch: 10\n",
            "\tTrain Loss: 0.229 | Train Acc: 90.80%\n",
            "\t Val. Loss: 0.279 |  Val. Acc: 89.09%\n",
            "Epoch: 11\n",
            "\tTrain Loss: 0.215 | Train Acc: 91.55%\n",
            "\t Val. Loss: 0.273 |  Val. Acc: 89.56%\n",
            "Epoch: 12\n",
            "\tTrain Loss: 0.202 | Train Acc: 92.18%\n",
            "\t Val. Loss: 0.270 |  Val. Acc: 89.96%\n",
            "Epoch: 13\n",
            "\tTrain Loss: 0.196 | Train Acc: 92.36%\n",
            "\t Val. Loss: 0.282 |  Val. Acc: 89.55%\n"
          ]
        },
        {
          "output_type": "stream",
          "name": "stderr",
          "text": [
            "\u001b[32m[I 2023-01-15 16:55:44,833]\u001b[0m Trial 43 finished with value: 0.8925662390116987 and parameters: {'CELL_TYPE': 'GRU', 'HIDDEN_DIM': 32, 'N_LAYERS': 3, 'DROPOUT': 0.5369937538280154, 'N_EPOCHS': 14, 'CLIP_VALUE': 3}. Best is trial 27 with value: 0.9080010775862069.\u001b[0m\n"
          ]
        },
        {
          "output_type": "stream",
          "name": "stdout",
          "text": [
            "Epoch: 14\n",
            "\tTrain Loss: 0.182 | Train Acc: 92.88%\n",
            "\t Val. Loss: 0.302 |  Val. Acc: 89.26%\n",
            "Epoch: 01\n",
            "\tTrain Loss: 0.634 | Train Acc: 62.72%\n",
            "\t Val. Loss: 0.490 |  Val. Acc: 77.02%\n",
            "Epoch: 02\n",
            "\tTrain Loss: 0.454 | Train Acc: 79.18%\n",
            "\t Val. Loss: 0.362 |  Val. Acc: 84.57%\n",
            "Epoch: 03\n",
            "\tTrain Loss: 0.352 | Train Acc: 85.00%\n",
            "\t Val. Loss: 0.298 |  Val. Acc: 87.65%\n",
            "Epoch: 04\n",
            "\tTrain Loss: 0.303 | Train Acc: 87.40%\n",
            "\t Val. Loss: 0.279 |  Val. Acc: 88.58%\n",
            "Epoch: 05\n",
            "\tTrain Loss: 0.271 | Train Acc: 89.20%\n",
            "\t Val. Loss: 0.284 |  Val. Acc: 88.66%\n",
            "Epoch: 06\n",
            "\tTrain Loss: 0.250 | Train Acc: 89.88%\n",
            "\t Val. Loss: 0.256 |  Val. Acc: 89.71%\n",
            "Epoch: 07\n",
            "\tTrain Loss: 0.225 | Train Acc: 90.97%\n",
            "\t Val. Loss: 0.293 |  Val. Acc: 88.92%\n",
            "Epoch: 08\n",
            "\tTrain Loss: 0.212 | Train Acc: 91.55%\n",
            "\t Val. Loss: 0.288 |  Val. Acc: 88.56%\n",
            "Epoch: 09\n",
            "\tTrain Loss: 0.199 | Train Acc: 92.22%\n",
            "\t Val. Loss: 0.266 |  Val. Acc: 90.36%\n",
            "Epoch: 10\n",
            "\tTrain Loss: 0.180 | Train Acc: 93.13%\n",
            "\t Val. Loss: 0.260 |  Val. Acc: 90.27%\n",
            "Epoch: 11\n",
            "\tTrain Loss: 0.175 | Train Acc: 93.17%\n",
            "\t Val. Loss: 0.267 |  Val. Acc: 90.44%\n",
            "Epoch: 12\n",
            "\tTrain Loss: 0.165 | Train Acc: 93.66%\n",
            "\t Val. Loss: 0.267 |  Val. Acc: 90.34%\n",
            "Epoch: 13\n",
            "\tTrain Loss: 0.156 | Train Acc: 94.02%\n",
            "\t Val. Loss: 0.284 |  Val. Acc: 90.22%\n",
            "Epoch: 14\n",
            "\tTrain Loss: 0.147 | Train Acc: 94.45%\n",
            "\t Val. Loss: 0.281 |  Val. Acc: 90.58%\n"
          ]
        },
        {
          "output_type": "stream",
          "name": "stderr",
          "text": [
            "\u001b[32m[I 2023-01-15 16:57:28,887]\u001b[0m Trial 44 finished with value: 0.900457974137931 and parameters: {'CELL_TYPE': 'GRU', 'HIDDEN_DIM': 32, 'N_LAYERS': 3, 'DROPOUT': 0.4240504052994202, 'N_EPOCHS': 15, 'CLIP_VALUE': 4}. Best is trial 27 with value: 0.9080010775862069.\u001b[0m\n"
          ]
        },
        {
          "output_type": "stream",
          "name": "stdout",
          "text": [
            "Epoch: 15\n",
            "\tTrain Loss: 0.138 | Train Acc: 94.91%\n",
            "\t Val. Loss: 0.297 |  Val. Acc: 90.05%\n",
            "Epoch: 01\n",
            "\tTrain Loss: 0.604 | Train Acc: 65.96%\n",
            "\t Val. Loss: 0.534 |  Val. Acc: 73.92%\n",
            "Epoch: 02\n",
            "\tTrain Loss: 0.422 | Train Acc: 81.00%\n",
            "\t Val. Loss: 0.386 |  Val. Acc: 82.63%\n",
            "Epoch: 03\n",
            "\tTrain Loss: 0.336 | Train Acc: 85.86%\n",
            "\t Val. Loss: 0.300 |  Val. Acc: 87.72%\n",
            "Epoch: 04\n",
            "\tTrain Loss: 0.281 | Train Acc: 88.51%\n",
            "\t Val. Loss: 0.278 |  Val. Acc: 88.88%\n",
            "Epoch: 05\n",
            "\tTrain Loss: 0.250 | Train Acc: 89.94%\n",
            "\t Val. Loss: 0.266 |  Val. Acc: 89.84%\n",
            "Epoch: 06\n",
            "\tTrain Loss: 0.226 | Train Acc: 90.86%\n",
            "\t Val. Loss: 0.256 |  Val. Acc: 90.21%\n",
            "Epoch: 07\n",
            "\tTrain Loss: 0.207 | Train Acc: 91.93%\n",
            "\t Val. Loss: 0.253 |  Val. Acc: 90.05%\n",
            "Epoch: 08\n",
            "\tTrain Loss: 0.193 | Train Acc: 92.47%\n",
            "\t Val. Loss: 0.253 |  Val. Acc: 90.32%\n",
            "Epoch: 09\n",
            "\tTrain Loss: 0.177 | Train Acc: 93.13%\n",
            "\t Val. Loss: 0.268 |  Val. Acc: 90.46%\n",
            "Epoch: 10\n",
            "\tTrain Loss: 0.162 | Train Acc: 93.83%\n",
            "\t Val. Loss: 0.258 |  Val. Acc: 90.47%\n",
            "Epoch: 11\n",
            "\tTrain Loss: 0.156 | Train Acc: 94.19%\n",
            "\t Val. Loss: 0.272 |  Val. Acc: 90.25%\n",
            "Epoch: 12\n",
            "\tTrain Loss: 0.146 | Train Acc: 94.63%\n",
            "\t Val. Loss: 0.278 |  Val. Acc: 90.45%\n",
            "Epoch: 13\n",
            "\tTrain Loss: 0.138 | Train Acc: 94.91%\n",
            "\t Val. Loss: 0.283 |  Val. Acc: 90.11%\n"
          ]
        },
        {
          "output_type": "stream",
          "name": "stderr",
          "text": [
            "\u001b[32m[I 2023-01-15 16:59:06,287]\u001b[0m Trial 45 finished with value: 0.9044989224137931 and parameters: {'CELL_TYPE': 'GRU', 'HIDDEN_DIM': 32, 'N_LAYERS': 3, 'DROPOUT': 0.35070056814161954, 'N_EPOCHS': 14, 'CLIP_VALUE': 3}. Best is trial 27 with value: 0.9080010775862069.\u001b[0m\n"
          ]
        },
        {
          "output_type": "stream",
          "name": "stdout",
          "text": [
            "Epoch: 14\n",
            "\tTrain Loss: 0.127 | Train Acc: 95.33%\n",
            "\t Val. Loss: 0.283 |  Val. Acc: 90.45%\n",
            "Epoch: 01\n",
            "\tTrain Loss: 0.605 | Train Acc: 66.00%\n",
            "\t Val. Loss: 0.448 |  Val. Acc: 79.60%\n",
            "Epoch: 02\n",
            "\tTrain Loss: 0.405 | Train Acc: 82.01%\n",
            "\t Val. Loss: 0.326 |  Val. Acc: 86.28%\n",
            "Epoch: 03\n",
            "\tTrain Loss: 0.317 | Train Acc: 86.71%\n",
            "\t Val. Loss: 0.292 |  Val. Acc: 87.63%\n",
            "Epoch: 04\n",
            "\tTrain Loss: 0.272 | Train Acc: 88.90%\n",
            "\t Val. Loss: 0.310 |  Val. Acc: 87.79%\n",
            "Epoch: 05\n",
            "\tTrain Loss: 0.243 | Train Acc: 90.30%\n",
            "\t Val. Loss: 0.305 |  Val. Acc: 87.40%\n",
            "Epoch: 06\n",
            "\tTrain Loss: 0.213 | Train Acc: 91.66%\n",
            "\t Val. Loss: 0.262 |  Val. Acc: 90.05%\n",
            "Epoch: 07\n",
            "\tTrain Loss: 0.195 | Train Acc: 92.50%\n",
            "\t Val. Loss: 0.272 |  Val. Acc: 89.90%\n",
            "Epoch: 08\n",
            "\tTrain Loss: 0.175 | Train Acc: 93.40%\n",
            "\t Val. Loss: 0.278 |  Val. Acc: 89.44%\n",
            "Epoch: 09\n",
            "\tTrain Loss: 0.168 | Train Acc: 93.65%\n",
            "\t Val. Loss: 0.273 |  Val. Acc: 90.29%\n",
            "Epoch: 10\n",
            "\tTrain Loss: 0.149 | Train Acc: 94.38%\n",
            "\t Val. Loss: 0.310 |  Val. Acc: 89.52%\n",
            "Epoch: 11\n",
            "\tTrain Loss: 0.140 | Train Acc: 94.73%\n",
            "\t Val. Loss: 0.283 |  Val. Acc: 90.07%\n",
            "Epoch: 12\n",
            "\tTrain Loss: 0.130 | Train Acc: 95.15%\n",
            "\t Val. Loss: 0.301 |  Val. Acc: 90.05%\n",
            "Epoch: 13\n",
            "\tTrain Loss: 0.124 | Train Acc: 95.45%\n",
            "\t Val. Loss: 0.316 |  Val. Acc: 90.09%\n",
            "Epoch: 14\n",
            "\tTrain Loss: 0.114 | Train Acc: 95.93%\n",
            "\t Val. Loss: 0.300 |  Val. Acc: 90.14%\n"
          ]
        },
        {
          "output_type": "stream",
          "name": "stderr",
          "text": [
            "\u001b[32m[I 2023-01-15 17:00:22,329]\u001b[0m Trial 46 finished with value: 0.9008620689655172 and parameters: {'CELL_TYPE': 'GRU', 'HIDDEN_DIM': 32, 'N_LAYERS': 2, 'DROPOUT': 0.2965404702376728, 'N_EPOCHS': 15, 'CLIP_VALUE': 3}. Best is trial 27 with value: 0.9080010775862069.\u001b[0m\n"
          ]
        },
        {
          "output_type": "stream",
          "name": "stdout",
          "text": [
            "Epoch: 15\n",
            "\tTrain Loss: 0.107 | Train Acc: 96.13%\n",
            "\t Val. Loss: 0.312 |  Val. Acc: 90.09%\n",
            "Epoch: 01\n",
            "\tTrain Loss: 0.669 | Train Acc: 57.45%\n",
            "\t Val. Loss: 0.571 |  Val. Acc: 70.88%\n",
            "Epoch: 02\n",
            "\tTrain Loss: 0.547 | Train Acc: 72.80%\n",
            "\t Val. Loss: 0.454 |  Val. Acc: 79.79%\n",
            "Epoch: 03\n",
            "\tTrain Loss: 0.470 | Train Acc: 78.39%\n",
            "\t Val. Loss: 0.455 |  Val. Acc: 82.57%\n",
            "Epoch: 04\n",
            "\tTrain Loss: 0.429 | Train Acc: 81.07%\n",
            "\t Val. Loss: 0.417 |  Val. Acc: 84.03%\n",
            "Epoch: 05\n",
            "\tTrain Loss: 0.390 | Train Acc: 83.10%\n",
            "\t Val. Loss: 0.370 |  Val. Acc: 86.04%\n",
            "Epoch: 06\n",
            "\tTrain Loss: 0.353 | Train Acc: 84.95%\n",
            "\t Val. Loss: 0.410 |  Val. Acc: 84.25%\n",
            "Epoch: 07\n",
            "\tTrain Loss: 0.343 | Train Acc: 85.75%\n",
            "\t Val. Loss: 0.337 |  Val. Acc: 85.87%\n",
            "Epoch: 08\n",
            "\tTrain Loss: 0.317 | Train Acc: 86.80%\n",
            "\t Val. Loss: 0.376 |  Val. Acc: 85.91%\n",
            "Epoch: 09\n",
            "\tTrain Loss: 0.300 | Train Acc: 87.91%\n",
            "\t Val. Loss: 0.460 |  Val. Acc: 83.75%\n",
            "Epoch: 10\n",
            "\tTrain Loss: 0.293 | Train Acc: 88.08%\n",
            "\t Val. Loss: 0.369 |  Val. Acc: 85.70%\n",
            "Epoch: 11\n",
            "\tTrain Loss: 0.282 | Train Acc: 88.71%\n",
            "\t Val. Loss: 0.381 |  Val. Acc: 85.59%\n",
            "Epoch: 12\n",
            "\tTrain Loss: 0.275 | Train Acc: 88.99%\n",
            "\t Val. Loss: 0.362 |  Val. Acc: 87.43%\n"
          ]
        },
        {
          "output_type": "stream",
          "name": "stderr",
          "text": [
            "\u001b[32m[I 2023-01-15 17:01:50,704]\u001b[0m Trial 47 finished with value: 0.8786923165979057 and parameters: {'CELL_TYPE': 'LSTM', 'HIDDEN_DIM': 32, 'N_LAYERS': 3, 'DROPOUT': 0.6540231159058936, 'N_EPOCHS': 13, 'CLIP_VALUE': 4}. Best is trial 27 with value: 0.9080010775862069.\u001b[0m\n"
          ]
        },
        {
          "output_type": "stream",
          "name": "stdout",
          "text": [
            "Epoch: 13\n",
            "\tTrain Loss: 0.266 | Train Acc: 89.50%\n",
            "\t Val. Loss: 0.309 |  Val. Acc: 87.87%\n",
            "Epoch: 01\n",
            "\tTrain Loss: 0.605 | Train Acc: 65.62%\n",
            "\t Val. Loss: 0.454 |  Val. Acc: 79.73%\n",
            "Epoch: 02\n",
            "\tTrain Loss: 0.449 | Train Acc: 79.41%\n",
            "\t Val. Loss: 0.359 |  Val. Acc: 85.16%\n",
            "Epoch: 03\n",
            "\tTrain Loss: 0.368 | Train Acc: 83.93%\n",
            "\t Val. Loss: 0.390 |  Val. Acc: 83.40%\n",
            "Epoch: 04\n",
            "\tTrain Loss: 0.331 | Train Acc: 86.04%\n",
            "\t Val. Loss: 0.281 |  Val. Acc: 88.57%\n",
            "Epoch: 05\n",
            "\tTrain Loss: 0.294 | Train Acc: 87.82%\n",
            "\t Val. Loss: 0.275 |  Val. Acc: 89.17%\n",
            "Epoch: 06\n",
            "\tTrain Loss: 0.269 | Train Acc: 88.84%\n",
            "\t Val. Loss: 0.263 |  Val. Acc: 89.66%\n"
          ]
        },
        {
          "output_type": "stream",
          "name": "stderr",
          "text": [
            "\u001b[32m[I 2023-01-15 17:02:29,035]\u001b[0m Trial 48 finished with value: 0.9006481355634229 and parameters: {'CELL_TYPE': 'GRU', 'HIDDEN_DIM': 64, 'N_LAYERS': 2, 'DROPOUT': 0.5021107801145988, 'N_EPOCHS': 7, 'CLIP_VALUE': 5}. Best is trial 27 with value: 0.9080010775862069.\u001b[0m\n"
          ]
        },
        {
          "output_type": "stream",
          "name": "stdout",
          "text": [
            "Epoch: 07\n",
            "\tTrain Loss: 0.245 | Train Acc: 90.06%\n",
            "\t Val. Loss: 0.251 |  Val. Acc: 90.06%\n",
            "Epoch: 01\n",
            "\tTrain Loss: 0.559 | Train Acc: 70.60%\n",
            "\t Val. Loss: 0.440 |  Val. Acc: 79.74%\n",
            "Epoch: 02\n",
            "\tTrain Loss: 0.378 | Train Acc: 83.23%\n",
            "\t Val. Loss: 0.360 |  Val. Acc: 84.30%\n",
            "Epoch: 03\n",
            "\tTrain Loss: 0.293 | Train Acc: 87.73%\n",
            "\t Val. Loss: 0.262 |  Val. Acc: 89.22%\n",
            "Epoch: 04\n",
            "\tTrain Loss: 0.247 | Train Acc: 89.82%\n",
            "\t Val. Loss: 0.273 |  Val. Acc: 88.66%\n",
            "Epoch: 05\n",
            "\tTrain Loss: 0.215 | Train Acc: 91.27%\n",
            "\t Val. Loss: 0.286 |  Val. Acc: 88.35%\n",
            "Epoch: 06\n",
            "\tTrain Loss: 0.196 | Train Acc: 92.27%\n",
            "\t Val. Loss: 0.252 |  Val. Acc: 90.44%\n",
            "Epoch: 07\n",
            "\tTrain Loss: 0.170 | Train Acc: 93.66%\n",
            "\t Val. Loss: 0.248 |  Val. Acc: 90.35%\n",
            "Epoch: 08\n",
            "\tTrain Loss: 0.156 | Train Acc: 94.09%\n",
            "\t Val. Loss: 0.267 |  Val. Acc: 90.03%\n",
            "Epoch: 09\n",
            "\tTrain Loss: 0.136 | Train Acc: 95.02%\n",
            "\t Val. Loss: 0.261 |  Val. Acc: 90.42%\n",
            "Epoch: 10\n",
            "\tTrain Loss: 0.124 | Train Acc: 95.28%\n",
            "\t Val. Loss: 0.264 |  Val. Acc: 89.95%\n",
            "Epoch: 11\n",
            "\tTrain Loss: 0.114 | Train Acc: 95.70%\n",
            "\t Val. Loss: 0.289 |  Val. Acc: 90.04%\n",
            "Epoch: 12\n",
            "\tTrain Loss: 0.110 | Train Acc: 96.02%\n",
            "\t Val. Loss: 0.297 |  Val. Acc: 89.99%\n",
            "Epoch: 13\n",
            "\tTrain Loss: 0.092 | Train Acc: 96.62%\n",
            "\t Val. Loss: 0.324 |  Val. Acc: 90.01%\n",
            "Epoch: 14\n",
            "\tTrain Loss: 0.085 | Train Acc: 96.99%\n",
            "\t Val. Loss: 0.331 |  Val. Acc: 89.88%\n"
          ]
        },
        {
          "output_type": "stream",
          "name": "stderr",
          "text": [
            "\u001b[32m[I 2023-01-15 17:04:25,544]\u001b[0m Trial 49 finished with value: 0.8937785234944574 and parameters: {'CELL_TYPE': 'GRU', 'HIDDEN_DIM': 128, 'N_LAYERS': 2, 'DROPOUT': 0.2438626032197285, 'N_EPOCHS': 15, 'CLIP_VALUE': 2}. Best is trial 27 with value: 0.9080010775862069.\u001b[0m\n"
          ]
        },
        {
          "output_type": "stream",
          "name": "stdout",
          "text": [
            "Epoch: 15\n",
            "\tTrain Loss: 0.077 | Train Acc: 97.17%\n",
            "\t Val. Loss: 0.350 |  Val. Acc: 89.38%\n"
          ]
        }
      ],
      "source": [
        "if not TESTING_DATA_PATH:\n",
        "  import optuna\n",
        "  import torch.optim as optim\n",
        "\n",
        "  #An objective function to be maximized.\n",
        "  def objective(trial):\n",
        "    CELL_TYPE = trial.suggest_categorical('CELL_TYPE', ['LSTM', 'GRU'])\n",
        "    INPUT_DIM = len(REVIEW.vocab)\n",
        "    EMBEDDING_DIM = 50\n",
        "    HIDDEN_DIM =  trial.suggest_categorical('HIDDEN_DIM', [32, 64, 128])\n",
        "    OUTPUT_DIM = 1\n",
        "    N_LAYERS = trial.suggest_int('N_LAYERS', 2, 3)\n",
        "    DROPOUT = trial.suggest_float('DROPOUT', 0, 1)\n",
        "    PAD_IDX = REVIEW.vocab.stoi[REVIEW.pad_token]\n",
        "\n",
        "    model = BRNN(CELL_TYPE, \n",
        "                  INPUT_DIM, \n",
        "                  EMBEDDING_DIM, \n",
        "                  HIDDEN_DIM, \n",
        "                  OUTPUT_DIM, \n",
        "                  N_LAYERS, \n",
        "                  DROPOUT, \n",
        "                  PAD_IDX)\n",
        "\n",
        "    pretrained_embeddings = REVIEW.vocab.vectors\n",
        "\n",
        "    # replace the initial weights of the embedding layer with the GloVe pre-trained embeddings.\n",
        "    model.embedding.weight.data.copy_(pretrained_embeddings)\n",
        "\n",
        "    # find the index of <unk> token in our vocabulary\n",
        "    UNK_IDX = REVIEW.vocab.stoi[REVIEW.unk_token]\n",
        "\n",
        "    # initialize the <unk> and <pad> tokens to zero\n",
        "    model.embedding.weight.data[UNK_IDX] = torch.zeros(EMBEDDING_DIM)\n",
        "    model.embedding.weight.data[PAD_IDX] = torch.zeros(EMBEDDING_DIM)\n",
        "\n",
        "    optimizer = optim.Adam(model.parameters())\n",
        "    criterion = nn.BCELoss()\n",
        "    model = model.to(device)\n",
        "    criterion = criterion.to(device)\n",
        "\n",
        "    N_EPOCHS = trial.suggest_int('N_EPOCHS', 5, 15)\n",
        "    CLIP_VALUE = trial.suggest_int('CLIP_VALUE', 1, 5)\n",
        "\n",
        "    train_loss_list = []\n",
        "    train_acc_list = []\n",
        "    valid_loss_list = []\n",
        "    valid_acc_list = []\n",
        "\n",
        "    for epoch in range(N_EPOCHS):\n",
        "        train_loss, train_acc = train(model, train_iterator, optimizer, criterion, CLIP_VALUE)\n",
        "        valid_loss, valid_acc = evaluate(model, valid_iterator, criterion)\n",
        "            \n",
        "        train_loss_list.append(train_loss)\n",
        "        train_acc_list.append(train_acc)\n",
        "        valid_loss_list.append(valid_loss)\n",
        "        valid_acc_list.append(valid_acc)\n",
        "\n",
        "        print(f'Epoch: {epoch+1:02}')\n",
        "        print(f'\\tTrain Loss: {train_loss:.3f} | Train Acc: {train_acc*100:.2f}%')\n",
        "        print(f'\\t Val. Loss: {valid_loss:.3f} |  Val. Acc: {valid_acc*100:.2f}%')\n",
        "    return valid_acc\n",
        "\n",
        "  #A study object to optimize the objective function.\n",
        "  study = optuna.create_study(direction='maximize')\n",
        "  study.optimize(objective, n_trials=50)"
      ]
    },
    {
      "cell_type": "markdown",
      "metadata": {
        "id": "wZ9FM2GY_1x4"
      },
      "source": [
        "### Optuna Visualizations "
      ]
    },
    {
      "cell_type": "code",
      "execution_count": null,
      "metadata": {
        "id": "dcdYaPKM_0iV"
      },
      "outputs": [],
      "source": [
        "if not TESTING_DATA_PATH:\n",
        "  from optuna.visualization import plot_contour\n",
        "  from optuna.visualization import plot_edf\n",
        "  from optuna.visualization import plot_intermediate_values\n",
        "  from optuna.visualization import plot_optimization_history\n",
        "  from optuna.visualization import plot_parallel_coordinate\n",
        "  from optuna.visualization import plot_param_importances\n",
        "  from optuna.visualization import plot_slice"
      ]
    },
    {
      "cell_type": "markdown",
      "metadata": {
        "id": "lcsWWeJKoAS2"
      },
      "source": [
        "Plot optimization history of all trials in a study."
      ]
    },
    {
      "cell_type": "code",
      "execution_count": null,
      "metadata": {
        "id": "KrfMnD8z_3U_",
        "colab": {
          "base_uri": "https://localhost:8080/",
          "height": 542
        },
        "outputId": "8d13ca66-019b-4f65-bff0-f62953af227f"
      },
      "outputs": [
        {
          "output_type": "display_data",
          "data": {
            "text/html": [
              "<html>\n",
              "<head><meta charset=\"utf-8\" /></head>\n",
              "<body>\n",
              "    <div>            <script src=\"https://cdnjs.cloudflare.com/ajax/libs/mathjax/2.7.5/MathJax.js?config=TeX-AMS-MML_SVG\"></script><script type=\"text/javascript\">if (window.MathJax) {MathJax.Hub.Config({SVG: {font: \"STIX-Web\"}});}</script>                <script type=\"text/javascript\">window.PlotlyConfig = {MathJaxConfig: 'local'};</script>\n",
              "        <script src=\"https://cdn.plot.ly/plotly-2.8.3.min.js\"></script>                <div id=\"d4c5afd8-d00e-48a0-8700-4943aa722333\" class=\"plotly-graph-div\" style=\"height:525px; width:100%;\"></div>            <script type=\"text/javascript\">                                    window.PLOTLYENV=window.PLOTLYENV || {};                                    if (document.getElementById(\"d4c5afd8-d00e-48a0-8700-4943aa722333\")) {                    Plotly.newPlot(                        \"d4c5afd8-d00e-48a0-8700-4943aa722333\",                        [{\"mode\":\"markers\",\"name\":\"Objective Value\",\"x\":[0,1,2,3,4,5,6,7,8,9,10,11,12,13,14,15,16,17,18,19,20,21,22,23,24,25,26,27,28,29,30,31,32,33,34,35,36,37,38,39,40,41,42,43,44,45,46,47,48,49],\"y\":[0.8932397303910091,0.9026686097013539,0.9058459051724138,0.884547730972027,0.8869009881184019,0.8094970213955847,0.8646123861444408,0.8785496950149536,0.8954028281672247,0.5075431034482759,0.8965438008308411,0.9070502663480824,0.8992377663480824,0.9041582160982592,0.905639897132742,0.8919640594515307,0.5150069727979857,0.8942460068340959,0.8904110665979057,0.8878517993565264,0.9053071120689655,0.9007907592017075,0.8929782592017075,0.9024071385120523,0.8996418611756687,0.8913539545289402,0.8939132217703194,0.9080010775862069,0.8804354708770226,0.901733647132742,0.8768065407358366,0.8986989732446342,0.8993090781672247,0.90159894885688,0.9009888439342894,0.8730270657046088,0.8982235665979057,0.8582102553597812,0.883272057977216,0.886568205109958,0.8994437764430868,0.9032866379310345,0.9034847247189489,0.8925662390116987,0.900457974137931,0.9044989224137931,0.9008620689655172,0.8786923165979057,0.9006481355634229,0.8937785234944574],\"type\":\"scatter\"},{\"name\":\"Best Value\",\"x\":[0,1,2,3,4,5,6,7,8,9,10,11,12,13,14,15,16,17,18,19,20,21,22,23,24,25,26,27,28,29,30,31,32,33,34,35,36,37,38,39,40,41,42,43,44,45,46,47,48,49],\"y\":[0.8932397303910091,0.9026686097013539,0.9058459051724138,0.9058459051724138,0.9058459051724138,0.9058459051724138,0.9058459051724138,0.9058459051724138,0.9058459051724138,0.9058459051724138,0.9058459051724138,0.9070502663480824,0.9070502663480824,0.9070502663480824,0.9070502663480824,0.9070502663480824,0.9070502663480824,0.9070502663480824,0.9070502663480824,0.9070502663480824,0.9070502663480824,0.9070502663480824,0.9070502663480824,0.9070502663480824,0.9070502663480824,0.9070502663480824,0.9070502663480824,0.9080010775862069,0.9080010775862069,0.9080010775862069,0.9080010775862069,0.9080010775862069,0.9080010775862069,0.9080010775862069,0.9080010775862069,0.9080010775862069,0.9080010775862069,0.9080010775862069,0.9080010775862069,0.9080010775862069,0.9080010775862069,0.9080010775862069,0.9080010775862069,0.9080010775862069,0.9080010775862069,0.9080010775862069,0.9080010775862069,0.9080010775862069,0.9080010775862069,0.9080010775862069],\"type\":\"scatter\"}],                        {\"title\":{\"text\":\"Optimization History Plot\"},\"xaxis\":{\"title\":{\"text\":\"Trial\"}},\"yaxis\":{\"title\":{\"text\":\"Objective Value\"}},\"template\":{\"data\":{\"bar\":[{\"error_x\":{\"color\":\"#2a3f5f\"},\"error_y\":{\"color\":\"#2a3f5f\"},\"marker\":{\"line\":{\"color\":\"#E5ECF6\",\"width\":0.5},\"pattern\":{\"fillmode\":\"overlay\",\"size\":10,\"solidity\":0.2}},\"type\":\"bar\"}],\"barpolar\":[{\"marker\":{\"line\":{\"color\":\"#E5ECF6\",\"width\":0.5},\"pattern\":{\"fillmode\":\"overlay\",\"size\":10,\"solidity\":0.2}},\"type\":\"barpolar\"}],\"carpet\":[{\"aaxis\":{\"endlinecolor\":\"#2a3f5f\",\"gridcolor\":\"white\",\"linecolor\":\"white\",\"minorgridcolor\":\"white\",\"startlinecolor\":\"#2a3f5f\"},\"baxis\":{\"endlinecolor\":\"#2a3f5f\",\"gridcolor\":\"white\",\"linecolor\":\"white\",\"minorgridcolor\":\"white\",\"startlinecolor\":\"#2a3f5f\"},\"type\":\"carpet\"}],\"choropleth\":[{\"colorbar\":{\"outlinewidth\":0,\"ticks\":\"\"},\"type\":\"choropleth\"}],\"contour\":[{\"colorbar\":{\"outlinewidth\":0,\"ticks\":\"\"},\"colorscale\":[[0.0,\"#0d0887\"],[0.1111111111111111,\"#46039f\"],[0.2222222222222222,\"#7201a8\"],[0.3333333333333333,\"#9c179e\"],[0.4444444444444444,\"#bd3786\"],[0.5555555555555556,\"#d8576b\"],[0.6666666666666666,\"#ed7953\"],[0.7777777777777778,\"#fb9f3a\"],[0.8888888888888888,\"#fdca26\"],[1.0,\"#f0f921\"]],\"type\":\"contour\"}],\"contourcarpet\":[{\"colorbar\":{\"outlinewidth\":0,\"ticks\":\"\"},\"type\":\"contourcarpet\"}],\"heatmap\":[{\"colorbar\":{\"outlinewidth\":0,\"ticks\":\"\"},\"colorscale\":[[0.0,\"#0d0887\"],[0.1111111111111111,\"#46039f\"],[0.2222222222222222,\"#7201a8\"],[0.3333333333333333,\"#9c179e\"],[0.4444444444444444,\"#bd3786\"],[0.5555555555555556,\"#d8576b\"],[0.6666666666666666,\"#ed7953\"],[0.7777777777777778,\"#fb9f3a\"],[0.8888888888888888,\"#fdca26\"],[1.0,\"#f0f921\"]],\"type\":\"heatmap\"}],\"heatmapgl\":[{\"colorbar\":{\"outlinewidth\":0,\"ticks\":\"\"},\"colorscale\":[[0.0,\"#0d0887\"],[0.1111111111111111,\"#46039f\"],[0.2222222222222222,\"#7201a8\"],[0.3333333333333333,\"#9c179e\"],[0.4444444444444444,\"#bd3786\"],[0.5555555555555556,\"#d8576b\"],[0.6666666666666666,\"#ed7953\"],[0.7777777777777778,\"#fb9f3a\"],[0.8888888888888888,\"#fdca26\"],[1.0,\"#f0f921\"]],\"type\":\"heatmapgl\"}],\"histogram\":[{\"marker\":{\"pattern\":{\"fillmode\":\"overlay\",\"size\":10,\"solidity\":0.2}},\"type\":\"histogram\"}],\"histogram2d\":[{\"colorbar\":{\"outlinewidth\":0,\"ticks\":\"\"},\"colorscale\":[[0.0,\"#0d0887\"],[0.1111111111111111,\"#46039f\"],[0.2222222222222222,\"#7201a8\"],[0.3333333333333333,\"#9c179e\"],[0.4444444444444444,\"#bd3786\"],[0.5555555555555556,\"#d8576b\"],[0.6666666666666666,\"#ed7953\"],[0.7777777777777778,\"#fb9f3a\"],[0.8888888888888888,\"#fdca26\"],[1.0,\"#f0f921\"]],\"type\":\"histogram2d\"}],\"histogram2dcontour\":[{\"colorbar\":{\"outlinewidth\":0,\"ticks\":\"\"},\"colorscale\":[[0.0,\"#0d0887\"],[0.1111111111111111,\"#46039f\"],[0.2222222222222222,\"#7201a8\"],[0.3333333333333333,\"#9c179e\"],[0.4444444444444444,\"#bd3786\"],[0.5555555555555556,\"#d8576b\"],[0.6666666666666666,\"#ed7953\"],[0.7777777777777778,\"#fb9f3a\"],[0.8888888888888888,\"#fdca26\"],[1.0,\"#f0f921\"]],\"type\":\"histogram2dcontour\"}],\"mesh3d\":[{\"colorbar\":{\"outlinewidth\":0,\"ticks\":\"\"},\"type\":\"mesh3d\"}],\"parcoords\":[{\"line\":{\"colorbar\":{\"outlinewidth\":0,\"ticks\":\"\"}},\"type\":\"parcoords\"}],\"pie\":[{\"automargin\":true,\"type\":\"pie\"}],\"scatter\":[{\"marker\":{\"colorbar\":{\"outlinewidth\":0,\"ticks\":\"\"}},\"type\":\"scatter\"}],\"scatter3d\":[{\"line\":{\"colorbar\":{\"outlinewidth\":0,\"ticks\":\"\"}},\"marker\":{\"colorbar\":{\"outlinewidth\":0,\"ticks\":\"\"}},\"type\":\"scatter3d\"}],\"scattercarpet\":[{\"marker\":{\"colorbar\":{\"outlinewidth\":0,\"ticks\":\"\"}},\"type\":\"scattercarpet\"}],\"scattergeo\":[{\"marker\":{\"colorbar\":{\"outlinewidth\":0,\"ticks\":\"\"}},\"type\":\"scattergeo\"}],\"scattergl\":[{\"marker\":{\"colorbar\":{\"outlinewidth\":0,\"ticks\":\"\"}},\"type\":\"scattergl\"}],\"scattermapbox\":[{\"marker\":{\"colorbar\":{\"outlinewidth\":0,\"ticks\":\"\"}},\"type\":\"scattermapbox\"}],\"scatterpolar\":[{\"marker\":{\"colorbar\":{\"outlinewidth\":0,\"ticks\":\"\"}},\"type\":\"scatterpolar\"}],\"scatterpolargl\":[{\"marker\":{\"colorbar\":{\"outlinewidth\":0,\"ticks\":\"\"}},\"type\":\"scatterpolargl\"}],\"scatterternary\":[{\"marker\":{\"colorbar\":{\"outlinewidth\":0,\"ticks\":\"\"}},\"type\":\"scatterternary\"}],\"surface\":[{\"colorbar\":{\"outlinewidth\":0,\"ticks\":\"\"},\"colorscale\":[[0.0,\"#0d0887\"],[0.1111111111111111,\"#46039f\"],[0.2222222222222222,\"#7201a8\"],[0.3333333333333333,\"#9c179e\"],[0.4444444444444444,\"#bd3786\"],[0.5555555555555556,\"#d8576b\"],[0.6666666666666666,\"#ed7953\"],[0.7777777777777778,\"#fb9f3a\"],[0.8888888888888888,\"#fdca26\"],[1.0,\"#f0f921\"]],\"type\":\"surface\"}],\"table\":[{\"cells\":{\"fill\":{\"color\":\"#EBF0F8\"},\"line\":{\"color\":\"white\"}},\"header\":{\"fill\":{\"color\":\"#C8D4E3\"},\"line\":{\"color\":\"white\"}},\"type\":\"table\"}]},\"layout\":{\"annotationdefaults\":{\"arrowcolor\":\"#2a3f5f\",\"arrowhead\":0,\"arrowwidth\":1},\"autotypenumbers\":\"strict\",\"coloraxis\":{\"colorbar\":{\"outlinewidth\":0,\"ticks\":\"\"}},\"colorscale\":{\"diverging\":[[0,\"#8e0152\"],[0.1,\"#c51b7d\"],[0.2,\"#de77ae\"],[0.3,\"#f1b6da\"],[0.4,\"#fde0ef\"],[0.5,\"#f7f7f7\"],[0.6,\"#e6f5d0\"],[0.7,\"#b8e186\"],[0.8,\"#7fbc41\"],[0.9,\"#4d9221\"],[1,\"#276419\"]],\"sequential\":[[0.0,\"#0d0887\"],[0.1111111111111111,\"#46039f\"],[0.2222222222222222,\"#7201a8\"],[0.3333333333333333,\"#9c179e\"],[0.4444444444444444,\"#bd3786\"],[0.5555555555555556,\"#d8576b\"],[0.6666666666666666,\"#ed7953\"],[0.7777777777777778,\"#fb9f3a\"],[0.8888888888888888,\"#fdca26\"],[1.0,\"#f0f921\"]],\"sequentialminus\":[[0.0,\"#0d0887\"],[0.1111111111111111,\"#46039f\"],[0.2222222222222222,\"#7201a8\"],[0.3333333333333333,\"#9c179e\"],[0.4444444444444444,\"#bd3786\"],[0.5555555555555556,\"#d8576b\"],[0.6666666666666666,\"#ed7953\"],[0.7777777777777778,\"#fb9f3a\"],[0.8888888888888888,\"#fdca26\"],[1.0,\"#f0f921\"]]},\"colorway\":[\"#636efa\",\"#EF553B\",\"#00cc96\",\"#ab63fa\",\"#FFA15A\",\"#19d3f3\",\"#FF6692\",\"#B6E880\",\"#FF97FF\",\"#FECB52\"],\"font\":{\"color\":\"#2a3f5f\"},\"geo\":{\"bgcolor\":\"white\",\"lakecolor\":\"white\",\"landcolor\":\"#E5ECF6\",\"showlakes\":true,\"showland\":true,\"subunitcolor\":\"white\"},\"hoverlabel\":{\"align\":\"left\"},\"hovermode\":\"closest\",\"mapbox\":{\"style\":\"light\"},\"paper_bgcolor\":\"white\",\"plot_bgcolor\":\"#E5ECF6\",\"polar\":{\"angularaxis\":{\"gridcolor\":\"white\",\"linecolor\":\"white\",\"ticks\":\"\"},\"bgcolor\":\"#E5ECF6\",\"radialaxis\":{\"gridcolor\":\"white\",\"linecolor\":\"white\",\"ticks\":\"\"}},\"scene\":{\"xaxis\":{\"backgroundcolor\":\"#E5ECF6\",\"gridcolor\":\"white\",\"gridwidth\":2,\"linecolor\":\"white\",\"showbackground\":true,\"ticks\":\"\",\"zerolinecolor\":\"white\"},\"yaxis\":{\"backgroundcolor\":\"#E5ECF6\",\"gridcolor\":\"white\",\"gridwidth\":2,\"linecolor\":\"white\",\"showbackground\":true,\"ticks\":\"\",\"zerolinecolor\":\"white\"},\"zaxis\":{\"backgroundcolor\":\"#E5ECF6\",\"gridcolor\":\"white\",\"gridwidth\":2,\"linecolor\":\"white\",\"showbackground\":true,\"ticks\":\"\",\"zerolinecolor\":\"white\"}},\"shapedefaults\":{\"line\":{\"color\":\"#2a3f5f\"}},\"ternary\":{\"aaxis\":{\"gridcolor\":\"white\",\"linecolor\":\"white\",\"ticks\":\"\"},\"baxis\":{\"gridcolor\":\"white\",\"linecolor\":\"white\",\"ticks\":\"\"},\"bgcolor\":\"#E5ECF6\",\"caxis\":{\"gridcolor\":\"white\",\"linecolor\":\"white\",\"ticks\":\"\"}},\"title\":{\"x\":0.05},\"xaxis\":{\"automargin\":true,\"gridcolor\":\"white\",\"linecolor\":\"white\",\"ticks\":\"\",\"title\":{\"standoff\":15},\"zerolinecolor\":\"white\",\"zerolinewidth\":2},\"yaxis\":{\"automargin\":true,\"gridcolor\":\"white\",\"linecolor\":\"white\",\"ticks\":\"\",\"title\":{\"standoff\":15},\"zerolinecolor\":\"white\",\"zerolinewidth\":2}}}},                        {\"responsive\": true}                    ).then(function(){\n",
              "                            \n",
              "var gd = document.getElementById('d4c5afd8-d00e-48a0-8700-4943aa722333');\n",
              "var x = new MutationObserver(function (mutations, observer) {{\n",
              "        var display = window.getComputedStyle(gd).display;\n",
              "        if (!display || display === 'none') {{\n",
              "            console.log([gd, 'removed!']);\n",
              "            Plotly.purge(gd);\n",
              "            observer.disconnect();\n",
              "        }}\n",
              "}});\n",
              "\n",
              "// Listen for the removal of the full notebook cells\n",
              "var notebookContainer = gd.closest('#notebook-container');\n",
              "if (notebookContainer) {{\n",
              "    x.observe(notebookContainer, {childList: true});\n",
              "}}\n",
              "\n",
              "// Listen for the clearing of the current output cell\n",
              "var outputEl = gd.closest('.output');\n",
              "if (outputEl) {{\n",
              "    x.observe(outputEl, {childList: true});\n",
              "}}\n",
              "\n",
              "                        })                };                            </script>        </div>\n",
              "</body>\n",
              "</html>"
            ]
          },
          "metadata": {}
        }
      ],
      "source": [
        "if not TESTING_DATA_PATH:\n",
        "  fig = plot_optimization_history(study)\n",
        "  fig.show()\n",
        "  "
      ]
    },
    {
      "cell_type": "markdown",
      "metadata": {
        "id": "tBhwFu74oepn"
      },
      "source": [
        "Plot the high-dimensional parameter relationships in a study.\n",
        "Dense trails show the best hyperparameters"
      ]
    },
    {
      "cell_type": "code",
      "execution_count": null,
      "metadata": {
        "id": "gKGh4wja_4a-",
        "colab": {
          "base_uri": "https://localhost:8080/",
          "height": 542
        },
        "outputId": "ecd0628f-bb14-4307-e244-637cdde0992a"
      },
      "outputs": [
        {
          "output_type": "display_data",
          "data": {
            "text/html": [
              "<html>\n",
              "<head><meta charset=\"utf-8\" /></head>\n",
              "<body>\n",
              "    <div>            <script src=\"https://cdnjs.cloudflare.com/ajax/libs/mathjax/2.7.5/MathJax.js?config=TeX-AMS-MML_SVG\"></script><script type=\"text/javascript\">if (window.MathJax) {MathJax.Hub.Config({SVG: {font: \"STIX-Web\"}});}</script>                <script type=\"text/javascript\">window.PlotlyConfig = {MathJaxConfig: 'local'};</script>\n",
              "        <script src=\"https://cdn.plot.ly/plotly-2.8.3.min.js\"></script>                <div id=\"53274969-eb71-44e8-9084-adaccce102c2\" class=\"plotly-graph-div\" style=\"height:525px; width:100%;\"></div>            <script type=\"text/javascript\">                                    window.PLOTLYENV=window.PLOTLYENV || {};                                    if (document.getElementById(\"53274969-eb71-44e8-9084-adaccce102c2\")) {                    Plotly.newPlot(                        \"53274969-eb71-44e8-9084-adaccce102c2\",                        [{\"dimensions\":[{\"label\":\"Objective Value\",\"range\":[0.5075431034482759,0.9080010775862069],\"values\":[0.9058459051724138,0.8646123861444408,0.8954028281672247,0.5075431034482759,0.8965438008308411,0.905639897132742,0.8919640594515307,0.8904110665979057,0.9053071120689655,0.9007907592017075,0.8929782592017075,0.9024071385120523,0.8996418611756687,0.8939132217703194,0.8982235665979057,0.886568205109958,0.9032866379310345,0.9034847247189489,0.8925662390116987,0.900457974137931,0.9044989224137931,0.9008620689655172,0.8786923165979057,0.9026686097013539,0.8869009881184019,0.8094970213955847,0.9070502663480824,0.8992377663480824,0.9041582160982592,0.5150069727979857,0.8942460068340959,0.8913539545289402,0.9080010775862069,0.8804354708770226,0.901733647132742,0.8986989732446342,0.8993090781672247,0.9009888439342894,0.8730270657046088,0.8582102553597812,0.8994437764430868,0.9006481355634229,0.8932397303910091,0.884547730972027,0.8785496950149536,0.8878517993565264,0.8768065407358366,0.90159894885688,0.883272057977216,0.8937785234944574]},{\"label\":\"CELL_TYPE\",\"range\":[0,1],\"ticktext\":[\"GRU\",\"LSTM\"],\"tickvals\":[0,1],\"values\":[0,1,0,0,0,0,1,1,0,0,0,0,0,1,1,0,0,0,0,0,0,0,1,0,1,1,0,0,0,0,0,0,0,0,0,0,0,0,0,0,0,0,0,0,0,0,0,0,1,0]},{\"label\":\"CLIP_VALUE\",\"range\":[1,5],\"values\":[3,4,4,2,2,3,1,3,4,3,3,3,3,2,4,1,4,5,3,4,3,3,4,4,1,3,3,3,2,2,3,4,3,4,2,3,3,4,3,2,3,5,5,4,5,2,5,3,4,2]},{\"label\":\"DROPOUT\",\"range\":[0.0367999886097784,0.9918232616991149],\"values\":[0.5267170200734055,0.7638026210026725,0.27332497907332587,0.8843057202997832,0.315557522548795,0.6212660301003445,0.420279488443629,0.5584982953040744,0.4031170790210753,0.5891433716605924,0.7265640572804851,0.5456107265797209,0.42299273625416367,0.636352344814237,0.6320932137488714,0.45699136467991225,0.38716378998778145,0.5824981124008288,0.5369937538280154,0.4240504052994202,0.35070056814161954,0.2965404702376728,0.6540231159058936,0.4950486840764762,0.6605847097548111,0.8603796226236731,0.5280268378151399,0.6189647553601262,0.33306090123028126,0.9918232616991149,0.6912917807916646,0.18287555642953468,0.5215314218035322,0.5183393833081851,0.37175963181104116,0.4749292680808599,0.5774185729497074,0.6924300847321826,0.5032336961740127,0.7841040700702011,0.264511662042091,0.5021107801145988,0.07541046236432003,0.4764704501067334,0.8148093864210177,0.1487096447480183,0.0367999886097784,0.46650129291836046,0.7315204311826492,0.2438626032197285]},{\"label\":\"HIDDEN_DIM\",\"range\":[0,2],\"ticktext\":[\"32\",\"64\",\"128\"],\"tickvals\":[0,1,2],\"values\":[0,0,0,0,0,0,0,0,0,0,0,0,0,0,0,0,0,0,0,0,0,0,0,1,1,1,1,1,1,1,1,1,1,1,1,1,1,1,1,1,1,1,2,2,2,2,2,2,2,2]},{\"label\":\"N_EPOCHS\",\"range\":[5,15],\"values\":[15,7,13,5,15,13,15,14,14,13,15,12,14,13,11,5,14,15,14,15,14,15,13,7,10,9,15,15,13,12,14,12,15,15,14,14,13,14,8,12,13,7,5,9,11,11,15,15,10,15]},{\"label\":\"N_LAYERS\",\"range\":[2,3],\"values\":[2,2,2,3,2,2,2,2,3,2,2,2,2,2,2,2,3,3,3,3,3,2,3,2,2,3,2,2,2,2,3,2,2,2,3,2,2,2,2,3,2,2,3,3,2,2,2,2,2,2]}],\"labelangle\":30,\"labelside\":\"bottom\",\"line\":{\"color\":[0.9058459051724138,0.8646123861444408,0.8954028281672247,0.5075431034482759,0.8965438008308411,0.905639897132742,0.8919640594515307,0.8904110665979057,0.9053071120689655,0.9007907592017075,0.8929782592017075,0.9024071385120523,0.8996418611756687,0.8939132217703194,0.8982235665979057,0.886568205109958,0.9032866379310345,0.9034847247189489,0.8925662390116987,0.900457974137931,0.9044989224137931,0.9008620689655172,0.8786923165979057,0.9026686097013539,0.8869009881184019,0.8094970213955847,0.9070502663480824,0.8992377663480824,0.9041582160982592,0.5150069727979857,0.8942460068340959,0.8913539545289402,0.9080010775862069,0.8804354708770226,0.901733647132742,0.8986989732446342,0.8993090781672247,0.9009888439342894,0.8730270657046088,0.8582102553597812,0.8994437764430868,0.9006481355634229,0.8932397303910091,0.884547730972027,0.8785496950149536,0.8878517993565264,0.8768065407358366,0.90159894885688,0.883272057977216,0.8937785234944574],\"colorbar\":{\"title\":{\"text\":\"Objective Value\"}},\"colorscale\":[[0.0,\"rgb(247,251,255)\"],[0.125,\"rgb(222,235,247)\"],[0.25,\"rgb(198,219,239)\"],[0.375,\"rgb(158,202,225)\"],[0.5,\"rgb(107,174,214)\"],[0.625,\"rgb(66,146,198)\"],[0.75,\"rgb(33,113,181)\"],[0.875,\"rgb(8,81,156)\"],[1.0,\"rgb(8,48,107)\"]],\"reversescale\":false,\"showscale\":true},\"type\":\"parcoords\"}],                        {\"title\":{\"text\":\"Parallel Coordinate Plot\"},\"template\":{\"data\":{\"bar\":[{\"error_x\":{\"color\":\"#2a3f5f\"},\"error_y\":{\"color\":\"#2a3f5f\"},\"marker\":{\"line\":{\"color\":\"#E5ECF6\",\"width\":0.5},\"pattern\":{\"fillmode\":\"overlay\",\"size\":10,\"solidity\":0.2}},\"type\":\"bar\"}],\"barpolar\":[{\"marker\":{\"line\":{\"color\":\"#E5ECF6\",\"width\":0.5},\"pattern\":{\"fillmode\":\"overlay\",\"size\":10,\"solidity\":0.2}},\"type\":\"barpolar\"}],\"carpet\":[{\"aaxis\":{\"endlinecolor\":\"#2a3f5f\",\"gridcolor\":\"white\",\"linecolor\":\"white\",\"minorgridcolor\":\"white\",\"startlinecolor\":\"#2a3f5f\"},\"baxis\":{\"endlinecolor\":\"#2a3f5f\",\"gridcolor\":\"white\",\"linecolor\":\"white\",\"minorgridcolor\":\"white\",\"startlinecolor\":\"#2a3f5f\"},\"type\":\"carpet\"}],\"choropleth\":[{\"colorbar\":{\"outlinewidth\":0,\"ticks\":\"\"},\"type\":\"choropleth\"}],\"contour\":[{\"colorbar\":{\"outlinewidth\":0,\"ticks\":\"\"},\"colorscale\":[[0.0,\"#0d0887\"],[0.1111111111111111,\"#46039f\"],[0.2222222222222222,\"#7201a8\"],[0.3333333333333333,\"#9c179e\"],[0.4444444444444444,\"#bd3786\"],[0.5555555555555556,\"#d8576b\"],[0.6666666666666666,\"#ed7953\"],[0.7777777777777778,\"#fb9f3a\"],[0.8888888888888888,\"#fdca26\"],[1.0,\"#f0f921\"]],\"type\":\"contour\"}],\"contourcarpet\":[{\"colorbar\":{\"outlinewidth\":0,\"ticks\":\"\"},\"type\":\"contourcarpet\"}],\"heatmap\":[{\"colorbar\":{\"outlinewidth\":0,\"ticks\":\"\"},\"colorscale\":[[0.0,\"#0d0887\"],[0.1111111111111111,\"#46039f\"],[0.2222222222222222,\"#7201a8\"],[0.3333333333333333,\"#9c179e\"],[0.4444444444444444,\"#bd3786\"],[0.5555555555555556,\"#d8576b\"],[0.6666666666666666,\"#ed7953\"],[0.7777777777777778,\"#fb9f3a\"],[0.8888888888888888,\"#fdca26\"],[1.0,\"#f0f921\"]],\"type\":\"heatmap\"}],\"heatmapgl\":[{\"colorbar\":{\"outlinewidth\":0,\"ticks\":\"\"},\"colorscale\":[[0.0,\"#0d0887\"],[0.1111111111111111,\"#46039f\"],[0.2222222222222222,\"#7201a8\"],[0.3333333333333333,\"#9c179e\"],[0.4444444444444444,\"#bd3786\"],[0.5555555555555556,\"#d8576b\"],[0.6666666666666666,\"#ed7953\"],[0.7777777777777778,\"#fb9f3a\"],[0.8888888888888888,\"#fdca26\"],[1.0,\"#f0f921\"]],\"type\":\"heatmapgl\"}],\"histogram\":[{\"marker\":{\"pattern\":{\"fillmode\":\"overlay\",\"size\":10,\"solidity\":0.2}},\"type\":\"histogram\"}],\"histogram2d\":[{\"colorbar\":{\"outlinewidth\":0,\"ticks\":\"\"},\"colorscale\":[[0.0,\"#0d0887\"],[0.1111111111111111,\"#46039f\"],[0.2222222222222222,\"#7201a8\"],[0.3333333333333333,\"#9c179e\"],[0.4444444444444444,\"#bd3786\"],[0.5555555555555556,\"#d8576b\"],[0.6666666666666666,\"#ed7953\"],[0.7777777777777778,\"#fb9f3a\"],[0.8888888888888888,\"#fdca26\"],[1.0,\"#f0f921\"]],\"type\":\"histogram2d\"}],\"histogram2dcontour\":[{\"colorbar\":{\"outlinewidth\":0,\"ticks\":\"\"},\"colorscale\":[[0.0,\"#0d0887\"],[0.1111111111111111,\"#46039f\"],[0.2222222222222222,\"#7201a8\"],[0.3333333333333333,\"#9c179e\"],[0.4444444444444444,\"#bd3786\"],[0.5555555555555556,\"#d8576b\"],[0.6666666666666666,\"#ed7953\"],[0.7777777777777778,\"#fb9f3a\"],[0.8888888888888888,\"#fdca26\"],[1.0,\"#f0f921\"]],\"type\":\"histogram2dcontour\"}],\"mesh3d\":[{\"colorbar\":{\"outlinewidth\":0,\"ticks\":\"\"},\"type\":\"mesh3d\"}],\"parcoords\":[{\"line\":{\"colorbar\":{\"outlinewidth\":0,\"ticks\":\"\"}},\"type\":\"parcoords\"}],\"pie\":[{\"automargin\":true,\"type\":\"pie\"}],\"scatter\":[{\"marker\":{\"colorbar\":{\"outlinewidth\":0,\"ticks\":\"\"}},\"type\":\"scatter\"}],\"scatter3d\":[{\"line\":{\"colorbar\":{\"outlinewidth\":0,\"ticks\":\"\"}},\"marker\":{\"colorbar\":{\"outlinewidth\":0,\"ticks\":\"\"}},\"type\":\"scatter3d\"}],\"scattercarpet\":[{\"marker\":{\"colorbar\":{\"outlinewidth\":0,\"ticks\":\"\"}},\"type\":\"scattercarpet\"}],\"scattergeo\":[{\"marker\":{\"colorbar\":{\"outlinewidth\":0,\"ticks\":\"\"}},\"type\":\"scattergeo\"}],\"scattergl\":[{\"marker\":{\"colorbar\":{\"outlinewidth\":0,\"ticks\":\"\"}},\"type\":\"scattergl\"}],\"scattermapbox\":[{\"marker\":{\"colorbar\":{\"outlinewidth\":0,\"ticks\":\"\"}},\"type\":\"scattermapbox\"}],\"scatterpolar\":[{\"marker\":{\"colorbar\":{\"outlinewidth\":0,\"ticks\":\"\"}},\"type\":\"scatterpolar\"}],\"scatterpolargl\":[{\"marker\":{\"colorbar\":{\"outlinewidth\":0,\"ticks\":\"\"}},\"type\":\"scatterpolargl\"}],\"scatterternary\":[{\"marker\":{\"colorbar\":{\"outlinewidth\":0,\"ticks\":\"\"}},\"type\":\"scatterternary\"}],\"surface\":[{\"colorbar\":{\"outlinewidth\":0,\"ticks\":\"\"},\"colorscale\":[[0.0,\"#0d0887\"],[0.1111111111111111,\"#46039f\"],[0.2222222222222222,\"#7201a8\"],[0.3333333333333333,\"#9c179e\"],[0.4444444444444444,\"#bd3786\"],[0.5555555555555556,\"#d8576b\"],[0.6666666666666666,\"#ed7953\"],[0.7777777777777778,\"#fb9f3a\"],[0.8888888888888888,\"#fdca26\"],[1.0,\"#f0f921\"]],\"type\":\"surface\"}],\"table\":[{\"cells\":{\"fill\":{\"color\":\"#EBF0F8\"},\"line\":{\"color\":\"white\"}},\"header\":{\"fill\":{\"color\":\"#C8D4E3\"},\"line\":{\"color\":\"white\"}},\"type\":\"table\"}]},\"layout\":{\"annotationdefaults\":{\"arrowcolor\":\"#2a3f5f\",\"arrowhead\":0,\"arrowwidth\":1},\"autotypenumbers\":\"strict\",\"coloraxis\":{\"colorbar\":{\"outlinewidth\":0,\"ticks\":\"\"}},\"colorscale\":{\"diverging\":[[0,\"#8e0152\"],[0.1,\"#c51b7d\"],[0.2,\"#de77ae\"],[0.3,\"#f1b6da\"],[0.4,\"#fde0ef\"],[0.5,\"#f7f7f7\"],[0.6,\"#e6f5d0\"],[0.7,\"#b8e186\"],[0.8,\"#7fbc41\"],[0.9,\"#4d9221\"],[1,\"#276419\"]],\"sequential\":[[0.0,\"#0d0887\"],[0.1111111111111111,\"#46039f\"],[0.2222222222222222,\"#7201a8\"],[0.3333333333333333,\"#9c179e\"],[0.4444444444444444,\"#bd3786\"],[0.5555555555555556,\"#d8576b\"],[0.6666666666666666,\"#ed7953\"],[0.7777777777777778,\"#fb9f3a\"],[0.8888888888888888,\"#fdca26\"],[1.0,\"#f0f921\"]],\"sequentialminus\":[[0.0,\"#0d0887\"],[0.1111111111111111,\"#46039f\"],[0.2222222222222222,\"#7201a8\"],[0.3333333333333333,\"#9c179e\"],[0.4444444444444444,\"#bd3786\"],[0.5555555555555556,\"#d8576b\"],[0.6666666666666666,\"#ed7953\"],[0.7777777777777778,\"#fb9f3a\"],[0.8888888888888888,\"#fdca26\"],[1.0,\"#f0f921\"]]},\"colorway\":[\"#636efa\",\"#EF553B\",\"#00cc96\",\"#ab63fa\",\"#FFA15A\",\"#19d3f3\",\"#FF6692\",\"#B6E880\",\"#FF97FF\",\"#FECB52\"],\"font\":{\"color\":\"#2a3f5f\"},\"geo\":{\"bgcolor\":\"white\",\"lakecolor\":\"white\",\"landcolor\":\"#E5ECF6\",\"showlakes\":true,\"showland\":true,\"subunitcolor\":\"white\"},\"hoverlabel\":{\"align\":\"left\"},\"hovermode\":\"closest\",\"mapbox\":{\"style\":\"light\"},\"paper_bgcolor\":\"white\",\"plot_bgcolor\":\"#E5ECF6\",\"polar\":{\"angularaxis\":{\"gridcolor\":\"white\",\"linecolor\":\"white\",\"ticks\":\"\"},\"bgcolor\":\"#E5ECF6\",\"radialaxis\":{\"gridcolor\":\"white\",\"linecolor\":\"white\",\"ticks\":\"\"}},\"scene\":{\"xaxis\":{\"backgroundcolor\":\"#E5ECF6\",\"gridcolor\":\"white\",\"gridwidth\":2,\"linecolor\":\"white\",\"showbackground\":true,\"ticks\":\"\",\"zerolinecolor\":\"white\"},\"yaxis\":{\"backgroundcolor\":\"#E5ECF6\",\"gridcolor\":\"white\",\"gridwidth\":2,\"linecolor\":\"white\",\"showbackground\":true,\"ticks\":\"\",\"zerolinecolor\":\"white\"},\"zaxis\":{\"backgroundcolor\":\"#E5ECF6\",\"gridcolor\":\"white\",\"gridwidth\":2,\"linecolor\":\"white\",\"showbackground\":true,\"ticks\":\"\",\"zerolinecolor\":\"white\"}},\"shapedefaults\":{\"line\":{\"color\":\"#2a3f5f\"}},\"ternary\":{\"aaxis\":{\"gridcolor\":\"white\",\"linecolor\":\"white\",\"ticks\":\"\"},\"baxis\":{\"gridcolor\":\"white\",\"linecolor\":\"white\",\"ticks\":\"\"},\"bgcolor\":\"#E5ECF6\",\"caxis\":{\"gridcolor\":\"white\",\"linecolor\":\"white\",\"ticks\":\"\"}},\"title\":{\"x\":0.05},\"xaxis\":{\"automargin\":true,\"gridcolor\":\"white\",\"linecolor\":\"white\",\"ticks\":\"\",\"title\":{\"standoff\":15},\"zerolinecolor\":\"white\",\"zerolinewidth\":2},\"yaxis\":{\"automargin\":true,\"gridcolor\":\"white\",\"linecolor\":\"white\",\"ticks\":\"\",\"title\":{\"standoff\":15},\"zerolinecolor\":\"white\",\"zerolinewidth\":2}}}},                        {\"responsive\": true}                    ).then(function(){\n",
              "                            \n",
              "var gd = document.getElementById('53274969-eb71-44e8-9084-adaccce102c2');\n",
              "var x = new MutationObserver(function (mutations, observer) {{\n",
              "        var display = window.getComputedStyle(gd).display;\n",
              "        if (!display || display === 'none') {{\n",
              "            console.log([gd, 'removed!']);\n",
              "            Plotly.purge(gd);\n",
              "            observer.disconnect();\n",
              "        }}\n",
              "}});\n",
              "\n",
              "// Listen for the removal of the full notebook cells\n",
              "var notebookContainer = gd.closest('#notebook-container');\n",
              "if (notebookContainer) {{\n",
              "    x.observe(notebookContainer, {childList: true});\n",
              "}}\n",
              "\n",
              "// Listen for the clearing of the current output cell\n",
              "var outputEl = gd.closest('.output');\n",
              "if (outputEl) {{\n",
              "    x.observe(outputEl, {childList: true});\n",
              "}}\n",
              "\n",
              "                        })                };                            </script>        </div>\n",
              "</body>\n",
              "</html>"
            ]
          },
          "metadata": {}
        }
      ],
      "source": [
        "if not TESTING_DATA_PATH:\n",
        "  fig = plot_parallel_coordinate(study)\n",
        "  fig.show()"
      ]
    },
    {
      "cell_type": "code",
      "execution_count": null,
      "metadata": {
        "id": "FMWrsWUMa7go",
        "colab": {
          "base_uri": "https://localhost:8080/",
          "height": 542
        },
        "outputId": "aec7e231-9933-4413-f6c0-290305eb4829"
      },
      "outputs": [
        {
          "output_type": "display_data",
          "data": {
            "text/html": [
              "<html>\n",
              "<head><meta charset=\"utf-8\" /></head>\n",
              "<body>\n",
              "    <div>            <script src=\"https://cdnjs.cloudflare.com/ajax/libs/mathjax/2.7.5/MathJax.js?config=TeX-AMS-MML_SVG\"></script><script type=\"text/javascript\">if (window.MathJax) {MathJax.Hub.Config({SVG: {font: \"STIX-Web\"}});}</script>                <script type=\"text/javascript\">window.PlotlyConfig = {MathJaxConfig: 'local'};</script>\n",
              "        <script src=\"https://cdn.plot.ly/plotly-2.8.3.min.js\"></script>                <div id=\"cf10f3b3-8d88-444e-9c40-df652597951f\" class=\"plotly-graph-div\" style=\"height:525px; width:100%;\"></div>            <script type=\"text/javascript\">                                    window.PLOTLYENV=window.PLOTLYENV || {};                                    if (document.getElementById(\"cf10f3b3-8d88-444e-9c40-df652597951f\")) {                    Plotly.newPlot(                        \"cf10f3b3-8d88-444e-9c40-df652597951f\",                        [{\"cliponaxis\":false,\"hovertemplate\":[\"HIDDEN_DIM (CategoricalDistribution): 0.0019881741109479293<extra></extra>\",\"N_LAYERS (IntDistribution): 0.002528035424040082<extra></extra>\",\"CELL_TYPE (CategoricalDistribution): 0.0049849550022708<extra></extra>\",\"CLIP_VALUE (IntDistribution): 0.005244259025224099<extra></extra>\",\"N_EPOCHS (IntDistribution): 0.008724208449557168<extra></extra>\",\"DROPOUT (FloatDistribution): 0.97653036798796<extra></extra>\"],\"marker\":{\"color\":\"rgb(66,146,198)\"},\"orientation\":\"h\",\"text\":[\"<0.01\",\"<0.01\",\"<0.01\",\"<0.01\",\"<0.01\",\"0.98\"],\"textposition\":\"outside\",\"x\":[0.0019881741109479293,0.002528035424040082,0.0049849550022708,0.005244259025224099,0.008724208449557168,0.97653036798796],\"y\":[\"HIDDEN_DIM\",\"N_LAYERS\",\"CELL_TYPE\",\"CLIP_VALUE\",\"N_EPOCHS\",\"DROPOUT\"],\"type\":\"bar\"}],                        {\"showlegend\":false,\"title\":{\"text\":\"Hyperparameter Importances\"},\"xaxis\":{\"title\":{\"text\":\"Importance for Objective Value\"}},\"yaxis\":{\"title\":{\"text\":\"Hyperparameter\"}},\"template\":{\"data\":{\"bar\":[{\"error_x\":{\"color\":\"#2a3f5f\"},\"error_y\":{\"color\":\"#2a3f5f\"},\"marker\":{\"line\":{\"color\":\"#E5ECF6\",\"width\":0.5},\"pattern\":{\"fillmode\":\"overlay\",\"size\":10,\"solidity\":0.2}},\"type\":\"bar\"}],\"barpolar\":[{\"marker\":{\"line\":{\"color\":\"#E5ECF6\",\"width\":0.5},\"pattern\":{\"fillmode\":\"overlay\",\"size\":10,\"solidity\":0.2}},\"type\":\"barpolar\"}],\"carpet\":[{\"aaxis\":{\"endlinecolor\":\"#2a3f5f\",\"gridcolor\":\"white\",\"linecolor\":\"white\",\"minorgridcolor\":\"white\",\"startlinecolor\":\"#2a3f5f\"},\"baxis\":{\"endlinecolor\":\"#2a3f5f\",\"gridcolor\":\"white\",\"linecolor\":\"white\",\"minorgridcolor\":\"white\",\"startlinecolor\":\"#2a3f5f\"},\"type\":\"carpet\"}],\"choropleth\":[{\"colorbar\":{\"outlinewidth\":0,\"ticks\":\"\"},\"type\":\"choropleth\"}],\"contour\":[{\"colorbar\":{\"outlinewidth\":0,\"ticks\":\"\"},\"colorscale\":[[0.0,\"#0d0887\"],[0.1111111111111111,\"#46039f\"],[0.2222222222222222,\"#7201a8\"],[0.3333333333333333,\"#9c179e\"],[0.4444444444444444,\"#bd3786\"],[0.5555555555555556,\"#d8576b\"],[0.6666666666666666,\"#ed7953\"],[0.7777777777777778,\"#fb9f3a\"],[0.8888888888888888,\"#fdca26\"],[1.0,\"#f0f921\"]],\"type\":\"contour\"}],\"contourcarpet\":[{\"colorbar\":{\"outlinewidth\":0,\"ticks\":\"\"},\"type\":\"contourcarpet\"}],\"heatmap\":[{\"colorbar\":{\"outlinewidth\":0,\"ticks\":\"\"},\"colorscale\":[[0.0,\"#0d0887\"],[0.1111111111111111,\"#46039f\"],[0.2222222222222222,\"#7201a8\"],[0.3333333333333333,\"#9c179e\"],[0.4444444444444444,\"#bd3786\"],[0.5555555555555556,\"#d8576b\"],[0.6666666666666666,\"#ed7953\"],[0.7777777777777778,\"#fb9f3a\"],[0.8888888888888888,\"#fdca26\"],[1.0,\"#f0f921\"]],\"type\":\"heatmap\"}],\"heatmapgl\":[{\"colorbar\":{\"outlinewidth\":0,\"ticks\":\"\"},\"colorscale\":[[0.0,\"#0d0887\"],[0.1111111111111111,\"#46039f\"],[0.2222222222222222,\"#7201a8\"],[0.3333333333333333,\"#9c179e\"],[0.4444444444444444,\"#bd3786\"],[0.5555555555555556,\"#d8576b\"],[0.6666666666666666,\"#ed7953\"],[0.7777777777777778,\"#fb9f3a\"],[0.8888888888888888,\"#fdca26\"],[1.0,\"#f0f921\"]],\"type\":\"heatmapgl\"}],\"histogram\":[{\"marker\":{\"pattern\":{\"fillmode\":\"overlay\",\"size\":10,\"solidity\":0.2}},\"type\":\"histogram\"}],\"histogram2d\":[{\"colorbar\":{\"outlinewidth\":0,\"ticks\":\"\"},\"colorscale\":[[0.0,\"#0d0887\"],[0.1111111111111111,\"#46039f\"],[0.2222222222222222,\"#7201a8\"],[0.3333333333333333,\"#9c179e\"],[0.4444444444444444,\"#bd3786\"],[0.5555555555555556,\"#d8576b\"],[0.6666666666666666,\"#ed7953\"],[0.7777777777777778,\"#fb9f3a\"],[0.8888888888888888,\"#fdca26\"],[1.0,\"#f0f921\"]],\"type\":\"histogram2d\"}],\"histogram2dcontour\":[{\"colorbar\":{\"outlinewidth\":0,\"ticks\":\"\"},\"colorscale\":[[0.0,\"#0d0887\"],[0.1111111111111111,\"#46039f\"],[0.2222222222222222,\"#7201a8\"],[0.3333333333333333,\"#9c179e\"],[0.4444444444444444,\"#bd3786\"],[0.5555555555555556,\"#d8576b\"],[0.6666666666666666,\"#ed7953\"],[0.7777777777777778,\"#fb9f3a\"],[0.8888888888888888,\"#fdca26\"],[1.0,\"#f0f921\"]],\"type\":\"histogram2dcontour\"}],\"mesh3d\":[{\"colorbar\":{\"outlinewidth\":0,\"ticks\":\"\"},\"type\":\"mesh3d\"}],\"parcoords\":[{\"line\":{\"colorbar\":{\"outlinewidth\":0,\"ticks\":\"\"}},\"type\":\"parcoords\"}],\"pie\":[{\"automargin\":true,\"type\":\"pie\"}],\"scatter\":[{\"marker\":{\"colorbar\":{\"outlinewidth\":0,\"ticks\":\"\"}},\"type\":\"scatter\"}],\"scatter3d\":[{\"line\":{\"colorbar\":{\"outlinewidth\":0,\"ticks\":\"\"}},\"marker\":{\"colorbar\":{\"outlinewidth\":0,\"ticks\":\"\"}},\"type\":\"scatter3d\"}],\"scattercarpet\":[{\"marker\":{\"colorbar\":{\"outlinewidth\":0,\"ticks\":\"\"}},\"type\":\"scattercarpet\"}],\"scattergeo\":[{\"marker\":{\"colorbar\":{\"outlinewidth\":0,\"ticks\":\"\"}},\"type\":\"scattergeo\"}],\"scattergl\":[{\"marker\":{\"colorbar\":{\"outlinewidth\":0,\"ticks\":\"\"}},\"type\":\"scattergl\"}],\"scattermapbox\":[{\"marker\":{\"colorbar\":{\"outlinewidth\":0,\"ticks\":\"\"}},\"type\":\"scattermapbox\"}],\"scatterpolar\":[{\"marker\":{\"colorbar\":{\"outlinewidth\":0,\"ticks\":\"\"}},\"type\":\"scatterpolar\"}],\"scatterpolargl\":[{\"marker\":{\"colorbar\":{\"outlinewidth\":0,\"ticks\":\"\"}},\"type\":\"scatterpolargl\"}],\"scatterternary\":[{\"marker\":{\"colorbar\":{\"outlinewidth\":0,\"ticks\":\"\"}},\"type\":\"scatterternary\"}],\"surface\":[{\"colorbar\":{\"outlinewidth\":0,\"ticks\":\"\"},\"colorscale\":[[0.0,\"#0d0887\"],[0.1111111111111111,\"#46039f\"],[0.2222222222222222,\"#7201a8\"],[0.3333333333333333,\"#9c179e\"],[0.4444444444444444,\"#bd3786\"],[0.5555555555555556,\"#d8576b\"],[0.6666666666666666,\"#ed7953\"],[0.7777777777777778,\"#fb9f3a\"],[0.8888888888888888,\"#fdca26\"],[1.0,\"#f0f921\"]],\"type\":\"surface\"}],\"table\":[{\"cells\":{\"fill\":{\"color\":\"#EBF0F8\"},\"line\":{\"color\":\"white\"}},\"header\":{\"fill\":{\"color\":\"#C8D4E3\"},\"line\":{\"color\":\"white\"}},\"type\":\"table\"}]},\"layout\":{\"annotationdefaults\":{\"arrowcolor\":\"#2a3f5f\",\"arrowhead\":0,\"arrowwidth\":1},\"autotypenumbers\":\"strict\",\"coloraxis\":{\"colorbar\":{\"outlinewidth\":0,\"ticks\":\"\"}},\"colorscale\":{\"diverging\":[[0,\"#8e0152\"],[0.1,\"#c51b7d\"],[0.2,\"#de77ae\"],[0.3,\"#f1b6da\"],[0.4,\"#fde0ef\"],[0.5,\"#f7f7f7\"],[0.6,\"#e6f5d0\"],[0.7,\"#b8e186\"],[0.8,\"#7fbc41\"],[0.9,\"#4d9221\"],[1,\"#276419\"]],\"sequential\":[[0.0,\"#0d0887\"],[0.1111111111111111,\"#46039f\"],[0.2222222222222222,\"#7201a8\"],[0.3333333333333333,\"#9c179e\"],[0.4444444444444444,\"#bd3786\"],[0.5555555555555556,\"#d8576b\"],[0.6666666666666666,\"#ed7953\"],[0.7777777777777778,\"#fb9f3a\"],[0.8888888888888888,\"#fdca26\"],[1.0,\"#f0f921\"]],\"sequentialminus\":[[0.0,\"#0d0887\"],[0.1111111111111111,\"#46039f\"],[0.2222222222222222,\"#7201a8\"],[0.3333333333333333,\"#9c179e\"],[0.4444444444444444,\"#bd3786\"],[0.5555555555555556,\"#d8576b\"],[0.6666666666666666,\"#ed7953\"],[0.7777777777777778,\"#fb9f3a\"],[0.8888888888888888,\"#fdca26\"],[1.0,\"#f0f921\"]]},\"colorway\":[\"#636efa\",\"#EF553B\",\"#00cc96\",\"#ab63fa\",\"#FFA15A\",\"#19d3f3\",\"#FF6692\",\"#B6E880\",\"#FF97FF\",\"#FECB52\"],\"font\":{\"color\":\"#2a3f5f\"},\"geo\":{\"bgcolor\":\"white\",\"lakecolor\":\"white\",\"landcolor\":\"#E5ECF6\",\"showlakes\":true,\"showland\":true,\"subunitcolor\":\"white\"},\"hoverlabel\":{\"align\":\"left\"},\"hovermode\":\"closest\",\"mapbox\":{\"style\":\"light\"},\"paper_bgcolor\":\"white\",\"plot_bgcolor\":\"#E5ECF6\",\"polar\":{\"angularaxis\":{\"gridcolor\":\"white\",\"linecolor\":\"white\",\"ticks\":\"\"},\"bgcolor\":\"#E5ECF6\",\"radialaxis\":{\"gridcolor\":\"white\",\"linecolor\":\"white\",\"ticks\":\"\"}},\"scene\":{\"xaxis\":{\"backgroundcolor\":\"#E5ECF6\",\"gridcolor\":\"white\",\"gridwidth\":2,\"linecolor\":\"white\",\"showbackground\":true,\"ticks\":\"\",\"zerolinecolor\":\"white\"},\"yaxis\":{\"backgroundcolor\":\"#E5ECF6\",\"gridcolor\":\"white\",\"gridwidth\":2,\"linecolor\":\"white\",\"showbackground\":true,\"ticks\":\"\",\"zerolinecolor\":\"white\"},\"zaxis\":{\"backgroundcolor\":\"#E5ECF6\",\"gridcolor\":\"white\",\"gridwidth\":2,\"linecolor\":\"white\",\"showbackground\":true,\"ticks\":\"\",\"zerolinecolor\":\"white\"}},\"shapedefaults\":{\"line\":{\"color\":\"#2a3f5f\"}},\"ternary\":{\"aaxis\":{\"gridcolor\":\"white\",\"linecolor\":\"white\",\"ticks\":\"\"},\"baxis\":{\"gridcolor\":\"white\",\"linecolor\":\"white\",\"ticks\":\"\"},\"bgcolor\":\"#E5ECF6\",\"caxis\":{\"gridcolor\":\"white\",\"linecolor\":\"white\",\"ticks\":\"\"}},\"title\":{\"x\":0.05},\"xaxis\":{\"automargin\":true,\"gridcolor\":\"white\",\"linecolor\":\"white\",\"ticks\":\"\",\"title\":{\"standoff\":15},\"zerolinecolor\":\"white\",\"zerolinewidth\":2},\"yaxis\":{\"automargin\":true,\"gridcolor\":\"white\",\"linecolor\":\"white\",\"ticks\":\"\",\"title\":{\"standoff\":15},\"zerolinecolor\":\"white\",\"zerolinewidth\":2}}}},                        {\"responsive\": true}                    ).then(function(){\n",
              "                            \n",
              "var gd = document.getElementById('cf10f3b3-8d88-444e-9c40-df652597951f');\n",
              "var x = new MutationObserver(function (mutations, observer) {{\n",
              "        var display = window.getComputedStyle(gd).display;\n",
              "        if (!display || display === 'none') {{\n",
              "            console.log([gd, 'removed!']);\n",
              "            Plotly.purge(gd);\n",
              "            observer.disconnect();\n",
              "        }}\n",
              "}});\n",
              "\n",
              "// Listen for the removal of the full notebook cells\n",
              "var notebookContainer = gd.closest('#notebook-container');\n",
              "if (notebookContainer) {{\n",
              "    x.observe(notebookContainer, {childList: true});\n",
              "}}\n",
              "\n",
              "// Listen for the clearing of the current output cell\n",
              "var outputEl = gd.closest('.output');\n",
              "if (outputEl) {{\n",
              "    x.observe(outputEl, {childList: true});\n",
              "}}\n",
              "\n",
              "                        })                };                            </script>        </div>\n",
              "</body>\n",
              "</html>"
            ]
          },
          "metadata": {}
        }
      ],
      "source": [
        "if not TESTING_DATA_PATH:\n",
        "  fig = plot_param_importances(study)\n",
        "  fig.show()"
      ]
    },
    {
      "cell_type": "markdown",
      "source": [
        "###Choose best trial based on learning curves"
      ],
      "metadata": {
        "id": "bBt16H_nj4zI"
      }
    },
    {
      "cell_type": "code",
      "source": [
        "if not TESTING_DATA_PATH:\n",
        "  all_trials =  study.get_trials()\n",
        "  sorted_trials = sorted(all_trials, key=lambda x:x.value, reverse=True)"
      ],
      "metadata": {
        "id": "Qyz98LlXb7fv"
      },
      "execution_count": null,
      "outputs": []
    },
    {
      "cell_type": "code",
      "execution_count": null,
      "metadata": {
        "id": "9AyOALhwxCbW"
      },
      "outputs": [],
      "source": [
        "def plot_loss_acc(train_losses, val_losses, train_accuracies, val_accuracies, n_epochs, append_to_title=\"\"):\n",
        "  plt.style.use(\"ggplot\")\n",
        "  plt.figure(figsize=(12, 8))\n",
        "\n",
        "  plt.plot(np.arange(0, n_epochs), train_losses, label=\"train_loss\")\n",
        "  plt.plot(np.arange(0, n_epochs), val_losses, label=\"val_loss\")\n",
        "  plt.plot(np.arange(0, n_epochs), train_accuracies, label=\"train_acc\")\n",
        "  plt.plot(np.arange(0, n_epochs), val_accuracies, label=\"val_acc\")\n",
        "  plt.title(\"Training Loss and Accuracy\" + append_to_title)\n",
        "  plt.xlabel(\"Epoch\")\n",
        "  plt.ylabel(\"Loss/Accuracy\")\n",
        "  plt.legend()"
      ]
    },
    {
      "cell_type": "markdown",
      "source": [
        "Train and evaluate the five best trials and plot their learning curves"
      ],
      "metadata": {
        "id": "UCy7MA9HkwsN"
      }
    },
    {
      "cell_type": "code",
      "source": [
        "if not TESTING_DATA_PATH:\n",
        "  for i, trial in enumerate(sorted_trials[:5]):\n",
        "    CELL_TYPE = trial.params['CELL_TYPE']\n",
        "    INPUT_DIM = len(REVIEW.vocab)\n",
        "    EMBEDDING_DIM = 50\n",
        "    HIDDEN_DIM = trial.params['HIDDEN_DIM']\n",
        "    OUTPUT_DIM = 1\n",
        "    N_LAYERS = trial.params['N_LAYERS']\n",
        "    DROPOUT = trial.params['DROPOUT']\n",
        "    PAD_IDX = REVIEW.vocab.stoi[REVIEW.pad_token]\n",
        "\n",
        "    model = BRNN(CELL_TYPE, \n",
        "                  INPUT_DIM, \n",
        "                  EMBEDDING_DIM, \n",
        "                  HIDDEN_DIM, \n",
        "                  OUTPUT_DIM, \n",
        "                  N_LAYERS, \n",
        "                  DROPOUT, \n",
        "                  PAD_IDX)\n",
        "    pretrained_embeddings = REVIEW.vocab.vectors\n",
        "\n",
        "    #Initialize the weights of the embedding layer with the GloVe pre-trained embeddings.\n",
        "    model.embedding.weight.data.copy_(pretrained_embeddings)\n",
        "    UNK_IDX = REVIEW.vocab.stoi[REVIEW.unk_token]\n",
        "\n",
        "    #Initialize the <unk> and <pad> tokens to zero\n",
        "    model.embedding.weight.data[UNK_IDX] = torch.zeros(EMBEDDING_DIM)\n",
        "    model.embedding.weight.data[PAD_IDX] = torch.zeros(EMBEDDING_DIM)\n",
        "\n",
        "    optimizer = optim.Adam(model.parameters())\n",
        "    criterion = nn.BCELoss()\n",
        "    model = model.to(device)\n",
        "    criterion = criterion.to(device)\n",
        "\n",
        "    N_EPOCHS = trial.params['N_EPOCHS']\n",
        "    CLIP_VALUE = trial.params['CLIP_VALUE']\n",
        "\n",
        "    total_train_loss = []\n",
        "    total_train_acc = []\n",
        "    total_valid_loss = []\n",
        "    total_valid_acc = []\n",
        "\n",
        "    for epoch in range(N_EPOCHS):\n",
        "        train_loss, train_acc = train(model, train_iterator, optimizer, criterion, CLIP_VALUE)\n",
        "        if not TESTING_DATA_PATH:\n",
        "          valid_loss, valid_acc = evaluate(model, valid_iterator, criterion)\n",
        "            \n",
        "        total_train_loss.append(train_loss)\n",
        "        total_train_acc.append(train_acc)\n",
        "        if not TESTING_DATA_PATH:\n",
        "          total_valid_loss.append(valid_loss)\n",
        "          total_valid_acc.append(valid_acc)\n",
        "\n",
        "        print(f'Epoch: {epoch+1:02}')\n",
        "        print(f'\\tTrain Loss: {train_loss:.3f} | Train Acc: {train_acc*100:.2f}%')\n",
        "        if not TESTING_DATA_PATH:\n",
        "          print(f'\\t Val. Loss: {valid_loss:.3f} |  Val. Acc: {valid_acc*100:.2f}%')\n",
        "    plot_loss_acc(total_train_loss, total_valid_loss, total_train_acc, total_valid_acc, N_EPOCHS, append_to_title=\" - trial: \" + str(i) + \" - acc: \" + str(trial.value))\n"
      ],
      "metadata": {
        "colab": {
          "base_uri": "https://localhost:8080/",
          "height": 1000
        },
        "id": "Yq8KtBGceTvx",
        "outputId": "afa9549e-bd14-44a1-8a0f-fc7604c0ddb5"
      },
      "execution_count": null,
      "outputs": [
        {
          "output_type": "stream",
          "name": "stdout",
          "text": [
            "Epoch: 01\n",
            "\tTrain Loss: 0.610 | Train Acc: 65.22%\n",
            "\t Val. Loss: 0.474 |  Val. Acc: 78.47%\n",
            "Epoch: 02\n",
            "\tTrain Loss: 0.467 | Train Acc: 78.27%\n",
            "\t Val. Loss: 0.416 |  Val. Acc: 83.90%\n",
            "Epoch: 03\n",
            "\tTrain Loss: 0.380 | Train Acc: 83.40%\n",
            "\t Val. Loss: 0.346 |  Val. Acc: 86.65%\n",
            "Epoch: 04\n",
            "\tTrain Loss: 0.331 | Train Acc: 86.06%\n",
            "\t Val. Loss: 0.293 |  Val. Acc: 87.57%\n",
            "Epoch: 05\n",
            "\tTrain Loss: 0.293 | Train Acc: 87.64%\n",
            "\t Val. Loss: 0.298 |  Val. Acc: 89.17%\n",
            "Epoch: 06\n",
            "\tTrain Loss: 0.267 | Train Acc: 88.90%\n",
            "\t Val. Loss: 0.305 |  Val. Acc: 89.46%\n",
            "Epoch: 07\n",
            "\tTrain Loss: 0.251 | Train Acc: 89.85%\n",
            "\t Val. Loss: 0.269 |  Val. Acc: 89.78%\n",
            "Epoch: 08\n",
            "\tTrain Loss: 0.236 | Train Acc: 90.60%\n",
            "\t Val. Loss: 0.267 |  Val. Acc: 89.74%\n",
            "Epoch: 09\n",
            "\tTrain Loss: 0.220 | Train Acc: 91.08%\n",
            "\t Val. Loss: 0.276 |  Val. Acc: 90.47%\n",
            "Epoch: 10\n",
            "\tTrain Loss: 0.210 | Train Acc: 91.71%\n",
            "\t Val. Loss: 0.295 |  Val. Acc: 89.67%\n",
            "Epoch: 11\n",
            "\tTrain Loss: 0.200 | Train Acc: 92.16%\n",
            "\t Val. Loss: 0.263 |  Val. Acc: 90.52%\n",
            "Epoch: 12\n",
            "\tTrain Loss: 0.186 | Train Acc: 92.78%\n",
            "\t Val. Loss: 0.278 |  Val. Acc: 90.77%\n",
            "Epoch: 13\n",
            "\tTrain Loss: 0.181 | Train Acc: 93.00%\n",
            "\t Val. Loss: 0.278 |  Val. Acc: 90.72%\n",
            "Epoch: 14\n",
            "\tTrain Loss: 0.166 | Train Acc: 93.53%\n",
            "\t Val. Loss: 0.297 |  Val. Acc: 90.80%\n",
            "Epoch: 15\n",
            "\tTrain Loss: 0.164 | Train Acc: 93.56%\n",
            "\t Val. Loss: 0.310 |  Val. Acc: 89.83%\n",
            "Epoch: 01\n",
            "\tTrain Loss: 0.621 | Train Acc: 64.07%\n",
            "\t Val. Loss: 0.522 |  Val. Acc: 76.17%\n",
            "Epoch: 02\n",
            "\tTrain Loss: 0.465 | Train Acc: 78.21%\n",
            "\t Val. Loss: 0.376 |  Val. Acc: 84.74%\n",
            "Epoch: 03\n",
            "\tTrain Loss: 0.383 | Train Acc: 83.17%\n",
            "\t Val. Loss: 0.327 |  Val. Acc: 85.92%\n",
            "Epoch: 04\n",
            "\tTrain Loss: 0.331 | Train Acc: 85.81%\n",
            "\t Val. Loss: 0.291 |  Val. Acc: 87.85%\n",
            "Epoch: 05\n",
            "\tTrain Loss: 0.294 | Train Acc: 87.65%\n",
            "\t Val. Loss: 0.267 |  Val. Acc: 88.91%\n",
            "Epoch: 06\n",
            "\tTrain Loss: 0.273 | Train Acc: 88.58%\n",
            "\t Val. Loss: 0.270 |  Val. Acc: 89.24%\n",
            "Epoch: 07\n",
            "\tTrain Loss: 0.252 | Train Acc: 89.76%\n",
            "\t Val. Loss: 0.281 |  Val. Acc: 89.42%\n",
            "Epoch: 08\n",
            "\tTrain Loss: 0.234 | Train Acc: 90.54%\n",
            "\t Val. Loss: 0.309 |  Val. Acc: 88.77%\n",
            "Epoch: 09\n",
            "\tTrain Loss: 0.222 | Train Acc: 91.12%\n",
            "\t Val. Loss: 0.248 |  Val. Acc: 90.29%\n",
            "Epoch: 10\n",
            "\tTrain Loss: 0.210 | Train Acc: 91.74%\n",
            "\t Val. Loss: 0.274 |  Val. Acc: 89.86%\n",
            "Epoch: 11\n",
            "\tTrain Loss: 0.200 | Train Acc: 91.97%\n",
            "\t Val. Loss: 0.257 |  Val. Acc: 90.42%\n",
            "Epoch: 12\n",
            "\tTrain Loss: 0.190 | Train Acc: 92.58%\n",
            "\t Val. Loss: 0.268 |  Val. Acc: 90.16%\n",
            "Epoch: 13\n",
            "\tTrain Loss: 0.178 | Train Acc: 92.98%\n",
            "\t Val. Loss: 0.276 |  Val. Acc: 90.42%\n",
            "Epoch: 14\n",
            "\tTrain Loss: 0.171 | Train Acc: 93.43%\n",
            "\t Val. Loss: 0.274 |  Val. Acc: 89.63%\n",
            "Epoch: 15\n",
            "\tTrain Loss: 0.159 | Train Acc: 93.86%\n",
            "\t Val. Loss: 0.288 |  Val. Acc: 90.13%\n",
            "Epoch: 01\n",
            "\tTrain Loss: 0.650 | Train Acc: 60.43%\n",
            "\t Val. Loss: 0.545 |  Val. Acc: 73.27%\n",
            "Epoch: 02\n",
            "\tTrain Loss: 0.500 | Train Acc: 76.29%\n",
            "\t Val. Loss: 0.400 |  Val. Acc: 83.27%\n",
            "Epoch: 03\n",
            "\tTrain Loss: 0.411 | Train Acc: 81.75%\n",
            "\t Val. Loss: 0.334 |  Val. Acc: 86.35%\n",
            "Epoch: 04\n",
            "\tTrain Loss: 0.348 | Train Acc: 85.22%\n",
            "\t Val. Loss: 0.333 |  Val. Acc: 86.70%\n",
            "Epoch: 05\n",
            "\tTrain Loss: 0.309 | Train Acc: 87.25%\n",
            "\t Val. Loss: 0.289 |  Val. Acc: 89.08%\n",
            "Epoch: 06\n",
            "\tTrain Loss: 0.292 | Train Acc: 88.11%\n",
            "\t Val. Loss: 0.345 |  Val. Acc: 86.22%\n",
            "Epoch: 07\n",
            "\tTrain Loss: 0.265 | Train Acc: 89.31%\n",
            "\t Val. Loss: 0.294 |  Val. Acc: 88.76%\n",
            "Epoch: 08\n",
            "\tTrain Loss: 0.250 | Train Acc: 89.86%\n",
            "\t Val. Loss: 0.293 |  Val. Acc: 88.80%\n",
            "Epoch: 09\n",
            "\tTrain Loss: 0.231 | Train Acc: 90.93%\n",
            "\t Val. Loss: 0.259 |  Val. Acc: 90.23%\n",
            "Epoch: 10\n",
            "\tTrain Loss: 0.216 | Train Acc: 91.44%\n",
            "\t Val. Loss: 0.272 |  Val. Acc: 90.12%\n",
            "Epoch: 11\n",
            "\tTrain Loss: 0.208 | Train Acc: 91.78%\n",
            "\t Val. Loss: 0.324 |  Val. Acc: 88.33%\n",
            "Epoch: 12\n",
            "\tTrain Loss: 0.199 | Train Acc: 92.16%\n",
            "\t Val. Loss: 0.275 |  Val. Acc: 89.75%\n",
            "Epoch: 13\n",
            "\tTrain Loss: 0.196 | Train Acc: 92.21%\n",
            "\t Val. Loss: 0.317 |  Val. Acc: 88.66%\n",
            "Epoch: 14\n",
            "\tTrain Loss: 0.183 | Train Acc: 92.96%\n",
            "\t Val. Loss: 0.281 |  Val. Acc: 90.05%\n",
            "Epoch: 15\n",
            "\tTrain Loss: 0.173 | Train Acc: 93.44%\n",
            "\t Val. Loss: 0.323 |  Val. Acc: 88.64%\n",
            "Epoch: 01\n",
            "\tTrain Loss: 0.675 | Train Acc: 57.03%\n",
            "\t Val. Loss: 0.574 |  Val. Acc: 70.38%\n",
            "Epoch: 02\n",
            "\tTrain Loss: 0.545 | Train Acc: 72.96%\n",
            "\t Val. Loss: 0.460 |  Val. Acc: 80.33%\n",
            "Epoch: 03\n",
            "\tTrain Loss: 0.461 | Train Acc: 79.29%\n",
            "\t Val. Loss: 0.367 |  Val. Acc: 85.22%\n",
            "Epoch: 04\n",
            "\tTrain Loss: 0.398 | Train Acc: 82.70%\n",
            "\t Val. Loss: 0.328 |  Val. Acc: 86.87%\n",
            "Epoch: 05\n",
            "\tTrain Loss: 0.354 | Train Acc: 84.94%\n",
            "\t Val. Loss: 0.303 |  Val. Acc: 88.09%\n",
            "Epoch: 06\n",
            "\tTrain Loss: 0.324 | Train Acc: 86.50%\n",
            "\t Val. Loss: 0.285 |  Val. Acc: 88.92%\n",
            "Epoch: 07\n",
            "\tTrain Loss: 0.301 | Train Acc: 87.56%\n",
            "\t Val. Loss: 0.272 |  Val. Acc: 89.46%\n",
            "Epoch: 08\n",
            "\tTrain Loss: 0.282 | Train Acc: 88.52%\n",
            "\t Val. Loss: 0.281 |  Val. Acc: 89.96%\n",
            "Epoch: 09\n",
            "\tTrain Loss: 0.263 | Train Acc: 89.28%\n",
            "\t Val. Loss: 0.271 |  Val. Acc: 89.98%\n",
            "Epoch: 10\n",
            "\tTrain Loss: 0.255 | Train Acc: 89.85%\n",
            "\t Val. Loss: 0.265 |  Val. Acc: 90.30%\n",
            "Epoch: 11\n",
            "\tTrain Loss: 0.241 | Train Acc: 90.53%\n",
            "\t Val. Loss: 0.258 |  Val. Acc: 90.39%\n",
            "Epoch: 12\n",
            "\tTrain Loss: 0.230 | Train Acc: 90.92%\n",
            "\t Val. Loss: 0.270 |  Val. Acc: 90.47%\n",
            "Epoch: 13\n",
            "\tTrain Loss: 0.224 | Train Acc: 91.26%\n",
            "\t Val. Loss: 0.276 |  Val. Acc: 90.12%\n",
            "Epoch: 01\n",
            "\tTrain Loss: 0.614 | Train Acc: 65.22%\n",
            "\t Val. Loss: 0.460 |  Val. Acc: 79.03%\n",
            "Epoch: 02\n",
            "\tTrain Loss: 0.427 | Train Acc: 80.58%\n",
            "\t Val. Loss: 0.334 |  Val. Acc: 85.57%\n",
            "Epoch: 03\n",
            "\tTrain Loss: 0.341 | Train Acc: 85.49%\n",
            "\t Val. Loss: 0.322 |  Val. Acc: 86.69%\n",
            "Epoch: 04\n",
            "\tTrain Loss: 0.302 | Train Acc: 87.37%\n",
            "\t Val. Loss: 0.266 |  Val. Acc: 88.83%\n",
            "Epoch: 05\n",
            "\tTrain Loss: 0.267 | Train Acc: 89.10%\n",
            "\t Val. Loss: 0.269 |  Val. Acc: 89.47%\n",
            "Epoch: 06\n",
            "\tTrain Loss: 0.239 | Train Acc: 90.51%\n",
            "\t Val. Loss: 0.257 |  Val. Acc: 89.65%\n",
            "Epoch: 07\n",
            "\tTrain Loss: 0.220 | Train Acc: 91.28%\n",
            "\t Val. Loss: 0.293 |  Val. Acc: 88.89%\n",
            "Epoch: 08\n",
            "\tTrain Loss: 0.208 | Train Acc: 91.87%\n",
            "\t Val. Loss: 0.267 |  Val. Acc: 90.01%\n",
            "Epoch: 09\n",
            "\tTrain Loss: 0.195 | Train Acc: 92.38%\n",
            "\t Val. Loss: 0.259 |  Val. Acc: 90.21%\n",
            "Epoch: 10\n",
            "\tTrain Loss: 0.191 | Train Acc: 92.59%\n",
            "\t Val. Loss: 0.266 |  Val. Acc: 89.93%\n",
            "Epoch: 11\n",
            "\tTrain Loss: 0.172 | Train Acc: 93.38%\n",
            "\t Val. Loss: 0.283 |  Val. Acc: 89.61%\n",
            "Epoch: 12\n",
            "\tTrain Loss: 0.156 | Train Acc: 94.10%\n",
            "\t Val. Loss: 0.278 |  Val. Acc: 90.36%\n",
            "Epoch: 13\n",
            "\tTrain Loss: 0.148 | Train Acc: 94.42%\n",
            "\t Val. Loss: 0.292 |  Val. Acc: 89.67%\n",
            "Epoch: 14\n",
            "\tTrain Loss: 0.142 | Train Acc: 94.62%\n",
            "\t Val. Loss: 0.270 |  Val. Acc: 90.42%\n"
          ]
        },
        {
          "output_type": "display_data",
          "data": {
            "text/plain": [
              "<Figure size 864x576 with 1 Axes>"
            ],
            "image/png": "[encoded data removed]"
          },
          "metadata": {}
        },
        {
          "output_type": "display_data",
          "data": {
            "text/plain": [
              "<Figure size 864x576 with 1 Axes>"
            ],
            "image/png": "[encoded data removed]"
          },
          "metadata": {}
        },
        {
          "output_type": "display_data",
          "data": {
            "text/plain": [
              "<Figure size 864x576 with 1 Axes>"
            ],
            "image/png": "[encoded data removed]"
          },
          "metadata": {}
        },
        {
          "output_type": "display_data",
          "data": {
            "text/plain": [
              "<Figure size 864x576 with 1 Axes>"
            ],
            "image/png": "[encoded data removed]"
          },
          "metadata": {}
        },
        {
          "output_type": "display_data",
          "data": {
            "text/plain": [
              "<Figure size 864x576 with 1 Axes>"
            ],
            "image/png": "[encoded data removed]"
          },
          "metadata": {}
        }
      ]
    },
    {
      "cell_type": "code",
      "source": [
        "if not TESTING_DATA_PATH:\n",
        "  best_trial_idx = 3\n",
        "  best_trial = sorted_trials[best_trial_idx]"
      ],
      "metadata": {
        "id": "uYxYEivZjKvV"
      },
      "execution_count": null,
      "outputs": []
    },
    {
      "cell_type": "code",
      "execution_count": null,
      "metadata": {
        "id": "Il2gr4BpAiPv",
        "colab": {
          "base_uri": "https://localhost:8080/"
        },
        "outputId": "93376b7b-b324-4054-cf37-66329ff96f2d"
      },
      "outputs": [
        {
          "output_type": "stream",
          "name": "stdout",
          "text": [
            "Best trial:\n",
            "  Value:  0.905639897132742\n",
            "  Params: \n",
            "    CELL_TYPE: GRU\n",
            "    HIDDEN_DIM: 32\n",
            "    N_LAYERS: 2\n",
            "    DROPOUT: 0.6212660301003445\n",
            "    N_EPOCHS: 13\n",
            "    CLIP_VALUE: 3\n"
          ]
        }
      ],
      "source": [
        "if not TESTING_DATA_PATH: \n",
        "  print(\"Best trial:\")\n",
        "  print(\"  Value: \", best_trial.value)\n",
        "\n",
        "  print(\"  Params: \") \n",
        "  for key, value in best_trial.params.items():\n",
        "      print(\"    {}: {}\".format(key, value))"
      ]
    },
    {
      "cell_type": "markdown",
      "metadata": {
        "id": "LF0iecPdywwz"
      },
      "source": [
        "### **Final BRNN model**"
      ]
    },
    {
      "cell_type": "code",
      "execution_count": null,
      "metadata": {
        "id": "jThoNf0BMJqm"
      },
      "outputs": [],
      "source": [
        "if not TESTING_DATA_PATH:\n",
        "  # Hyperparameters initialization\n",
        "  CELL_TYPE = best_trial.params['CELL_TYPE']\n",
        "  INPUT_DIM = len(REVIEW.vocab)\n",
        "  EMBEDDING_DIM = 50\n",
        "  HIDDEN_DIM = best_trial.params['HIDDEN_DIM']\n",
        "  OUTPUT_DIM = 1\n",
        "  N_LAYERS = best_trial.params['N_LAYERS']\n",
        "  DROPOUT = best_trial.params['DROPOUT']\n",
        "  PAD_IDX = REVIEW.vocab.stoi[REVIEW.pad_token]\n",
        "\n",
        "  model = BRNN(CELL_TYPE, \n",
        "                INPUT_DIM, \n",
        "                EMBEDDING_DIM, \n",
        "                HIDDEN_DIM, \n",
        "                OUTPUT_DIM, \n",
        "                N_LAYERS, \n",
        "                DROPOUT, \n",
        "                PAD_IDX)"
      ]
    },
    {
      "cell_type": "code",
      "execution_count": null,
      "metadata": {
        "id": "zVMRR98J16Of"
      },
      "outputs": [],
      "source": [
        "if TESTING_DATA_PATH:\n",
        "  # Hyperparameters initialization\n",
        "  CELL_TYPE = 'GRU'\n",
        "  INPUT_DIM = len(REVIEW.vocab)\n",
        "  EMBEDDING_DIM = 50\n",
        "  HIDDEN_DIM = 32\n",
        "  OUTPUT_DIM = 1\n",
        "  N_LAYERS = 2\n",
        "  DROPOUT = 0.6212660301003445\n",
        "  PAD_IDX = REVIEW.vocab.stoi[REVIEW.pad_token]\n",
        "\n",
        "  model = BRNN(CELL_TYPE, \n",
        "                INPUT_DIM, \n",
        "                EMBEDDING_DIM, \n",
        "                HIDDEN_DIM, \n",
        "                OUTPUT_DIM, \n",
        "                N_LAYERS, \n",
        "                DROPOUT, \n",
        "                PAD_IDX)"
      ]
    },
    {
      "cell_type": "code",
      "execution_count": null,
      "metadata": {
        "id": "e98ueGcZ45yW",
        "colab": {
          "base_uri": "https://localhost:8080/"
        },
        "outputId": "0f625583-d063-4432-e92a-86f5f312fe86"
      },
      "outputs": [
        {
          "output_type": "stream",
          "name": "stdout",
          "text": [
            "BRNN(\n",
            "  (embedding): Embedding(20002, 50, padding_idx=1)\n",
            "  (rnn): GRU(50, 32, num_layers=2, dropout=0.6212660301003445, bidirectional=True)\n",
            "  (dropout): Dropout(p=0.6212660301003445, inplace=False)\n",
            "  (out): Linear(in_features=64, out_features=1, bias=True)\n",
            "  (sigmoid): Sigmoid()\n",
            ")\n"
          ]
        }
      ],
      "source": [
        "print(model)"
      ]
    },
    {
      "cell_type": "code",
      "execution_count": null,
      "metadata": {
        "id": "Jv52ZuLv4zPa"
      },
      "outputs": [],
      "source": [
        "pretrained_embeddings = REVIEW.vocab.vectors\n",
        "\n",
        "#Initialize the weights of the embedding layer with the GloVe pre-trained embeddings.\n",
        "model.embedding.weight.data.copy_(pretrained_embeddings)\n",
        "UNK_IDX = REVIEW.vocab.stoi[REVIEW.unk_token]\n",
        "\n",
        "#Initialize the <unk> and <pad> tokens to zero\n",
        "model.embedding.weight.data[UNK_IDX] = torch.zeros(EMBEDDING_DIM)\n",
        "model.embedding.weight.data[PAD_IDX] = torch.zeros(EMBEDDING_DIM)"
      ]
    },
    {
      "cell_type": "code",
      "execution_count": null,
      "metadata": {
        "id": "9PkezSFT5KXw"
      },
      "outputs": [],
      "source": [
        "optimizer = optim.Adam(model.parameters())\n",
        "criterion = nn.BCELoss()\n",
        "model = model.to(device)\n",
        "criterion = criterion.to(device)"
      ]
    },
    {
      "cell_type": "code",
      "execution_count": null,
      "metadata": {
        "id": "_HDIpwqb5vKK",
        "colab": {
          "base_uri": "https://localhost:8080/"
        },
        "outputId": "a700a390-7370-4439-dd54-5102fc1ad544"
      },
      "outputs": [
        {
          "output_type": "stream",
          "name": "stdout",
          "text": [
            "Epoch: 01\n",
            "\tTrain Loss: 0.678 | Train Acc: 55.86%\n",
            "\t Val. Loss: 0.585 |  Val. Acc: 69.92%\n",
            "Epoch: 02\n",
            "\tTrain Loss: 0.562 | Train Acc: 71.91%\n",
            "\t Val. Loss: 0.468 |  Val. Acc: 78.82%\n",
            "Epoch: 03\n",
            "\tTrain Loss: 0.463 | Train Acc: 78.75%\n",
            "\t Val. Loss: 0.370 |  Val. Acc: 84.31%\n",
            "Epoch: 04\n",
            "\tTrain Loss: 0.398 | Train Acc: 82.43%\n",
            "\t Val. Loss: 0.321 |  Val. Acc: 86.62%\n",
            "Epoch: 05\n",
            "\tTrain Loss: 0.353 | Train Acc: 85.03%\n",
            "\t Val. Loss: 0.306 |  Val. Acc: 87.36%\n",
            "Epoch: 06\n",
            "\tTrain Loss: 0.321 | Train Acc: 86.74%\n",
            "\t Val. Loss: 0.288 |  Val. Acc: 88.79%\n",
            "Epoch: 07\n",
            "\tTrain Loss: 0.302 | Train Acc: 87.55%\n",
            "\t Val. Loss: 0.302 |  Val. Acc: 88.77%\n",
            "Epoch: 08\n",
            "\tTrain Loss: 0.283 | Train Acc: 88.42%\n",
            "\t Val. Loss: 0.296 |  Val. Acc: 88.90%\n",
            "Epoch: 09\n",
            "\tTrain Loss: 0.266 | Train Acc: 89.23%\n",
            "\t Val. Loss: 0.277 |  Val. Acc: 89.69%\n",
            "Epoch: 10\n",
            "\tTrain Loss: 0.255 | Train Acc: 89.65%\n",
            "\t Val. Loss: 0.317 |  Val. Acc: 88.54%\n",
            "Epoch: 11\n",
            "\tTrain Loss: 0.246 | Train Acc: 90.25%\n",
            "\t Val. Loss: 0.302 |  Val. Acc: 89.36%\n",
            "Epoch: 12\n",
            "\tTrain Loss: 0.232 | Train Acc: 90.83%\n",
            "\t Val. Loss: 0.318 |  Val. Acc: 88.27%\n",
            "Epoch: 13\n",
            "\tTrain Loss: 0.224 | Train Acc: 91.23%\n",
            "\t Val. Loss: 0.276 |  Val. Acc: 90.34%\n"
          ]
        }
      ],
      "source": [
        "if not TESTING_DATA_PATH:\n",
        "  N_EPOCHS = best_trial.params['N_EPOCHS']\n",
        "  CLIP_VALUE = best_trial.params['CLIP_VALUE']\n",
        "else:\n",
        "  N_EPOCHS = 13\n",
        "  CLIP_VALUE = 3 \n",
        "\n",
        "total_train_loss = []\n",
        "total_train_acc = []\n",
        "total_valid_loss = []\n",
        "total_valid_acc = []\n",
        "\n",
        "for epoch in range(N_EPOCHS):\n",
        "    train_loss, train_acc = train(model, train_iterator, optimizer, criterion, CLIP_VALUE)\n",
        "    if not TESTING_DATA_PATH:\n",
        "      valid_loss, valid_acc = evaluate(model, valid_iterator, criterion)\n",
        "        \n",
        "    total_train_loss.append(train_loss)\n",
        "    total_train_acc.append(train_acc)\n",
        "    if not TESTING_DATA_PATH:\n",
        "      total_valid_loss.append(valid_loss)\n",
        "      total_valid_acc.append(valid_acc)\n",
        "\n",
        "    print(f'Epoch: {epoch+1:02}')\n",
        "    print(f'\\tTrain Loss: {train_loss:.3f} | Train Acc: {train_acc*100:.2f}%')\n",
        "    if not TESTING_DATA_PATH:\n",
        "      print(f'\\t Val. Loss: {valid_loss:.3f} |  Val. Acc: {valid_acc*100:.2f}%')"
      ]
    },
    {
      "cell_type": "code",
      "execution_count": null,
      "metadata": {
        "id": "0i-OOiFOGzcD",
        "colab": {
          "base_uri": "https://localhost:8080/"
        },
        "outputId": "81e8259d-b59e-4fd1-c0a5-b682783d83fd"
      },
      "outputs": [
        {
          "output_type": "stream",
          "name": "stdout",
          "text": [
            "Test Loss: 0.264 | Test Acc: 90.50%\n"
          ]
        }
      ],
      "source": [
        "test_loss, test_acc = evaluate(model, test_iterator, criterion)\n",
        "print(f'Test Loss: {test_loss:.3f} | Test Acc: {test_acc*100:.2f}%')"
      ]
    },
    {
      "cell_type": "markdown",
      "metadata": {
        "id": "Jo3P4LWrnqAf"
      },
      "source": [
        "### **Scores** "
      ]
    },
    {
      "cell_type": "code",
      "execution_count": null,
      "metadata": {
        "id": "P56jvy9Aoyn5"
      },
      "outputs": [],
      "source": [
        "#tests the model in the test dataset\n",
        "#return predictions and true label values in form of lists\n",
        "def predictions_true_labels(model, test_iterator):\n",
        "  predictions = []\n",
        "  true_labels = []\n",
        "\n",
        "  model.eval()\n",
        "  with torch.no_grad():\n",
        "      for batch in test_iterator:\n",
        "          text, text_length = batch.review\n",
        "          true_label = batch.rating.reshape(-1, 1)\n",
        "          pred = model(text, text_length)\n",
        "\n",
        "          predictions.append(pred)\n",
        "          true_labels.append(true_label)\n",
        "  \n",
        "  predictions = torch.cat(predictions, dim=0).cpu()\n",
        "  true_labels = torch.cat(true_labels, dim=0).cpu()\n",
        "\n",
        "  return predictions, true_labels"
      ]
    },
    {
      "cell_type": "code",
      "execution_count": null,
      "metadata": {
        "id": "MhQz_fiMpeSd"
      },
      "outputs": [],
      "source": [
        "predictions, true_labels = predictions_true_labels(model, test_iterator)"
      ]
    },
    {
      "cell_type": "code",
      "execution_count": null,
      "metadata": {
        "id": "XLCOa7XvnzC9",
        "colab": {
          "base_uri": "https://localhost:8080/"
        },
        "outputId": "46cd5298-e27f-40d1-cb1f-14b64ec5ae8a"
      },
      "outputs": [
        {
          "output_type": "stream",
          "name": "stdout",
          "text": [
            "              precision    recall  f1-score   support\n",
            "\n",
            "         0.0       0.90      0.91      0.90      4452\n",
            "         1.0       0.91      0.90      0.90      4550\n",
            "\n",
            "    accuracy                           0.90      9002\n",
            "   macro avg       0.90      0.90      0.90      9002\n",
            "weighted avg       0.90      0.90      0.90      9002\n",
            "\n"
          ]
        }
      ],
      "source": [
        "from sklearn.metrics import classification_report\n",
        "\n",
        "predictions = predictions.ge(.5).view(-1).cpu()\n",
        "true_labels = true_labels.cpu()\n",
        "\n",
        "print(classification_report(true_labels, predictions))"
      ]
    },
    {
      "cell_type": "code",
      "execution_count": null,
      "metadata": {
        "id": "2feljKNUxQGz",
        "colab": {
          "base_uri": "https://localhost:8080/",
          "height": 517
        },
        "outputId": "19f07503-5b4b-4487-d67e-b9ce9a995ac1"
      },
      "outputs": [
        {
          "output_type": "display_data",
          "data": {
            "text/plain": [
              "<Figure size 864x576 with 1 Axes>"
            ],
            "image/png": "[encoded data removed]"
          },
          "metadata": {}
        }
      ],
      "source": [
        "if not TESTING_DATA_PATH:\n",
        "  plot_loss_acc(total_train_loss, total_valid_loss, total_train_acc, total_valid_acc, N_EPOCHS)"
      ]
    },
    {
      "cell_type": "code",
      "execution_count": null,
      "metadata": {
        "id": "PgVTqEUvckFT",
        "colab": {
          "base_uri": "https://localhost:8080/",
          "height": 520
        },
        "outputId": "2742b6e4-ae5a-42f6-ecdb-74b2adc1b81a"
      },
      "outputs": [
        {
          "output_type": "display_data",
          "data": {
            "text/plain": [
              "<Figure size 576x576 with 1 Axes>"
            ],
            "image/png": "[encoded data removed]"
          },
          "metadata": {}
        }
      ],
      "source": [
        "from sklearn.metrics import roc_curve, auc\n",
        "from sklearn.preprocessing import label_binarize\n",
        "\n",
        "predictions = predictions.cpu().detach().numpy()\n",
        "true_labels = true_labels.cpu().detach().numpy()\n",
        "\n",
        "true_labels = label_binarize(true_labels, classes=[0, 1])\n",
        "n_classes = true_labels.shape[1]\n",
        "\n",
        "fpr = dict()\n",
        "tpr = dict()\n",
        "roc_auc = dict()\n",
        "fpr, tpr, _ = roc_curve(true_labels[:], predictions[:])\n",
        "roc_auc = auc(fpr, tpr)\n",
        "\n",
        "plt.figure(figsize=(8,8))\n",
        "lw = 2\n",
        "plt.plot(fpr, tpr, color='darkorange',lw=lw, label='ROC curve (area = %0.2f)' % roc_auc)\n",
        "plt.plot([0, 1], [0, 1], color='navy', lw=lw, linestyle='--')\n",
        "plt.xlim([0.0, 1.0])\n",
        "plt.ylim([0.0, 1.05])\n",
        "plt.xlabel('False Positive Rate',fontsize=15)\n",
        "plt.ylabel('True Positive Rate',fontsize=15)\n",
        "plt.title('Receiver Operating Characteristic example', fontsize=15)\n",
        "plt.legend(loc=\"lower right\",fontsize=15)\n",
        "plt.show()"
      ]
    }
  ],
  "metadata": {
    "accelerator": "GPU",
    "colab": {
      "provenance": [],
      "toc_visible": true
    },
    "gpuClass": "standard",
    "kernelspec": {
      "display_name": "Python 3",
      "name": "python3"
    },
    "language_info": {
      "name": "python"
    }
  },
  "nbformat": 4,
  "nbformat_minor": 0
}