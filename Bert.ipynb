{
  "cells": [
    {
      "cell_type": "markdown",
      "metadata": {
        "id": "K3oZUIy1-nyd"
      },
      "source": [
        "# **Sentiment Analysis for IMDb movies 🍿👀📽**"
      ]
    },
    {
      "cell_type": "markdown",
      "metadata": {
        "id": "O8JvYNH7kMG2"
      },
      "source": [
        "In this project, I perform sentiment analysis on IMDb movies' reviews.I classify the reviews into two classes (Positive and Negative) by fine-tuning the pretrained **BERT-base model** experimenting with several parameters.\n",
        "\n"
      ]
    },
    {
      "cell_type": "markdown",
      "source": [
        " We install the Hugging Face transformers library "
      ],
      "metadata": {
        "id": "YiyXGUOBcEXv"
      }
    },
    {
      "cell_type": "code",
      "source": [
        "!pip install transformers"
      ],
      "metadata": {
        "id": "IslwJhC0cBdK",
        "colab": {
          "base_uri": "https://localhost:8080/"
        },
        "outputId": "154e2283-97d6-4973-e39b-969d90e3a3fd"
      },
      "execution_count": null,
      "outputs": [
        {
          "output_type": "stream",
          "name": "stdout",
          "text": [
            "Looking in indexes: https://pypi.org/simple, https://us-python.pkg.dev/colab-wheels/public/simple/\n",
            "Collecting transformers\n",
            "  Downloading transformers-4.26.1-py3-none-any.whl (6.3 MB)\n",
            "\u001b[2K     \u001b[90m━━━━━━━━━━━━━━━━━━━━━━━━━━━━━━━━━━━━━━━━\u001b[0m \u001b[32m6.3/6.3 MB\u001b[0m \u001b[31m55.5 MB/s\u001b[0m eta \u001b[36m0:00:00\u001b[0m\n",
            "\u001b[?25hRequirement already satisfied: tqdm>=4.27 in /usr/local/lib/python3.8/dist-packages (from transformers) (4.64.1)\n",
            "Requirement already satisfied: regex!=2019.12.17 in /usr/local/lib/python3.8/dist-packages (from transformers) (2022.6.2)\n",
            "Collecting tokenizers!=0.11.3,<0.14,>=0.11.1\n",
            "  Downloading tokenizers-0.13.2-cp38-cp38-manylinux_2_17_x86_64.manylinux2014_x86_64.whl (7.6 MB)\n",
            "\u001b[2K     \u001b[90m━━━━━━━━━━━━━━━━━━━━━━━━━━━━━━━━━━━━━━━━\u001b[0m \u001b[32m7.6/7.6 MB\u001b[0m \u001b[31m39.4 MB/s\u001b[0m eta \u001b[36m0:00:00\u001b[0m\n",
            "\u001b[?25hRequirement already satisfied: packaging>=20.0 in /usr/local/lib/python3.8/dist-packages (from transformers) (23.0)\n",
            "Requirement already satisfied: filelock in /usr/local/lib/python3.8/dist-packages (from transformers) (3.9.0)\n",
            "Requirement already satisfied: pyyaml>=5.1 in /usr/local/lib/python3.8/dist-packages (from transformers) (6.0)\n",
            "Requirement already satisfied: numpy>=1.17 in /usr/local/lib/python3.8/dist-packages (from transformers) (1.22.4)\n",
            "Requirement already satisfied: requests in /usr/local/lib/python3.8/dist-packages (from transformers) (2.25.1)\n",
            "Collecting huggingface-hub<1.0,>=0.11.0\n",
            "  Downloading huggingface_hub-0.12.1-py3-none-any.whl (190 kB)\n",
            "\u001b[2K     \u001b[90m━━━━━━━━━━━━━━━━━━━━━━━━━━━━━━━━━━━━━━\u001b[0m \u001b[32m190.3/190.3 KB\u001b[0m \u001b[31m13.9 MB/s\u001b[0m eta \u001b[36m0:00:00\u001b[0m\n",
            "\u001b[?25hRequirement already satisfied: typing-extensions>=3.7.4.3 in /usr/local/lib/python3.8/dist-packages (from huggingface-hub<1.0,>=0.11.0->transformers) (4.5.0)\n",
            "Requirement already satisfied: urllib3<1.27,>=1.21.1 in /usr/local/lib/python3.8/dist-packages (from requests->transformers) (1.26.14)\n",
            "Requirement already satisfied: idna<3,>=2.5 in /usr/local/lib/python3.8/dist-packages (from requests->transformers) (2.10)\n",
            "Requirement already satisfied: chardet<5,>=3.0.2 in /usr/local/lib/python3.8/dist-packages (from requests->transformers) (4.0.0)\n",
            "Requirement already satisfied: certifi>=2017.4.17 in /usr/local/lib/python3.8/dist-packages (from requests->transformers) (2022.12.7)\n",
            "Installing collected packages: tokenizers, huggingface-hub, transformers\n",
            "Successfully installed huggingface-hub-0.12.1 tokenizers-0.13.2 transformers-4.26.1\n"
          ]
        }
      ]
    },
    {
      "cell_type": "code",
      "execution_count": null,
      "metadata": {
        "id": "fMGmxNGYMZ8G"
      },
      "outputs": [],
      "source": [
        "from google.colab import drive\n",
        "import pandas as pd\n",
        "import matplotlib.pyplot as plt\n",
        "import numpy as np\n",
        "import torch\n",
        "from torch.utils.data import TensorDataset, DataLoader, RandomSampler, SequentialSampler\n",
        "from transformers import BertTokenizer, BertForSequenceClassification, get_linear_schedule_with_warmup\n",
        "from sklearn.model_selection import train_test_split\n",
        "\n"
      ]
    },
    {
      "cell_type": "markdown",
      "metadata": {
        "id": "Re-tpvevCQhm"
      },
      "source": [
        "## **Load the dataset** "
      ]
    },
    {
      "cell_type": "markdown",
      "metadata": {
        "id": "_PgDmpg8En2s"
      },
      "source": [
        "For **testing** the model give to **TESTING_DATA_PATH** variable the path where the file with testing data is located"
      ]
    },
    {
      "cell_type": "code",
      "execution_count": null,
      "metadata": {
        "id": "hI_ZUAceEloX"
      },
      "outputs": [],
      "source": [
        "TESTING_DATA_PATH=\"\"\n",
        "DATA_PATH=\"\""
      ]
    },
    {
      "cell_type": "code",
      "execution_count": null,
      "metadata": {
        "colab": {
          "base_uri": "https://localhost:8080/"
        },
        "id": "u7Fhi8drMfHA",
        "outputId": "3bca7a60-41f6-4ae7-9a36-2ad97cac74b8"
      },
      "outputs": [
        {
          "output_type": "stream",
          "name": "stdout",
          "text": [
            "Mounted at /content/drive\n"
          ]
        }
      ],
      "source": [
        "if not DATA_PATH:\n",
        "  drive.mount('/content/drive')\n",
        "  DATA_PATH = \"/content/drive/MyDrive/AI_2_exercise_1_data/imdb-reviews.csv\"\n",
        "df = pd.read_csv(filepath_or_buffer=DATA_PATH, sep='\\t')\n",
        "\n",
        "if TESTING_DATA_PATH:\n",
        "  # test_df = df.copy()\n",
        "  # test_df = test_df.iloc[36006:45009]\n",
        "  test_df = pd.read_csv(file_or_buffer=TESTING_DATA_PATH, sep='\\t')"
      ]
    },
    {
      "cell_type": "markdown",
      "metadata": {
        "id": "9qGpOMLxBKDN"
      },
      "source": [
        "A look at our data"
      ]
    },
    {
      "cell_type": "code",
      "execution_count": null,
      "metadata": {
        "colab": {
          "base_uri": "https://localhost:8080/"
        },
        "id": "B6IH1SqvAZDt",
        "outputId": "2afa2b2b-52a0-4ade-a0f1-341b1408de35"
      },
      "outputs": [
        {
          "output_type": "stream",
          "name": "stdout",
          "text": [
            "Dataset shape: (45008, 3)\n"
          ]
        }
      ],
      "source": [
        "if not TESTING_DATA_PATH:\n",
        "  print(f\"Dataset shape: {df.shape}\")\n",
        "  pd.set_option('display.max_colwidth', 1000)\n",
        "  df.head()"
      ]
    },
    {
      "cell_type": "markdown",
      "metadata": {
        "id": "hK3Zf_jkCjlm"
      },
      "source": [
        "Convert the sentiments as following:\n",
        "\n",
        "* POS → 0\n",
        "* NEG → 1"
      ]
    },
    {
      "cell_type": "code",
      "source": [
        "df['rating'] = df['rating'].astype('int')\n",
        "if TESTING_DATA_PATH:\n",
        "  test_df['rating'] = test_df['rating'].astype('int')"
      ],
      "metadata": {
        "id": "SEVHgJRhd7kQ"
      },
      "execution_count": null,
      "outputs": []
    },
    {
      "cell_type": "code",
      "execution_count": null,
      "metadata": {
        "id": "nZovRTKiCS23"
      },
      "outputs": [],
      "source": [
        " df.loc[df['rating'] < 5, ['rating']] = 0\n",
        " df.loc[df['rating'] > 6, ['rating']] = 1\n",
        " if TESTING_DATA_PATH:\n",
        "   test_df.loc[test_df['rating'] < 5, ['rating']] = 0\n",
        "   test_df.loc[test_df['rating'] > 6, ['rating']] = 1"
      ]
    },
    {
      "cell_type": "markdown",
      "metadata": {
        "id": "saSZVAFZC98X"
      },
      "source": [
        "## **Data pre-processing**"
      ]
    },
    {
      "cell_type": "markdown",
      "metadata": {
        "id": "0tQWnoDa7jxO"
      },
      "source": [
        "### **Text Transformation**"
      ]
    },
    {
      "cell_type": "code",
      "execution_count": null,
      "metadata": {
        "id": "9G9wQ_CK-xnn"
      },
      "outputs": [],
      "source": [
        "df.drop('url', inplace=True, axis=1)\n",
        "if TESTING_DATA_PATH:\n",
        "  test_df.drop('url', inplace=True, axis=1)"
      ]
    },
    {
      "cell_type": "code",
      "execution_count": null,
      "metadata": {
        "colab": {
          "base_uri": "https://localhost:8080/"
        },
        "id": "g-2nO3eLI1Sv",
        "outputId": "4efb460f-ee18-491a-a81f-b8e9e05c78ef"
      },
      "outputs": [
        {
          "output_type": "stream",
          "name": "stdout",
          "text": [
            "rating    0\n",
            "review    0\n",
            "dtype: int64\n"
          ]
        }
      ],
      "source": [
        "if not TESTING_DATA_PATH:\n",
        "  print(df.isnull().sum())"
      ]
    },
    {
      "cell_type": "markdown",
      "metadata": {
        "id": "ex-GDAy2CDNy"
      },
      "source": [
        "We detect no missing values in the dataset"
      ]
    },
    {
      "cell_type": "code",
      "execution_count": null,
      "metadata": {
        "colab": {
          "base_uri": "https://localhost:8080/"
        },
        "id": "EMQwt9iv2UKr",
        "outputId": "3b193e6e-4f88-49a9-da27-62b3da3939cc"
      },
      "outputs": [
        {
          "output_type": "stream",
          "name": "stderr",
          "text": [
            "[nltk_data] Downloading package stopwords to /root/nltk_data...\n",
            "[nltk_data]   Unzipping corpora/stopwords.zip.\n"
          ]
        }
      ],
      "source": [
        "import re\n",
        "import string\n",
        "import nltk\n",
        "from nltk.corpus import stopwords\n",
        "\n",
        "nltk.download('stopwords')\n",
        "\n",
        "# Define the function for text transformation\n",
        "def text_transformation(text):\n",
        "  # Lower characters\n",
        "  text = text.lower()\n",
        "  # replacing everything with space except (a-z, A-Z, \".\", \"?\", \"!\", \",\")\n",
        "  text = re.sub(r\"[^a-zA-Z?.!,¿]+\", \" \", text)\n",
        "  # Remove links\n",
        "  text = re.sub('http://\\S+|https://\\S+', '', text)\n",
        "  #Removing html tags\n",
        "  html=re.compile(r'<.*?>')   \n",
        "  text = html.sub(r'',text) \n",
        "  # Remove punctuation\n",
        "  text = text.translate(str.maketrans('', '', string.punctuation))\n",
        "  # Remove stopwords\n",
        "  StopWords = stopwords.words(\"english\")\n",
        "  text = ' '.join([word for word in text.split() if word not in StopWords])\n",
        "  # Remove emojis\n",
        "  emoji_pattern = re.compile(\"[\"\n",
        "                           u\"\\U0001F600-\\U0001F64F\"  \n",
        "                           u\"\\U0001F300-\\U0001F5FF\"  \n",
        "                           u\"\\U0001F680-\\U0001F6FF\" \n",
        "                           u\"\\U0001F1E0-\\U0001F1FF\" \n",
        "                           u\"\\U00002702-\\U000027B0\"\n",
        "                           u\"\\U000024C2-\\U0001F251\"\n",
        "                           \"]+\", flags=re.UNICODE)\n",
        "  text = emoji_pattern.sub(r'', text) \n",
        "  \n",
        "  return text  "
      ]
    },
    {
      "cell_type": "code",
      "execution_count": null,
      "metadata": {
        "id": "UizOOiqy3Xvn"
      },
      "outputs": [],
      "source": [
        "df['review'] = df['review'].apply(text_transformation)\n",
        "if TESTING_DATA_PATH:\n",
        "  test_df['review'] = test_df['review'].apply(text_transformation)\n"
      ]
    },
    {
      "cell_type": "code",
      "execution_count": null,
      "metadata": {
        "colab": {
          "base_uri": "https://localhost:8080/",
          "height": 458
        },
        "id": "1KzukulEDHTH",
        "outputId": "cdeaf25c-16cc-4577-8db4-ffe9b368c59c"
      },
      "outputs": [
        {
          "output_type": "execute_result",
          "data": {
            "text/plain": [
              "   rating  \\\n",
              "0       1   \n",
              "1       1   \n",
              "2       1   \n",
              "3       0   \n",
              "4       1   \n",
              "\n",
              "                                                                                                                                                                                                                                                                                                                                                                                                                                                                                                                                                                                                                                                                                                                                                                                                                                                                                                                                                                                                                                    review  \n",
              "0                                                                                                                                                                                                                                                                                                                                                                                                                                                                                                                                                                                                                                                                                                                                                                                                                                                                                                                                                                   thought quiet good movie fun watch liked best outtakes end movie great  \n",
              "1  wagon master unique film amongst john ford work mainly one based story written john ford story elaborated frank nugent director son patrick ford turned screenplay director personal opinion regarding wagon master film john ford called one came closest wanted achieve say say little ford confessed lindsay anderson favourite nonetheless darling clementine br br wagon master ingredients one might expect find john ford film wonderful cast delivering best thou featuring major stars except fordian actors ben johnson peculiar small characters provide obligatory comic relief wagon master quite horn blowing sister ledyard jane darwell shot inspired gigs last least legendary monument valley john ford fifth passage stagecoach darling clementine fort apache wore yellow ribbon br br film starts two friends cowboys travis blue ben johnson sandy owens harry carey jr hired wagon masters guides caravan mormon settlers headed silver valley place like promised land way joined peculiar dr locksley hall ...  \n",
              "2  film near perfect film john ford made film magic masterpiece reason ford well ford want know ford great one explains br br photography course superb black white black white wonderful shots shoulder conversation pure ford great moments big little famous ripped pants ward bond apparently two dogs kept invading set fighting ford wanted use fighting scene instead fighting one dog ran away attacked ward bond ripped pants caused ford end mirth whole scene around plaiting rope way ben johnson burn snuffs rope wonderful foreshadowing anticipation final harry carey naive courting prudence usual ford line scared showing bond horse accidentally falling left film johnson bond fantastic scene lord help ford actor stay character camera rolling even horse falls top br br couple sweet romances intruding whole focus two likable leads mention girls number times cameras focus ben johnson rather delightful backside br br lots old time stuntmen getting lines roles cliff lyons frank mcgrath wonderful ch...  \n",
              "3                                                                                                                                                                                                                                                                                                                                                                                    gave stars lot interesting themes many already mentioned domestic violence sexuality many taboos therein outside gore really would call horror much would science fiction br br bleak depressing hopeless mind less cheery ending really tired humans suck clich central every movie know get liberal arts degree today without bowing alter self hatred member human race bout writer director pretend different everyone else pack notice aliens killing human race evil right reading believe humanity deserves die go find lake swim til arms tired way around direct next film write next book telling deserve die alive silly thoughtful boring  \n",
              "4                                                                                                                                                                                                                                                                                                                                                                  movie really genuine random really hard find movies like bunches movies hollywood really enjoy watching movie bought dvd tuesday week watched times love spanglish accent paz really cute acting morgan funny natural br br movie taste might really different others say really love movie simple best br br learned something life movie well least usa life life really random sometimes u meet someone pass life friends coincidently u spend much time maybe u enjoy u never meet time u together really unforgettable keep moments mind grateful nice memories br br movie might cheap making price meanings totally cheap rarely learn anything movies exception  "
            ],
            "text/html": [
              "\n",
              "  <div id=\"df-0d93e0b8-6be3-4f70-8a1f-9d33c1e29c91\">\n",
              "    <div class=\"colab-df-container\">\n",
              "      <div>\n",
              "<style scoped>\n",
              "    .dataframe tbody tr th:only-of-type {\n",
              "        vertical-align: middle;\n",
              "    }\n",
              "\n",
              "    .dataframe tbody tr th {\n",
              "        vertical-align: top;\n",
              "    }\n",
              "\n",
              "    .dataframe thead th {\n",
              "        text-align: right;\n",
              "    }\n",
              "</style>\n",
              "<table border=\"1\" class=\"dataframe\">\n",
              "  <thead>\n",
              "    <tr style=\"text-align: right;\">\n",
              "      <th></th>\n",
              "      <th>rating</th>\n",
              "      <th>review</th>\n",
              "    </tr>\n",
              "  </thead>\n",
              "  <tbody>\n",
              "    <tr>\n",
              "      <th>0</th>\n",
              "      <td>1</td>\n",
              "      <td>thought quiet good movie fun watch liked best outtakes end movie great</td>\n",
              "    </tr>\n",
              "    <tr>\n",
              "      <th>1</th>\n",
              "      <td>1</td>\n",
              "      <td>wagon master unique film amongst john ford work mainly one based story written john ford story elaborated frank nugent director son patrick ford turned screenplay director personal opinion regarding wagon master film john ford called one came closest wanted achieve say say little ford confessed lindsay anderson favourite nonetheless darling clementine br br wagon master ingredients one might expect find john ford film wonderful cast delivering best thou featuring major stars except fordian actors ben johnson peculiar small characters provide obligatory comic relief wagon master quite horn blowing sister ledyard jane darwell shot inspired gigs last least legendary monument valley john ford fifth passage stagecoach darling clementine fort apache wore yellow ribbon br br film starts two friends cowboys travis blue ben johnson sandy owens harry carey jr hired wagon masters guides caravan mormon settlers headed silver valley place like promised land way joined peculiar dr locksley hall ...</td>\n",
              "    </tr>\n",
              "    <tr>\n",
              "      <th>2</th>\n",
              "      <td>1</td>\n",
              "      <td>film near perfect film john ford made film magic masterpiece reason ford well ford want know ford great one explains br br photography course superb black white black white wonderful shots shoulder conversation pure ford great moments big little famous ripped pants ward bond apparently two dogs kept invading set fighting ford wanted use fighting scene instead fighting one dog ran away attacked ward bond ripped pants caused ford end mirth whole scene around plaiting rope way ben johnson burn snuffs rope wonderful foreshadowing anticipation final harry carey naive courting prudence usual ford line scared showing bond horse accidentally falling left film johnson bond fantastic scene lord help ford actor stay character camera rolling even horse falls top br br couple sweet romances intruding whole focus two likable leads mention girls number times cameras focus ben johnson rather delightful backside br br lots old time stuntmen getting lines roles cliff lyons frank mcgrath wonderful ch...</td>\n",
              "    </tr>\n",
              "    <tr>\n",
              "      <th>3</th>\n",
              "      <td>0</td>\n",
              "      <td>gave stars lot interesting themes many already mentioned domestic violence sexuality many taboos therein outside gore really would call horror much would science fiction br br bleak depressing hopeless mind less cheery ending really tired humans suck clich central every movie know get liberal arts degree today without bowing alter self hatred member human race bout writer director pretend different everyone else pack notice aliens killing human race evil right reading believe humanity deserves die go find lake swim til arms tired way around direct next film write next book telling deserve die alive silly thoughtful boring</td>\n",
              "    </tr>\n",
              "    <tr>\n",
              "      <th>4</th>\n",
              "      <td>1</td>\n",
              "      <td>movie really genuine random really hard find movies like bunches movies hollywood really enjoy watching movie bought dvd tuesday week watched times love spanglish accent paz really cute acting morgan funny natural br br movie taste might really different others say really love movie simple best br br learned something life movie well least usa life life really random sometimes u meet someone pass life friends coincidently u spend much time maybe u enjoy u never meet time u together really unforgettable keep moments mind grateful nice memories br br movie might cheap making price meanings totally cheap rarely learn anything movies exception</td>\n",
              "    </tr>\n",
              "  </tbody>\n",
              "</table>\n",
              "</div>\n",
              "      <button class=\"colab-df-convert\" onclick=\"convertToInteractive('df-0d93e0b8-6be3-4f70-8a1f-9d33c1e29c91')\"\n",
              "              title=\"Convert this dataframe to an interactive table.\"\n",
              "              style=\"display:none;\">\n",
              "        \n",
              "  <svg xmlns=\"http://www.w3.org/2000/svg\" height=\"24px\"viewBox=\"0 0 24 24\"\n",
              "       width=\"24px\">\n",
              "    <path d=\"M0 0h24v24H0V0z\" fill=\"none\"/>\n",
              "    <path d=\"M18.56 5.44l.94 2.06.94-2.06 2.06-.94-2.06-.94-.94-2.06-.94 2.06-2.06.94zm-11 1L8.5 8.5l.94-2.06 2.06-.94-2.06-.94L8.5 2.5l-.94 2.06-2.06.94zm10 10l.94 2.06.94-2.06 2.06-.94-2.06-.94-.94-2.06-.94 2.06-2.06.94z\"/><path d=\"M17.41 7.96l-1.37-1.37c-.4-.4-.92-.59-1.43-.59-.52 0-1.04.2-1.43.59L10.3 9.45l-7.72 7.72c-.78.78-.78 2.05 0 2.83L4 21.41c.39.39.9.59 1.41.59.51 0 1.02-.2 1.41-.59l7.78-7.78 2.81-2.81c.8-.78.8-2.07 0-2.86zM5.41 20L4 18.59l7.72-7.72 1.47 1.35L5.41 20z\"/>\n",
              "  </svg>\n",
              "      </button>\n",
              "      \n",
              "  <style>\n",
              "    .colab-df-container {\n",
              "      display:flex;\n",
              "      flex-wrap:wrap;\n",
              "      gap: 12px;\n",
              "    }\n",
              "\n",
              "    .colab-df-convert {\n",
              "      background-color: #E8F0FE;\n",
              "      border: none;\n",
              "      border-radius: 50%;\n",
              "      cursor: pointer;\n",
              "      display: none;\n",
              "      fill: #1967D2;\n",
              "      height: 32px;\n",
              "      padding: 0 0 0 0;\n",
              "      width: 32px;\n",
              "    }\n",
              "\n",
              "    .colab-df-convert:hover {\n",
              "      background-color: #E2EBFA;\n",
              "      box-shadow: 0px 1px 2px rgba(60, 64, 67, 0.3), 0px 1px 3px 1px rgba(60, 64, 67, 0.15);\n",
              "      fill: #174EA6;\n",
              "    }\n",
              "\n",
              "    [theme=dark] .colab-df-convert {\n",
              "      background-color: #3B4455;\n",
              "      fill: #D2E3FC;\n",
              "    }\n",
              "\n",
              "    [theme=dark] .colab-df-convert:hover {\n",
              "      background-color: #434B5C;\n",
              "      box-shadow: 0px 1px 3px 1px rgba(0, 0, 0, 0.15);\n",
              "      filter: drop-shadow(0px 1px 2px rgba(0, 0, 0, 0.3));\n",
              "      fill: #FFFFFF;\n",
              "    }\n",
              "  </style>\n",
              "\n",
              "      <script>\n",
              "        const buttonEl =\n",
              "          document.querySelector('#df-0d93e0b8-6be3-4f70-8a1f-9d33c1e29c91 button.colab-df-convert');\n",
              "        buttonEl.style.display =\n",
              "          google.colab.kernel.accessAllowed ? 'block' : 'none';\n",
              "\n",
              "        async function convertToInteractive(key) {\n",
              "          const element = document.querySelector('#df-0d93e0b8-6be3-4f70-8a1f-9d33c1e29c91');\n",
              "          const dataTable =\n",
              "            await google.colab.kernel.invokeFunction('convertToInteractive',\n",
              "                                                     [key], {});\n",
              "          if (!dataTable) return;\n",
              "\n",
              "          const docLinkHtml = 'Like what you see? Visit the ' +\n",
              "            '<a target=\"_blank\" href=https://colab.research.google.com/notebooks/data_table.ipynb>data table notebook</a>'\n",
              "            + ' to learn more about interactive tables.';\n",
              "          element.innerHTML = '';\n",
              "          dataTable['output_type'] = 'display_data';\n",
              "          await google.colab.output.renderOutput(dataTable, element);\n",
              "          const docLink = document.createElement('div');\n",
              "          docLink.innerHTML = docLinkHtml;\n",
              "          element.appendChild(docLink);\n",
              "        }\n",
              "      </script>\n",
              "    </div>\n",
              "  </div>\n",
              "  "
            ]
          },
          "metadata": {},
          "execution_count": 12
        }
      ],
      "source": [
        "df.head()"
      ]
    },
    {
      "cell_type": "markdown",
      "source": [
        "### Using BertTokenizer"
      ],
      "metadata": {
        "id": "HdU2LZ38cuG8"
      }
    },
    {
      "cell_type": "code",
      "source": [
        "tokenizer = BertTokenizer.from_pretrained(\n",
        "    'bert-base-uncased',\n",
        "    do_lower_case = True\n",
        "    )"
      ],
      "metadata": {
        "id": "hV2wcje-dRfR",
        "colab": {
          "base_uri": "https://localhost:8080/",
          "height": 113,
          "referenced_widgets": [
            "91abddfe1c15430c8550124749532ece",
            "bb80ed3034a34a31a2f9ad0e7f89f766",
            "e5d54c118b374333ab700a7e097b505f",
            "768659dc845243d6910f7ef4c8feabcc",
            "023efd20054d44ffa06e1efec579c20c",
            "efcb10885e954877b6fe698912c7e0d0",
            "eca24b5a88854f5194a6d5b99547c35e",
            "ac95b963f0e1464fad1a7b800146707d",
            "d63f6ee89d7d4a4b96df600e42130947",
            "c0258764476b49e686fecc1c172666b3",
            "6890006d1535413f9ca406944cc83785",
            "18ab8fbfc33741f7a692c9750ad4a198",
            "633f6c1d477b40a39d9b06b8ca7def33",
            "21fef2eebcdb4d1aa2ca056ccbb676be",
            "fab1b9aaa4904684b0caeab916ea2c18",
            "9f27252e09454f7cb033fd1dfdbf8dce",
            "59eb5577c91f46b08ad697c60cabd79f",
            "45a069186aeb4de586f15f2c39fee921",
            "efac0a16d7f4422da1ce7e1ee9a78e4f",
            "b3f9557dab12498fb94353a05ef1088c",
            "28e5f51f2f77496b95c1ac8c766a6151",
            "efc08b9db20d4769a3b2db2e4a471305",
            "bf15b034821c4e3898014a7a15e90d94",
            "411f43541ebc4e65ad6bc877789027f3",
            "6dc927dc4b42465e9ac90c0c3e282a71",
            "9d24030f815e407aafdd63a33e53e039",
            "b24df51737f14c99bfc9717bb0650571",
            "36f92a02bfb045678de1d4afc12bc768",
            "c895e6a54dd0449889a15fe1d1a37d2a",
            "3b84d6e798d847b7a7b4bde31d1ed9f9",
            "efb4df46e3a3445dba3fe461d1396730",
            "793fb63e9916405db3ce5367b2341ee8",
            "f6e195a012e34c25b01ba42ad15623f7"
          ]
        },
        "outputId": "69053c5a-2da1-4e53-8a9d-195559968a5e"
      },
      "execution_count": null,
      "outputs": [
        {
          "output_type": "display_data",
          "data": {
            "text/plain": [
              "Downloading (…)solve/main/vocab.txt:   0%|          | 0.00/232k [00:00<?, ?B/s]"
            ],
            "application/vnd.jupyter.widget-view+json": {
              "version_major": 2,
              "version_minor": 0,
              "model_id": "91abddfe1c15430c8550124749532ece"
            }
          },
          "metadata": {}
        },
        {
          "output_type": "display_data",
          "data": {
            "text/plain": [
              "Downloading (…)okenizer_config.json:   0%|          | 0.00/28.0 [00:00<?, ?B/s]"
            ],
            "application/vnd.jupyter.widget-view+json": {
              "version_major": 2,
              "version_minor": 0,
              "model_id": "18ab8fbfc33741f7a692c9750ad4a198"
            }
          },
          "metadata": {}
        },
        {
          "output_type": "display_data",
          "data": {
            "text/plain": [
              "Downloading (…)lve/main/config.json:   0%|          | 0.00/570 [00:00<?, ?B/s]"
            ],
            "application/vnd.jupyter.widget-view+json": {
              "version_major": 2,
              "version_minor": 0,
              "model_id": "bf15b034821c4e3898014a7a15e90d94"
            }
          },
          "metadata": {}
        }
      ]
    },
    {
      "cell_type": "code",
      "source": [
        "reviews = df.review.values\n",
        "ratings = df.rating.values\n",
        "if TESTING_DATA_PATH:\n",
        "  test_reviews = test_df.review.values\n",
        "  test_ratings = test_df.rating.values"
      ],
      "metadata": {
        "id": "CZCtMS0OXJT1"
      },
      "execution_count": null,
      "outputs": []
    },
    {
      "cell_type": "markdown",
      "source": [
        "Split the first review into word-level tokens and map them to their respective IDs in the BERT vocabulary"
      ],
      "metadata": {
        "id": "UxuGaVW8rcC-"
      }
    },
    {
      "cell_type": "code",
      "source": [
        "from tabulate import tabulate\n",
        "\n",
        "table = np.array([tokenizer.tokenize(reviews[0]), \n",
        "                    tokenizer.convert_tokens_to_ids(tokenizer.tokenize(reviews[0]))]).T\n",
        "print(tabulate(table,\n",
        "                headers = ['Tokens', 'Token IDs'],\n",
        "                tablefmt = 'fancy_grid'))"
      ],
      "metadata": {
        "colab": {
          "base_uri": "https://localhost:8080/"
        },
        "id": "Fi2OYgHarKz1",
        "outputId": "8cdd33dd-df91-49b4-803a-a3d9aa1999b7"
      },
      "execution_count": null,
      "outputs": [
        {
          "output_type": "stream",
          "name": "stdout",
          "text": [
            "╒══════════╤═════════════╕\n",
            "│ Tokens   │   Token IDs │\n",
            "╞══════════╪═════════════╡\n",
            "│ thought  │        2245 │\n",
            "├──────────┼─────────────┤\n",
            "│ quiet    │        4251 │\n",
            "├──────────┼─────────────┤\n",
            "│ good     │        2204 │\n",
            "├──────────┼─────────────┤\n",
            "│ movie    │        3185 │\n",
            "├──────────┼─────────────┤\n",
            "│ fun      │        4569 │\n",
            "├──────────┼─────────────┤\n",
            "│ watch    │        3422 │\n",
            "├──────────┼─────────────┤\n",
            "│ liked    │        4669 │\n",
            "├──────────┼─────────────┤\n",
            "│ best     │        2190 │\n",
            "├──────────┼─────────────┤\n",
            "│ outta    │       24955 │\n",
            "├──────────┼─────────────┤\n",
            "│ ##kes    │        9681 │\n",
            "├──────────┼─────────────┤\n",
            "│ end      │        2203 │\n",
            "├──────────┼─────────────┤\n",
            "│ movie    │        3185 │\n",
            "├──────────┼─────────────┤\n",
            "│ great    │        2307 │\n",
            "╘══════════╧═════════════╛\n"
          ]
        }
      ]
    },
    {
      "cell_type": "markdown",
      "source": [
        "Bert requires to:\n",
        "1. Add [CLS] at the beginning of each sentence (ID 101) and [SEP] at the end of each sentence (ID 102)\n",
        "2. Make sentences of the same length\n",
        "3. Create an attention mask"
      ],
      "metadata": {
        "id": "2muXkCs91PoI"
      }
    },
    {
      "cell_type": "markdown",
      "source": [
        "encode_plus method returns a transformers.tokenization.tokenization-utils_base.BatchEncoding object with the following fields:\n",
        "\n",
        "* **input_ids**: list of token IDs.\n",
        "* **token_type_ids**: list of token type IDs.\n",
        "* **attention_mask**: list of 0/1 indicating which tokens should be considered by the model (return_attention_mask = True).\n",
        "\n",
        "Sentences that exceed max_length will be truncated, while shorter sentences will be populated with [PAD] tokens (id: 0) until they reach the desired length."
      ],
      "metadata": {
        "id": "z6IT5w7YsBNY"
      }
    },
    {
      "cell_type": "code",
      "source": [
        "tokens_ids = []\n",
        "attention_masks = []\n",
        "\n",
        "for review in reviews:\n",
        "  encoding_dict = tokenizer.encode_plus(\n",
        "                        review,\n",
        "                        add_special_tokens = True,\n",
        "                        max_length = 64,\n",
        "                        padding = 'max_length',\n",
        "                        truncation = True,\n",
        "                        return_attention_mask = True,\n",
        "                        return_tensors = 'pt'\n",
        "                  )\n",
        "  \n",
        "  tokens_ids.append(encoding_dict['input_ids']) \n",
        "  attention_masks.append(encoding_dict['attention_mask'])"
      ],
      "metadata": {
        "id": "pj_7KYJwdY5m"
      },
      "execution_count": null,
      "outputs": []
    },
    {
      "cell_type": "code",
      "source": [
        "if TESTING_DATA_PATH:\n",
        "  test_tokens_ids = []\n",
        "  test_attention_masks = []\n",
        "\n",
        "  for test_review in test_reviews:\n",
        "    test_encoding_dict = tokenizer.encode_plus(\n",
        "                          test_review,\n",
        "                          add_special_tokens = True,\n",
        "                          max_length = 64,\n",
        "                          padding = 'max_length',\n",
        "                          truncation = True,\n",
        "                          return_attention_mask = True,\n",
        "                          return_tensors = 'pt'\n",
        "                    )\n",
        "    \n",
        "    test_tokens_ids.append(test_encoding_dict['input_ids']) \n",
        "    test_attention_masks.append(test_encoding_dict['attention_mask'])"
      ],
      "metadata": {
        "id": "6M4IwvJ57iEz"
      },
      "execution_count": null,
      "outputs": []
    },
    {
      "cell_type": "code",
      "source": [
        "#Convert the lists into tensors\n",
        "tokens_ids = torch.cat(tokens_ids, dim = 0)\n",
        "attention_masks = torch.cat(attention_masks, dim = 0)\n",
        "ratings = torch.tensor(ratings)"
      ],
      "metadata": {
        "id": "jAB9JqdHesNe"
      },
      "execution_count": null,
      "outputs": []
    },
    {
      "cell_type": "code",
      "source": [
        "if TESTING_DATA_PATH:\n",
        "  #Convert the lists into tensors\n",
        "  test_tokens_ids = torch.cat(test_tokens_ids, dim = 0)\n",
        "  test_attention_masks = torch.cat(test_attention_masks, dim = 0)\n",
        "  test_ratings = torch.tensor(test_ratings)"
      ],
      "metadata": {
        "id": "U49oIMeC76-L"
      },
      "execution_count": null,
      "outputs": []
    },
    {
      "cell_type": "markdown",
      "source": [
        "Tokens, IDs and the attention mask for the first sentence "
      ],
      "metadata": {
        "id": "oMkzWr--2TgL"
      }
    },
    {
      "cell_type": "code",
      "source": [
        "tokens_instance = tokenizer.tokenize(tokenizer.decode(tokens_ids[0]))\n",
        "token_ids_instance = [i.numpy() for i in tokens_ids[0]]\n",
        "attention_instance = [i.numpy() for i in attention_masks[0]]\n",
        "\n",
        "table = np.array([tokens_instance, token_ids_instance, attention_instance]).T\n",
        "print(tabulate(table, headers = ['Tokens', 'Token IDs', 'Attention Mask'], tablefmt = 'fancy_grid'))\n"
      ],
      "metadata": {
        "id": "y36c27fhYWkN",
        "colab": {
          "base_uri": "https://localhost:8080/"
        },
        "outputId": "599641fa-a5fc-404b-b26b-9f7cc6d606b6"
      },
      "execution_count": null,
      "outputs": [
        {
          "output_type": "stream",
          "name": "stdout",
          "text": [
            "╒══════════╤═════════════╤══════════════════╕\n",
            "│ Tokens   │   Token IDs │   Attention Mask │\n",
            "╞══════════╪═════════════╪══════════════════╡\n",
            "│ [CLS]    │         101 │                1 │\n",
            "├──────────┼─────────────┼──────────────────┤\n",
            "│ thought  │        2245 │                1 │\n",
            "├──────────┼─────────────┼──────────────────┤\n",
            "│ quiet    │        4251 │                1 │\n",
            "├──────────┼─────────────┼──────────────────┤\n",
            "│ good     │        2204 │                1 │\n",
            "├──────────┼─────────────┼──────────────────┤\n",
            "│ movie    │        3185 │                1 │\n",
            "├──────────┼─────────────┼──────────────────┤\n",
            "│ fun      │        4569 │                1 │\n",
            "├──────────┼─────────────┼──────────────────┤\n",
            "│ watch    │        3422 │                1 │\n",
            "├──────────┼─────────────┼──────────────────┤\n",
            "│ liked    │        4669 │                1 │\n",
            "├──────────┼─────────────┼──────────────────┤\n",
            "│ best     │        2190 │                1 │\n",
            "├──────────┼─────────────┼──────────────────┤\n",
            "│ outta    │       24955 │                1 │\n",
            "├──────────┼─────────────┼──────────────────┤\n",
            "│ ##kes    │        9681 │                1 │\n",
            "├──────────┼─────────────┼──────────────────┤\n",
            "│ end      │        2203 │                1 │\n",
            "├──────────┼─────────────┼──────────────────┤\n",
            "│ movie    │        3185 │                1 │\n",
            "├──────────┼─────────────┼──────────────────┤\n",
            "│ great    │        2307 │                1 │\n",
            "├──────────┼─────────────┼──────────────────┤\n",
            "│ [SEP]    │         102 │                1 │\n",
            "├──────────┼─────────────┼──────────────────┤\n",
            "│ [PAD]    │           0 │                0 │\n",
            "├──────────┼─────────────┼──────────────────┤\n",
            "│ [PAD]    │           0 │                0 │\n",
            "├──────────┼─────────────┼──────────────────┤\n",
            "│ [PAD]    │           0 │                0 │\n",
            "├──────────┼─────────────┼──────────────────┤\n",
            "│ [PAD]    │           0 │                0 │\n",
            "├──────────┼─────────────┼──────────────────┤\n",
            "│ [PAD]    │           0 │                0 │\n",
            "├──────────┼─────────────┼──────────────────┤\n",
            "│ [PAD]    │           0 │                0 │\n",
            "├──────────┼─────────────┼──────────────────┤\n",
            "│ [PAD]    │           0 │                0 │\n",
            "├──────────┼─────────────┼──────────────────┤\n",
            "│ [PAD]    │           0 │                0 │\n",
            "├──────────┼─────────────┼──────────────────┤\n",
            "│ [PAD]    │           0 │                0 │\n",
            "├──────────┼─────────────┼──────────────────┤\n",
            "│ [PAD]    │           0 │                0 │\n",
            "├──────────┼─────────────┼──────────────────┤\n",
            "│ [PAD]    │           0 │                0 │\n",
            "├──────────┼─────────────┼──────────────────┤\n",
            "│ [PAD]    │           0 │                0 │\n",
            "├──────────┼─────────────┼──────────────────┤\n",
            "│ [PAD]    │           0 │                0 │\n",
            "├──────────┼─────────────┼──────────────────┤\n",
            "│ [PAD]    │           0 │                0 │\n",
            "├──────────┼─────────────┼──────────────────┤\n",
            "│ [PAD]    │           0 │                0 │\n",
            "├──────────┼─────────────┼──────────────────┤\n",
            "│ [PAD]    │           0 │                0 │\n",
            "├──────────┼─────────────┼──────────────────┤\n",
            "│ [PAD]    │           0 │                0 │\n",
            "├──────────┼─────────────┼──────────────────┤\n",
            "│ [PAD]    │           0 │                0 │\n",
            "├──────────┼─────────────┼──────────────────┤\n",
            "│ [PAD]    │           0 │                0 │\n",
            "├──────────┼─────────────┼──────────────────┤\n",
            "│ [PAD]    │           0 │                0 │\n",
            "├──────────┼─────────────┼──────────────────┤\n",
            "│ [PAD]    │           0 │                0 │\n",
            "├──────────┼─────────────┼──────────────────┤\n",
            "│ [PAD]    │           0 │                0 │\n",
            "├──────────┼─────────────┼──────────────────┤\n",
            "│ [PAD]    │           0 │                0 │\n",
            "├──────────┼─────────────┼──────────────────┤\n",
            "│ [PAD]    │           0 │                0 │\n",
            "├──────────┼─────────────┼──────────────────┤\n",
            "│ [PAD]    │           0 │                0 │\n",
            "├──────────┼─────────────┼──────────────────┤\n",
            "│ [PAD]    │           0 │                0 │\n",
            "├──────────┼─────────────┼──────────────────┤\n",
            "│ [PAD]    │           0 │                0 │\n",
            "├──────────┼─────────────┼──────────────────┤\n",
            "│ [PAD]    │           0 │                0 │\n",
            "├──────────┼─────────────┼──────────────────┤\n",
            "│ [PAD]    │           0 │                0 │\n",
            "├──────────┼─────────────┼──────────────────┤\n",
            "│ [PAD]    │           0 │                0 │\n",
            "├──────────┼─────────────┼──────────────────┤\n",
            "│ [PAD]    │           0 │                0 │\n",
            "├──────────┼─────────────┼──────────────────┤\n",
            "│ [PAD]    │           0 │                0 │\n",
            "├──────────┼─────────────┼──────────────────┤\n",
            "│ [PAD]    │           0 │                0 │\n",
            "├──────────┼─────────────┼──────────────────┤\n",
            "│ [PAD]    │           0 │                0 │\n",
            "├──────────┼─────────────┼──────────────────┤\n",
            "│ [PAD]    │           0 │                0 │\n",
            "├──────────┼─────────────┼──────────────────┤\n",
            "│ [PAD]    │           0 │                0 │\n",
            "├──────────┼─────────────┼──────────────────┤\n",
            "│ [PAD]    │           0 │                0 │\n",
            "├──────────┼─────────────┼──────────────────┤\n",
            "│ [PAD]    │           0 │                0 │\n",
            "├──────────┼─────────────┼──────────────────┤\n",
            "│ [PAD]    │           0 │                0 │\n",
            "├──────────┼─────────────┼──────────────────┤\n",
            "│ [PAD]    │           0 │                0 │\n",
            "├──────────┼─────────────┼──────────────────┤\n",
            "│ [PAD]    │           0 │                0 │\n",
            "├──────────┼─────────────┼──────────────────┤\n",
            "│ [PAD]    │           0 │                0 │\n",
            "├──────────┼─────────────┼──────────────────┤\n",
            "│ [PAD]    │           0 │                0 │\n",
            "├──────────┼─────────────┼──────────────────┤\n",
            "│ [PAD]    │           0 │                0 │\n",
            "├──────────┼─────────────┼──────────────────┤\n",
            "│ [PAD]    │           0 │                0 │\n",
            "├──────────┼─────────────┼──────────────────┤\n",
            "│ [PAD]    │           0 │                0 │\n",
            "├──────────┼─────────────┼──────────────────┤\n",
            "│ [PAD]    │           0 │                0 │\n",
            "├──────────┼─────────────┼──────────────────┤\n",
            "│ [PAD]    │           0 │                0 │\n",
            "├──────────┼─────────────┼──────────────────┤\n",
            "│ [PAD]    │           0 │                0 │\n",
            "╘══════════╧═════════════╧══════════════════╛\n"
          ]
        }
      ]
    },
    {
      "cell_type": "markdown",
      "metadata": {
        "id": "MesPNFm7Pf31"
      },
      "source": [
        "### **Train Test split**"
      ]
    },
    {
      "cell_type": "markdown",
      "source": [
        "Split dataset"
      ],
      "metadata": {
        "id": "Gtu_QgaVv4Eg"
      }
    },
    {
      "cell_type": "code",
      "source": [
        "train_idx, test_idx = train_test_split(np.arange(len(ratings)), test_size = 0.2,random_state=42)\n",
        "\n",
        "if not TESTING_DATA_PATH:\n",
        "  train_idx, val_idx = train_test_split(train_idx, test_size=0.2, random_state=42)\n",
        "  val_set = TensorDataset(tokens_ids[val_idx], \n",
        "                          attention_masks[val_idx], \n",
        "                          ratings[val_idx])\n",
        "\n",
        "train_set = TensorDataset(tokens_ids[train_idx], \n",
        "                          attention_masks[train_idx], \n",
        "                          ratings[train_idx])\n",
        "if not TESTING_DATA_PATH:\n",
        "  test_set = TensorDataset(tokens_ids[test_idx], \n",
        "                           attention_masks[test_idx], \n",
        "                           ratings[test_idx])\n",
        "else:\n",
        "  test_set = TensorDataset(test_tokens_ids,\n",
        "                           test_attention_masks,\n",
        "                           test_ratings)"
      ],
      "metadata": {
        "id": "v3EquxRbYeSD"
      },
      "execution_count": null,
      "outputs": []
    },
    {
      "cell_type": "code",
      "source": [
        "# Returns train_dataloader, test_dataloader if val_set = None\n",
        "# otherwise returns  train_dataloader, test_dataloader, val_dataloader\n",
        "def get_dataloaders(batch_size, train_set, test_set, val_set=None):\n",
        "  train_dataloader = DataLoader(train_set,\n",
        "                              sampler = RandomSampler(train_set),\n",
        "                              batch_size = batch_size)\n",
        "\n",
        "  test_dataloader = DataLoader(test_set,\n",
        "                              sampler = SequentialSampler(test_set),\n",
        "                              batch_size = batch_size)\n",
        "  if val_set != None:\n",
        "    val_dataloader = DataLoader(val_set,\n",
        "                                     sampler = SequentialSampler(val_set),\n",
        "                                     batch_size = batch_size)\n",
        "    return train_dataloader, test_dataloader, val_dataloader\n",
        "    \n",
        "  return train_dataloader, test_dataloader"
      ],
      "metadata": {
        "id": "Ea6yRwhOjkhU"
      },
      "execution_count": null,
      "outputs": []
    },
    {
      "cell_type": "markdown",
      "source": [
        "## Training-Evaluating-Experimening"
      ],
      "metadata": {
        "id": "rmioH5m2gmdZ"
      }
    },
    {
      "cell_type": "code",
      "source": [
        "def plot_loss_acc(train_losses, val_losses, train_accuracies, val_accuracies, n_epochs, append_to_title=\"\"):\n",
        "  plt.style.use(\"ggplot\")\n",
        "  plt.figure(figsize=(12, 8))\n",
        "\n",
        "  plt.plot(np.arange(0, n_epochs), train_losses, label=\"train_loss\")\n",
        "  plt.plot(np.arange(0, n_epochs), val_losses, label=\"val_loss\")\n",
        "  plt.plot(np.arange(0, n_epochs), train_accuracies, label=\"train_acc\")\n",
        "  plt.plot(np.arange(0, n_epochs), val_accuracies, label=\"val_acc\")\n",
        "  plt.title(\"Training Loss and Accuracy\" + append_to_title)\n",
        "  plt.xlabel(\"Epoch\")\n",
        "  plt.ylabel(\"Loss/Accuracy\")\n",
        "  plt.legend()"
      ],
      "metadata": {
        "id": "m1TzYeoRVg1O"
      },
      "execution_count": null,
      "outputs": []
    },
    {
      "cell_type": "code",
      "source": [
        "def b_tp(preds, labels):\n",
        "  return sum([preds == labels and preds == 1 for preds, labels in zip(preds, labels)])\n",
        "\n",
        "def b_fp(preds, labels):\n",
        "  return sum([preds != labels and preds == 1 for preds, labels in zip(preds, labels)])\n",
        "\n",
        "def b_tn(preds, labels):\n",
        "  return sum([preds == labels and preds == 0 for preds, labels in zip(preds, labels)])\n",
        "\n",
        "def b_fn(preds, labels):\n",
        "  return sum([preds != labels and preds == 0 for preds, labels in zip(preds, labels)])\n",
        "\n",
        "def get_accuracy(preds, labels):\n",
        "  preds = np.argmax(preds, axis = 1).flatten()\n",
        "  labels = labels.flatten()\n",
        "  tp = b_tp(preds, labels)\n",
        "  tn = b_tn(preds, labels)\n",
        "  return (tp + tn) / len(labels)\n",
        "\n",
        "#returns accuracy, precision, recall, F1       \n",
        "def b_metrics(preds, labels):\n",
        "  preds = np.argmax(preds, axis = 1).flatten()\n",
        "  labels = labels.flatten()\n",
        "  tp = b_tp(preds, labels)\n",
        "  tn = b_tn(preds, labels)\n",
        "  fp = b_fp(preds, labels)\n",
        "  fn = b_fn(preds, labels)\n",
        "  b_accuracy = (tp + tn) / len(labels)\n",
        "  b_precision = tp / (tp + fp) if (tp + fp) > 0 else 'nan'\n",
        "  b_recall = tp / (tp + fn) if (tp + fn) > 0 else 'nan'\n",
        "  f1 = 2 * (b_precision * b_recall)/(b_precision + b_recall) if b_precision != 'nan' and b_recall != 'nan' else 'nan'\n",
        "  return b_accuracy, b_precision, b_recall, f1"
      ],
      "metadata": {
        "id": "QWHM0lctge4k"
      },
      "execution_count": null,
      "outputs": []
    },
    {
      "cell_type": "code",
      "source": [
        "#train the model on the training dataloader\n",
        "#returns epoch loss and accuracy\n",
        "def train(model, dataloader, optimizer, scheduler):\n",
        "  epoch_loss = 0\n",
        "  epoch_acc = 0\n",
        "\n",
        "  model.train()\n",
        "  for step, batch in enumerate(dataloader):\n",
        "      b_input_ids = batch[0].to(device)\n",
        "      b_input_mask = batch[1].to(device)\n",
        "      b_labels = batch[2].to(device)\n",
        "\n",
        "      optimizer.zero_grad()\n",
        "      output = model(b_input_ids, \n",
        "                    token_type_ids=None, \n",
        "                    attention_mask=b_input_mask, \n",
        "                    labels=b_labels)        \n",
        "\n",
        "      logits = output.logits\n",
        "      logits = logits.detach().cpu().numpy()\n",
        "      label_ids = b_labels.to('cpu').numpy()\n",
        "\n",
        "      epoch_acc += get_accuracy(logits, label_ids)\n",
        "      loss = output.loss\n",
        "      epoch_loss += loss.item()\n",
        "\n",
        "      loss.backward()\n",
        "      torch.nn.utils.clip_grad_norm_(model.parameters(), 1.0)\n",
        "\n",
        "      optimizer.step()\n",
        "      #Update the learning rate.\n",
        "      scheduler.step()\n",
        "\n",
        "  return epoch_loss / len(dataloader), epoch_acc / len(dataloader)        "
      ],
      "metadata": {
        "id": "vt6QqnvInc-w"
      },
      "execution_count": null,
      "outputs": []
    },
    {
      "cell_type": "code",
      "source": [
        "#evaluates the model on the validation dataloader\n",
        "#returns epoch loss and accuracy\n",
        "def evaluate(model, dataloader, return_b_metrics = False):\n",
        "  model.eval()\n",
        "  epoch_loss = 0\n",
        "  epoch_acc = 0\n",
        "  epoch_prec = 0\n",
        "  epoch_recall = 0\n",
        "  epoch_F1 = 0\n",
        "\n",
        "  for batch in dataloader:\n",
        "    b_input_ids = batch[0].to(device)\n",
        "    b_input_mask = batch[1].to(device)\n",
        "    b_labels = batch[2].to(device)\n",
        "\n",
        "    with torch.no_grad():        \n",
        "        output= model(b_input_ids, \n",
        "                      token_type_ids=None, \n",
        "                      attention_mask=b_input_mask,\n",
        "                      labels=b_labels)\n",
        "    loss = output.loss\n",
        "    epoch_loss += loss.item()\n",
        "\n",
        "    # Move logits and labels to CPU \n",
        "    logits = output.logits\n",
        "    logits = logits.detach().cpu().numpy()\n",
        "    label_ids = b_labels.to('cpu').numpy()\n",
        "\n",
        "    if not return_b_metrics:\n",
        "      epoch_acc += get_accuracy(logits, label_ids)\n",
        "    else:\n",
        "      batch_acc, batch_prec, batch_recall, batch_F1 = b_metrics(logits, label_ids)\n",
        "      epoch_acc += batch_acc\n",
        "      epoch_prec += batch_prec\n",
        "      epoch_recall += batch_recall\n",
        "      epoch_F1 += batch_F1\n",
        "  data_sz = len(dataloader)\n",
        "  if not return_b_metrics:\n",
        "    return epoch_loss / data_sz, epoch_acc / data_sz\n",
        "  else:\n",
        "    return epoch_loss / data_sz, epoch_acc / data_sz, epoch_prec / data_sz, epoch_recall / data_sz, epoch_F1 / data_sz"
      ],
      "metadata": {
        "id": "6_WwqO8BqNpA"
      },
      "execution_count": null,
      "outputs": []
    },
    {
      "cell_type": "code",
      "source": [
        "#train the model on the training dataloader\n",
        "#evaluates the model on the validation dataloader\n",
        "#returns lists of train loss and accuracy and valid loss and accuracy\n",
        "def train_eval_model(model, epochs, optimizer, scheduler, train_dataloader, validation_dataloader):\n",
        "  train_loss_list = []\n",
        "  train_acc_list = []\n",
        "  valid_loss_list = []\n",
        "  valid_acc_list = []\n",
        "\n",
        "  for epoch in range(epochs):\n",
        "    print(f'Epoch: {epoch+1:02}')\n",
        "    train_loss, train_acc = train(model, train_dataloader, optimizer, scheduler)\n",
        "    valid_loss, valid_acc = evaluate(model, validation_dataloader)\n",
        "        \n",
        "    train_loss_list.append(train_loss)\n",
        "    train_acc_list.append(train_acc)\n",
        "    valid_loss_list.append(valid_loss)\n",
        "    valid_acc_list.append(valid_acc)\n",
        "\n",
        "    print(f'\\tTrain Loss: {train_loss:.3f} | Train Acc: {train_acc*100:.2f}%')\n",
        "    print(f'\\t Val. Loss: {valid_loss:.3f} |  Val. Acc: {valid_acc*100:.2f}%')\n",
        "\n",
        "  return train_loss_list, train_acc_list, valid_loss_list, valid_acc_list"
      ],
      "metadata": {
        "id": "ygAZlUcNUH1V"
      },
      "execution_count": null,
      "outputs": []
    },
    {
      "cell_type": "code",
      "source": [
        "device = torch.device('cuda' if torch.cuda.is_available() else 'cpu')"
      ],
      "metadata": {
        "id": "Xp701-H-L5kU"
      },
      "execution_count": null,
      "outputs": []
    },
    {
      "cell_type": "code",
      "source": [
        "def experiment_with_params(epochs, lr, train_dataloader, validation_dataloader):\n",
        "  # Load BertForSequenceClassification, the pretrained BERT model with a single \n",
        "  # linear classification layer on top. \n",
        "  model = BertForSequenceClassification.from_pretrained(\n",
        "      'bert-base-uncased',\n",
        "      num_labels = 2,\n",
        "      output_attentions = False,\n",
        "      output_hidden_states = False,\n",
        "  )\n",
        "\n",
        "  optimizer = torch.optim.AdamW(model.parameters(), lr = lr, eps = 1e-08)\n",
        "\n",
        "  model = model.to(device)\n",
        "\n",
        "  total_steps = len(train_dataloader) * epochs\n",
        "\n",
        "  #Create a schedule with a learning rate that decreases linearly \n",
        "  #from the initial lr set in the optimizer to 0, after a warmup period\n",
        "  #during which it increases linearly from 0 to the initial lr set in the optimizer.\n",
        "  scheduler = get_linear_schedule_with_warmup(optimizer, \n",
        "                                              num_warmup_steps = 0, \n",
        "                                              num_training_steps = total_steps)\n",
        "  \n",
        "  return train_eval_model(model, epochs, optimizer, scheduler, train_dataloader, validation_dataloader)"
      ],
      "metadata": {
        "id": "lrthRqWFhX6C"
      },
      "execution_count": null,
      "outputs": []
    },
    {
      "cell_type": "markdown",
      "source": [
        "I experiment with recommended learning rates (Adam): 5e-5, 3e-5, 2e-5 as mention in https://arxiv.org/pdf/1810.04805.pdf, between 2 and 4 number of training epochs and batch sizes 16 and 32 as the BERT authors recommend."
      ],
      "metadata": {
        "id": "N1ryArkPjhpg"
      }
    },
    {
      "cell_type": "code",
      "source": [
        "if not TESTING_DATA_PATH:\n",
        "  batch_sizes = [16,32]\n",
        "  lrs = [5e-5, 3e-5, 2e-5]\n",
        "  epochs = [2, 3, 4]"
      ],
      "metadata": {
        "id": "QkvlLKajWMXA"
      },
      "execution_count": null,
      "outputs": []
    },
    {
      "cell_type": "code",
      "source": [
        "if not TESTING_DATA_PATH: \n",
        "  max_val_acc = -1\n",
        "  for batch_size in batch_sizes:\n",
        "    train_dataloader, test_dataloader, val_dataloader = get_dataloaders(batch_size, train_set, test_set, val_set)  \n",
        "    for lr in lrs:\n",
        "      for ep in epochs:\n",
        "        print(f'Runnning model with batch size: {batch_size}, epochs: {ep}, lr: {lr}')\n",
        "        train_loss_list, train_acc_list, valid_loss_list, valid_acc_list = experiment_with_params(ep, lr, train_dataloader, val_dataloader)\n",
        "        val_acc = valid_acc_list[-1]\n",
        "        if val_acc > max_val_acc:\n",
        "          max_val_acc = val_acc\n",
        "          opt_batch_size = batch_size\n",
        "          opt_epochs = ep  \n",
        "          opt_lr = lr\n",
        "        plot_loss_acc(train_loss_list, valid_loss_list, train_acc_list, valid_acc_list, ep, append_to_title= \"Batch sz: \" + str(batch_size) + \", Epochs: \" + str(ep) + \", lr: \" + str(lr) + \", Accuracy: \" + str(val_acc))\n",
        "\n",
        "  print(f'Max accuracy achieved: {max_val_acc*100:.2f}% with batch size: {opt_batch_size}, epochs: {opt_epochs} and lr: {opt_lr}')"
      ],
      "metadata": {
        "id": "ret1gV2nW7Za"
      },
      "execution_count": null,
      "outputs": []
    },
    {
      "cell_type": "markdown",
      "source": [
        "## Final model"
      ],
      "metadata": {
        "id": "SLMTSd56sd0M"
      }
    },
    {
      "cell_type": "markdown",
      "source": [
        "I choose **batch size = 32, epochs = 2, learing rate = 5e-05**"
      ],
      "metadata": {
        "id": "FfCXUeEbzORP"
      }
    },
    {
      "cell_type": "code",
      "source": [
        "if TESTING_DATA_PATH:   \n",
        "  opt_batch_size = 32 \n",
        "  opt_epochs = 2\n",
        "  opt_lr = 5e-05"
      ],
      "metadata": {
        "id": "Q0-3uESUs1Hu"
      },
      "execution_count": null,
      "outputs": []
    },
    {
      "cell_type": "code",
      "source": [
        "if not TESTING_DATA_PATH:\n",
        "  train_dataloader, test_dataloader, val_dataloader = get_dataloaders(opt_batch_size, train_set, test_set, val_set)  \n",
        "else:\n",
        "  train_dataloader, test_dataloader = get_dataloaders(opt_batch_size, train_set, test_set)  \n",
        "\n",
        "model = BertForSequenceClassification.from_pretrained(\n",
        "    'bert-base-uncased',\n",
        "    num_labels = 2,\n",
        "    output_attentions = False,\n",
        "    output_hidden_states = False,\n",
        ")\n",
        "\n",
        "optimizer = torch.optim.AdamW(model.parameters(), lr = opt_lr, eps = 1e-08)\n",
        "\n",
        "total_steps = len(train_dataloader) * opt_epochs\n",
        "\n",
        "scheduler = get_linear_schedule_with_warmup(optimizer, \n",
        "                                            num_warmup_steps = 0, \n",
        "                                            num_training_steps = total_steps)\n",
        "model = model.to(device)\n",
        "\n",
        "train_loss_list = []\n",
        "train_acc_list = []\n",
        "valid_loss_list = []\n",
        "valid_acc_list = []\n",
        "\n",
        "for epoch in range(opt_epochs):\n",
        "  print(f'Epoch: {epoch+1:02}')\n",
        "  train_loss, train_acc = train(model, train_dataloader, optimizer, scheduler)\n",
        "  if not TESTING_DATA_PATH:\n",
        "    valid_loss, valid_acc = evaluate(model, val_dataloader)\n",
        "      \n",
        "  train_loss_list.append(train_loss)\n",
        "  train_acc_list.append(train_acc)\n",
        "  if not TESTING_DATA_PATH:\n",
        "    valid_loss_list.append(valid_loss)\n",
        "    valid_acc_list.append(valid_acc)\n",
        "\n",
        "  print(f'\\tTrain Loss: {train_loss:.3f} | Train Acc: {train_acc*100:.2f}%')\n",
        "  if not TESTING_DATA_PATH:\n",
        "    print(f'\\t Val. Loss: {valid_loss:.3f} |  Val. Acc: {valid_acc*100:.2f}%')"
      ],
      "metadata": {
        "id": "mVIuMlaesiFH",
        "colab": {
          "base_uri": "https://localhost:8080/",
          "height": 260,
          "referenced_widgets": [
            "7cfe9443b5b2429c9f6c3a3c4f8eab9c",
            "92c2a158b26c4542a66d10aa51e944b2",
            "64a96c6a70fa4c39881742c67dbb2dac",
            "250e86c64106411882e821597ae322b0",
            "83025df3cee74ef4b9d9acf9c6ebc3c3",
            "42f5deb02d5b4821bcac11208ff40ce3",
            "a1d420d9b3444b7b8dc5829766f1c723",
            "500a7912e8024f4b8a9ccba5cefb74f6",
            "6edd0899c78840deafb5d70118af5eba",
            "f751d37607944676b4fd65cb4a1e03ab",
            "6ee54f073f234dd5bed86aaab2e63c8c"
          ]
        },
        "outputId": "5dd40d12-8f2b-4edd-f458-ebb9a26de81d"
      },
      "execution_count": null,
      "outputs": [
        {
          "output_type": "display_data",
          "data": {
            "text/plain": [
              "Downloading (…)\"pytorch_model.bin\";:   0%|          | 0.00/440M [00:00<?, ?B/s]"
            ],
            "application/vnd.jupyter.widget-view+json": {
              "version_major": 2,
              "version_minor": 0,
              "model_id": "7cfe9443b5b2429c9f6c3a3c4f8eab9c"
            }
          },
          "metadata": {}
        },
        {
          "output_type": "stream",
          "name": "stderr",
          "text": [
            "Some weights of the model checkpoint at bert-base-uncased were not used when initializing BertForSequenceClassification: ['cls.predictions.decoder.weight', 'cls.predictions.bias', 'cls.seq_relationship.bias', 'cls.predictions.transform.dense.weight', 'cls.seq_relationship.weight', 'cls.predictions.transform.dense.bias', 'cls.predictions.transform.LayerNorm.bias', 'cls.predictions.transform.LayerNorm.weight']\n",
            "- This IS expected if you are initializing BertForSequenceClassification from the checkpoint of a model trained on another task or with another architecture (e.g. initializing a BertForSequenceClassification model from a BertForPreTraining model).\n",
            "- This IS NOT expected if you are initializing BertForSequenceClassification from the checkpoint of a model that you expect to be exactly identical (initializing a BertForSequenceClassification model from a BertForSequenceClassification model).\n",
            "Some weights of BertForSequenceClassification were not initialized from the model checkpoint at bert-base-uncased and are newly initialized: ['classifier.weight', 'classifier.bias']\n",
            "You should probably TRAIN this model on a down-stream task to be able to use it for predictions and inference.\n"
          ]
        },
        {
          "output_type": "stream",
          "name": "stdout",
          "text": [
            "Epoch: 01\n",
            "\tTrain Loss: 0.397 | Train Acc: 81.83%\n",
            "\t Val. Loss: 0.337 |  Val. Acc: 85.84%\n",
            "Epoch: 02\n",
            "\tTrain Loss: 0.215 | Train Acc: 91.81%\n",
            "\t Val. Loss: 0.346 |  Val. Acc: 86.82%\n"
          ]
        }
      ]
    },
    {
      "cell_type": "code",
      "source": [
        "if not TESTING_DATA_PATH:\n",
        "  plot_loss_acc(train_loss_list, valid_loss_list, train_acc_list, valid_acc_list, opt_epochs, append_to_title=\"Epochs: \" + str(opt_epochs) + \", lr: \" + str(opt_lr))"
      ],
      "metadata": {
        "id": "AvkI8NNIjInM"
      },
      "execution_count": null,
      "outputs": []
    },
    {
      "cell_type": "code",
      "source": [
        "test_loss, test_acc = evaluate(model, test_dataloader)\n",
        "print(f'Test Loss: {test_loss:.3f} | Test Acc: {test_acc*100:.2f}%')"
      ],
      "metadata": {
        "id": "YOR3kUoaCbNR",
        "colab": {
          "base_uri": "https://localhost:8080/"
        },
        "outputId": "557a1309-2bc4-41e7-8b6f-3c04141c1cdf"
      },
      "execution_count": null,
      "outputs": [
        {
          "output_type": "stream",
          "name": "stdout",
          "text": [
            "Test Loss: 0.332 | Test Acc: 86.93%\n"
          ]
        }
      ]
    },
    {
      "cell_type": "markdown",
      "source": [
        "## Metrics"
      ],
      "metadata": {
        "id": "mTASkoqwJv1N"
      }
    },
    {
      "cell_type": "code",
      "source": [
        "#evaluates the model on the test dataloader\n",
        "#returns predictions, true_labels as flatten lists\n",
        "def predictions_true_labels(model, dataloader):\n",
        "  model.eval()\n",
        "  predictions = []\n",
        "  true_labels = []\n",
        "\n",
        "  for batch in dataloader:\n",
        "    b_input_ids = batch[0].to(device)\n",
        "    b_input_mask = batch[1].to(device)\n",
        "    b_labels = batch[2].to(device)\n",
        "\n",
        "    with torch.no_grad():        \n",
        "        output= model(b_input_ids, \n",
        "                      token_type_ids=None, \n",
        "                      attention_mask=b_input_mask,\n",
        "                      labels=b_labels)\n",
        "\n",
        "    # Move logits and labels to CPU \n",
        "    logits = output.logits\n",
        "    logits = logits.detach().cpu().numpy()\n",
        "    label_ids = b_labels.to('cpu').numpy()\n",
        "\n",
        "    preds = np.argmax(logits, axis = 1).flatten()\n",
        "    labels = label_ids.flatten()\n",
        "\n",
        "    predictions.extend(preds)\n",
        "    true_labels.extend(labels)\n",
        "\n",
        "  return predictions, true_labels"
      ],
      "metadata": {
        "id": "0PpJJ-50bfBX"
      },
      "execution_count": null,
      "outputs": []
    },
    {
      "cell_type": "code",
      "source": [
        "predictions, true_labels = predictions_true_labels(model, test_dataloader)"
      ],
      "metadata": {
        "id": "jpyZeh_kJV1W"
      },
      "execution_count": null,
      "outputs": []
    },
    {
      "cell_type": "code",
      "source": [
        "from sklearn.metrics import classification_report\n",
        "\n",
        "print(classification_report(true_labels, predictions))"
      ],
      "metadata": {
        "id": "xnGa7PrcJWoR",
        "colab": {
          "base_uri": "https://localhost:8080/"
        },
        "outputId": "b3453786-ecfd-422f-edeb-a1019dd15558"
      },
      "execution_count": null,
      "outputs": [
        {
          "output_type": "stream",
          "name": "stdout",
          "text": [
            "              precision    recall  f1-score   support\n",
            "\n",
            "           0       0.89      0.85      0.87      4550\n",
            "           1       0.85      0.89      0.87      4452\n",
            "\n",
            "    accuracy                           0.87      9002\n",
            "   macro avg       0.87      0.87      0.87      9002\n",
            "weighted avg       0.87      0.87      0.87      9002\n",
            "\n"
          ]
        }
      ]
    },
    {
      "cell_type": "code",
      "source": [
        "from sklearn.metrics import roc_curve, auc\n",
        "from sklearn.preprocessing import label_binarize\n",
        "\n",
        "true_labels = label_binarize(true_labels, classes=[0, 1])\n",
        "n_classes = true_labels.shape[1]\n",
        "\n",
        "fpr = dict()\n",
        "tpr = dict()\n",
        "roc_auc = dict()\n",
        "fpr, tpr, _ = roc_curve(true_labels[:], predictions[:])\n",
        "roc_auc = auc(fpr, tpr)\n",
        "\n",
        "plt.figure(figsize=(8,8))\n",
        "lw = 2\n",
        "plt.plot(fpr, tpr, color='darkorange',lw=lw, label='ROC curve (area = %0.2f)' % roc_auc)\n",
        "plt.plot([0, 1], [0, 1], color='navy', lw=lw, linestyle='--')\n",
        "plt.xlim([0.0, 1.0])\n",
        "plt.ylim([0.0, 1.05])\n",
        "plt.xlabel('False Positive Rate',fontsize=15)\n",
        "plt.ylabel('True Positive Rate',fontsize=15)\n",
        "plt.title('Receiver Operating Characteristic example', fontsize=15)\n",
        "plt.legend(loc=\"lower right\",fontsize=15)\n",
        "plt.show()"
      ],
      "metadata": {
        "id": "QIWf97PsJYmj",
        "colab": {
          "base_uri": "https://localhost:8080/",
          "height": 520
        },
        "outputId": "578f7766-d2f5-4956-f00b-79d8b19b8a70"
      },
      "execution_count": null,
      "outputs": [
        {
          "output_type": "display_data",
          "data": {
            "text/plain": [
              "<Figure size 576x576 with 1 Axes>"
            ],
            "image/png": "[encoded data removed]"
          },
          "metadata": {}
        }
      ]
    }
  ],
  "metadata": {
    "accelerator": "GPU",
    "colab": {
      "provenance": [],
      "toc_visible": true
    },
    "gpuClass": "standard",
    "kernelspec": {
      "display_name": "Python 3",
      "name": "python3"
    },
    "language_info": {
      "name": "python"
    },
    "widgets": {
      "application/vnd.jupyter.widget-state+json": {
        "91abddfe1c15430c8550124749532ece": {
          "model_module": "@jupyter-widgets/controls",
          "model_name": "HBoxModel",
          "model_module_version": "1.5.0",
          "state": {
            "_dom_classes": [],
            "_model_module": "@jupyter-widgets/controls",
            "_model_module_version": "1.5.0",
            "_model_name": "HBoxModel",
            "_view_count": null,
            "_view_module": "@jupyter-widgets/controls",
            "_view_module_version": "1.5.0",
            "_view_name": "HBoxView",
            "box_style": "",
            "children": [
              "IPY_MODEL_bb80ed3034a34a31a2f9ad0e7f89f766",
              "IPY_MODEL_e5d54c118b374333ab700a7e097b505f",
              "IPY_MODEL_768659dc845243d6910f7ef4c8feabcc"
            ],
            "layout": "IPY_MODEL_023efd20054d44ffa06e1efec579c20c"
          }
        },
        "bb80ed3034a34a31a2f9ad0e7f89f766": {
          "model_module": "@jupyter-widgets/controls",
          "model_name": "HTMLModel",
          "model_module_version": "1.5.0",
          "state": {
            "_dom_classes": [],
            "_model_module": "@jupyter-widgets/controls",
            "_model_module_version": "1.5.0",
            "_model_name": "HTMLModel",
            "_view_count": null,
            "_view_module": "@jupyter-widgets/controls",
            "_view_module_version": "1.5.0",
            "_view_name": "HTMLView",
            "description": "",
            "description_tooltip": null,
            "layout": "IPY_MODEL_efcb10885e954877b6fe698912c7e0d0",
            "placeholder": "​",
            "style": "IPY_MODEL_eca24b5a88854f5194a6d5b99547c35e",
            "value": "Downloading (…)solve/main/vocab.txt: 100%"
          }
        },
        "e5d54c118b374333ab700a7e097b505f": {
          "model_module": "@jupyter-widgets/controls",
          "model_name": "FloatProgressModel",
          "model_module_version": "1.5.0",
          "state": {
            "_dom_classes": [],
            "_model_module": "@jupyter-widgets/controls",
            "_model_module_version": "1.5.0",
            "_model_name": "FloatProgressModel",
            "_view_count": null,
            "_view_module": "@jupyter-widgets/controls",
            "_view_module_version": "1.5.0",
            "_view_name": "ProgressView",
            "bar_style": "success",
            "description": "",
            "description_tooltip": null,
            "layout": "IPY_MODEL_ac95b963f0e1464fad1a7b800146707d",
            "max": 231508,
            "min": 0,
            "orientation": "horizontal",
            "style": "IPY_MODEL_d63f6ee89d7d4a4b96df600e42130947",
            "value": 231508
          }
        },
        "768659dc845243d6910f7ef4c8feabcc": {
          "model_module": "@jupyter-widgets/controls",
          "model_name": "HTMLModel",
          "model_module_version": "1.5.0",
          "state": {
            "_dom_classes": [],
            "_model_module": "@jupyter-widgets/controls",
            "_model_module_version": "1.5.0",
            "_model_name": "HTMLModel",
            "_view_count": null,
            "_view_module": "@jupyter-widgets/controls",
            "_view_module_version": "1.5.0",
            "_view_name": "HTMLView",
            "description": "",
            "description_tooltip": null,
            "layout": "IPY_MODEL_c0258764476b49e686fecc1c172666b3",
            "placeholder": "​",
            "style": "IPY_MODEL_6890006d1535413f9ca406944cc83785",
            "value": " 232k/232k [00:00&lt;00:00, 348kB/s]"
          }
        },
        "023efd20054d44ffa06e1efec579c20c": {
          "model_module": "@jupyter-widgets/base",
          "model_name": "LayoutModel",
          "model_module_version": "1.2.0",
          "state": {
            "_model_module": "@jupyter-widgets/base",
            "_model_module_version": "1.2.0",
            "_model_name": "LayoutModel",
            "_view_count": null,
            "_view_module": "@jupyter-widgets/base",
            "_view_module_version": "1.2.0",
            "_view_name": "LayoutView",
            "align_content": null,
            "align_items": null,
            "align_self": null,
            "border": null,
            "bottom": null,
            "display": null,
            "flex": null,
            "flex_flow": null,
            "grid_area": null,
            "grid_auto_columns": null,
            "grid_auto_flow": null,
            "grid_auto_rows": null,
            "grid_column": null,
            "grid_gap": null,
            "grid_row": null,
            "grid_template_areas": null,
            "grid_template_columns": null,
            "grid_template_rows": null,
            "height": null,
            "justify_content": null,
            "justify_items": null,
            "left": null,
            "margin": null,
            "max_height": null,
            "max_width": null,
            "min_height": null,
            "min_width": null,
            "object_fit": null,
            "object_position": null,
            "order": null,
            "overflow": null,
            "overflow_x": null,
            "overflow_y": null,
            "padding": null,
            "right": null,
            "top": null,
            "visibility": null,
            "width": null
          }
        },
        "efcb10885e954877b6fe698912c7e0d0": {
          "model_module": "@jupyter-widgets/base",
          "model_name": "LayoutModel",
          "model_module_version": "1.2.0",
          "state": {
            "_model_module": "@jupyter-widgets/base",
            "_model_module_version": "1.2.0",
            "_model_name": "LayoutModel",
            "_view_count": null,
            "_view_module": "@jupyter-widgets/base",
            "_view_module_version": "1.2.0",
            "_view_name": "LayoutView",
            "align_content": null,
            "align_items": null,
            "align_self": null,
            "border": null,
            "bottom": null,
            "display": null,
            "flex": null,
            "flex_flow": null,
            "grid_area": null,
            "grid_auto_columns": null,
            "grid_auto_flow": null,
            "grid_auto_rows": null,
            "grid_column": null,
            "grid_gap": null,
            "grid_row": null,
            "grid_template_areas": null,
            "grid_template_columns": null,
            "grid_template_rows": null,
            "height": null,
            "justify_content": null,
            "justify_items": null,
            "left": null,
            "margin": null,
            "max_height": null,
            "max_width": null,
            "min_height": null,
            "min_width": null,
            "object_fit": null,
            "object_position": null,
            "order": null,
            "overflow": null,
            "overflow_x": null,
            "overflow_y": null,
            "padding": null,
            "right": null,
            "top": null,
            "visibility": null,
            "width": null
          }
        },
        "eca24b5a88854f5194a6d5b99547c35e": {
          "model_module": "@jupyter-widgets/controls",
          "model_name": "DescriptionStyleModel",
          "model_module_version": "1.5.0",
          "state": {
            "_model_module": "@jupyter-widgets/controls",
            "_model_module_version": "1.5.0",
            "_model_name": "DescriptionStyleModel",
            "_view_count": null,
            "_view_module": "@jupyter-widgets/base",
            "_view_module_version": "1.2.0",
            "_view_name": "StyleView",
            "description_width": ""
          }
        },
        "ac95b963f0e1464fad1a7b800146707d": {
          "model_module": "@jupyter-widgets/base",
          "model_name": "LayoutModel",
          "model_module_version": "1.2.0",
          "state": {
            "_model_module": "@jupyter-widgets/base",
            "_model_module_version": "1.2.0",
            "_model_name": "LayoutModel",
            "_view_count": null,
            "_view_module": "@jupyter-widgets/base",
            "_view_module_version": "1.2.0",
            "_view_name": "LayoutView",
            "align_content": null,
            "align_items": null,
            "align_self": null,
            "border": null,
            "bottom": null,
            "display": null,
            "flex": null,
            "flex_flow": null,
            "grid_area": null,
            "grid_auto_columns": null,
            "grid_auto_flow": null,
            "grid_auto_rows": null,
            "grid_column": null,
            "grid_gap": null,
            "grid_row": null,
            "grid_template_areas": null,
            "grid_template_columns": null,
            "grid_template_rows": null,
            "height": null,
            "justify_content": null,
            "justify_items": null,
            "left": null,
            "margin": null,
            "max_height": null,
            "max_width": null,
            "min_height": null,
            "min_width": null,
            "object_fit": null,
            "object_position": null,
            "order": null,
            "overflow": null,
            "overflow_x": null,
            "overflow_y": null,
            "padding": null,
            "right": null,
            "top": null,
            "visibility": null,
            "width": null
          }
        },
        "d63f6ee89d7d4a4b96df600e42130947": {
          "model_module": "@jupyter-widgets/controls",
          "model_name": "ProgressStyleModel",
          "model_module_version": "1.5.0",
          "state": {
            "_model_module": "@jupyter-widgets/controls",
            "_model_module_version": "1.5.0",
            "_model_name": "ProgressStyleModel",
            "_view_count": null,
            "_view_module": "@jupyter-widgets/base",
            "_view_module_version": "1.2.0",
            "_view_name": "StyleView",
            "bar_color": null,
            "description_width": ""
          }
        },
        "c0258764476b49e686fecc1c172666b3": {
          "model_module": "@jupyter-widgets/base",
          "model_name": "LayoutModel",
          "model_module_version": "1.2.0",
          "state": {
            "_model_module": "@jupyter-widgets/base",
            "_model_module_version": "1.2.0",
            "_model_name": "LayoutModel",
            "_view_count": null,
            "_view_module": "@jupyter-widgets/base",
            "_view_module_version": "1.2.0",
            "_view_name": "LayoutView",
            "align_content": null,
            "align_items": null,
            "align_self": null,
            "border": null,
            "bottom": null,
            "display": null,
            "flex": null,
            "flex_flow": null,
            "grid_area": null,
            "grid_auto_columns": null,
            "grid_auto_flow": null,
            "grid_auto_rows": null,
            "grid_column": null,
            "grid_gap": null,
            "grid_row": null,
            "grid_template_areas": null,
            "grid_template_columns": null,
            "grid_template_rows": null,
            "height": null,
            "justify_content": null,
            "justify_items": null,
            "left": null,
            "margin": null,
            "max_height": null,
            "max_width": null,
            "min_height": null,
            "min_width": null,
            "object_fit": null,
            "object_position": null,
            "order": null,
            "overflow": null,
            "overflow_x": null,
            "overflow_y": null,
            "padding": null,
            "right": null,
            "top": null,
            "visibility": null,
            "width": null
          }
        },
        "6890006d1535413f9ca406944cc83785": {
          "model_module": "@jupyter-widgets/controls",
          "model_name": "DescriptionStyleModel",
          "model_module_version": "1.5.0",
          "state": {
            "_model_module": "@jupyter-widgets/controls",
            "_model_module_version": "1.5.0",
            "_model_name": "DescriptionStyleModel",
            "_view_count": null,
            "_view_module": "@jupyter-widgets/base",
            "_view_module_version": "1.2.0",
            "_view_name": "StyleView",
            "description_width": ""
          }
        },
        "18ab8fbfc33741f7a692c9750ad4a198": {
          "model_module": "@jupyter-widgets/controls",
          "model_name": "HBoxModel",
          "model_module_version": "1.5.0",
          "state": {
            "_dom_classes": [],
            "_model_module": "@jupyter-widgets/controls",
            "_model_module_version": "1.5.0",
            "_model_name": "HBoxModel",
            "_view_count": null,
            "_view_module": "@jupyter-widgets/controls",
            "_view_module_version": "1.5.0",
            "_view_name": "HBoxView",
            "box_style": "",
            "children": [
              "IPY_MODEL_633f6c1d477b40a39d9b06b8ca7def33",
              "IPY_MODEL_21fef2eebcdb4d1aa2ca056ccbb676be",
              "IPY_MODEL_fab1b9aaa4904684b0caeab916ea2c18"
            ],
            "layout": "IPY_MODEL_9f27252e09454f7cb033fd1dfdbf8dce"
          }
        },
        "633f6c1d477b40a39d9b06b8ca7def33": {
          "model_module": "@jupyter-widgets/controls",
          "model_name": "HTMLModel",
          "model_module_version": "1.5.0",
          "state": {
            "_dom_classes": [],
            "_model_module": "@jupyter-widgets/controls",
            "_model_module_version": "1.5.0",
            "_model_name": "HTMLModel",
            "_view_count": null,
            "_view_module": "@jupyter-widgets/controls",
            "_view_module_version": "1.5.0",
            "_view_name": "HTMLView",
            "description": "",
            "description_tooltip": null,
            "layout": "IPY_MODEL_59eb5577c91f46b08ad697c60cabd79f",
            "placeholder": "​",
            "style": "IPY_MODEL_45a069186aeb4de586f15f2c39fee921",
            "value": "Downloading (…)okenizer_config.json: 100%"
          }
        },
        "21fef2eebcdb4d1aa2ca056ccbb676be": {
          "model_module": "@jupyter-widgets/controls",
          "model_name": "FloatProgressModel",
          "model_module_version": "1.5.0",
          "state": {
            "_dom_classes": [],
            "_model_module": "@jupyter-widgets/controls",
            "_model_module_version": "1.5.0",
            "_model_name": "FloatProgressModel",
            "_view_count": null,
            "_view_module": "@jupyter-widgets/controls",
            "_view_module_version": "1.5.0",
            "_view_name": "ProgressView",
            "bar_style": "success",
            "description": "",
            "description_tooltip": null,
            "layout": "IPY_MODEL_efac0a16d7f4422da1ce7e1ee9a78e4f",
            "max": 28,
            "min": 0,
            "orientation": "horizontal",
            "style": "IPY_MODEL_b3f9557dab12498fb94353a05ef1088c",
            "value": 28
          }
        },
        "fab1b9aaa4904684b0caeab916ea2c18": {
          "model_module": "@jupyter-widgets/controls",
          "model_name": "HTMLModel",
          "model_module_version": "1.5.0",
          "state": {
            "_dom_classes": [],
            "_model_module": "@jupyter-widgets/controls",
            "_model_module_version": "1.5.0",
            "_model_name": "HTMLModel",
            "_view_count": null,
            "_view_module": "@jupyter-widgets/controls",
            "_view_module_version": "1.5.0",
            "_view_name": "HTMLView",
            "description": "",
            "description_tooltip": null,
            "layout": "IPY_MODEL_28e5f51f2f77496b95c1ac8c766a6151",
            "placeholder": "​",
            "style": "IPY_MODEL_efc08b9db20d4769a3b2db2e4a471305",
            "value": " 28.0/28.0 [00:00&lt;00:00, 866B/s]"
          }
        },
        "9f27252e09454f7cb033fd1dfdbf8dce": {
          "model_module": "@jupyter-widgets/base",
          "model_name": "LayoutModel",
          "model_module_version": "1.2.0",
          "state": {
            "_model_module": "@jupyter-widgets/base",
            "_model_module_version": "1.2.0",
            "_model_name": "LayoutModel",
            "_view_count": null,
            "_view_module": "@jupyter-widgets/base",
            "_view_module_version": "1.2.0",
            "_view_name": "LayoutView",
            "align_content": null,
            "align_items": null,
            "align_self": null,
            "border": null,
            "bottom": null,
            "display": null,
            "flex": null,
            "flex_flow": null,
            "grid_area": null,
            "grid_auto_columns": null,
            "grid_auto_flow": null,
            "grid_auto_rows": null,
            "grid_column": null,
            "grid_gap": null,
            "grid_row": null,
            "grid_template_areas": null,
            "grid_template_columns": null,
            "grid_template_rows": null,
            "height": null,
            "justify_content": null,
            "justify_items": null,
            "left": null,
            "margin": null,
            "max_height": null,
            "max_width": null,
            "min_height": null,
            "min_width": null,
            "object_fit": null,
            "object_position": null,
            "order": null,
            "overflow": null,
            "overflow_x": null,
            "overflow_y": null,
            "padding": null,
            "right": null,
            "top": null,
            "visibility": null,
            "width": null
          }
        },
        "59eb5577c91f46b08ad697c60cabd79f": {
          "model_module": "@jupyter-widgets/base",
          "model_name": "LayoutModel",
          "model_module_version": "1.2.0",
          "state": {
            "_model_module": "@jupyter-widgets/base",
            "_model_module_version": "1.2.0",
            "_model_name": "LayoutModel",
            "_view_count": null,
            "_view_module": "@jupyter-widgets/base",
            "_view_module_version": "1.2.0",
            "_view_name": "LayoutView",
            "align_content": null,
            "align_items": null,
            "align_self": null,
            "border": null,
            "bottom": null,
            "display": null,
            "flex": null,
            "flex_flow": null,
            "grid_area": null,
            "grid_auto_columns": null,
            "grid_auto_flow": null,
            "grid_auto_rows": null,
            "grid_column": null,
            "grid_gap": null,
            "grid_row": null,
            "grid_template_areas": null,
            "grid_template_columns": null,
            "grid_template_rows": null,
            "height": null,
            "justify_content": null,
            "justify_items": null,
            "left": null,
            "margin": null,
            "max_height": null,
            "max_width": null,
            "min_height": null,
            "min_width": null,
            "object_fit": null,
            "object_position": null,
            "order": null,
            "overflow": null,
            "overflow_x": null,
            "overflow_y": null,
            "padding": null,
            "right": null,
            "top": null,
            "visibility": null,
            "width": null
          }
        },
        "45a069186aeb4de586f15f2c39fee921": {
          "model_module": "@jupyter-widgets/controls",
          "model_name": "DescriptionStyleModel",
          "model_module_version": "1.5.0",
          "state": {
            "_model_module": "@jupyter-widgets/controls",
            "_model_module_version": "1.5.0",
            "_model_name": "DescriptionStyleModel",
            "_view_count": null,
            "_view_module": "@jupyter-widgets/base",
            "_view_module_version": "1.2.0",
            "_view_name": "StyleView",
            "description_width": ""
          }
        },
        "efac0a16d7f4422da1ce7e1ee9a78e4f": {
          "model_module": "@jupyter-widgets/base",
          "model_name": "LayoutModel",
          "model_module_version": "1.2.0",
          "state": {
            "_model_module": "@jupyter-widgets/base",
            "_model_module_version": "1.2.0",
            "_model_name": "LayoutModel",
            "_view_count": null,
            "_view_module": "@jupyter-widgets/base",
            "_view_module_version": "1.2.0",
            "_view_name": "LayoutView",
            "align_content": null,
            "align_items": null,
            "align_self": null,
            "border": null,
            "bottom": null,
            "display": null,
            "flex": null,
            "flex_flow": null,
            "grid_area": null,
            "grid_auto_columns": null,
            "grid_auto_flow": null,
            "grid_auto_rows": null,
            "grid_column": null,
            "grid_gap": null,
            "grid_row": null,
            "grid_template_areas": null,
            "grid_template_columns": null,
            "grid_template_rows": null,
            "height": null,
            "justify_content": null,
            "justify_items": null,
            "left": null,
            "margin": null,
            "max_height": null,
            "max_width": null,
            "min_height": null,
            "min_width": null,
            "object_fit": null,
            "object_position": null,
            "order": null,
            "overflow": null,
            "overflow_x": null,
            "overflow_y": null,
            "padding": null,
            "right": null,
            "top": null,
            "visibility": null,
            "width": null
          }
        },
        "b3f9557dab12498fb94353a05ef1088c": {
          "model_module": "@jupyter-widgets/controls",
          "model_name": "ProgressStyleModel",
          "model_module_version": "1.5.0",
          "state": {
            "_model_module": "@jupyter-widgets/controls",
            "_model_module_version": "1.5.0",
            "_model_name": "ProgressStyleModel",
            "_view_count": null,
            "_view_module": "@jupyter-widgets/base",
            "_view_module_version": "1.2.0",
            "_view_name": "StyleView",
            "bar_color": null,
            "description_width": ""
          }
        },
        "28e5f51f2f77496b95c1ac8c766a6151": {
          "model_module": "@jupyter-widgets/base",
          "model_name": "LayoutModel",
          "model_module_version": "1.2.0",
          "state": {
            "_model_module": "@jupyter-widgets/base",
            "_model_module_version": "1.2.0",
            "_model_name": "LayoutModel",
            "_view_count": null,
            "_view_module": "@jupyter-widgets/base",
            "_view_module_version": "1.2.0",
            "_view_name": "LayoutView",
            "align_content": null,
            "align_items": null,
            "align_self": null,
            "border": null,
            "bottom": null,
            "display": null,
            "flex": null,
            "flex_flow": null,
            "grid_area": null,
            "grid_auto_columns": null,
            "grid_auto_flow": null,
            "grid_auto_rows": null,
            "grid_column": null,
            "grid_gap": null,
            "grid_row": null,
            "grid_template_areas": null,
            "grid_template_columns": null,
            "grid_template_rows": null,
            "height": null,
            "justify_content": null,
            "justify_items": null,
            "left": null,
            "margin": null,
            "max_height": null,
            "max_width": null,
            "min_height": null,
            "min_width": null,
            "object_fit": null,
            "object_position": null,
            "order": null,
            "overflow": null,
            "overflow_x": null,
            "overflow_y": null,
            "padding": null,
            "right": null,
            "top": null,
            "visibility": null,
            "width": null
          }
        },
        "efc08b9db20d4769a3b2db2e4a471305": {
          "model_module": "@jupyter-widgets/controls",
          "model_name": "DescriptionStyleModel",
          "model_module_version": "1.5.0",
          "state": {
            "_model_module": "@jupyter-widgets/controls",
            "_model_module_version": "1.5.0",
            "_model_name": "DescriptionStyleModel",
            "_view_count": null,
            "_view_module": "@jupyter-widgets/base",
            "_view_module_version": "1.2.0",
            "_view_name": "StyleView",
            "description_width": ""
          }
        },
        "bf15b034821c4e3898014a7a15e90d94": {
          "model_module": "@jupyter-widgets/controls",
          "model_name": "HBoxModel",
          "model_module_version": "1.5.0",
          "state": {
            "_dom_classes": [],
            "_model_module": "@jupyter-widgets/controls",
            "_model_module_version": "1.5.0",
            "_model_name": "HBoxModel",
            "_view_count": null,
            "_view_module": "@jupyter-widgets/controls",
            "_view_module_version": "1.5.0",
            "_view_name": "HBoxView",
            "box_style": "",
            "children": [
              "IPY_MODEL_411f43541ebc4e65ad6bc877789027f3",
              "IPY_MODEL_6dc927dc4b42465e9ac90c0c3e282a71",
              "IPY_MODEL_9d24030f815e407aafdd63a33e53e039"
            ],
            "layout": "IPY_MODEL_b24df51737f14c99bfc9717bb0650571"
          }
        },
        "411f43541ebc4e65ad6bc877789027f3": {
          "model_module": "@jupyter-widgets/controls",
          "model_name": "HTMLModel",
          "model_module_version": "1.5.0",
          "state": {
            "_dom_classes": [],
            "_model_module": "@jupyter-widgets/controls",
            "_model_module_version": "1.5.0",
            "_model_name": "HTMLModel",
            "_view_count": null,
            "_view_module": "@jupyter-widgets/controls",
            "_view_module_version": "1.5.0",
            "_view_name": "HTMLView",
            "description": "",
            "description_tooltip": null,
            "layout": "IPY_MODEL_36f92a02bfb045678de1d4afc12bc768",
            "placeholder": "​",
            "style": "IPY_MODEL_c895e6a54dd0449889a15fe1d1a37d2a",
            "value": "Downloading (…)lve/main/config.json: 100%"
          }
        },
        "6dc927dc4b42465e9ac90c0c3e282a71": {
          "model_module": "@jupyter-widgets/controls",
          "model_name": "FloatProgressModel",
          "model_module_version": "1.5.0",
          "state": {
            "_dom_classes": [],
            "_model_module": "@jupyter-widgets/controls",
            "_model_module_version": "1.5.0",
            "_model_name": "FloatProgressModel",
            "_view_count": null,
            "_view_module": "@jupyter-widgets/controls",
            "_view_module_version": "1.5.0",
            "_view_name": "ProgressView",
            "bar_style": "success",
            "description": "",
            "description_tooltip": null,
            "layout": "IPY_MODEL_3b84d6e798d847b7a7b4bde31d1ed9f9",
            "max": 570,
            "min": 0,
            "orientation": "horizontal",
            "style": "IPY_MODEL_efb4df46e3a3445dba3fe461d1396730",
            "value": 570
          }
        },
        "9d24030f815e407aafdd63a33e53e039": {
          "model_module": "@jupyter-widgets/controls",
          "model_name": "HTMLModel",
          "model_module_version": "1.5.0",
          "state": {
            "_dom_classes": [],
            "_model_module": "@jupyter-widgets/controls",
            "_model_module_version": "1.5.0",
            "_model_name": "HTMLModel",
            "_view_count": null,
            "_view_module": "@jupyter-widgets/controls",
            "_view_module_version": "1.5.0",
            "_view_name": "HTMLView",
            "description": "",
            "description_tooltip": null,
            "layout": "IPY_MODEL_793fb63e9916405db3ce5367b2341ee8",
            "placeholder": "​",
            "style": "IPY_MODEL_f6e195a012e34c25b01ba42ad15623f7",
            "value": " 570/570 [00:00&lt;00:00, 29.1kB/s]"
          }
        },
        "b24df51737f14c99bfc9717bb0650571": {
          "model_module": "@jupyter-widgets/base",
          "model_name": "LayoutModel",
          "model_module_version": "1.2.0",
          "state": {
            "_model_module": "@jupyter-widgets/base",
            "_model_module_version": "1.2.0",
            "_model_name": "LayoutModel",
            "_view_count": null,
            "_view_module": "@jupyter-widgets/base",
            "_view_module_version": "1.2.0",
            "_view_name": "LayoutView",
            "align_content": null,
            "align_items": null,
            "align_self": null,
            "border": null,
            "bottom": null,
            "display": null,
            "flex": null,
            "flex_flow": null,
            "grid_area": null,
            "grid_auto_columns": null,
            "grid_auto_flow": null,
            "grid_auto_rows": null,
            "grid_column": null,
            "grid_gap": null,
            "grid_row": null,
            "grid_template_areas": null,
            "grid_template_columns": null,
            "grid_template_rows": null,
            "height": null,
            "justify_content": null,
            "justify_items": null,
            "left": null,
            "margin": null,
            "max_height": null,
            "max_width": null,
            "min_height": null,
            "min_width": null,
            "object_fit": null,
            "object_position": null,
            "order": null,
            "overflow": null,
            "overflow_x": null,
            "overflow_y": null,
            "padding": null,
            "right": null,
            "top": null,
            "visibility": null,
            "width": null
          }
        },
        "36f92a02bfb045678de1d4afc12bc768": {
          "model_module": "@jupyter-widgets/base",
          "model_name": "LayoutModel",
          "model_module_version": "1.2.0",
          "state": {
            "_model_module": "@jupyter-widgets/base",
            "_model_module_version": "1.2.0",
            "_model_name": "LayoutModel",
            "_view_count": null,
            "_view_module": "@jupyter-widgets/base",
            "_view_module_version": "1.2.0",
            "_view_name": "LayoutView",
            "align_content": null,
            "align_items": null,
            "align_self": null,
            "border": null,
            "bottom": null,
            "display": null,
            "flex": null,
            "flex_flow": null,
            "grid_area": null,
            "grid_auto_columns": null,
            "grid_auto_flow": null,
            "grid_auto_rows": null,
            "grid_column": null,
            "grid_gap": null,
            "grid_row": null,
            "grid_template_areas": null,
            "grid_template_columns": null,
            "grid_template_rows": null,
            "height": null,
            "justify_content": null,
            "justify_items": null,
            "left": null,
            "margin": null,
            "max_height": null,
            "max_width": null,
            "min_height": null,
            "min_width": null,
            "object_fit": null,
            "object_position": null,
            "order": null,
            "overflow": null,
            "overflow_x": null,
            "overflow_y": null,
            "padding": null,
            "right": null,
            "top": null,
            "visibility": null,
            "width": null
          }
        },
        "c895e6a54dd0449889a15fe1d1a37d2a": {
          "model_module": "@jupyter-widgets/controls",
          "model_name": "DescriptionStyleModel",
          "model_module_version": "1.5.0",
          "state": {
            "_model_module": "@jupyter-widgets/controls",
            "_model_module_version": "1.5.0",
            "_model_name": "DescriptionStyleModel",
            "_view_count": null,
            "_view_module": "@jupyter-widgets/base",
            "_view_module_version": "1.2.0",
            "_view_name": "StyleView",
            "description_width": ""
          }
        },
        "3b84d6e798d847b7a7b4bde31d1ed9f9": {
          "model_module": "@jupyter-widgets/base",
          "model_name": "LayoutModel",
          "model_module_version": "1.2.0",
          "state": {
            "_model_module": "@jupyter-widgets/base",
            "_model_module_version": "1.2.0",
            "_model_name": "LayoutModel",
            "_view_count": null,
            "_view_module": "@jupyter-widgets/base",
            "_view_module_version": "1.2.0",
            "_view_name": "LayoutView",
            "align_content": null,
            "align_items": null,
            "align_self": null,
            "border": null,
            "bottom": null,
            "display": null,
            "flex": null,
            "flex_flow": null,
            "grid_area": null,
            "grid_auto_columns": null,
            "grid_auto_flow": null,
            "grid_auto_rows": null,
            "grid_column": null,
            "grid_gap": null,
            "grid_row": null,
            "grid_template_areas": null,
            "grid_template_columns": null,
            "grid_template_rows": null,
            "height": null,
            "justify_content": null,
            "justify_items": null,
            "left": null,
            "margin": null,
            "max_height": null,
            "max_width": null,
            "min_height": null,
            "min_width": null,
            "object_fit": null,
            "object_position": null,
            "order": null,
            "overflow": null,
            "overflow_x": null,
            "overflow_y": null,
            "padding": null,
            "right": null,
            "top": null,
            "visibility": null,
            "width": null
          }
        },
        "efb4df46e3a3445dba3fe461d1396730": {
          "model_module": "@jupyter-widgets/controls",
          "model_name": "ProgressStyleModel",
          "model_module_version": "1.5.0",
          "state": {
            "_model_module": "@jupyter-widgets/controls",
            "_model_module_version": "1.5.0",
            "_model_name": "ProgressStyleModel",
            "_view_count": null,
            "_view_module": "@jupyter-widgets/base",
            "_view_module_version": "1.2.0",
            "_view_name": "StyleView",
            "bar_color": null,
            "description_width": ""
          }
        },
        "793fb63e9916405db3ce5367b2341ee8": {
          "model_module": "@jupyter-widgets/base",
          "model_name": "LayoutModel",
          "model_module_version": "1.2.0",
          "state": {
            "_model_module": "@jupyter-widgets/base",
            "_model_module_version": "1.2.0",
            "_model_name": "LayoutModel",
            "_view_count": null,
            "_view_module": "@jupyter-widgets/base",
            "_view_module_version": "1.2.0",
            "_view_name": "LayoutView",
            "align_content": null,
            "align_items": null,
            "align_self": null,
            "border": null,
            "bottom": null,
            "display": null,
            "flex": null,
            "flex_flow": null,
            "grid_area": null,
            "grid_auto_columns": null,
            "grid_auto_flow": null,
            "grid_auto_rows": null,
            "grid_column": null,
            "grid_gap": null,
            "grid_row": null,
            "grid_template_areas": null,
            "grid_template_columns": null,
            "grid_template_rows": null,
            "height": null,
            "justify_content": null,
            "justify_items": null,
            "left": null,
            "margin": null,
            "max_height": null,
            "max_width": null,
            "min_height": null,
            "min_width": null,
            "object_fit": null,
            "object_position": null,
            "order": null,
            "overflow": null,
            "overflow_x": null,
            "overflow_y": null,
            "padding": null,
            "right": null,
            "top": null,
            "visibility": null,
            "width": null
          }
        },
        "f6e195a012e34c25b01ba42ad15623f7": {
          "model_module": "@jupyter-widgets/controls",
          "model_name": "DescriptionStyleModel",
          "model_module_version": "1.5.0",
          "state": {
            "_model_module": "@jupyter-widgets/controls",
            "_model_module_version": "1.5.0",
            "_model_name": "DescriptionStyleModel",
            "_view_count": null,
            "_view_module": "@jupyter-widgets/base",
            "_view_module_version": "1.2.0",
            "_view_name": "StyleView",
            "description_width": ""
          }
        },
        "7cfe9443b5b2429c9f6c3a3c4f8eab9c": {
          "model_module": "@jupyter-widgets/controls",
          "model_name": "HBoxModel",
          "model_module_version": "1.5.0",
          "state": {
            "_dom_classes": [],
            "_model_module": "@jupyter-widgets/controls",
            "_model_module_version": "1.5.0",
            "_model_name": "HBoxModel",
            "_view_count": null,
            "_view_module": "@jupyter-widgets/controls",
            "_view_module_version": "1.5.0",
            "_view_name": "HBoxView",
            "box_style": "",
            "children": [
              "IPY_MODEL_92c2a158b26c4542a66d10aa51e944b2",
              "IPY_MODEL_64a96c6a70fa4c39881742c67dbb2dac",
              "IPY_MODEL_250e86c64106411882e821597ae322b0"
            ],
            "layout": "IPY_MODEL_83025df3cee74ef4b9d9acf9c6ebc3c3"
          }
        },
        "92c2a158b26c4542a66d10aa51e944b2": {
          "model_module": "@jupyter-widgets/controls",
          "model_name": "HTMLModel",
          "model_module_version": "1.5.0",
          "state": {
            "_dom_classes": [],
            "_model_module": "@jupyter-widgets/controls",
            "_model_module_version": "1.5.0",
            "_model_name": "HTMLModel",
            "_view_count": null,
            "_view_module": "@jupyter-widgets/controls",
            "_view_module_version": "1.5.0",
            "_view_name": "HTMLView",
            "description": "",
            "description_tooltip": null,
            "layout": "IPY_MODEL_42f5deb02d5b4821bcac11208ff40ce3",
            "placeholder": "​",
            "style": "IPY_MODEL_a1d420d9b3444b7b8dc5829766f1c723",
            "value": "Downloading (…)&quot;pytorch_model.bin&quot;;: 100%"
          }
        },
        "64a96c6a70fa4c39881742c67dbb2dac": {
          "model_module": "@jupyter-widgets/controls",
          "model_name": "FloatProgressModel",
          "model_module_version": "1.5.0",
          "state": {
            "_dom_classes": [],
            "_model_module": "@jupyter-widgets/controls",
            "_model_module_version": "1.5.0",
            "_model_name": "FloatProgressModel",
            "_view_count": null,
            "_view_module": "@jupyter-widgets/controls",
            "_view_module_version": "1.5.0",
            "_view_name": "ProgressView",
            "bar_style": "success",
            "description": "",
            "description_tooltip": null,
            "layout": "IPY_MODEL_500a7912e8024f4b8a9ccba5cefb74f6",
            "max": 440473133,
            "min": 0,
            "orientation": "horizontal",
            "style": "IPY_MODEL_6edd0899c78840deafb5d70118af5eba",
            "value": 440473133
          }
        },
        "250e86c64106411882e821597ae322b0": {
          "model_module": "@jupyter-widgets/controls",
          "model_name": "HTMLModel",
          "model_module_version": "1.5.0",
          "state": {
            "_dom_classes": [],
            "_model_module": "@jupyter-widgets/controls",
            "_model_module_version": "1.5.0",
            "_model_name": "HTMLModel",
            "_view_count": null,
            "_view_module": "@jupyter-widgets/controls",
            "_view_module_version": "1.5.0",
            "_view_name": "HTMLView",
            "description": "",
            "description_tooltip": null,
            "layout": "IPY_MODEL_f751d37607944676b4fd65cb4a1e03ab",
            "placeholder": "​",
            "style": "IPY_MODEL_6ee54f073f234dd5bed86aaab2e63c8c",
            "value": " 440M/440M [00:01&lt;00:00, 295MB/s]"
          }
        },
        "83025df3cee74ef4b9d9acf9c6ebc3c3": {
          "model_module": "@jupyter-widgets/base",
          "model_name": "LayoutModel",
          "model_module_version": "1.2.0",
          "state": {
            "_model_module": "@jupyter-widgets/base",
            "_model_module_version": "1.2.0",
            "_model_name": "LayoutModel",
            "_view_count": null,
            "_view_module": "@jupyter-widgets/base",
            "_view_module_version": "1.2.0",
            "_view_name": "LayoutView",
            "align_content": null,
            "align_items": null,
            "align_self": null,
            "border": null,
            "bottom": null,
            "display": null,
            "flex": null,
            "flex_flow": null,
            "grid_area": null,
            "grid_auto_columns": null,
            "grid_auto_flow": null,
            "grid_auto_rows": null,
            "grid_column": null,
            "grid_gap": null,
            "grid_row": null,
            "grid_template_areas": null,
            "grid_template_columns": null,
            "grid_template_rows": null,
            "height": null,
            "justify_content": null,
            "justify_items": null,
            "left": null,
            "margin": null,
            "max_height": null,
            "max_width": null,
            "min_height": null,
            "min_width": null,
            "object_fit": null,
            "object_position": null,
            "order": null,
            "overflow": null,
            "overflow_x": null,
            "overflow_y": null,
            "padding": null,
            "right": null,
            "top": null,
            "visibility": null,
            "width": null
          }
        },
        "42f5deb02d5b4821bcac11208ff40ce3": {
          "model_module": "@jupyter-widgets/base",
          "model_name": "LayoutModel",
          "model_module_version": "1.2.0",
          "state": {
            "_model_module": "@jupyter-widgets/base",
            "_model_module_version": "1.2.0",
            "_model_name": "LayoutModel",
            "_view_count": null,
            "_view_module": "@jupyter-widgets/base",
            "_view_module_version": "1.2.0",
            "_view_name": "LayoutView",
            "align_content": null,
            "align_items": null,
            "align_self": null,
            "border": null,
            "bottom": null,
            "display": null,
            "flex": null,
            "flex_flow": null,
            "grid_area": null,
            "grid_auto_columns": null,
            "grid_auto_flow": null,
            "grid_auto_rows": null,
            "grid_column": null,
            "grid_gap": null,
            "grid_row": null,
            "grid_template_areas": null,
            "grid_template_columns": null,
            "grid_template_rows": null,
            "height": null,
            "justify_content": null,
            "justify_items": null,
            "left": null,
            "margin": null,
            "max_height": null,
            "max_width": null,
            "min_height": null,
            "min_width": null,
            "object_fit": null,
            "object_position": null,
            "order": null,
            "overflow": null,
            "overflow_x": null,
            "overflow_y": null,
            "padding": null,
            "right": null,
            "top": null,
            "visibility": null,
            "width": null
          }
        },
        "a1d420d9b3444b7b8dc5829766f1c723": {
          "model_module": "@jupyter-widgets/controls",
          "model_name": "DescriptionStyleModel",
          "model_module_version": "1.5.0",
          "state": {
            "_model_module": "@jupyter-widgets/controls",
            "_model_module_version": "1.5.0",
            "_model_name": "DescriptionStyleModel",
            "_view_count": null,
            "_view_module": "@jupyter-widgets/base",
            "_view_module_version": "1.2.0",
            "_view_name": "StyleView",
            "description_width": ""
          }
        },
        "500a7912e8024f4b8a9ccba5cefb74f6": {
          "model_module": "@jupyter-widgets/base",
          "model_name": "LayoutModel",
          "model_module_version": "1.2.0",
          "state": {
            "_model_module": "@jupyter-widgets/base",
            "_model_module_version": "1.2.0",
            "_model_name": "LayoutModel",
            "_view_count": null,
            "_view_module": "@jupyter-widgets/base",
            "_view_module_version": "1.2.0",
            "_view_name": "LayoutView",
            "align_content": null,
            "align_items": null,
            "align_self": null,
            "border": null,
            "bottom": null,
            "display": null,
            "flex": null,
            "flex_flow": null,
            "grid_area": null,
            "grid_auto_columns": null,
            "grid_auto_flow": null,
            "grid_auto_rows": null,
            "grid_column": null,
            "grid_gap": null,
            "grid_row": null,
            "grid_template_areas": null,
            "grid_template_columns": null,
            "grid_template_rows": null,
            "height": null,
            "justify_content": null,
            "justify_items": null,
            "left": null,
            "margin": null,
            "max_height": null,
            "max_width": null,
            "min_height": null,
            "min_width": null,
            "object_fit": null,
            "object_position": null,
            "order": null,
            "overflow": null,
            "overflow_x": null,
            "overflow_y": null,
            "padding": null,
            "right": null,
            "top": null,
            "visibility": null,
            "width": null
          }
        },
        "6edd0899c78840deafb5d70118af5eba": {
          "model_module": "@jupyter-widgets/controls",
          "model_name": "ProgressStyleModel",
          "model_module_version": "1.5.0",
          "state": {
            "_model_module": "@jupyter-widgets/controls",
            "_model_module_version": "1.5.0",
            "_model_name": "ProgressStyleModel",
            "_view_count": null,
            "_view_module": "@jupyter-widgets/base",
            "_view_module_version": "1.2.0",
            "_view_name": "StyleView",
            "bar_color": null,
            "description_width": ""
          }
        },
        "f751d37607944676b4fd65cb4a1e03ab": {
          "model_module": "@jupyter-widgets/base",
          "model_name": "LayoutModel",
          "model_module_version": "1.2.0",
          "state": {
            "_model_module": "@jupyter-widgets/base",
            "_model_module_version": "1.2.0",
            "_model_name": "LayoutModel",
            "_view_count": null,
            "_view_module": "@jupyter-widgets/base",
            "_view_module_version": "1.2.0",
            "_view_name": "LayoutView",
            "align_content": null,
            "align_items": null,
            "align_self": null,
            "border": null,
            "bottom": null,
            "display": null,
            "flex": null,
            "flex_flow": null,
            "grid_area": null,
            "grid_auto_columns": null,
            "grid_auto_flow": null,
            "grid_auto_rows": null,
            "grid_column": null,
            "grid_gap": null,
            "grid_row": null,
            "grid_template_areas": null,
            "grid_template_columns": null,
            "grid_template_rows": null,
            "height": null,
            "justify_content": null,
            "justify_items": null,
            "left": null,
            "margin": null,
            "max_height": null,
            "max_width": null,
            "min_height": null,
            "min_width": null,
            "object_fit": null,
            "object_position": null,
            "order": null,
            "overflow": null,
            "overflow_x": null,
            "overflow_y": null,
            "padding": null,
            "right": null,
            "top": null,
            "visibility": null,
            "width": null
          }
        },
        "6ee54f073f234dd5bed86aaab2e63c8c": {
          "model_module": "@jupyter-widgets/controls",
          "model_name": "DescriptionStyleModel",
          "model_module_version": "1.5.0",
          "state": {
            "_model_module": "@jupyter-widgets/controls",
            "_model_module_version": "1.5.0",
            "_model_name": "DescriptionStyleModel",
            "_view_count": null,
            "_view_module": "@jupyter-widgets/base",
            "_view_module_version": "1.2.0",
            "_view_name": "StyleView",
            "description_width": ""
          }
        }
      }
    }
  },
  "nbformat": 4,
  "nbformat_minor": 0
}