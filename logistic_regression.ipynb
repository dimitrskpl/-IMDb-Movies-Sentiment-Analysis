{
  "nbformat": 4,
  "nbformat_minor": 0,
  "metadata": {
    "colab": {
      "provenance": [],
      "collapsed_sections": [
        "3QiMxBXdadB-",
        "x7zfu45S4a7Z",
        "qe6JEFob4rUh",
        "ATsOhnIh44PF",
        "1_adZM4E5FxD",
        "0rGwX72i5SYu",
        "djxnDpC3IOdU"
      ]
    },
    "kernelspec": {
      "name": "python3",
      "display_name": "Python 3"
    },
    "language_info": {
      "name": "python"
    },
    "accelerator": "GPU",
    "gpuClass": "standard"
  },
  "cells": [
    {
      "cell_type": "markdown",
      "source": [
        "# **Sentiment Analysis for IMDb movies 🍿👀📽**"
      ],
      "metadata": {
        "id": "K3oZUIy1-nyd"
      }
    },
    {
      "cell_type": "markdown",
      "source": [
        "In this project, I perform sentiment analysis on IMDb movies' reviews. Firstly, I do data analysis, while I experiment with 2 data preprocessing techniques, which are **Bag of Words**, **TF-IDF** and plot my results on them. In addition, I classify the reviews into two classes (Positive and Negative) using logistic regression and I provide a detailed comparison for each method I experimented with. \n",
        "\n",
        "---\n",
        "\n"
      ],
      "metadata": {
        "id": "O8JvYNH7kMG2"
      }
    },
    {
      "cell_type": "code",
      "source": [
        "from google.colab import drive\n",
        "import pandas as pd\n",
        "import seaborn as sns\n",
        "import matplotlib.pyplot as plt\n",
        "import numpy as np"
      ],
      "metadata": {
        "id": "fMGmxNGYMZ8G"
      },
      "execution_count": 1,
      "outputs": []
    },
    {
      "cell_type": "markdown",
      "source": [
        "## **Load the dataset** "
      ],
      "metadata": {
        "id": "Re-tpvevCQhm"
      }
    },
    {
      "cell_type": "markdown",
      "source": [
        "Connect google drive where I store the data"
      ],
      "metadata": {
        "id": "mmTVAXCRI-DP"
      }
    },
    {
      "cell_type": "code",
      "source": [
        "drive.mount('/content/drive')\n",
        "DATA_PATH = \"/content/drive/MyDrive/AI_2_exercise_1_data/imdb-reviews.csv\"\n",
        "df = pd.read_csv(filepath_or_buffer=DATA_PATH, sep='\\t')"
      ],
      "metadata": {
        "colab": {
          "base_uri": "https://localhost:8080/"
        },
        "id": "u7Fhi8drMfHA",
        "outputId": "2646d498-4498-4b3a-db91-06f8725048bc"
      },
      "execution_count": 5,
      "outputs": [
        {
          "output_type": "stream",
          "name": "stdout",
          "text": [
            "Drive already mounted at /content/drive; to attempt to forcibly remount, call drive.mount(\"/content/drive\", force_remount=True).\n"
          ]
        }
      ]
    },
    {
      "cell_type": "markdown",
      "source": [
        "A look at our data"
      ],
      "metadata": {
        "id": "9qGpOMLxBKDN"
      }
    },
    {
      "cell_type": "code",
      "source": [
        "print(f\"Dataset shape: {df.shape}\")\n",
        "pd.set_option('display.max_colwidth', 1000)\n",
        "df.head()"
      ],
      "metadata": {
        "colab": {
          "base_uri": "https://localhost:8080/",
          "height": 545
        },
        "id": "B6IH1SqvAZDt",
        "outputId": "53caf9e2-0ab1-408e-e203-cdee4b4a4891"
      },
      "execution_count": 6,
      "outputs": [
        {
          "output_type": "stream",
          "name": "stdout",
          "text": [
            "Dataset shape: (45008, 3)\n"
          ]
        },
        {
          "output_type": "execute_result",
          "data": {
            "text/plain": [
              "                                                url  rating  \\\n",
              "0  http://www.imdb.com/title/tt0120623/usercomments    10.0   \n",
              "1  http://www.imdb.com/title/tt0043117/usercomments     9.0   \n",
              "2  http://www.imdb.com/title/tt0043117/usercomments    10.0   \n",
              "3  http://www.imdb.com/title/tt0835204/usercomments     4.0   \n",
              "4  http://www.imdb.com/title/tt0499603/usercomments    10.0   \n",
              "\n",
              "                                                                                                                                                                                                                                                                                                                                                                                                                                                                                                                                                                                                                                                                                                                                                                                                                                                                                                                                                                                                                                    review  \n",
              "0                                                                                                                                                                                                                                                                                                                                                                                                                                                                                                                                                                                                                                                                                                                                                                                                                                                                                          I thought this was a quiet good movie. It was fun to watch it. What I liked best where the 'Outtakes' at the end of the movie. They were GREAT.  \n",
              "1  Wagon Master is a very unique film amongst John Ford's work. Mainly because it's the only one that is based on a story written by John Ford himself, the story that was elaborated by Frank Nugent and director's son  Patrick Ford and turned into a screenplay, and because of director's personal opinion regarding it, Wagon Master is the film John Ford called the one which `came closest to being what I had wanted to achieve', to say so is not to say a little, but as Ford confessed once to Lindsay Anderson, his favourite was nonetheless My Darling Clementine and not any other.<br /><br /> Wagon Master has all ingredients one might expect to find in a John Ford's film. Wonderful cast delivering his best, thou not featuring any major stars, except the most `fordian' of all actors  Ben Johnson. Very peculiar small characters, who provide an obligatory comic relief, and Wagon Master has quite a few of them such as horn blowing Sister Ledyard (Jane Darwell) in her shot but very inspired gig...  \n",
              "2  This film has to be as near to perfect a film as John Ford made. The film is magic, a masterpiece, the reason Ford was, well Ford. If you want to know why Ford was great this one explains it.<br /><br />The photography of course is superb, black and white as black and white should be, wonderful shots, not an over the shoulder conversation in it, pure Ford, great moments, big and little. The famous ripped pants of Ward Bond. Apparently two dogs kept invading the set and fighting so Ford wanted to use them in the fighting scene, but instead of fighting one dog ran away and the other attacked Ward Bond and ripped his pants, which caused Ford no end of mirth. A whole scene around plaiting a rope. The way Ben Johnson burn then snuffs his rope, wonderful foreshadowing and anticipation of the final. Harry Carey's naive courting of Prudence. The usual ford line about being scared and not showing it. Bond's horse accidentally falling in him and its left in the film. Johnson and Bond are fan...  \n",
              "3  I gave this 4 stars because it has a lot of interesting themes many here have already mentioned. From the domestic violence, to sexuality and many of the taboos therein. Outside of the gore I really would not call this horror so much as I would science fiction.<br /><br />It's bleak, depressing and hopeless. While I don't mind a less than cheery ending, I'm really very tired of the \"humans suck\" cliché that's central to every movie. I know you can't get a liberal arts degree today without bowing to the alter of self-hatred as a member of the human race, but how's 'bout as a writer/director we pretend we are different than everyone else in the pack and notice that the ALIENS KILLING THE HUMAN RACE are evil! Right now, if you are reading this and believe that humanity deserves to die, just go out, find a lake and swim 'til your arms are tired. This way you won't be around to direct the next film or write the next book telling me I deserve to die for being alive. It's silly, not thoug...  \n",
              "4  This movie is really genuine and random. It's really hard to find movies like it in bunches of movies now in Hollywood. I really enjoy watching this movie, i bought its DVD Tuesday this week and i've watched it for 4 times. I love the Spanglish accent of Paz, it s just really cute as she is. And her acting and Morgan's are so funny and natural.<br /><br />My movie taste might be really different from others but i have to say i really love this movie, the simple is the best!<br /><br />I've learned something more about life from this movie (well, or at least USA's life)... life is really random... Sometimes, u meet someone, they pass by your life and be your friends coincidently, and u don't spend so much time with them, maybe just a while but u enjoy that ''while'' with them, and then u and them will never meet each other again, but the time u are together is really unforgettable. Just keep those moments in your mind as grateful and nice memories...<br /><br />This movie might be c...  "
            ],
            "text/html": [
              "\n",
              "  <div id=\"df-2904fbf3-64a2-44d6-add3-dd19f853d756\">\n",
              "    <div class=\"colab-df-container\">\n",
              "      <div>\n",
              "<style scoped>\n",
              "    .dataframe tbody tr th:only-of-type {\n",
              "        vertical-align: middle;\n",
              "    }\n",
              "\n",
              "    .dataframe tbody tr th {\n",
              "        vertical-align: top;\n",
              "    }\n",
              "\n",
              "    .dataframe thead th {\n",
              "        text-align: right;\n",
              "    }\n",
              "</style>\n",
              "<table border=\"1\" class=\"dataframe\">\n",
              "  <thead>\n",
              "    <tr style=\"text-align: right;\">\n",
              "      <th></th>\n",
              "      <th>url</th>\n",
              "      <th>rating</th>\n",
              "      <th>review</th>\n",
              "    </tr>\n",
              "  </thead>\n",
              "  <tbody>\n",
              "    <tr>\n",
              "      <th>0</th>\n",
              "      <td>http://www.imdb.com/title/tt0120623/usercomments</td>\n",
              "      <td>10.0</td>\n",
              "      <td>I thought this was a quiet good movie. It was fun to watch it. What I liked best where the 'Outtakes' at the end of the movie. They were GREAT.</td>\n",
              "    </tr>\n",
              "    <tr>\n",
              "      <th>1</th>\n",
              "      <td>http://www.imdb.com/title/tt0043117/usercomments</td>\n",
              "      <td>9.0</td>\n",
              "      <td>Wagon Master is a very unique film amongst John Ford's work. Mainly because it's the only one that is based on a story written by John Ford himself, the story that was elaborated by Frank Nugent and director's son  Patrick Ford and turned into a screenplay, and because of director's personal opinion regarding it, Wagon Master is the film John Ford called the one which `came closest to being what I had wanted to achieve', to say so is not to say a little, but as Ford confessed once to Lindsay Anderson, his favourite was nonetheless My Darling Clementine and not any other.&lt;br /&gt;&lt;br /&gt; Wagon Master has all ingredients one might expect to find in a John Ford's film. Wonderful cast delivering his best, thou not featuring any major stars, except the most `fordian' of all actors  Ben Johnson. Very peculiar small characters, who provide an obligatory comic relief, and Wagon Master has quite a few of them such as horn blowing Sister Ledyard (Jane Darwell) in her shot but very inspired gig...</td>\n",
              "    </tr>\n",
              "    <tr>\n",
              "      <th>2</th>\n",
              "      <td>http://www.imdb.com/title/tt0043117/usercomments</td>\n",
              "      <td>10.0</td>\n",
              "      <td>This film has to be as near to perfect a film as John Ford made. The film is magic, a masterpiece, the reason Ford was, well Ford. If you want to know why Ford was great this one explains it.&lt;br /&gt;&lt;br /&gt;The photography of course is superb, black and white as black and white should be, wonderful shots, not an over the shoulder conversation in it, pure Ford, great moments, big and little. The famous ripped pants of Ward Bond. Apparently two dogs kept invading the set and fighting so Ford wanted to use them in the fighting scene, but instead of fighting one dog ran away and the other attacked Ward Bond and ripped his pants, which caused Ford no end of mirth. A whole scene around plaiting a rope. The way Ben Johnson burn then snuffs his rope, wonderful foreshadowing and anticipation of the final. Harry Carey's naive courting of Prudence. The usual ford line about being scared and not showing it. Bond's horse accidentally falling in him and its left in the film. Johnson and Bond are fan...</td>\n",
              "    </tr>\n",
              "    <tr>\n",
              "      <th>3</th>\n",
              "      <td>http://www.imdb.com/title/tt0835204/usercomments</td>\n",
              "      <td>4.0</td>\n",
              "      <td>I gave this 4 stars because it has a lot of interesting themes many here have already mentioned. From the domestic violence, to sexuality and many of the taboos therein. Outside of the gore I really would not call this horror so much as I would science fiction.&lt;br /&gt;&lt;br /&gt;It's bleak, depressing and hopeless. While I don't mind a less than cheery ending, I'm really very tired of the \"humans suck\" cliché that's central to every movie. I know you can't get a liberal arts degree today without bowing to the alter of self-hatred as a member of the human race, but how's 'bout as a writer/director we pretend we are different than everyone else in the pack and notice that the ALIENS KILLING THE HUMAN RACE are evil! Right now, if you are reading this and believe that humanity deserves to die, just go out, find a lake and swim 'til your arms are tired. This way you won't be around to direct the next film or write the next book telling me I deserve to die for being alive. It's silly, not thoug...</td>\n",
              "    </tr>\n",
              "    <tr>\n",
              "      <th>4</th>\n",
              "      <td>http://www.imdb.com/title/tt0499603/usercomments</td>\n",
              "      <td>10.0</td>\n",
              "      <td>This movie is really genuine and random. It's really hard to find movies like it in bunches of movies now in Hollywood. I really enjoy watching this movie, i bought its DVD Tuesday this week and i've watched it for 4 times. I love the Spanglish accent of Paz, it s just really cute as she is. And her acting and Morgan's are so funny and natural.&lt;br /&gt;&lt;br /&gt;My movie taste might be really different from others but i have to say i really love this movie, the simple is the best!&lt;br /&gt;&lt;br /&gt;I've learned something more about life from this movie (well, or at least USA's life)... life is really random... Sometimes, u meet someone, they pass by your life and be your friends coincidently, and u don't spend so much time with them, maybe just a while but u enjoy that ''while'' with them, and then u and them will never meet each other again, but the time u are together is really unforgettable. Just keep those moments in your mind as grateful and nice memories...&lt;br /&gt;&lt;br /&gt;This movie might be c...</td>\n",
              "    </tr>\n",
              "  </tbody>\n",
              "</table>\n",
              "</div>\n",
              "      <button class=\"colab-df-convert\" onclick=\"convertToInteractive('df-2904fbf3-64a2-44d6-add3-dd19f853d756')\"\n",
              "              title=\"Convert this dataframe to an interactive table.\"\n",
              "              style=\"display:none;\">\n",
              "        \n",
              "  <svg xmlns=\"http://www.w3.org/2000/svg\" height=\"24px\"viewBox=\"0 0 24 24\"\n",
              "       width=\"24px\">\n",
              "    <path d=\"M0 0h24v24H0V0z\" fill=\"none\"/>\n",
              "    <path d=\"M18.56 5.44l.94 2.06.94-2.06 2.06-.94-2.06-.94-.94-2.06-.94 2.06-2.06.94zm-11 1L8.5 8.5l.94-2.06 2.06-.94-2.06-.94L8.5 2.5l-.94 2.06-2.06.94zm10 10l.94 2.06.94-2.06 2.06-.94-2.06-.94-.94-2.06-.94 2.06-2.06.94z\"/><path d=\"M17.41 7.96l-1.37-1.37c-.4-.4-.92-.59-1.43-.59-.52 0-1.04.2-1.43.59L10.3 9.45l-7.72 7.72c-.78.78-.78 2.05 0 2.83L4 21.41c.39.39.9.59 1.41.59.51 0 1.02-.2 1.41-.59l7.78-7.78 2.81-2.81c.8-.78.8-2.07 0-2.86zM5.41 20L4 18.59l7.72-7.72 1.47 1.35L5.41 20z\"/>\n",
              "  </svg>\n",
              "      </button>\n",
              "      \n",
              "  <style>\n",
              "    .colab-df-container {\n",
              "      display:flex;\n",
              "      flex-wrap:wrap;\n",
              "      gap: 12px;\n",
              "    }\n",
              "\n",
              "    .colab-df-convert {\n",
              "      background-color: #E8F0FE;\n",
              "      border: none;\n",
              "      border-radius: 50%;\n",
              "      cursor: pointer;\n",
              "      display: none;\n",
              "      fill: #1967D2;\n",
              "      height: 32px;\n",
              "      padding: 0 0 0 0;\n",
              "      width: 32px;\n",
              "    }\n",
              "\n",
              "    .colab-df-convert:hover {\n",
              "      background-color: #E2EBFA;\n",
              "      box-shadow: 0px 1px 2px rgba(60, 64, 67, 0.3), 0px 1px 3px 1px rgba(60, 64, 67, 0.15);\n",
              "      fill: #174EA6;\n",
              "    }\n",
              "\n",
              "    [theme=dark] .colab-df-convert {\n",
              "      background-color: #3B4455;\n",
              "      fill: #D2E3FC;\n",
              "    }\n",
              "\n",
              "    [theme=dark] .colab-df-convert:hover {\n",
              "      background-color: #434B5C;\n",
              "      box-shadow: 0px 1px 3px 1px rgba(0, 0, 0, 0.15);\n",
              "      filter: drop-shadow(0px 1px 2px rgba(0, 0, 0, 0.3));\n",
              "      fill: #FFFFFF;\n",
              "    }\n",
              "  </style>\n",
              "\n",
              "      <script>\n",
              "        const buttonEl =\n",
              "          document.querySelector('#df-2904fbf3-64a2-44d6-add3-dd19f853d756 button.colab-df-convert');\n",
              "        buttonEl.style.display =\n",
              "          google.colab.kernel.accessAllowed ? 'block' : 'none';\n",
              "\n",
              "        async function convertToInteractive(key) {\n",
              "          const element = document.querySelector('#df-2904fbf3-64a2-44d6-add3-dd19f853d756');\n",
              "          const dataTable =\n",
              "            await google.colab.kernel.invokeFunction('convertToInteractive',\n",
              "                                                     [key], {});\n",
              "          if (!dataTable) return;\n",
              "\n",
              "          const docLinkHtml = 'Like what you see? Visit the ' +\n",
              "            '<a target=\"_blank\" href=https://colab.research.google.com/notebooks/data_table.ipynb>data table notebook</a>'\n",
              "            + ' to learn more about interactive tables.';\n",
              "          element.innerHTML = '';\n",
              "          dataTable['output_type'] = 'display_data';\n",
              "          await google.colab.output.renderOutput(dataTable, element);\n",
              "          const docLink = document.createElement('div');\n",
              "          docLink.innerHTML = docLinkHtml;\n",
              "          element.appendChild(docLink);\n",
              "        }\n",
              "      </script>\n",
              "    </div>\n",
              "  </div>\n",
              "  "
            ]
          },
          "metadata": {},
          "execution_count": 6
        }
      ]
    },
    {
      "cell_type": "markdown",
      "source": [
        "Convert the sentiments as following:\n",
        "\n",
        "* POS → 0\n",
        "* NEG → 1"
      ],
      "metadata": {
        "id": "hK3Zf_jkCjlm"
      }
    },
    {
      "cell_type": "code",
      "source": [
        " df.loc[df['rating'] < 5, ['rating']] = 0\n",
        " df.loc[df['rating'] > 6, ['rating']] = 1"
      ],
      "metadata": {
        "id": "nZovRTKiCS23"
      },
      "execution_count": 7,
      "outputs": []
    },
    {
      "cell_type": "markdown",
      "source": [
        "## **Data pre-processing**"
      ],
      "metadata": {
        "id": "saSZVAFZC98X"
      }
    },
    {
      "cell_type": "markdown",
      "source": [
        "In order to aply logistic regression in the data, they must first be pre-processed."
      ],
      "metadata": {
        "id": "2Xe4oY09ceMn"
      }
    },
    {
      "cell_type": "markdown",
      "source": [
        "### **Text Transformation**"
      ],
      "metadata": {
        "id": "0tQWnoDa7jxO"
      }
    },
    {
      "cell_type": "markdown",
      "source": [
        "We detect no missing values in the dataset"
      ],
      "metadata": {
        "id": "ex-GDAy2CDNy"
      }
    },
    {
      "cell_type": "code",
      "source": [
        "print(df.isnull().sum())"
      ],
      "metadata": {
        "colab": {
          "base_uri": "https://localhost:8080/"
        },
        "id": "g-2nO3eLI1Sv",
        "outputId": "009d10cd-e524-4bfa-b58e-9d65efee76b6"
      },
      "execution_count": 8,
      "outputs": [
        {
          "output_type": "stream",
          "name": "stdout",
          "text": [
            "url       0\n",
            "rating    0\n",
            "review    0\n",
            "dtype: int64\n"
          ]
        }
      ]
    },
    {
      "cell_type": "code",
      "source": [
        "import re\n",
        "import string\n",
        "import nltk\n",
        "from nltk.corpus import stopwords\n",
        "from nltk.stem.snowball import SnowballStemmer\n",
        "\n",
        "nltk.download('stopwords')\n",
        "\n",
        "# Define the function for text transformation\n",
        "def text_transformation(text):\n",
        "  # Lower characters\n",
        "  text = text.lower()\n",
        "  # Remove links\n",
        "  text = re.sub('http://\\S+|https://\\S+', '', text)\n",
        "  # Remove non letter characters\n",
        "  text = re.sub(r'[^A-Za-z]+', ' ', text)\n",
        "  # Remove punctuation\n",
        "  text = text.translate(str.maketrans('', '', string.punctuation))\n",
        "  # Remove stopwords\n",
        "  StopWords = stopwords.words(\"english\")\n",
        "  text = ' '.join([word for word in text.split() if word not in StopWords])\n",
        "  # Lemmatization\n",
        "  snow_stemmer = SnowballStemmer(language='english')\n",
        "  text = ' '.join([snow_stemmer.stem(word) for word in text.split()])\n",
        "  \n",
        "  return text  "
      ],
      "metadata": {
        "id": "EMQwt9iv2UKr",
        "colab": {
          "base_uri": "https://localhost:8080/"
        },
        "outputId": "5ddbc08a-e4ec-433a-cd47-bf5491bed834"
      },
      "execution_count": 9,
      "outputs": [
        {
          "output_type": "stream",
          "name": "stderr",
          "text": [
            "[nltk_data] Downloading package stopwords to /root/nltk_data...\n",
            "[nltk_data]   Unzipping corpora/stopwords.zip.\n"
          ]
        }
      ]
    },
    {
      "cell_type": "code",
      "source": [
        "df['review'] = df['review'].apply(text_transformation)"
      ],
      "metadata": {
        "id": "UizOOiqy3Xvn"
      },
      "execution_count": 10,
      "outputs": []
    },
    {
      "cell_type": "code",
      "source": [
        "df.head()"
      ],
      "metadata": {
        "colab": {
          "base_uri": "https://localhost:8080/",
          "height": 458
        },
        "id": "1KzukulEDHTH",
        "outputId": "59098131-65a1-4447-f613-503a6576dcbe"
      },
      "execution_count": 11,
      "outputs": [
        {
          "output_type": "execute_result",
          "data": {
            "text/plain": [
              "                                                url  rating  \\\n",
              "0  http://www.imdb.com/title/tt0120623/usercomments     1.0   \n",
              "1  http://www.imdb.com/title/tt0043117/usercomments     1.0   \n",
              "2  http://www.imdb.com/title/tt0043117/usercomments     1.0   \n",
              "3  http://www.imdb.com/title/tt0835204/usercomments     0.0   \n",
              "4  http://www.imdb.com/title/tt0499603/usercomments     1.0   \n",
              "\n",
              "                                                                                                                                                                                                                                                                                                                                                                                                                                                                                                                                                                                                                                                                                                                                                                                                                                                                                                                                                                                                                                    review  \n",
              "0                                                                                                                                                                                                                                                                                                                                                                                                                                                                                                                                                                                                                                                                                                                                                                                                                                                                                                                                                                        thought quiet good movi fun watch like best outtak end movi great  \n",
              "1  wagon master uniqu film amongst john ford work main one base stori written john ford stori elabor frank nugent director son patrick ford turn screenplay director person opinion regard wagon master film john ford call one came closest want achiev say say littl ford confess lindsay anderson favourit nonetheless darl clementin br br wagon master ingredi one might expect find john ford film wonder cast deliv best thou featur major star except fordian actor ben johnson peculiar small charact provid obligatori comic relief wagon master quit horn blow sister ledyard jane darwel shot inspir gig last least legendari monument valley john ford fifth passag stagecoach darl clementin fort apach wore yellow ribbon br br film start two friend cowboy travi blue ben johnson sandi owen harri carey jr hire wagon master guid caravan mormon settler head silver valley place like promis land way join peculiar dr locksley hall alan mowbray two beauti women suppos wife daughter call actor head direct simpl...  \n",
              "2  film near perfect film john ford made film magic masterpiec reason ford well ford want know ford great one explain br br photographi cours superb black white black white wonder shot shoulder convers pure ford great moment big littl famous rip pant ward bond appar two dog kept invad set fight ford want use fight scene instead fight one dog ran away attack ward bond rip pant caus ford end mirth whole scene around plait rope way ben johnson burn snuff rope wonder foreshadow anticip final harri carey naiv court prudenc usual ford line scare show bond hors accident fall left film johnson bond fantast scene lord help ford actor stay charact camera roll even hors fall top br br coupl sweet romanc intrud whole focus two likabl lead mention girl number time camera focus ben johnson rather delight backsid br br lot old time stuntmen get line role cliff lyon frank mcgrath wonder charact studi most face stare villain main star set villain rival group western br br mani mani fordian shot face g...  \n",
              "3                                                                                                                                                                                                                                                                                                                                                                                                                                                     gave star lot interest theme mani alreadi mention domest violenc sexual mani taboo therein outsid gore realli would call horror much would scienc fiction br br bleak depress hopeless mind less cheeri end realli tire human suck clich central everi movi know get liber art degre today without bow alter self hatr member human race bout writer director pretend differ everyon els pack notic alien kill human race evil right read believ human deserv die go find lake swim til arm tire way around direct next film write next book tell deserv die aliv silli thought bore  \n",
              "4                                                                                                                                                                                                                                                                                                                                                                                                                                             movi realli genuin random realli hard find movi like bunch movi hollywood realli enjoy watch movi bought dvd tuesday week watch time love spanglish accent paz realli cute act morgan funni natur br br movi tast might realli differ other say realli love movi simpl best br br learn someth life movi well least usa life life realli random sometim u meet someon pass life friend coincid u spend much time mayb u enjoy u never meet time u togeth realli unforgett keep moment mind grate nice memori br br movi might cheap make price mean total cheap rare learn anyth movi except  "
            ],
            "text/html": [
              "\n",
              "  <div id=\"df-32bc4641-56b1-45dc-9854-6b4a7c73e46a\">\n",
              "    <div class=\"colab-df-container\">\n",
              "      <div>\n",
              "<style scoped>\n",
              "    .dataframe tbody tr th:only-of-type {\n",
              "        vertical-align: middle;\n",
              "    }\n",
              "\n",
              "    .dataframe tbody tr th {\n",
              "        vertical-align: top;\n",
              "    }\n",
              "\n",
              "    .dataframe thead th {\n",
              "        text-align: right;\n",
              "    }\n",
              "</style>\n",
              "<table border=\"1\" class=\"dataframe\">\n",
              "  <thead>\n",
              "    <tr style=\"text-align: right;\">\n",
              "      <th></th>\n",
              "      <th>url</th>\n",
              "      <th>rating</th>\n",
              "      <th>review</th>\n",
              "    </tr>\n",
              "  </thead>\n",
              "  <tbody>\n",
              "    <tr>\n",
              "      <th>0</th>\n",
              "      <td>http://www.imdb.com/title/tt0120623/usercomments</td>\n",
              "      <td>1.0</td>\n",
              "      <td>thought quiet good movi fun watch like best outtak end movi great</td>\n",
              "    </tr>\n",
              "    <tr>\n",
              "      <th>1</th>\n",
              "      <td>http://www.imdb.com/title/tt0043117/usercomments</td>\n",
              "      <td>1.0</td>\n",
              "      <td>wagon master uniqu film amongst john ford work main one base stori written john ford stori elabor frank nugent director son patrick ford turn screenplay director person opinion regard wagon master film john ford call one came closest want achiev say say littl ford confess lindsay anderson favourit nonetheless darl clementin br br wagon master ingredi one might expect find john ford film wonder cast deliv best thou featur major star except fordian actor ben johnson peculiar small charact provid obligatori comic relief wagon master quit horn blow sister ledyard jane darwel shot inspir gig last least legendari monument valley john ford fifth passag stagecoach darl clementin fort apach wore yellow ribbon br br film start two friend cowboy travi blue ben johnson sandi owen harri carey jr hire wagon master guid caravan mormon settler head silver valley place like promis land way join peculiar dr locksley hall alan mowbray two beauti women suppos wife daughter call actor head direct simpl...</td>\n",
              "    </tr>\n",
              "    <tr>\n",
              "      <th>2</th>\n",
              "      <td>http://www.imdb.com/title/tt0043117/usercomments</td>\n",
              "      <td>1.0</td>\n",
              "      <td>film near perfect film john ford made film magic masterpiec reason ford well ford want know ford great one explain br br photographi cours superb black white black white wonder shot shoulder convers pure ford great moment big littl famous rip pant ward bond appar two dog kept invad set fight ford want use fight scene instead fight one dog ran away attack ward bond rip pant caus ford end mirth whole scene around plait rope way ben johnson burn snuff rope wonder foreshadow anticip final harri carey naiv court prudenc usual ford line scare show bond hors accident fall left film johnson bond fantast scene lord help ford actor stay charact camera roll even hors fall top br br coupl sweet romanc intrud whole focus two likabl lead mention girl number time camera focus ben johnson rather delight backsid br br lot old time stuntmen get line role cliff lyon frank mcgrath wonder charact studi most face stare villain main star set villain rival group western br br mani mani fordian shot face g...</td>\n",
              "    </tr>\n",
              "    <tr>\n",
              "      <th>3</th>\n",
              "      <td>http://www.imdb.com/title/tt0835204/usercomments</td>\n",
              "      <td>0.0</td>\n",
              "      <td>gave star lot interest theme mani alreadi mention domest violenc sexual mani taboo therein outsid gore realli would call horror much would scienc fiction br br bleak depress hopeless mind less cheeri end realli tire human suck clich central everi movi know get liber art degre today without bow alter self hatr member human race bout writer director pretend differ everyon els pack notic alien kill human race evil right read believ human deserv die go find lake swim til arm tire way around direct next film write next book tell deserv die aliv silli thought bore</td>\n",
              "    </tr>\n",
              "    <tr>\n",
              "      <th>4</th>\n",
              "      <td>http://www.imdb.com/title/tt0499603/usercomments</td>\n",
              "      <td>1.0</td>\n",
              "      <td>movi realli genuin random realli hard find movi like bunch movi hollywood realli enjoy watch movi bought dvd tuesday week watch time love spanglish accent paz realli cute act morgan funni natur br br movi tast might realli differ other say realli love movi simpl best br br learn someth life movi well least usa life life realli random sometim u meet someon pass life friend coincid u spend much time mayb u enjoy u never meet time u togeth realli unforgett keep moment mind grate nice memori br br movi might cheap make price mean total cheap rare learn anyth movi except</td>\n",
              "    </tr>\n",
              "  </tbody>\n",
              "</table>\n",
              "</div>\n",
              "      <button class=\"colab-df-convert\" onclick=\"convertToInteractive('df-32bc4641-56b1-45dc-9854-6b4a7c73e46a')\"\n",
              "              title=\"Convert this dataframe to an interactive table.\"\n",
              "              style=\"display:none;\">\n",
              "        \n",
              "  <svg xmlns=\"http://www.w3.org/2000/svg\" height=\"24px\"viewBox=\"0 0 24 24\"\n",
              "       width=\"24px\">\n",
              "    <path d=\"M0 0h24v24H0V0z\" fill=\"none\"/>\n",
              "    <path d=\"M18.56 5.44l.94 2.06.94-2.06 2.06-.94-2.06-.94-.94-2.06-.94 2.06-2.06.94zm-11 1L8.5 8.5l.94-2.06 2.06-.94-2.06-.94L8.5 2.5l-.94 2.06-2.06.94zm10 10l.94 2.06.94-2.06 2.06-.94-2.06-.94-.94-2.06-.94 2.06-2.06.94z\"/><path d=\"M17.41 7.96l-1.37-1.37c-.4-.4-.92-.59-1.43-.59-.52 0-1.04.2-1.43.59L10.3 9.45l-7.72 7.72c-.78.78-.78 2.05 0 2.83L4 21.41c.39.39.9.59 1.41.59.51 0 1.02-.2 1.41-.59l7.78-7.78 2.81-2.81c.8-.78.8-2.07 0-2.86zM5.41 20L4 18.59l7.72-7.72 1.47 1.35L5.41 20z\"/>\n",
              "  </svg>\n",
              "      </button>\n",
              "      \n",
              "  <style>\n",
              "    .colab-df-container {\n",
              "      display:flex;\n",
              "      flex-wrap:wrap;\n",
              "      gap: 12px;\n",
              "    }\n",
              "\n",
              "    .colab-df-convert {\n",
              "      background-color: #E8F0FE;\n",
              "      border: none;\n",
              "      border-radius: 50%;\n",
              "      cursor: pointer;\n",
              "      display: none;\n",
              "      fill: #1967D2;\n",
              "      height: 32px;\n",
              "      padding: 0 0 0 0;\n",
              "      width: 32px;\n",
              "    }\n",
              "\n",
              "    .colab-df-convert:hover {\n",
              "      background-color: #E2EBFA;\n",
              "      box-shadow: 0px 1px 2px rgba(60, 64, 67, 0.3), 0px 1px 3px 1px rgba(60, 64, 67, 0.15);\n",
              "      fill: #174EA6;\n",
              "    }\n",
              "\n",
              "    [theme=dark] .colab-df-convert {\n",
              "      background-color: #3B4455;\n",
              "      fill: #D2E3FC;\n",
              "    }\n",
              "\n",
              "    [theme=dark] .colab-df-convert:hover {\n",
              "      background-color: #434B5C;\n",
              "      box-shadow: 0px 1px 3px 1px rgba(0, 0, 0, 0.15);\n",
              "      filter: drop-shadow(0px 1px 2px rgba(0, 0, 0, 0.3));\n",
              "      fill: #FFFFFF;\n",
              "    }\n",
              "  </style>\n",
              "\n",
              "      <script>\n",
              "        const buttonEl =\n",
              "          document.querySelector('#df-32bc4641-56b1-45dc-9854-6b4a7c73e46a button.colab-df-convert');\n",
              "        buttonEl.style.display =\n",
              "          google.colab.kernel.accessAllowed ? 'block' : 'none';\n",
              "\n",
              "        async function convertToInteractive(key) {\n",
              "          const element = document.querySelector('#df-32bc4641-56b1-45dc-9854-6b4a7c73e46a');\n",
              "          const dataTable =\n",
              "            await google.colab.kernel.invokeFunction('convertToInteractive',\n",
              "                                                     [key], {});\n",
              "          if (!dataTable) return;\n",
              "\n",
              "          const docLinkHtml = 'Like what you see? Visit the ' +\n",
              "            '<a target=\"_blank\" href=https://colab.research.google.com/notebooks/data_table.ipynb>data table notebook</a>'\n",
              "            + ' to learn more about interactive tables.';\n",
              "          element.innerHTML = '';\n",
              "          dataTable['output_type'] = 'display_data';\n",
              "          await google.colab.output.renderOutput(dataTable, element);\n",
              "          const docLink = document.createElement('div');\n",
              "          docLink.innerHTML = docLinkHtml;\n",
              "          element.appendChild(docLink);\n",
              "        }\n",
              "      </script>\n",
              "    </div>\n",
              "  </div>\n",
              "  "
            ]
          },
          "metadata": {},
          "execution_count": 11
        }
      ]
    },
    {
      "cell_type": "markdown",
      "source": [
        "### **Data Analysis**"
      ],
      "metadata": {
        "id": "3QiMxBXdadB-"
      }
    },
    {
      "cell_type": "markdown",
      "source": [
        "In this section, we will take a deep look at our data and with the help of some graphs we will try to draw some meaningful conclusions about the data."
      ],
      "metadata": {
        "id": "p9KP-iWpcVgQ"
      }
    },
    {
      "cell_type": "markdown",
      "source": [
        "#### **Sentiment Distribution**"
      ],
      "metadata": {
        "id": "x7zfu45S4a7Z"
      }
    },
    {
      "cell_type": "markdown",
      "source": [
        "We observe that there is a balanced distribution as far as the feeling is concerned"
      ],
      "metadata": {
        "id": "Ld3l0a_JMz11"
      }
    },
    {
      "cell_type": "code",
      "source": [
        "pos, neg = df.rating.value_counts()\n",
        "\n",
        "fig, ax = plt.subplots(figsize=(6,6))\n",
        "colors = ['#36BD17', '#FF0000']\n",
        "\n",
        "wedges, texts, autotexts = ax.pie([pos,neg], autopct='%1.1f%%', shadow=True,colors=colors, startangle=90, textprops=dict(color=\"w\"))\n",
        "ax.legend([pos,neg], labels = [\"Positive\", \"Negative\"], title = \"Sentiment\", \n",
        "              loc = \"center left\", bbox_to_anchor=(1, 0, 0.5, 1), handlelength=2.5, labelspacing=1, fontsize='large', title_fontsize=15)\n",
        "plt.setp(autotexts, size=14, weight=\"bold\")\n",
        "ax.set_title(\"Sentiment distribution on movies\", size=16)"
      ],
      "metadata": {
        "colab": {
          "base_uri": "https://localhost:8080/",
          "height": 427
        },
        "id": "MxG1SRQOQgxr",
        "outputId": "e5efcc50-0628-4f38-f2c3-a27b6dc7dd69"
      },
      "execution_count": 12,
      "outputs": [
        {
          "output_type": "stream",
          "name": "stderr",
          "text": [
            "<ipython-input-12-b4766f8f34bf>:7: UserWarning: You have mixed positional and keyword arguments, some input may be discarded.\n",
            "  ax.legend([pos,neg], labels = [\"Positive\", \"Negative\"], title = \"Sentiment\",\n"
          ]
        },
        {
          "output_type": "execute_result",
          "data": {
            "text/plain": [
              "Text(0.5, 1.0, 'Sentiment distribution on movies')"
            ]
          },
          "metadata": {},
          "execution_count": 12
        },
        {
          "output_type": "display_data",
          "data": {
            "text/plain": [
              "<Figure size 432x432 with 1 Axes>"
            ],
            "image/png": "[encoded data removed]"
          },
          "metadata": {}
        }
      ]
    },
    {
      "cell_type": "markdown",
      "source": [
        "#### **Most Frequent Words**"
      ],
      "metadata": {
        "id": "qe6JEFob4rUh"
      }
    },
    {
      "cell_type": "markdown",
      "source": [
        "The ten most frequent words and their frequencies\n",
        "among all the reviews"
      ],
      "metadata": {
        "id": "dcTQP-LSNH60"
      }
    },
    {
      "cell_type": "code",
      "source": [
        "from collections import Counter\n",
        "\n",
        "most_common_words = Counter(\" \".join(df[\"review\"]).split()).most_common(1000)\n",
        "\n",
        "most_common_df = pd.DataFrame(most_common_words[:10])\n",
        "most_common_df = most_common_df.iloc[1:,:]\n",
        "\n",
        "most_common_df.columns = ['Common_Word','Frequency']\n",
        "display(most_common_df.style.background_gradient(cmap='Blues'))"
      ],
      "metadata": {
        "colab": {
          "base_uri": "https://localhost:8080/",
          "height": 332
        },
        "id": "kvvvjjJmR170",
        "outputId": "cbe15b66-1844-4bf5-a94a-a73993819854"
      },
      "execution_count": 13,
      "outputs": [
        {
          "output_type": "display_data",
          "data": {
            "text/plain": [
              "<pandas.io.formats.style.Styler at 0x7f9bc1b859d0>"
            ],
            "text/html": [
              "<style type=\"text/css\">\n",
              "#T_6b644_row0_col1 {\n",
              "  background-color: #08306b;\n",
              "  color: #f1f1f1;\n",
              "}\n",
              "#T_6b644_row1_col1 {\n",
              "  background-color: #084f99;\n",
              "  color: #f1f1f1;\n",
              "}\n",
              "#T_6b644_row2_col1 {\n",
              "  background-color: #a6cee4;\n",
              "  color: #000000;\n",
              "}\n",
              "#T_6b644_row3_col1 {\n",
              "  background-color: #ccdff1;\n",
              "  color: #000000;\n",
              "}\n",
              "#T_6b644_row4_col1 {\n",
              "  background-color: #eef5fc;\n",
              "  color: #000000;\n",
              "}\n",
              "#T_6b644_row5_col1, #T_6b644_row6_col1 {\n",
              "  background-color: #f2f8fd;\n",
              "  color: #000000;\n",
              "}\n",
              "#T_6b644_row7_col1, #T_6b644_row8_col1 {\n",
              "  background-color: #f7fbff;\n",
              "  color: #000000;\n",
              "}\n",
              "</style>\n",
              "<table id=\"T_6b644_\" class=\"dataframe\">\n",
              "  <thead>\n",
              "    <tr>\n",
              "      <th class=\"blank level0\" >&nbsp;</th>\n",
              "      <th class=\"col_heading level0 col0\" >Common_Word</th>\n",
              "      <th class=\"col_heading level0 col1\" >Frequency</th>\n",
              "    </tr>\n",
              "  </thead>\n",
              "  <tbody>\n",
              "    <tr>\n",
              "      <th id=\"T_6b644_level0_row0\" class=\"row_heading level0 row0\" >1</th>\n",
              "      <td id=\"T_6b644_row0_col0\" class=\"data row0 col0\" >movi</td>\n",
              "      <td id=\"T_6b644_row0_col1\" class=\"data row0 col1\" >95763</td>\n",
              "    </tr>\n",
              "    <tr>\n",
              "      <th id=\"T_6b644_level0_row1\" class=\"row_heading level0 row1\" >2</th>\n",
              "      <td id=\"T_6b644_row1_col0\" class=\"data row1 col0\" >film</td>\n",
              "      <td id=\"T_6b644_row1_col1\" class=\"data row1 col1\" >87345</td>\n",
              "    </tr>\n",
              "    <tr>\n",
              "      <th id=\"T_6b644_level0_row2\" class=\"row_heading level0 row2\" >3</th>\n",
              "      <td id=\"T_6b644_row2_col0\" class=\"data row2 col0\" >one</td>\n",
              "      <td id=\"T_6b644_row2_col1\" class=\"data row2 col1\" >50244</td>\n",
              "    </tr>\n",
              "    <tr>\n",
              "      <th id=\"T_6b644_level0_row3\" class=\"row_heading level0 row3\" >4</th>\n",
              "      <td id=\"T_6b644_row3_col0\" class=\"data row3 col0\" >like</td>\n",
              "      <td id=\"T_6b644_row3_col1\" class=\"data row3 col1\" >41218</td>\n",
              "    </tr>\n",
              "    <tr>\n",
              "      <th id=\"T_6b644_level0_row4\" class=\"row_heading level0 row4\" >5</th>\n",
              "      <td id=\"T_6b644_row4_col0\" class=\"data row4 col0\" >time</td>\n",
              "      <td id=\"T_6b644_row4_col1\" class=\"data row4 col1\" >28937</td>\n",
              "    </tr>\n",
              "    <tr>\n",
              "      <th id=\"T_6b644_level0_row5\" class=\"row_heading level0 row5\" >6</th>\n",
              "      <td id=\"T_6b644_row5_col0\" class=\"data row5 col0\" >make</td>\n",
              "      <td id=\"T_6b644_row5_col1\" class=\"data row5 col1\" >27437</td>\n",
              "    </tr>\n",
              "    <tr>\n",
              "      <th id=\"T_6b644_level0_row6\" class=\"row_heading level0 row6\" >7</th>\n",
              "      <td id=\"T_6b644_row6_col0\" class=\"data row6 col0\" >good</td>\n",
              "      <td id=\"T_6b644_row6_col1\" class=\"data row6 col1\" >27416</td>\n",
              "    </tr>\n",
              "    <tr>\n",
              "      <th id=\"T_6b644_level0_row7\" class=\"row_heading level0 row7\" >8</th>\n",
              "      <td id=\"T_6b644_row7_col0\" class=\"data row7 col0\" >charact</td>\n",
              "      <td id=\"T_6b644_row7_col1\" class=\"data row7 col1\" >25840</td>\n",
              "    </tr>\n",
              "    <tr>\n",
              "      <th id=\"T_6b644_level0_row8\" class=\"row_heading level0 row8\" >9</th>\n",
              "      <td id=\"T_6b644_row8_col0\" class=\"data row8 col0\" >see</td>\n",
              "      <td id=\"T_6b644_row8_col1\" class=\"data row8 col1\" >25739</td>\n",
              "    </tr>\n",
              "  </tbody>\n",
              "</table>\n"
            ]
          },
          "metadata": {}
        }
      ]
    },
    {
      "cell_type": "markdown",
      "source": [
        "#### **Most Frequent Words On Positive Reviews** "
      ],
      "metadata": {
        "id": "ATsOhnIh44PF"
      }
    },
    {
      "cell_type": "markdown",
      "source": [
        "The ten most frequent words and their frequencies\n",
        "among positive reviews."
      ],
      "metadata": {
        "id": "0hp8MmGPNWnr"
      }
    },
    {
      "cell_type": "code",
      "source": [
        "positive_dataset = df[df.rating == 1]\n",
        "positive_most_common = Counter(' '.join(positive_dataset['review']).split()).most_common(11)\n",
        "\n",
        "pos_most_common_df = pd.DataFrame(positive_most_common)\n",
        "pos_most_common_df = pos_most_common_df.iloc[1:,:]\n",
        "\n",
        "pos_most_common_df.columns = ['Pos_Common_Word','Frequency']\n",
        "display(pos_most_common_df.style.background_gradient(cmap='Greens'))"
      ],
      "metadata": {
        "colab": {
          "base_uri": "https://localhost:8080/",
          "height": 363
        },
        "id": "MsSIUzyISWG0",
        "outputId": "b40d68fe-b9f5-41b8-c390-c677f7e09de6"
      },
      "execution_count": 14,
      "outputs": [
        {
          "output_type": "display_data",
          "data": {
            "text/plain": [
              "<pandas.io.formats.style.Styler at 0x7f9bc1c589a0>"
            ],
            "text/html": [
              "<style type=\"text/css\">\n",
              "#T_05de4_row0_col1 {\n",
              "  background-color: #00441b;\n",
              "  color: #f1f1f1;\n",
              "}\n",
              "#T_05de4_row1_col1 {\n",
              "  background-color: #03702e;\n",
              "  color: #f1f1f1;\n",
              "}\n",
              "#T_05de4_row2_col1 {\n",
              "  background-color: #9ed798;\n",
              "  color: #000000;\n",
              "}\n",
              "#T_05de4_row3_col1 {\n",
              "  background-color: #d8f0d2;\n",
              "  color: #000000;\n",
              "}\n",
              "#T_05de4_row4_col1 {\n",
              "  background-color: #edf8e9;\n",
              "  color: #000000;\n",
              "}\n",
              "#T_05de4_row5_col1 {\n",
              "  background-color: #f2faef;\n",
              "  color: #000000;\n",
              "}\n",
              "#T_05de4_row6_col1 {\n",
              "  background-color: #f2faf0;\n",
              "  color: #000000;\n",
              "}\n",
              "#T_05de4_row7_col1, #T_05de4_row8_col1 {\n",
              "  background-color: #f6fcf4;\n",
              "  color: #000000;\n",
              "}\n",
              "#T_05de4_row9_col1 {\n",
              "  background-color: #f7fcf5;\n",
              "  color: #000000;\n",
              "}\n",
              "</style>\n",
              "<table id=\"T_05de4_\" class=\"dataframe\">\n",
              "  <thead>\n",
              "    <tr>\n",
              "      <th class=\"blank level0\" >&nbsp;</th>\n",
              "      <th class=\"col_heading level0 col0\" >Pos_Common_Word</th>\n",
              "      <th class=\"col_heading level0 col1\" >Frequency</th>\n",
              "    </tr>\n",
              "  </thead>\n",
              "  <tbody>\n",
              "    <tr>\n",
              "      <th id=\"T_05de4_level0_row0\" class=\"row_heading level0 row0\" >1</th>\n",
              "      <td id=\"T_05de4_row0_col0\" class=\"data row0 col0\" >film</td>\n",
              "      <td id=\"T_05de4_row0_col1\" class=\"data row0 col1\" >46521</td>\n",
              "    </tr>\n",
              "    <tr>\n",
              "      <th id=\"T_05de4_level0_row1\" class=\"row_heading level0 row1\" >2</th>\n",
              "      <td id=\"T_05de4_row1_col0\" class=\"data row1 col0\" >movi</td>\n",
              "      <td id=\"T_05de4_row1_col1\" class=\"data row1 col1\" >41820</td>\n",
              "    </tr>\n",
              "    <tr>\n",
              "      <th id=\"T_05de4_level0_row2\" class=\"row_heading level0 row2\" >3</th>\n",
              "      <td id=\"T_05de4_row2_col0\" class=\"data row2 col0\" >one</td>\n",
              "      <td id=\"T_05de4_row2_col1\" class=\"data row2 col1\" >25685</td>\n",
              "    </tr>\n",
              "    <tr>\n",
              "      <th id=\"T_05de4_level0_row3\" class=\"row_heading level0 row3\" >4</th>\n",
              "      <td id=\"T_05de4_row3_col0\" class=\"data row3 col0\" >like</td>\n",
              "      <td id=\"T_05de4_row3_col1\" class=\"data row3 col1\" >18775</td>\n",
              "    </tr>\n",
              "    <tr>\n",
              "      <th id=\"T_05de4_level0_row4\" class=\"row_heading level0 row4\" >5</th>\n",
              "      <td id=\"T_05de4_row4_col0\" class=\"data row4 col0\" >time</td>\n",
              "      <td id=\"T_05de4_row4_col1\" class=\"data row4 col1\" >15070</td>\n",
              "    </tr>\n",
              "    <tr>\n",
              "      <th id=\"T_05de4_level0_row5\" class=\"row_heading level0 row5\" >6</th>\n",
              "      <td id=\"T_05de4_row5_col0\" class=\"data row5 col0\" >good</td>\n",
              "      <td id=\"T_05de4_row5_col1\" class=\"data row5 col1\" >13841</td>\n",
              "    </tr>\n",
              "    <tr>\n",
              "      <th id=\"T_05de4_level0_row6\" class=\"row_heading level0 row6\" >7</th>\n",
              "      <td id=\"T_05de4_row6_col0\" class=\"data row6 col0\" >see</td>\n",
              "      <td id=\"T_05de4_row6_col1\" class=\"data row6 col1\" >13804</td>\n",
              "    </tr>\n",
              "    <tr>\n",
              "      <th id=\"T_05de4_level0_row7\" class=\"row_heading level0 row7\" >8</th>\n",
              "      <td id=\"T_05de4_row7_col0\" class=\"data row7 col0\" >stori</td>\n",
              "      <td id=\"T_05de4_row7_col1\" class=\"data row7 col1\" >12924</td>\n",
              "    </tr>\n",
              "    <tr>\n",
              "      <th id=\"T_05de4_level0_row8\" class=\"row_heading level0 row8\" >9</th>\n",
              "      <td id=\"T_05de4_row8_col0\" class=\"data row8 col0\" >charact</td>\n",
              "      <td id=\"T_05de4_row8_col1\" class=\"data row8 col1\" >12827</td>\n",
              "    </tr>\n",
              "    <tr>\n",
              "      <th id=\"T_05de4_level0_row9\" class=\"row_heading level0 row9\" >10</th>\n",
              "      <td id=\"T_05de4_row9_col0\" class=\"data row9 col0\" >make</td>\n",
              "      <td id=\"T_05de4_row9_col1\" class=\"data row9 col1\" >12625</td>\n",
              "    </tr>\n",
              "  </tbody>\n",
              "</table>\n"
            ]
          },
          "metadata": {}
        }
      ]
    },
    {
      "cell_type": "markdown",
      "source": [
        "#### **Most Frequent Words On Negative Reviews** "
      ],
      "metadata": {
        "id": "1_adZM4E5FxD"
      }
    },
    {
      "cell_type": "markdown",
      "source": [
        "The ten most frequent words and their frequencies among negative reviews."
      ],
      "metadata": {
        "id": "i1TvtJEUNk0k"
      }
    },
    {
      "cell_type": "code",
      "source": [
        "negative_dataset = df[df.rating == 0]\n",
        "negative_most_common = Counter(' '.join(negative_dataset['review']).split()).most_common(11)\n",
        "\n",
        "neg_most_common_df = pd.DataFrame(negative_most_common)\n",
        "neg_most_common_df = neg_most_common_df.iloc[1:,:]\n",
        "neg_most_common_df.columns = ['Neg_Common_Word','Frequency']\n",
        "display(neg_most_common_df.style.background_gradient(cmap='Reds'))"
      ],
      "metadata": {
        "colab": {
          "base_uri": "https://localhost:8080/",
          "height": 363
        },
        "id": "9a4tlJb4StAZ",
        "outputId": "9786ca60-6e84-43aa-9b3b-3e21885c399c"
      },
      "execution_count": 15,
      "outputs": [
        {
          "output_type": "display_data",
          "data": {
            "text/plain": [
              "<pandas.io.formats.style.Styler at 0x7f9bc1b85be0>"
            ],
            "text/html": [
              "<style type=\"text/css\">\n",
              "#T_2d5af_row0_col1 {\n",
              "  background-color: #67000d;\n",
              "  color: #f1f1f1;\n",
              "}\n",
              "#T_2d5af_row1_col1 {\n",
              "  background-color: #e12d26;\n",
              "  color: #f1f1f1;\n",
              "}\n",
              "#T_2d5af_row2_col1 {\n",
              "  background-color: #fcb499;\n",
              "  color: #000000;\n",
              "}\n",
              "#T_2d5af_row3_col1 {\n",
              "  background-color: #fdc5ae;\n",
              "  color: #000000;\n",
              "}\n",
              "#T_2d5af_row4_col1 {\n",
              "  background-color: #fff0e9;\n",
              "  color: #000000;\n",
              "}\n",
              "#T_2d5af_row5_col1 {\n",
              "  background-color: #fff1ea;\n",
              "  color: #000000;\n",
              "}\n",
              "#T_2d5af_row6_col1 {\n",
              "  background-color: #fff4ee;\n",
              "  color: #000000;\n",
              "}\n",
              "#T_2d5af_row7_col1, #T_2d5af_row8_col1 {\n",
              "  background-color: #fff4ef;\n",
              "  color: #000000;\n",
              "}\n",
              "#T_2d5af_row9_col1 {\n",
              "  background-color: #fff5f0;\n",
              "  color: #000000;\n",
              "}\n",
              "</style>\n",
              "<table id=\"T_2d5af_\" class=\"dataframe\">\n",
              "  <thead>\n",
              "    <tr>\n",
              "      <th class=\"blank level0\" >&nbsp;</th>\n",
              "      <th class=\"col_heading level0 col0\" >Neg_Common_Word</th>\n",
              "      <th class=\"col_heading level0 col1\" >Frequency</th>\n",
              "    </tr>\n",
              "  </thead>\n",
              "  <tbody>\n",
              "    <tr>\n",
              "      <th id=\"T_2d5af_level0_row0\" class=\"row_heading level0 row0\" >1</th>\n",
              "      <td id=\"T_2d5af_row0_col0\" class=\"data row0 col0\" >movi</td>\n",
              "      <td id=\"T_2d5af_row0_col1\" class=\"data row0 col1\" >53943</td>\n",
              "    </tr>\n",
              "    <tr>\n",
              "      <th id=\"T_2d5af_level0_row1\" class=\"row_heading level0 row1\" >2</th>\n",
              "      <td id=\"T_2d5af_row1_col0\" class=\"data row1 col0\" >film</td>\n",
              "      <td id=\"T_2d5af_row1_col1\" class=\"data row1 col1\" >40824</td>\n",
              "    </tr>\n",
              "    <tr>\n",
              "      <th id=\"T_2d5af_level0_row2\" class=\"row_heading level0 row2\" >3</th>\n",
              "      <td id=\"T_2d5af_row2_col0\" class=\"data row2 col0\" >one</td>\n",
              "      <td id=\"T_2d5af_row2_col1\" class=\"data row2 col1\" >24559</td>\n",
              "    </tr>\n",
              "    <tr>\n",
              "      <th id=\"T_2d5af_level0_row3\" class=\"row_heading level0 row3\" >4</th>\n",
              "      <td id=\"T_2d5af_row3_col0\" class=\"data row3 col0\" >like</td>\n",
              "      <td id=\"T_2d5af_row3_col1\" class=\"data row3 col1\" >22443</td>\n",
              "    </tr>\n",
              "    <tr>\n",
              "      <th id=\"T_2d5af_level0_row4\" class=\"row_heading level0 row4\" >5</th>\n",
              "      <td id=\"T_2d5af_row4_col0\" class=\"data row4 col0\" >make</td>\n",
              "      <td id=\"T_2d5af_row4_col1\" class=\"data row4 col1\" >14812</td>\n",
              "    </tr>\n",
              "    <tr>\n",
              "      <th id=\"T_2d5af_level0_row5\" class=\"row_heading level0 row5\" >6</th>\n",
              "      <td id=\"T_2d5af_row5_col0\" class=\"data row5 col0\" >bad</td>\n",
              "      <td id=\"T_2d5af_row5_col1\" class=\"data row5 col1\" >14610</td>\n",
              "    </tr>\n",
              "    <tr>\n",
              "      <th id=\"T_2d5af_level0_row6\" class=\"row_heading level0 row6\" >7</th>\n",
              "      <td id=\"T_2d5af_row6_col0\" class=\"data row6 col0\" >even</td>\n",
              "      <td id=\"T_2d5af_row6_col1\" class=\"data row6 col1\" >14112</td>\n",
              "    </tr>\n",
              "    <tr>\n",
              "      <th id=\"T_2d5af_level0_row7\" class=\"row_heading level0 row7\" >8</th>\n",
              "      <td id=\"T_2d5af_row7_col0\" class=\"data row7 col0\" >time</td>\n",
              "      <td id=\"T_2d5af_row7_col1\" class=\"data row7 col1\" >13867</td>\n",
              "    </tr>\n",
              "    <tr>\n",
              "      <th id=\"T_2d5af_level0_row8\" class=\"row_heading level0 row8\" >9</th>\n",
              "      <td id=\"T_2d5af_row8_col0\" class=\"data row8 col0\" >get</td>\n",
              "      <td id=\"T_2d5af_row8_col1\" class=\"data row8 col1\" >13859</td>\n",
              "    </tr>\n",
              "    <tr>\n",
              "      <th id=\"T_2d5af_level0_row9\" class=\"row_heading level0 row9\" >10</th>\n",
              "      <td id=\"T_2d5af_row9_col0\" class=\"data row9 col0\" >watch</td>\n",
              "      <td id=\"T_2d5af_row9_col1\" class=\"data row9 col1\" >13648</td>\n",
              "    </tr>\n",
              "  </tbody>\n",
              "</table>\n"
            ]
          },
          "metadata": {}
        }
      ]
    },
    {
      "cell_type": "markdown",
      "source": [
        "#### **Sentiment Distibution On Movies With The Highest Number Of Ratings**"
      ],
      "metadata": {
        "id": "0rGwX72i5SYu"
      }
    },
    {
      "cell_type": "markdown",
      "source": [
        "Examine the sentiment distibution on the first \n",
        "ten movies with the highest number of ratings"
      ],
      "metadata": {
        "id": "oy6jmYYVixvf"
      }
    },
    {
      "cell_type": "code",
      "source": [
        "movie_to_freq_dict = {}\n",
        "for url in df['url']:\n",
        "  frequency = movie_to_freq_dict.get(url)\n",
        "  if(frequency == None):\n",
        "    movie_to_freq_dict[url] = 1\n",
        "  else:\n",
        "    movie_to_freq_dict[url] = frequency + 1\n",
        "print(\"No of movies in dataset: \" + str(len(movie_to_freq_dict)))"
      ],
      "metadata": {
        "colab": {
          "base_uri": "https://localhost:8080/"
        },
        "id": "byaaqCavTIDH",
        "outputId": "a2e7415a-201e-403e-f225-75e1dc8bd7c2"
      },
      "execution_count": 16,
      "outputs": [
        {
          "output_type": "stream",
          "name": "stdout",
          "text": [
            "No of movies in dataset: 5057\n"
          ]
        }
      ]
    },
    {
      "cell_type": "code",
      "source": [
        "sorted_movies_by_freq = sorted(movie_to_freq_dict.items(), key=lambda x:x[1], reverse = True)\n",
        "newstr = sorted_movies_by_freq[0][0].replace(\"http://www.imdb.com/title/\", \"\")\n",
        "newstr = newstr.replace(\"/usercomments\",\"\")"
      ],
      "metadata": {
        "id": "lTRo_yv_gJ18"
      },
      "execution_count": 17,
      "outputs": []
    },
    {
      "cell_type": "code",
      "source": [
        "sub_url = []\n",
        "pos_reviews = []\n",
        "neg_reviews = []\n",
        "for i in range(0,10):\n",
        "  url, freq = sorted_movies_by_freq[i]\n",
        "  url_pos =  df[(df['url'] == url) & (df['rating'] == 1)].shape[0]\n",
        "  url_neg = freq - url_pos\n",
        "  pos_reviews.append(url_pos)\n",
        "  neg_reviews.append(url_neg)\n",
        "  url = url.replace(\"http://www.imdb.com/title/\", \"\")\n",
        "  url = url.replace(\"/usercomments\",\"\")\n",
        "  sub_url.append(url)"
      ],
      "metadata": {
        "id": "kwLT3-zXAcIi"
      },
      "execution_count": 18,
      "outputs": []
    },
    {
      "cell_type": "code",
      "source": [
        "barWidth = 0.25\n",
        "fig = plt.subplots(figsize =(12, 8))\n",
        "\n",
        "br1 = np.arange(len(sub_url))\n",
        "br2 = [x + barWidth for x in br1]\n",
        "\n",
        "plt.bar(br1, pos_reviews, color ='g', width = barWidth,\n",
        "        edgecolor ='grey', label ='Positive')\n",
        "plt.bar(br2, neg_reviews, color ='r', width = barWidth,\n",
        "        edgecolor ='grey', label ='Negative')\n",
        "\n",
        "plt.xlabel('Movies', fontweight ='bold', fontsize = 15)\n",
        "plt.ylabel('Reviews', fontweight ='bold', fontsize = 15)\n",
        "plt.xticks([r + barWidth for r in range(len(sub_url))],\n",
        "        sub_url)\n",
        "plt.title(\"Sentiment distibution on movies with the highest number of reviews\")\n",
        "\n",
        "plt.legend()\n",
        "plt.show()"
      ],
      "metadata": {
        "colab": {
          "base_uri": "https://localhost:8080/",
          "height": 518
        },
        "id": "MtjkCp5xD7hx",
        "outputId": "6f153f8a-3537-4c86-96fe-2cf130c22143"
      },
      "execution_count": 19,
      "outputs": [
        {
          "output_type": "display_data",
          "data": {
            "text/plain": [
              "<Figure size 864x576 with 1 Axes>"
            ],
            "image/png": "[encoded data removed]"
          },
          "metadata": {
            "needs_background": "light"
          }
        }
      ]
    },
    {
      "cell_type": "markdown",
      "source": [
        "### **Text Encoding**"
      ],
      "metadata": {
        "id": "cFMcz5V0AbEJ"
      }
    },
    {
      "cell_type": "code",
      "source": [
        "from numpy import mean\n",
        "from numpy import std\n",
        "from sklearn.model_selection import KFold\n",
        "from sklearn.model_selection import cross_validate\n",
        "from sklearn.linear_model import LogisticRegression\n",
        "from sklearn.model_selection import train_test_split"
      ],
      "metadata": {
        "id": "Xj7XWUCgotjH"
      },
      "execution_count": 20,
      "outputs": []
    },
    {
      "cell_type": "code",
      "source": [
        "scoring = {'acc' : 'accuracy',\n",
        "          'prec_macro': 'precision_macro',\n",
        "          'rec_macro': 'recall_macro',\n",
        "          'f1_macro' : 'f1_macro'}\n",
        "\n",
        "\n",
        "cv = KFold(n_splits=5, random_state=1, shuffle=True)"
      ],
      "metadata": {
        "id": "zyDNdeK49qTm"
      },
      "execution_count": 21,
      "outputs": []
    },
    {
      "cell_type": "markdown",
      "source": [
        "Model for experiments"
      ],
      "metadata": {
        "id": "dmQ1jj3NdhQS"
      }
    },
    {
      "cell_type": "code",
      "source": [
        "classifier = LogisticRegression(random_state = 0, n_jobs = -1)"
      ],
      "metadata": {
        "id": "cvjmG5VmuKRh"
      },
      "execution_count": 22,
      "outputs": []
    },
    {
      "cell_type": "code",
      "source": [
        "def plot_metrics_per_parameter(parameter_list, f1_list, prec_list, recall_list, title):\n",
        "\n",
        "  fig = plt.figure(figsize=(12, 8))\n",
        "\n",
        "  sub1 = fig.add_subplot(311) \n",
        "  sub1.set_title('F1') \n",
        "  sub1.plot(parameter_list, f1_list)\n",
        "\n",
        "  sub2 = fig.add_subplot(312)\n",
        "  sub2.set_title('Precision')\n",
        "  sub2.plot(parameter_list, prec_list)\n",
        "\n",
        "  sub3 = fig.add_subplot(313)\n",
        "  sub3.set_title('Recall')\n",
        "  sub3.plot(parameter_list, recall_list)\n",
        "\n",
        "  fig.suptitle(title)\n",
        "  \n",
        "  plt.show()"
      ],
      "metadata": {
        "id": "pBA06pbE9nNK"
      },
      "execution_count": 24,
      "outputs": []
    },
    {
      "cell_type": "markdown",
      "source": [
        "#### **Bag of Words**"
      ],
      "metadata": {
        "id": "djxnDpC3IOdU"
      }
    },
    {
      "cell_type": "markdown",
      "source": [
        "The bag-of-words model uses the frequency of occurrence of each word as a feature"
      ],
      "metadata": {
        "id": "jxwjHhEJOXZk"
      }
    },
    {
      "cell_type": "markdown",
      "source": [
        "Data vectorization using the **Bag of Words (BoW)** method experimenting with the max_feature parameter based on precision, recall, f1 metrics. The purpose of max features is to limit the\n",
        "number of features (words) from the dataset for which we want to calculate the\n",
        "scores. This is done by choosing the features based on term frequency across the\n",
        "corpus"
      ],
      "metadata": {
        "id": "X6nssWx0dstk"
      }
    },
    {
      "cell_type": "code",
      "source": [
        "from sklearn.feature_extraction.text import CountVectorizer"
      ],
      "metadata": {
        "id": "txmk4uQy5Fka"
      },
      "execution_count": 25,
      "outputs": []
    },
    {
      "cell_type": "code",
      "source": [
        "bow_prec_list = []\n",
        "bow_recall_list = []\n",
        "bow_f1_list = []\n",
        "maxFeatureList = [100,200,300,400,500,600,700,800,900,1000]\n",
        "for cur_max_feature in maxFeatureList:\n",
        "  bow_vectorizer = CountVectorizer(min_df=1, max_features=cur_max_feature, stop_words='english')\n",
        "  bow_vectors = bow_vectorizer.fit_transform(df['review'])\n",
        "  bow_vectors = bow_vectors.toarray()\n",
        "  X_train_bow, X_test_bow, Y_train_bow, Y_test_bow = train_test_split(bow_vectors, df['rating'], test_size=0.2, random_state=42)\n",
        "  classifier.fit(X_train_bow, Y_train_bow)\n",
        "  regression_with_bow = cross_validate(classifier, X_test_bow, Y_test_bow, scoring=scoring, cv=cv, n_jobs=-1)\n",
        "\n",
        "  bow_precision = mean(regression_with_bow['test_prec_macro'])\n",
        "  bow_recall = mean(regression_with_bow['test_rec_macro'])\n",
        "  bow_f1 = mean(regression_with_bow['test_f1_macro'])\n",
        "  \n",
        "  bow_f1_list.append(bow_f1)\n",
        "  bow_prec_list.append(bow_precision)\n",
        "  bow_recall_list.append(bow_recall)\n"
      ],
      "metadata": {
        "id": "XIeBBnl6Id5e"
      },
      "execution_count": 26,
      "outputs": []
    },
    {
      "cell_type": "code",
      "source": [
        "plot_metrics_per_parameter(parameter_list=maxFeatureList, f1_list=bow_f1_list, prec_list=bow_prec_list, recall_list=bow_recall_list, title=\"Scores per feature with BoW\")"
      ],
      "metadata": {
        "colab": {
          "base_uri": "https://localhost:8080/",
          "height": 540
        },
        "id": "gcpvWGj_qYQs",
        "outputId": "9cdf3d83-1ca3-4ee3-e800-80d8626e343d"
      },
      "execution_count": 27,
      "outputs": [
        {
          "output_type": "display_data",
          "data": {
            "text/plain": [
              "<Figure size 864x576 with 3 Axes>"
            ],
            "image/png": "[encoded data removed]"
          },
          "metadata": {
            "needs_background": "light"
          }
        }
      ]
    },
    {
      "cell_type": "markdown",
      "source": [
        "It seems that 700 is the ideal numbers of features to use"
      ],
      "metadata": {
        "id": "ywPQQJPbeyMg"
      }
    },
    {
      "cell_type": "code",
      "source": [
        "bow_vectorizer = CountVectorizer(min_df=1, max_features=700, stop_words='english')\n",
        "bow_vectors = bow_vectorizer.fit_transform(df['review'])\n",
        "bow_vectors = bow_vectors.toarray()  "
      ],
      "metadata": {
        "id": "31WNoSdwrGnq"
      },
      "execution_count": 28,
      "outputs": []
    },
    {
      "cell_type": "code",
      "source": [
        "print(bow_vectors.shape)\n",
        "print(bow_vectors)"
      ],
      "metadata": {
        "colab": {
          "base_uri": "https://localhost:8080/"
        },
        "id": "PGByWn_GIm6e",
        "outputId": "32d0cb09-c6a8-4e4c-e60e-119369f6a4dd"
      },
      "execution_count": 29,
      "outputs": [
        {
          "output_type": "stream",
          "name": "stdout",
          "text": [
            "(45008, 700)\n",
            "[[0 0 0 ... 0 0 0]\n",
            " [0 0 0 ... 0 0 0]\n",
            " [0 0 0 ... 0 0 0]\n",
            " ...\n",
            " [0 0 0 ... 0 0 0]\n",
            " [1 0 0 ... 0 0 0]\n",
            " [0 0 2 ... 0 1 0]]\n"
          ]
        }
      ]
    },
    {
      "cell_type": "markdown",
      "source": [
        "#### **TF-IDF**"
      ],
      "metadata": {
        "id": "9aJuQLHaItWD"
      }
    },
    {
      "cell_type": "markdown",
      "source": [
        "The tf–idf value increases proportionally to the number of times a word appears in the document and is offset by the number of documents in the corpus that contain the word, which helps to adjust for the fact that some words appear more frequently in general"
      ],
      "metadata": {
        "id": "uMPvuJaZOd_1"
      }
    },
    {
      "cell_type": "markdown",
      "source": [
        "Data vectorization using the **Term Frequency - Inverse Document Frequency** **(TF-IDF)** method, experimenting with the max_features parameter based on precision, recall, f1 metrics"
      ],
      "metadata": {
        "id": "PMaFR60VEOVI"
      }
    },
    {
      "cell_type": "code",
      "source": [
        "from sklearn.feature_extraction.text import TfidfVectorizer"
      ],
      "metadata": {
        "id": "Oryd4QWW5ITQ"
      },
      "execution_count": 30,
      "outputs": []
    },
    {
      "cell_type": "code",
      "source": [
        "tf_idf_fit_time_list = []\n",
        "tf_idf_prec_list = []\n",
        "tf_idf_recall_list = []\n",
        "tf_idf_f1_list = []\n",
        "\n",
        "maxFeatureList = [100,200,300,400,500,600,700,800,900,1000]\n",
        "for cur_max_feature in maxFeatureList:\n",
        "  tfidf_vectorizer = TfidfVectorizer(min_df=1, max_features = cur_max_feature, stop_words='english')\n",
        "  tfidf_vectors = tfidf_vectorizer.fit_transform(df['review'])\n",
        "  tfidf_vectors = tfidf_vectors.toarray()\n",
        "  X_train_tfidf, X_test_tfidf, Y_train_tfidf, Y_test_tfidf = train_test_split(tfidf_vectors, df['rating'], test_size=0.2, random_state=42)\n",
        "  classifier.fit(X_train_tfidf, Y_train_tfidf)\n",
        "  regression_with_tfidf = cross_validate(classifier, X_test_tfidf, Y_test_tfidf, scoring=scoring, cv=cv, n_jobs=-1)\n",
        "\n",
        "  precision = mean(regression_with_tfidf['test_prec_macro'])\n",
        "  recall = mean(regression_with_tfidf['test_rec_macro'])\n",
        "  f1 = mean(regression_with_tfidf['test_f1_macro'])\n",
        "  \n",
        "  tf_idf_f1_list.append(f1)\n",
        "  tf_idf_prec_list.append(precision)\n",
        "  tf_idf_recall_list.append(recall)"
      ],
      "metadata": {
        "id": "3FhG-DzpOtXJ",
        "colab": {
          "base_uri": "https://localhost:8080/"
        },
        "outputId": "ba5b8cbc-e901-4d27-cca6-a8ce60fae9ec"
      },
      "execution_count": 31,
      "outputs": [
        {
          "output_type": "stream",
          "name": "stderr",
          "text": [
            "/usr/local/lib/python3.8/dist-packages/joblib/externals/loky/process_executor.py:700: UserWarning: A worker stopped while some jobs were given to the executor. This can be caused by a too short worker timeout or by a memory leak.\n",
            "  warnings.warn(\n"
          ]
        }
      ]
    },
    {
      "cell_type": "code",
      "source": [
        "plot_metrics_per_parameter(parameter_list = maxFeatureList, f1_list = tf_idf_f1_list, prec_list =  tf_idf_prec_list, recall_list=tf_idf_recall_list, title = \"Scores per feature with TF-IDF\")"
      ],
      "metadata": {
        "colab": {
          "base_uri": "https://localhost:8080/",
          "height": 540
        },
        "id": "Z6Dzs3pn2gWb",
        "outputId": "c24d8e6a-c248-4437-aabe-4cca583acc60"
      },
      "execution_count": 32,
      "outputs": [
        {
          "output_type": "display_data",
          "data": {
            "text/plain": [
              "<Figure size 864x576 with 3 Axes>"
            ],
            "image/png": "[encoded data removed]"
          },
          "metadata": {
            "needs_background": "light"
          }
        }
      ]
    },
    {
      "cell_type": "markdown",
      "source": [
        "It seems that 800 is the ideal number of features to use"
      ],
      "metadata": {
        "id": "38LAd05oFIhG"
      }
    },
    {
      "cell_type": "code",
      "source": [
        "from sklearn.feature_extraction.text import TfidfVectorizer\n",
        "\n",
        "tfidf_vectorizer = TfidfVectorizer(min_df=1, max_features=800, stop_words='english')\n",
        "tfidf_vectors = tfidf_vectorizer.fit_transform(df['review'])\n",
        "tfidf_vectors = tfidf_vectors.toarray()"
      ],
      "metadata": {
        "id": "k6H8XlLW7nlv"
      },
      "execution_count": 33,
      "outputs": []
    },
    {
      "cell_type": "code",
      "source": [
        "print(tfidf_vectors.shape)\n",
        "print(tfidf_vectors)"
      ],
      "metadata": {
        "colab": {
          "base_uri": "https://localhost:8080/"
        },
        "id": "sSJEUnc3GmLa",
        "outputId": "2392d85a-2f7a-4170-acb4-c002a4e9e24f"
      },
      "execution_count": 34,
      "outputs": [
        {
          "output_type": "stream",
          "name": "stdout",
          "text": [
            "(45008, 800)\n",
            "[[0.         0.         0.         ... 0.         0.         0.        ]\n",
            " [0.         0.         0.         ... 0.         0.         0.        ]\n",
            " [0.         0.         0.         ... 0.         0.         0.        ]\n",
            " ...\n",
            " [0.         0.         0.0893428  ... 0.         0.         0.        ]\n",
            " [0.16882215 0.         0.         ... 0.         0.         0.        ]\n",
            " [0.         0.         0.         ... 0.         0.04271397 0.        ]]\n"
          ]
        }
      ]
    },
    {
      "cell_type": "markdown",
      "source": [
        "### **Dataset Split**"
      ],
      "metadata": {
        "id": "9Ynp8eg4UtIQ"
      }
    },
    {
      "cell_type": "markdown",
      "source": [
        "Experimenting with the data rate ploting learning curves to check for underfitting or overfitting in our model based in misclassification error (1 - accuracy score)"
      ],
      "metadata": {
        "id": "qrjN1R90FjiK"
      }
    },
    {
      "cell_type": "code",
      "source": [
        "from sklearn.model_selection import train_test_split"
      ],
      "metadata": {
        "id": "SOYi3FGaqiz_"
      },
      "execution_count": 35,
      "outputs": []
    },
    {
      "cell_type": "code",
      "source": [
        "data_rates = [0.1, 0.2, 0.3, 0.4, 0.5, 0.6, 0.7, 0.8]\n",
        "total_rows = df.shape[0]"
      ],
      "metadata": {
        "id": "B9H_KJW1uchi"
      },
      "execution_count": 36,
      "outputs": []
    },
    {
      "cell_type": "code",
      "source": [
        "def plot_learn_curves(learning_factor, train_res, val_res, xlabel, ylabel):  \n",
        "  fig = plt.figure(figsize=(6, 4))\n",
        "\n",
        "  plt.plot(learning_factor, train_res)\n",
        "  plt.plot(learning_factor, val_res)\n",
        "  plt.title(\"Learning Curves\")\n",
        "  plt.legend(['Training', 'Validation'])\n",
        "  plt.xlabel(xlabel)\n",
        "  plt.ylabel(ylabel)\n",
        "  plt.tight_layout()\n",
        "  plt.show()"
      ],
      "metadata": {
        "id": "JjroYDX-aBQQ"
      },
      "execution_count": 37,
      "outputs": []
    },
    {
      "cell_type": "code",
      "source": [
        "from sklearn.metrics import accuracy_score\n",
        "\n",
        "def mis_error_per_data_rate(encoded_vectors, data_rates, total_rows):\n",
        "  data_sizes = [int(data_rate*total_rows) for data_rate in data_rates]\n",
        "  train_size = int(0.8 * total_rows)\n",
        "  \n",
        "  X_train = encoded_vectors[0:train_size]\n",
        "  X_val = encoded_vectors[train_size:total_rows]\n",
        "  Y_train = df.iloc[0:train_size]['rating']\n",
        "  Y_val = df.iloc[train_size:total_rows]['rating']\n",
        "\n",
        "  train_mis_rate = []\n",
        "  val_mis_rate = []\n",
        "\n",
        "  for data_size in data_sizes:\n",
        "    X_sub_train = X_train[0:data_size]\n",
        "    Y_sub_train = Y_train.iloc[0:data_size]\n",
        "    \n",
        "    classifier = LogisticRegression(random_state = 0, n_jobs = -1)\n",
        "    classifier.fit(X_sub_train, Y_sub_train)\n",
        "  \n",
        "    train_results = classifier.predict(X_sub_train)\n",
        "    train_acc = accuracy_score(Y_sub_train, train_results)\n",
        "\n",
        "    val_results = classifier.predict(X_val)  \n",
        "    val_acc = accuracy_score(Y_val, val_results)\n",
        "\n",
        "    train_mis_rate.append(1-train_acc)\n",
        "    val_mis_rate.append(1-val_acc)\n",
        "    \n",
        "  return train_mis_rate, val_mis_rate"
      ],
      "metadata": {
        "id": "ZxrgW7yjsA56"
      },
      "execution_count": 38,
      "outputs": []
    },
    {
      "cell_type": "markdown",
      "source": [
        "#### **Split BoW Vectors**"
      ],
      "metadata": {
        "id": "6ov8X0EYxT5P"
      }
    },
    {
      "cell_type": "code",
      "source": [
        "bow_train_mis_rate, bow_val_mis_rate = mis_error_per_data_rate(encoded_vectors=bow_vectors, data_rates=data_rates, total_rows=total_rows)"
      ],
      "metadata": {
        "id": "tgT3Piett3mo"
      },
      "execution_count": 39,
      "outputs": []
    },
    {
      "cell_type": "markdown",
      "source": [
        "Training loss and\n",
        "validation loss are close to each other with validation loss being slightly greater\n",
        "than the training loss and after some point till the end we can see a pretty flat\n",
        "training and validation loss"
      ],
      "metadata": {
        "id": "b1X_OZfUPUl-"
      }
    },
    {
      "cell_type": "code",
      "source": [
        "plot_learn_curves(learning_factor=data_rates, train_res=bow_train_mis_rate, val_res=bow_val_mis_rate, xlabel=\"Data Rates\", ylabel=\"Misclassification Error\")"
      ],
      "metadata": {
        "colab": {
          "base_uri": "https://localhost:8080/",
          "height": 297
        },
        "id": "_CLud-nbuPDy",
        "outputId": "c62dd590-54d5-4de1-e08a-4a2b22fae9f2"
      },
      "execution_count": 40,
      "outputs": [
        {
          "output_type": "display_data",
          "data": {
            "text/plain": [
              "<Figure size 432x288 with 1 Axes>"
            ],
            "image/png": "[encoded data removed]"
          },
          "metadata": {
            "needs_background": "light"
          }
        }
      ]
    },
    {
      "cell_type": "markdown",
      "source": [
        "Use 80% of data for training set and 20% for test set"
      ],
      "metadata": {
        "id": "AfmmU3psgU-3"
      }
    },
    {
      "cell_type": "code",
      "source": [
        "# BoW data\n",
        "X_train_bow, X_test_bow, Y_train_bow, Y_test_bow = train_test_split(bow_vectors, df['rating'], test_size=0.2, random_state=42)\n",
        "print(f\"X train BoW shape: {X_train_bow.shape}\")"
      ],
      "metadata": {
        "colab": {
          "base_uri": "https://localhost:8080/"
        },
        "id": "WHyyqsPpv_ER",
        "outputId": "31c34665-1e10-4f82-dec7-aa84de416000"
      },
      "execution_count": 41,
      "outputs": [
        {
          "output_type": "stream",
          "name": "stdout",
          "text": [
            "X train BoW shape: (36006, 700)\n"
          ]
        }
      ]
    },
    {
      "cell_type": "markdown",
      "source": [
        "#### **Split TF-IDF Vectors**"
      ],
      "metadata": {
        "id": "STbz0S3Dxjs1"
      }
    },
    {
      "cell_type": "code",
      "source": [
        "tfidf_train_mis_rate, tfidf_val_mis_rate = mis_error_per_data_rate(encoded_vectors=tfidf_vectors, data_rates=data_rates, total_rows=total_rows)"
      ],
      "metadata": {
        "id": "GhC-Q8hmvLJ5"
      },
      "execution_count": 42,
      "outputs": []
    },
    {
      "cell_type": "markdown",
      "source": [
        "Training loss and validation loss are close to each other with validation loss being slightly greater than the training loss and after some point till the end we can see a pretty flat training and validation loss"
      ],
      "metadata": {
        "id": "4kCmxhtFPeRK"
      }
    },
    {
      "cell_type": "code",
      "source": [
        "plot_learn_curves(learning_factor=data_rates, train_res=tfidf_train_mis_rate, val_res=tfidf_val_mis_rate, xlabel=\"Data Rates\", ylabel=\"Misclassification Error\")"
      ],
      "metadata": {
        "colab": {
          "base_uri": "https://localhost:8080/",
          "height": 297
        },
        "id": "fbuj-yD6vpJd",
        "outputId": "89c0eee9-9e09-425d-bf22-ad904866b629"
      },
      "execution_count": 43,
      "outputs": [
        {
          "output_type": "display_data",
          "data": {
            "text/plain": [
              "<Figure size 432x288 with 1 Axes>"
            ],
            "image/png": "[encoded data removed]"
          },
          "metadata": {
            "needs_background": "light"
          }
        }
      ]
    },
    {
      "cell_type": "markdown",
      "source": [
        "Use 80% of data for training set and 20% for test set"
      ],
      "metadata": {
        "id": "kNsFd1_wIwgA"
      }
    },
    {
      "cell_type": "code",
      "source": [
        "# TF-IDF data\n",
        "X_train_tfidf, X_test_tfidf, Y_train_tfidf, Y_test_tfidf = train_test_split(tfidf_vectors, df['rating'], test_size=0.2, random_state=42)\n",
        "print(f\"X train TF-IDF shape: {X_train_tfidf.shape}\")"
      ],
      "metadata": {
        "colab": {
          "base_uri": "https://localhost:8080/"
        },
        "id": "lD__M1C2wAnZ",
        "outputId": "ba4b1ce0-8380-40d1-c5a3-1f3e667602a3"
      },
      "execution_count": 44,
      "outputs": [
        {
          "output_type": "stream",
          "name": "stdout",
          "text": [
            "X train TF-IDF shape: (36006, 800)\n"
          ]
        }
      ]
    },
    {
      "cell_type": "markdown",
      "source": [
        "## **Regression**"
      ],
      "metadata": {
        "id": "sV3i8Y4IWRxh"
      }
    },
    {
      "cell_type": "code",
      "source": [
        "def plt_confusion_matrix(cf, title):\n",
        "    blanks = ['' for i in range(cf.size)]\n",
        "    group_labels = ['True Neg ','False Pos ','False Neg ','True Pos ']\n",
        "    group_counts = [\"{0:0.0f}\\n\".format(value) for value in cf.flatten()]\n",
        "    group_percentages = [\"{0:.2%}\".format(value) for value in cf.flatten()/np.sum(cf)]\n",
        "    box_labels = [f\"{v1}{v2}{v3}\".strip() for v1, v2, v3 in zip(group_labels,group_counts,group_percentages)]\n",
        "    box_labels = np.asarray(box_labels).reshape(cf.shape[0],cf.shape[1])\n",
        "    figsize = plt.rcParams.get('figure.figsize')\n",
        "    plt.figure(figsize=(12, 8))\n",
        "    sns.heatmap(cf,annot=box_labels,fmt=\"\",cmap='binary',cbar=True,xticklabels = ['Zero', 'One'],yticklabels = ['Zero', 'One'])\n",
        "\n",
        "    plt.ylabel('True label')\n",
        "    plt.xlabel('Predicted label')\n",
        "    plt.title(title)"
      ],
      "metadata": {
        "id": "12xAvhTr3ghb"
      },
      "execution_count": 45,
      "outputs": []
    },
    {
      "cell_type": "markdown",
      "source": [
        "I use GridSearchCV for finding the optimal parameters of Logistic Regression.\n",
        "As scoring metric I use the F1."
      ],
      "metadata": {
        "id": "tM2fGkXvicCr"
      }
    },
    {
      "cell_type": "code",
      "source": [
        "from sklearn.model_selection import GridSearchCV\n",
        "from sklearn.metrics import f1_score\n",
        "from sklearn.metrics import precision_score\n",
        "from sklearn.metrics import recall_score\n",
        "from sklearn.metrics import confusion_matrix\n",
        "\n",
        "## Define GridSearch parameters to try \n",
        "parameters = { \n",
        "    'solver' : [\"newton-cg\" ,\"lbfgs\" ,\"liblinear\" ],\n",
        "    'penalty' : [\"l1\", \"l2\", \"none\"],\n",
        "    'C' : [1e-5, 1e-4, 1e-3, 1e-2, 1e-1, 1, 10, 100]\n",
        "}"
      ],
      "metadata": {
        "id": "88qgPw0TyCw0"
      },
      "execution_count": 46,
      "outputs": []
    },
    {
      "cell_type": "markdown",
      "source": [
        "### **Regression with BoW**"
      ],
      "metadata": {
        "id": "37F1Bi-EftRl"
      }
    },
    {
      "cell_type": "markdown",
      "source": [
        "Ignore the warnings due to the invalidation of some combinations of the parameters."
      ],
      "metadata": {
        "id": "slmbU8ruh2E1"
      }
    },
    {
      "cell_type": "code",
      "source": [
        "## Grid Search function\n",
        "bow_clf = GridSearchCV(estimator=LogisticRegression(max_iter=500, n_jobs = -1), param_grid=parameters, \n",
        "                  cv=cv, refit = 'f1_macro')\n",
        "bow_clf.fit(X_train_bow, Y_train_bow)"
      ],
      "metadata": {
        "id": "A27c-OXCyUHX",
        "colab": {
          "base_uri": "https://localhost:8080/"
        },
        "outputId": "17c9f6d9-cbae-4a5a-c79f-07dcf1b1db48"
      },
      "execution_count": null,
      "outputs": [
        {
          "output_type": "stream",
          "name": "stderr",
          "text": [
            "/usr/local/lib/python3.7/dist-packages/sklearn/linear_model/_logistic.py:1526: UserWarning: 'n_jobs' > 1 does not have any effect when 'solver' is set to 'liblinear'. Got 'n_jobs' = 2.\n",
            "  \" = {}.\".format(effective_n_jobs(self.n_jobs))\n",
            "/usr/local/lib/python3.7/dist-packages/sklearn/linear_model/_logistic.py:1526: UserWarning: 'n_jobs' > 1 does not have any effect when 'solver' is set to 'liblinear'. Got 'n_jobs' = 2.\n",
            "  \" = {}.\".format(effective_n_jobs(self.n_jobs))\n",
            "/usr/local/lib/python3.7/dist-packages/sklearn/linear_model/_logistic.py:1526: UserWarning: 'n_jobs' > 1 does not have any effect when 'solver' is set to 'liblinear'. Got 'n_jobs' = 2.\n",
            "  \" = {}.\".format(effective_n_jobs(self.n_jobs))\n",
            "/usr/local/lib/python3.7/dist-packages/sklearn/linear_model/_logistic.py:1526: UserWarning: 'n_jobs' > 1 does not have any effect when 'solver' is set to 'liblinear'. Got 'n_jobs' = 2.\n",
            "  \" = {}.\".format(effective_n_jobs(self.n_jobs))\n",
            "/usr/local/lib/python3.7/dist-packages/sklearn/linear_model/_logistic.py:1526: UserWarning: 'n_jobs' > 1 does not have any effect when 'solver' is set to 'liblinear'. Got 'n_jobs' = 2.\n",
            "  \" = {}.\".format(effective_n_jobs(self.n_jobs))\n",
            "/usr/local/lib/python3.7/dist-packages/joblib/externals/loky/process_executor.py:703: UserWarning: A worker stopped while some jobs were given to the executor. This can be caused by a too short worker timeout or by a memory leak.\n",
            "  \"timeout or by a memory leak.\", UserWarning\n",
            "/usr/local/lib/python3.7/dist-packages/sklearn/linear_model/_logistic.py:1526: UserWarning: 'n_jobs' > 1 does not have any effect when 'solver' is set to 'liblinear'. Got 'n_jobs' = 2.\n",
            "  \" = {}.\".format(effective_n_jobs(self.n_jobs))\n",
            "/usr/local/lib/python3.7/dist-packages/sklearn/linear_model/_logistic.py:1526: UserWarning: 'n_jobs' > 1 does not have any effect when 'solver' is set to 'liblinear'. Got 'n_jobs' = 2.\n",
            "  \" = {}.\".format(effective_n_jobs(self.n_jobs))\n",
            "/usr/local/lib/python3.7/dist-packages/sklearn/linear_model/_logistic.py:1526: UserWarning: 'n_jobs' > 1 does not have any effect when 'solver' is set to 'liblinear'. Got 'n_jobs' = 2.\n",
            "  \" = {}.\".format(effective_n_jobs(self.n_jobs))\n",
            "/usr/local/lib/python3.7/dist-packages/sklearn/linear_model/_logistic.py:1526: UserWarning: 'n_jobs' > 1 does not have any effect when 'solver' is set to 'liblinear'. Got 'n_jobs' = 2.\n",
            "  \" = {}.\".format(effective_n_jobs(self.n_jobs))\n",
            "/usr/local/lib/python3.7/dist-packages/sklearn/linear_model/_logistic.py:1526: UserWarning: 'n_jobs' > 1 does not have any effect when 'solver' is set to 'liblinear'. Got 'n_jobs' = 2.\n",
            "  \" = {}.\".format(effective_n_jobs(self.n_jobs))\n",
            "/usr/local/lib/python3.7/dist-packages/sklearn/linear_model/_logistic.py:1484: UserWarning: Setting penalty='none' will ignore the C and l1_ratio parameters\n",
            "  \"Setting penalty='none' will ignore the C and l1_ratio parameters\"\n",
            "/usr/local/lib/python3.7/dist-packages/sklearn/linear_model/_logistic.py:1484: UserWarning: Setting penalty='none' will ignore the C and l1_ratio parameters\n",
            "  \"Setting penalty='none' will ignore the C and l1_ratio parameters\"\n",
            "/usr/local/lib/python3.7/dist-packages/sklearn/linear_model/_logistic.py:1484: UserWarning: Setting penalty='none' will ignore the C and l1_ratio parameters\n",
            "  \"Setting penalty='none' will ignore the C and l1_ratio parameters\"\n",
            "/usr/local/lib/python3.7/dist-packages/sklearn/linear_model/_logistic.py:1484: UserWarning: Setting penalty='none' will ignore the C and l1_ratio parameters\n",
            "  \"Setting penalty='none' will ignore the C and l1_ratio parameters\"\n",
            "/usr/local/lib/python3.7/dist-packages/sklearn/linear_model/_logistic.py:1484: UserWarning: Setting penalty='none' will ignore the C and l1_ratio parameters\n",
            "  \"Setting penalty='none' will ignore the C and l1_ratio parameters\"\n",
            "/usr/local/lib/python3.7/dist-packages/sklearn/linear_model/_logistic.py:1484: UserWarning: Setting penalty='none' will ignore the C and l1_ratio parameters\n",
            "  \"Setting penalty='none' will ignore the C and l1_ratio parameters\"\n",
            "/usr/local/lib/python3.7/dist-packages/sklearn/linear_model/_logistic.py:1484: UserWarning: Setting penalty='none' will ignore the C and l1_ratio parameters\n",
            "  \"Setting penalty='none' will ignore the C and l1_ratio parameters\"\n",
            "/usr/local/lib/python3.7/dist-packages/sklearn/linear_model/_logistic.py:1484: UserWarning: Setting penalty='none' will ignore the C and l1_ratio parameters\n",
            "  \"Setting penalty='none' will ignore the C and l1_ratio parameters\"\n",
            "/usr/local/lib/python3.7/dist-packages/sklearn/linear_model/_logistic.py:1484: UserWarning: Setting penalty='none' will ignore the C and l1_ratio parameters\n",
            "  \"Setting penalty='none' will ignore the C and l1_ratio parameters\"\n",
            "/usr/local/lib/python3.7/dist-packages/sklearn/linear_model/_logistic.py:1484: UserWarning: Setting penalty='none' will ignore the C and l1_ratio parameters\n",
            "  \"Setting penalty='none' will ignore the C and l1_ratio parameters\"\n",
            "/usr/local/lib/python3.7/dist-packages/sklearn/linear_model/_logistic.py:1526: UserWarning: 'n_jobs' > 1 does not have any effect when 'solver' is set to 'liblinear'. Got 'n_jobs' = 2.\n",
            "  \" = {}.\".format(effective_n_jobs(self.n_jobs))\n",
            "/usr/local/lib/python3.7/dist-packages/sklearn/linear_model/_logistic.py:1526: UserWarning: 'n_jobs' > 1 does not have any effect when 'solver' is set to 'liblinear'. Got 'n_jobs' = 2.\n",
            "  \" = {}.\".format(effective_n_jobs(self.n_jobs))\n",
            "/usr/local/lib/python3.7/dist-packages/sklearn/linear_model/_logistic.py:1526: UserWarning: 'n_jobs' > 1 does not have any effect when 'solver' is set to 'liblinear'. Got 'n_jobs' = 2.\n",
            "  \" = {}.\".format(effective_n_jobs(self.n_jobs))\n",
            "/usr/local/lib/python3.7/dist-packages/sklearn/linear_model/_logistic.py:1526: UserWarning: 'n_jobs' > 1 does not have any effect when 'solver' is set to 'liblinear'. Got 'n_jobs' = 2.\n",
            "  \" = {}.\".format(effective_n_jobs(self.n_jobs))\n",
            "/usr/local/lib/python3.7/dist-packages/sklearn/linear_model/_logistic.py:1526: UserWarning: 'n_jobs' > 1 does not have any effect when 'solver' is set to 'liblinear'. Got 'n_jobs' = 2.\n",
            "  \" = {}.\".format(effective_n_jobs(self.n_jobs))\n",
            "/usr/local/lib/python3.7/dist-packages/sklearn/linear_model/_logistic.py:1526: UserWarning: 'n_jobs' > 1 does not have any effect when 'solver' is set to 'liblinear'. Got 'n_jobs' = 2.\n",
            "  \" = {}.\".format(effective_n_jobs(self.n_jobs))\n",
            "/usr/local/lib/python3.7/dist-packages/sklearn/linear_model/_logistic.py:1526: UserWarning: 'n_jobs' > 1 does not have any effect when 'solver' is set to 'liblinear'. Got 'n_jobs' = 2.\n",
            "  \" = {}.\".format(effective_n_jobs(self.n_jobs))\n",
            "/usr/local/lib/python3.7/dist-packages/sklearn/linear_model/_logistic.py:1526: UserWarning: 'n_jobs' > 1 does not have any effect when 'solver' is set to 'liblinear'. Got 'n_jobs' = 2.\n",
            "  \" = {}.\".format(effective_n_jobs(self.n_jobs))\n",
            "/usr/local/lib/python3.7/dist-packages/sklearn/linear_model/_logistic.py:1526: UserWarning: 'n_jobs' > 1 does not have any effect when 'solver' is set to 'liblinear'. Got 'n_jobs' = 2.\n",
            "  \" = {}.\".format(effective_n_jobs(self.n_jobs))\n",
            "/usr/local/lib/python3.7/dist-packages/sklearn/linear_model/_logistic.py:1526: UserWarning: 'n_jobs' > 1 does not have any effect when 'solver' is set to 'liblinear'. Got 'n_jobs' = 2.\n",
            "  \" = {}.\".format(effective_n_jobs(self.n_jobs))\n",
            "/usr/local/lib/python3.7/dist-packages/sklearn/linear_model/_logistic.py:1484: UserWarning: Setting penalty='none' will ignore the C and l1_ratio parameters\n",
            "  \"Setting penalty='none' will ignore the C and l1_ratio parameters\"\n",
            "/usr/local/lib/python3.7/dist-packages/sklearn/linear_model/_logistic.py:1484: UserWarning: Setting penalty='none' will ignore the C and l1_ratio parameters\n",
            "  \"Setting penalty='none' will ignore the C and l1_ratio parameters\"\n",
            "/usr/local/lib/python3.7/dist-packages/sklearn/linear_model/_logistic.py:1484: UserWarning: Setting penalty='none' will ignore the C and l1_ratio parameters\n",
            "  \"Setting penalty='none' will ignore the C and l1_ratio parameters\"\n",
            "/usr/local/lib/python3.7/dist-packages/sklearn/linear_model/_logistic.py:1484: UserWarning: Setting penalty='none' will ignore the C and l1_ratio parameters\n",
            "  \"Setting penalty='none' will ignore the C and l1_ratio parameters\"\n",
            "/usr/local/lib/python3.7/dist-packages/sklearn/linear_model/_logistic.py:1484: UserWarning: Setting penalty='none' will ignore the C and l1_ratio parameters\n",
            "  \"Setting penalty='none' will ignore the C and l1_ratio parameters\"\n",
            "/usr/local/lib/python3.7/dist-packages/sklearn/linear_model/_logistic.py:1484: UserWarning: Setting penalty='none' will ignore the C and l1_ratio parameters\n",
            "  \"Setting penalty='none' will ignore the C and l1_ratio parameters\"\n",
            "/usr/local/lib/python3.7/dist-packages/sklearn/linear_model/_logistic.py:1484: UserWarning: Setting penalty='none' will ignore the C and l1_ratio parameters\n",
            "  \"Setting penalty='none' will ignore the C and l1_ratio parameters\"\n",
            "/usr/local/lib/python3.7/dist-packages/sklearn/linear_model/_logistic.py:1484: UserWarning: Setting penalty='none' will ignore the C and l1_ratio parameters\n",
            "  \"Setting penalty='none' will ignore the C and l1_ratio parameters\"\n",
            "/usr/local/lib/python3.7/dist-packages/sklearn/linear_model/_logistic.py:1484: UserWarning: Setting penalty='none' will ignore the C and l1_ratio parameters\n",
            "  \"Setting penalty='none' will ignore the C and l1_ratio parameters\"\n",
            "/usr/local/lib/python3.7/dist-packages/sklearn/linear_model/_logistic.py:1484: UserWarning: Setting penalty='none' will ignore the C and l1_ratio parameters\n",
            "  \"Setting penalty='none' will ignore the C and l1_ratio parameters\"\n",
            "/usr/local/lib/python3.7/dist-packages/sklearn/linear_model/_logistic.py:1526: UserWarning: 'n_jobs' > 1 does not have any effect when 'solver' is set to 'liblinear'. Got 'n_jobs' = 2.\n",
            "  \" = {}.\".format(effective_n_jobs(self.n_jobs))\n",
            "/usr/local/lib/python3.7/dist-packages/sklearn/linear_model/_logistic.py:1526: UserWarning: 'n_jobs' > 1 does not have any effect when 'solver' is set to 'liblinear'. Got 'n_jobs' = 2.\n",
            "  \" = {}.\".format(effective_n_jobs(self.n_jobs))\n",
            "/usr/local/lib/python3.7/dist-packages/sklearn/linear_model/_logistic.py:1526: UserWarning: 'n_jobs' > 1 does not have any effect when 'solver' is set to 'liblinear'. Got 'n_jobs' = 2.\n",
            "  \" = {}.\".format(effective_n_jobs(self.n_jobs))\n",
            "/usr/local/lib/python3.7/dist-packages/sklearn/linear_model/_logistic.py:1526: UserWarning: 'n_jobs' > 1 does not have any effect when 'solver' is set to 'liblinear'. Got 'n_jobs' = 2.\n",
            "  \" = {}.\".format(effective_n_jobs(self.n_jobs))\n",
            "/usr/local/lib/python3.7/dist-packages/sklearn/linear_model/_logistic.py:1526: UserWarning: 'n_jobs' > 1 does not have any effect when 'solver' is set to 'liblinear'. Got 'n_jobs' = 2.\n",
            "  \" = {}.\".format(effective_n_jobs(self.n_jobs))\n",
            "/usr/local/lib/python3.7/dist-packages/sklearn/linear_model/_logistic.py:1526: UserWarning: 'n_jobs' > 1 does not have any effect when 'solver' is set to 'liblinear'. Got 'n_jobs' = 2.\n",
            "  \" = {}.\".format(effective_n_jobs(self.n_jobs))\n",
            "/usr/local/lib/python3.7/dist-packages/sklearn/linear_model/_logistic.py:1526: UserWarning: 'n_jobs' > 1 does not have any effect when 'solver' is set to 'liblinear'. Got 'n_jobs' = 2.\n",
            "  \" = {}.\".format(effective_n_jobs(self.n_jobs))\n",
            "/usr/local/lib/python3.7/dist-packages/sklearn/linear_model/_logistic.py:1526: UserWarning: 'n_jobs' > 1 does not have any effect when 'solver' is set to 'liblinear'. Got 'n_jobs' = 2.\n",
            "  \" = {}.\".format(effective_n_jobs(self.n_jobs))\n",
            "/usr/local/lib/python3.7/dist-packages/sklearn/linear_model/_logistic.py:1526: UserWarning: 'n_jobs' > 1 does not have any effect when 'solver' is set to 'liblinear'. Got 'n_jobs' = 2.\n",
            "  \" = {}.\".format(effective_n_jobs(self.n_jobs))\n",
            "/usr/local/lib/python3.7/dist-packages/sklearn/linear_model/_logistic.py:1526: UserWarning: 'n_jobs' > 1 does not have any effect when 'solver' is set to 'liblinear'. Got 'n_jobs' = 2.\n",
            "  \" = {}.\".format(effective_n_jobs(self.n_jobs))\n",
            "/usr/local/lib/python3.7/dist-packages/sklearn/linear_model/_logistic.py:1484: UserWarning: Setting penalty='none' will ignore the C and l1_ratio parameters\n",
            "  \"Setting penalty='none' will ignore the C and l1_ratio parameters\"\n",
            "/usr/local/lib/python3.7/dist-packages/sklearn/linear_model/_logistic.py:1484: UserWarning: Setting penalty='none' will ignore the C and l1_ratio parameters\n",
            "  \"Setting penalty='none' will ignore the C and l1_ratio parameters\"\n",
            "/usr/local/lib/python3.7/dist-packages/sklearn/linear_model/_logistic.py:1484: UserWarning: Setting penalty='none' will ignore the C and l1_ratio parameters\n",
            "  \"Setting penalty='none' will ignore the C and l1_ratio parameters\"\n",
            "/usr/local/lib/python3.7/dist-packages/sklearn/linear_model/_logistic.py:1484: UserWarning: Setting penalty='none' will ignore the C and l1_ratio parameters\n",
            "  \"Setting penalty='none' will ignore the C and l1_ratio parameters\"\n",
            "/usr/local/lib/python3.7/dist-packages/sklearn/linear_model/_logistic.py:1484: UserWarning: Setting penalty='none' will ignore the C and l1_ratio parameters\n",
            "  \"Setting penalty='none' will ignore the C and l1_ratio parameters\"\n",
            "/usr/local/lib/python3.7/dist-packages/sklearn/linear_model/_logistic.py:1484: UserWarning: Setting penalty='none' will ignore the C and l1_ratio parameters\n",
            "  \"Setting penalty='none' will ignore the C and l1_ratio parameters\"\n",
            "/usr/local/lib/python3.7/dist-packages/sklearn/linear_model/_logistic.py:1484: UserWarning: Setting penalty='none' will ignore the C and l1_ratio parameters\n",
            "  \"Setting penalty='none' will ignore the C and l1_ratio parameters\"\n",
            "/usr/local/lib/python3.7/dist-packages/sklearn/linear_model/_logistic.py:1484: UserWarning: Setting penalty='none' will ignore the C and l1_ratio parameters\n",
            "  \"Setting penalty='none' will ignore the C and l1_ratio parameters\"\n",
            "/usr/local/lib/python3.7/dist-packages/sklearn/linear_model/_logistic.py:1484: UserWarning: Setting penalty='none' will ignore the C and l1_ratio parameters\n",
            "  \"Setting penalty='none' will ignore the C and l1_ratio parameters\"\n",
            "/usr/local/lib/python3.7/dist-packages/sklearn/linear_model/_logistic.py:1484: UserWarning: Setting penalty='none' will ignore the C and l1_ratio parameters\n",
            "  \"Setting penalty='none' will ignore the C and l1_ratio parameters\"\n",
            "/usr/local/lib/python3.7/dist-packages/sklearn/linear_model/_logistic.py:1526: UserWarning: 'n_jobs' > 1 does not have any effect when 'solver' is set to 'liblinear'. Got 'n_jobs' = 2.\n",
            "  \" = {}.\".format(effective_n_jobs(self.n_jobs))\n",
            "/usr/local/lib/python3.7/dist-packages/sklearn/linear_model/_logistic.py:1526: UserWarning: 'n_jobs' > 1 does not have any effect when 'solver' is set to 'liblinear'. Got 'n_jobs' = 2.\n",
            "  \" = {}.\".format(effective_n_jobs(self.n_jobs))\n",
            "/usr/local/lib/python3.7/dist-packages/sklearn/linear_model/_logistic.py:1526: UserWarning: 'n_jobs' > 1 does not have any effect when 'solver' is set to 'liblinear'. Got 'n_jobs' = 2.\n",
            "  \" = {}.\".format(effective_n_jobs(self.n_jobs))\n",
            "/usr/local/lib/python3.7/dist-packages/sklearn/linear_model/_logistic.py:1526: UserWarning: 'n_jobs' > 1 does not have any effect when 'solver' is set to 'liblinear'. Got 'n_jobs' = 2.\n",
            "  \" = {}.\".format(effective_n_jobs(self.n_jobs))\n",
            "/usr/local/lib/python3.7/dist-packages/sklearn/linear_model/_logistic.py:1526: UserWarning: 'n_jobs' > 1 does not have any effect when 'solver' is set to 'liblinear'. Got 'n_jobs' = 2.\n",
            "  \" = {}.\".format(effective_n_jobs(self.n_jobs))\n",
            "/usr/local/lib/python3.7/dist-packages/sklearn/linear_model/_logistic.py:1526: UserWarning: 'n_jobs' > 1 does not have any effect when 'solver' is set to 'liblinear'. Got 'n_jobs' = 2.\n",
            "  \" = {}.\".format(effective_n_jobs(self.n_jobs))\n",
            "/usr/local/lib/python3.7/dist-packages/sklearn/linear_model/_logistic.py:1526: UserWarning: 'n_jobs' > 1 does not have any effect when 'solver' is set to 'liblinear'. Got 'n_jobs' = 2.\n",
            "  \" = {}.\".format(effective_n_jobs(self.n_jobs))\n",
            "/usr/local/lib/python3.7/dist-packages/sklearn/linear_model/_logistic.py:1526: UserWarning: 'n_jobs' > 1 does not have any effect when 'solver' is set to 'liblinear'. Got 'n_jobs' = 2.\n",
            "  \" = {}.\".format(effective_n_jobs(self.n_jobs))\n",
            "/usr/local/lib/python3.7/dist-packages/sklearn/linear_model/_logistic.py:1526: UserWarning: 'n_jobs' > 1 does not have any effect when 'solver' is set to 'liblinear'. Got 'n_jobs' = 2.\n",
            "  \" = {}.\".format(effective_n_jobs(self.n_jobs))\n",
            "/usr/local/lib/python3.7/dist-packages/sklearn/linear_model/_logistic.py:1526: UserWarning: 'n_jobs' > 1 does not have any effect when 'solver' is set to 'liblinear'. Got 'n_jobs' = 2.\n",
            "  \" = {}.\".format(effective_n_jobs(self.n_jobs))\n",
            "/usr/local/lib/python3.7/dist-packages/sklearn/linear_model/_logistic.py:1484: UserWarning: Setting penalty='none' will ignore the C and l1_ratio parameters\n",
            "  \"Setting penalty='none' will ignore the C and l1_ratio parameters\"\n",
            "/usr/local/lib/python3.7/dist-packages/sklearn/linear_model/_logistic.py:1484: UserWarning: Setting penalty='none' will ignore the C and l1_ratio parameters\n",
            "  \"Setting penalty='none' will ignore the C and l1_ratio parameters\"\n",
            "/usr/local/lib/python3.7/dist-packages/sklearn/linear_model/_logistic.py:1484: UserWarning: Setting penalty='none' will ignore the C and l1_ratio parameters\n",
            "  \"Setting penalty='none' will ignore the C and l1_ratio parameters\"\n",
            "/usr/local/lib/python3.7/dist-packages/sklearn/linear_model/_logistic.py:1484: UserWarning: Setting penalty='none' will ignore the C and l1_ratio parameters\n",
            "  \"Setting penalty='none' will ignore the C and l1_ratio parameters\"\n",
            "/usr/local/lib/python3.7/dist-packages/sklearn/linear_model/_logistic.py:1484: UserWarning: Setting penalty='none' will ignore the C and l1_ratio parameters\n",
            "  \"Setting penalty='none' will ignore the C and l1_ratio parameters\"\n",
            "/usr/local/lib/python3.7/dist-packages/sklearn/linear_model/_logistic.py:1484: UserWarning: Setting penalty='none' will ignore the C and l1_ratio parameters\n",
            "  \"Setting penalty='none' will ignore the C and l1_ratio parameters\"\n",
            "/usr/local/lib/python3.7/dist-packages/sklearn/linear_model/_logistic.py:1484: UserWarning: Setting penalty='none' will ignore the C and l1_ratio parameters\n",
            "  \"Setting penalty='none' will ignore the C and l1_ratio parameters\"\n",
            "/usr/local/lib/python3.7/dist-packages/sklearn/linear_model/_logistic.py:1484: UserWarning: Setting penalty='none' will ignore the C and l1_ratio parameters\n",
            "  \"Setting penalty='none' will ignore the C and l1_ratio parameters\"\n",
            "/usr/local/lib/python3.7/dist-packages/sklearn/linear_model/_logistic.py:1484: UserWarning: Setting penalty='none' will ignore the C and l1_ratio parameters\n",
            "  \"Setting penalty='none' will ignore the C and l1_ratio parameters\"\n",
            "/usr/local/lib/python3.7/dist-packages/sklearn/linear_model/_logistic.py:1484: UserWarning: Setting penalty='none' will ignore the C and l1_ratio parameters\n",
            "  \"Setting penalty='none' will ignore the C and l1_ratio parameters\"\n",
            "/usr/local/lib/python3.7/dist-packages/sklearn/linear_model/_logistic.py:1526: UserWarning: 'n_jobs' > 1 does not have any effect when 'solver' is set to 'liblinear'. Got 'n_jobs' = 2.\n",
            "  \" = {}.\".format(effective_n_jobs(self.n_jobs))\n",
            "/usr/local/lib/python3.7/dist-packages/sklearn/linear_model/_logistic.py:1526: UserWarning: 'n_jobs' > 1 does not have any effect when 'solver' is set to 'liblinear'. Got 'n_jobs' = 2.\n",
            "  \" = {}.\".format(effective_n_jobs(self.n_jobs))\n",
            "/usr/local/lib/python3.7/dist-packages/sklearn/linear_model/_logistic.py:1526: UserWarning: 'n_jobs' > 1 does not have any effect when 'solver' is set to 'liblinear'. Got 'n_jobs' = 2.\n",
            "  \" = {}.\".format(effective_n_jobs(self.n_jobs))\n",
            "/usr/local/lib/python3.7/dist-packages/sklearn/linear_model/_logistic.py:1526: UserWarning: 'n_jobs' > 1 does not have any effect when 'solver' is set to 'liblinear'. Got 'n_jobs' = 2.\n",
            "  \" = {}.\".format(effective_n_jobs(self.n_jobs))\n",
            "/usr/local/lib/python3.7/dist-packages/sklearn/linear_model/_logistic.py:1526: UserWarning: 'n_jobs' > 1 does not have any effect when 'solver' is set to 'liblinear'. Got 'n_jobs' = 2.\n",
            "  \" = {}.\".format(effective_n_jobs(self.n_jobs))\n",
            "/usr/local/lib/python3.7/dist-packages/sklearn/linear_model/_logistic.py:1526: UserWarning: 'n_jobs' > 1 does not have any effect when 'solver' is set to 'liblinear'. Got 'n_jobs' = 2.\n",
            "  \" = {}.\".format(effective_n_jobs(self.n_jobs))\n",
            "/usr/local/lib/python3.7/dist-packages/sklearn/linear_model/_logistic.py:1526: UserWarning: 'n_jobs' > 1 does not have any effect when 'solver' is set to 'liblinear'. Got 'n_jobs' = 2.\n",
            "  \" = {}.\".format(effective_n_jobs(self.n_jobs))\n",
            "/usr/local/lib/python3.7/dist-packages/sklearn/linear_model/_logistic.py:1526: UserWarning: 'n_jobs' > 1 does not have any effect when 'solver' is set to 'liblinear'. Got 'n_jobs' = 2.\n",
            "  \" = {}.\".format(effective_n_jobs(self.n_jobs))\n",
            "/usr/local/lib/python3.7/dist-packages/sklearn/linear_model/_logistic.py:1526: UserWarning: 'n_jobs' > 1 does not have any effect when 'solver' is set to 'liblinear'. Got 'n_jobs' = 2.\n",
            "  \" = {}.\".format(effective_n_jobs(self.n_jobs))\n",
            "/usr/local/lib/python3.7/dist-packages/sklearn/linear_model/_logistic.py:1526: UserWarning: 'n_jobs' > 1 does not have any effect when 'solver' is set to 'liblinear'. Got 'n_jobs' = 2.\n",
            "  \" = {}.\".format(effective_n_jobs(self.n_jobs))\n",
            "/usr/local/lib/python3.7/dist-packages/sklearn/linear_model/_logistic.py:1484: UserWarning: Setting penalty='none' will ignore the C and l1_ratio parameters\n",
            "  \"Setting penalty='none' will ignore the C and l1_ratio parameters\"\n",
            "/usr/local/lib/python3.7/dist-packages/sklearn/linear_model/_logistic.py:1484: UserWarning: Setting penalty='none' will ignore the C and l1_ratio parameters\n",
            "  \"Setting penalty='none' will ignore the C and l1_ratio parameters\"\n",
            "/usr/local/lib/python3.7/dist-packages/sklearn/linear_model/_logistic.py:1484: UserWarning: Setting penalty='none' will ignore the C and l1_ratio parameters\n",
            "  \"Setting penalty='none' will ignore the C and l1_ratio parameters\"\n",
            "/usr/local/lib/python3.7/dist-packages/sklearn/linear_model/_logistic.py:1484: UserWarning: Setting penalty='none' will ignore the C and l1_ratio parameters\n",
            "  \"Setting penalty='none' will ignore the C and l1_ratio parameters\"\n",
            "/usr/local/lib/python3.7/dist-packages/sklearn/linear_model/_logistic.py:1484: UserWarning: Setting penalty='none' will ignore the C and l1_ratio parameters\n",
            "  \"Setting penalty='none' will ignore the C and l1_ratio parameters\"\n",
            "/usr/local/lib/python3.7/dist-packages/sklearn/linear_model/_logistic.py:1484: UserWarning: Setting penalty='none' will ignore the C and l1_ratio parameters\n",
            "  \"Setting penalty='none' will ignore the C and l1_ratio parameters\"\n",
            "/usr/local/lib/python3.7/dist-packages/sklearn/linear_model/_logistic.py:1484: UserWarning: Setting penalty='none' will ignore the C and l1_ratio parameters\n",
            "  \"Setting penalty='none' will ignore the C and l1_ratio parameters\"\n",
            "/usr/local/lib/python3.7/dist-packages/sklearn/linear_model/_logistic.py:1484: UserWarning: Setting penalty='none' will ignore the C and l1_ratio parameters\n",
            "  \"Setting penalty='none' will ignore the C and l1_ratio parameters\"\n",
            "/usr/local/lib/python3.7/dist-packages/sklearn/linear_model/_logistic.py:1484: UserWarning: Setting penalty='none' will ignore the C and l1_ratio parameters\n",
            "  \"Setting penalty='none' will ignore the C and l1_ratio parameters\"\n",
            "/usr/local/lib/python3.7/dist-packages/sklearn/linear_model/_logistic.py:1484: UserWarning: Setting penalty='none' will ignore the C and l1_ratio parameters\n",
            "  \"Setting penalty='none' will ignore the C and l1_ratio parameters\"\n",
            "/usr/local/lib/python3.7/dist-packages/sklearn/linear_model/_logistic.py:1526: UserWarning: 'n_jobs' > 1 does not have any effect when 'solver' is set to 'liblinear'. Got 'n_jobs' = 2.\n",
            "  \" = {}.\".format(effective_n_jobs(self.n_jobs))\n",
            "/usr/local/lib/python3.7/dist-packages/sklearn/linear_model/_logistic.py:1526: UserWarning: 'n_jobs' > 1 does not have any effect when 'solver' is set to 'liblinear'. Got 'n_jobs' = 2.\n",
            "  \" = {}.\".format(effective_n_jobs(self.n_jobs))\n",
            "/usr/local/lib/python3.7/dist-packages/sklearn/linear_model/_logistic.py:1526: UserWarning: 'n_jobs' > 1 does not have any effect when 'solver' is set to 'liblinear'. Got 'n_jobs' = 2.\n",
            "  \" = {}.\".format(effective_n_jobs(self.n_jobs))\n",
            "/usr/local/lib/python3.7/dist-packages/sklearn/linear_model/_logistic.py:1526: UserWarning: 'n_jobs' > 1 does not have any effect when 'solver' is set to 'liblinear'. Got 'n_jobs' = 2.\n",
            "  \" = {}.\".format(effective_n_jobs(self.n_jobs))\n",
            "/usr/local/lib/python3.7/dist-packages/sklearn/linear_model/_logistic.py:1526: UserWarning: 'n_jobs' > 1 does not have any effect when 'solver' is set to 'liblinear'. Got 'n_jobs' = 2.\n",
            "  \" = {}.\".format(effective_n_jobs(self.n_jobs))\n",
            "/usr/local/lib/python3.7/dist-packages/sklearn/linear_model/_logistic.py:1526: UserWarning: 'n_jobs' > 1 does not have any effect when 'solver' is set to 'liblinear'. Got 'n_jobs' = 2.\n",
            "  \" = {}.\".format(effective_n_jobs(self.n_jobs))\n",
            "/usr/local/lib/python3.7/dist-packages/sklearn/linear_model/_logistic.py:1526: UserWarning: 'n_jobs' > 1 does not have any effect when 'solver' is set to 'liblinear'. Got 'n_jobs' = 2.\n",
            "  \" = {}.\".format(effective_n_jobs(self.n_jobs))\n",
            "/usr/local/lib/python3.7/dist-packages/sklearn/linear_model/_logistic.py:1526: UserWarning: 'n_jobs' > 1 does not have any effect when 'solver' is set to 'liblinear'. Got 'n_jobs' = 2.\n",
            "  \" = {}.\".format(effective_n_jobs(self.n_jobs))\n",
            "/usr/local/lib/python3.7/dist-packages/sklearn/linear_model/_logistic.py:1526: UserWarning: 'n_jobs' > 1 does not have any effect when 'solver' is set to 'liblinear'. Got 'n_jobs' = 2.\n",
            "  \" = {}.\".format(effective_n_jobs(self.n_jobs))\n",
            "/usr/local/lib/python3.7/dist-packages/sklearn/linear_model/_logistic.py:1526: UserWarning: 'n_jobs' > 1 does not have any effect when 'solver' is set to 'liblinear'. Got 'n_jobs' = 2.\n",
            "  \" = {}.\".format(effective_n_jobs(self.n_jobs))\n",
            "/usr/local/lib/python3.7/dist-packages/sklearn/linear_model/_logistic.py:1526: UserWarning: 'n_jobs' > 1 does not have any effect when 'solver' is set to 'liblinear'. Got 'n_jobs' = 2.\n",
            "  \" = {}.\".format(effective_n_jobs(self.n_jobs))\n",
            "/usr/local/lib/python3.7/dist-packages/sklearn/linear_model/_logistic.py:1526: UserWarning: 'n_jobs' > 1 does not have any effect when 'solver' is set to 'liblinear'. Got 'n_jobs' = 2.\n",
            "  \" = {}.\".format(effective_n_jobs(self.n_jobs))\n",
            "/usr/local/lib/python3.7/dist-packages/sklearn/linear_model/_logistic.py:1526: UserWarning: 'n_jobs' > 1 does not have any effect when 'solver' is set to 'liblinear'. Got 'n_jobs' = 2.\n",
            "  \" = {}.\".format(effective_n_jobs(self.n_jobs))\n",
            "/usr/local/lib/python3.7/dist-packages/sklearn/linear_model/_logistic.py:1526: UserWarning: 'n_jobs' > 1 does not have any effect when 'solver' is set to 'liblinear'. Got 'n_jobs' = 2.\n",
            "  \" = {}.\".format(effective_n_jobs(self.n_jobs))\n",
            "/usr/local/lib/python3.7/dist-packages/sklearn/linear_model/_logistic.py:1526: UserWarning: 'n_jobs' > 1 does not have any effect when 'solver' is set to 'liblinear'. Got 'n_jobs' = 2.\n",
            "  \" = {}.\".format(effective_n_jobs(self.n_jobs))\n",
            "/usr/local/lib/python3.7/dist-packages/sklearn/linear_model/_logistic.py:1526: UserWarning: 'n_jobs' > 1 does not have any effect when 'solver' is set to 'liblinear'. Got 'n_jobs' = 2.\n",
            "  \" = {}.\".format(effective_n_jobs(self.n_jobs))\n",
            "/usr/local/lib/python3.7/dist-packages/sklearn/linear_model/_logistic.py:1526: UserWarning: 'n_jobs' > 1 does not have any effect when 'solver' is set to 'liblinear'. Got 'n_jobs' = 2.\n",
            "  \" = {}.\".format(effective_n_jobs(self.n_jobs))\n",
            "/usr/local/lib/python3.7/dist-packages/sklearn/linear_model/_logistic.py:1526: UserWarning: 'n_jobs' > 1 does not have any effect when 'solver' is set to 'liblinear'. Got 'n_jobs' = 2.\n",
            "  \" = {}.\".format(effective_n_jobs(self.n_jobs))\n",
            "/usr/local/lib/python3.7/dist-packages/sklearn/linear_model/_logistic.py:1526: UserWarning: 'n_jobs' > 1 does not have any effect when 'solver' is set to 'liblinear'. Got 'n_jobs' = 2.\n",
            "  \" = {}.\".format(effective_n_jobs(self.n_jobs))\n",
            "/usr/local/lib/python3.7/dist-packages/sklearn/linear_model/_logistic.py:1526: UserWarning: 'n_jobs' > 1 does not have any effect when 'solver' is set to 'liblinear'. Got 'n_jobs' = 2.\n",
            "  \" = {}.\".format(effective_n_jobs(self.n_jobs))\n",
            "/usr/local/lib/python3.7/dist-packages/sklearn/linear_model/_logistic.py:1484: UserWarning: Setting penalty='none' will ignore the C and l1_ratio parameters\n",
            "  \"Setting penalty='none' will ignore the C and l1_ratio parameters\"\n",
            "/usr/local/lib/python3.7/dist-packages/sklearn/linear_model/_logistic.py:1484: UserWarning: Setting penalty='none' will ignore the C and l1_ratio parameters\n",
            "  \"Setting penalty='none' will ignore the C and l1_ratio parameters\"\n",
            "/usr/local/lib/python3.7/dist-packages/sklearn/linear_model/_logistic.py:1484: UserWarning: Setting penalty='none' will ignore the C and l1_ratio parameters\n",
            "  \"Setting penalty='none' will ignore the C and l1_ratio parameters\"\n",
            "/usr/local/lib/python3.7/dist-packages/sklearn/linear_model/_logistic.py:1484: UserWarning: Setting penalty='none' will ignore the C and l1_ratio parameters\n",
            "  \"Setting penalty='none' will ignore the C and l1_ratio parameters\"\n",
            "/usr/local/lib/python3.7/dist-packages/sklearn/linear_model/_logistic.py:1484: UserWarning: Setting penalty='none' will ignore the C and l1_ratio parameters\n",
            "  \"Setting penalty='none' will ignore the C and l1_ratio parameters\"\n",
            "/usr/local/lib/python3.7/dist-packages/sklearn/linear_model/_logistic.py:1484: UserWarning: Setting penalty='none' will ignore the C and l1_ratio parameters\n",
            "  \"Setting penalty='none' will ignore the C and l1_ratio parameters\"\n",
            "/usr/local/lib/python3.7/dist-packages/sklearn/linear_model/_logistic.py:1484: UserWarning: Setting penalty='none' will ignore the C and l1_ratio parameters\n",
            "  \"Setting penalty='none' will ignore the C and l1_ratio parameters\"\n",
            "/usr/local/lib/python3.7/dist-packages/sklearn/linear_model/_logistic.py:1484: UserWarning: Setting penalty='none' will ignore the C and l1_ratio parameters\n",
            "  \"Setting penalty='none' will ignore the C and l1_ratio parameters\"\n",
            "/usr/local/lib/python3.7/dist-packages/sklearn/linear_model/_logistic.py:1484: UserWarning: Setting penalty='none' will ignore the C and l1_ratio parameters\n",
            "  \"Setting penalty='none' will ignore the C and l1_ratio parameters\"\n",
            "/usr/local/lib/python3.7/dist-packages/sklearn/linear_model/_logistic.py:1484: UserWarning: Setting penalty='none' will ignore the C and l1_ratio parameters\n",
            "  \"Setting penalty='none' will ignore the C and l1_ratio parameters\"\n",
            "/usr/local/lib/python3.7/dist-packages/sklearn/linear_model/_logistic.py:1526: UserWarning: 'n_jobs' > 1 does not have any effect when 'solver' is set to 'liblinear'. Got 'n_jobs' = 2.\n",
            "  \" = {}.\".format(effective_n_jobs(self.n_jobs))\n",
            "/usr/local/lib/python3.7/dist-packages/sklearn/linear_model/_logistic.py:1526: UserWarning: 'n_jobs' > 1 does not have any effect when 'solver' is set to 'liblinear'. Got 'n_jobs' = 2.\n",
            "  \" = {}.\".format(effective_n_jobs(self.n_jobs))\n",
            "/usr/local/lib/python3.7/dist-packages/sklearn/linear_model/_logistic.py:1526: UserWarning: 'n_jobs' > 1 does not have any effect when 'solver' is set to 'liblinear'. Got 'n_jobs' = 2.\n",
            "  \" = {}.\".format(effective_n_jobs(self.n_jobs))\n",
            "/usr/local/lib/python3.7/dist-packages/sklearn/linear_model/_logistic.py:1526: UserWarning: 'n_jobs' > 1 does not have any effect when 'solver' is set to 'liblinear'. Got 'n_jobs' = 2.\n",
            "  \" = {}.\".format(effective_n_jobs(self.n_jobs))\n",
            "/usr/local/lib/python3.7/dist-packages/sklearn/linear_model/_logistic.py:1526: UserWarning: 'n_jobs' > 1 does not have any effect when 'solver' is set to 'liblinear'. Got 'n_jobs' = 2.\n",
            "  \" = {}.\".format(effective_n_jobs(self.n_jobs))\n",
            "/usr/local/lib/python3.7/dist-packages/sklearn/linear_model/_logistic.py:1526: UserWarning: 'n_jobs' > 1 does not have any effect when 'solver' is set to 'liblinear'. Got 'n_jobs' = 2.\n",
            "  \" = {}.\".format(effective_n_jobs(self.n_jobs))\n",
            "/usr/local/lib/python3.7/dist-packages/sklearn/linear_model/_logistic.py:1526: UserWarning: 'n_jobs' > 1 does not have any effect when 'solver' is set to 'liblinear'. Got 'n_jobs' = 2.\n",
            "  \" = {}.\".format(effective_n_jobs(self.n_jobs))\n",
            "/usr/local/lib/python3.7/dist-packages/sklearn/linear_model/_logistic.py:1526: UserWarning: 'n_jobs' > 1 does not have any effect when 'solver' is set to 'liblinear'. Got 'n_jobs' = 2.\n",
            "  \" = {}.\".format(effective_n_jobs(self.n_jobs))\n",
            "/usr/local/lib/python3.7/dist-packages/sklearn/linear_model/_logistic.py:1526: UserWarning: 'n_jobs' > 1 does not have any effect when 'solver' is set to 'liblinear'. Got 'n_jobs' = 2.\n",
            "  \" = {}.\".format(effective_n_jobs(self.n_jobs))\n",
            "/usr/local/lib/python3.7/dist-packages/sklearn/linear_model/_logistic.py:1526: UserWarning: 'n_jobs' > 1 does not have any effect when 'solver' is set to 'liblinear'. Got 'n_jobs' = 2.\n",
            "  \" = {}.\".format(effective_n_jobs(self.n_jobs))\n",
            "/usr/local/lib/python3.7/dist-packages/sklearn/linear_model/_logistic.py:1484: UserWarning: Setting penalty='none' will ignore the C and l1_ratio parameters\n",
            "  \"Setting penalty='none' will ignore the C and l1_ratio parameters\"\n",
            "/usr/local/lib/python3.7/dist-packages/sklearn/linear_model/_logistic.py:1484: UserWarning: Setting penalty='none' will ignore the C and l1_ratio parameters\n",
            "  \"Setting penalty='none' will ignore the C and l1_ratio parameters\"\n",
            "/usr/local/lib/python3.7/dist-packages/sklearn/linear_model/_logistic.py:1484: UserWarning: Setting penalty='none' will ignore the C and l1_ratio parameters\n",
            "  \"Setting penalty='none' will ignore the C and l1_ratio parameters\"\n",
            "/usr/local/lib/python3.7/dist-packages/sklearn/linear_model/_logistic.py:1484: UserWarning: Setting penalty='none' will ignore the C and l1_ratio parameters\n",
            "  \"Setting penalty='none' will ignore the C and l1_ratio parameters\"\n",
            "/usr/local/lib/python3.7/dist-packages/sklearn/linear_model/_logistic.py:1484: UserWarning: Setting penalty='none' will ignore the C and l1_ratio parameters\n",
            "  \"Setting penalty='none' will ignore the C and l1_ratio parameters\"\n",
            "/usr/local/lib/python3.7/dist-packages/sklearn/linear_model/_logistic.py:1484: UserWarning: Setting penalty='none' will ignore the C and l1_ratio parameters\n",
            "  \"Setting penalty='none' will ignore the C and l1_ratio parameters\"\n",
            "/usr/local/lib/python3.7/dist-packages/sklearn/linear_model/_logistic.py:1484: UserWarning: Setting penalty='none' will ignore the C and l1_ratio parameters\n",
            "  \"Setting penalty='none' will ignore the C and l1_ratio parameters\"\n",
            "/usr/local/lib/python3.7/dist-packages/sklearn/linear_model/_logistic.py:1484: UserWarning: Setting penalty='none' will ignore the C and l1_ratio parameters\n",
            "  \"Setting penalty='none' will ignore the C and l1_ratio parameters\"\n",
            "/usr/local/lib/python3.7/dist-packages/sklearn/linear_model/_logistic.py:1484: UserWarning: Setting penalty='none' will ignore the C and l1_ratio parameters\n",
            "  \"Setting penalty='none' will ignore the C and l1_ratio parameters\"\n",
            "/usr/local/lib/python3.7/dist-packages/sklearn/linear_model/_logistic.py:1484: UserWarning: Setting penalty='none' will ignore the C and l1_ratio parameters\n",
            "  \"Setting penalty='none' will ignore the C and l1_ratio parameters\"\n",
            "/usr/local/lib/python3.7/dist-packages/sklearn/model_selection/_validation.py:372: FitFailedWarning: \n",
            "120 fits failed out of a total of 360.\n",
            "The score on these train-test partitions for these parameters will be set to nan.\n",
            "If these failures are not expected, you can try to debug them by setting error_score='raise'.\n",
            "\n",
            "Below are more details about the failures:\n",
            "--------------------------------------------------------------------------------\n",
            "40 fits failed with the following error:\n",
            "Traceback (most recent call last):\n",
            "  File \"/usr/local/lib/python3.7/dist-packages/sklearn/model_selection/_validation.py\", line 680, in _fit_and_score\n",
            "    estimator.fit(X_train, y_train, **fit_params)\n",
            "  File \"/usr/local/lib/python3.7/dist-packages/sklearn/linear_model/_logistic.py\", line 1461, in fit\n",
            "    solver = _check_solver(self.solver, self.penalty, self.dual)\n",
            "  File \"/usr/local/lib/python3.7/dist-packages/sklearn/linear_model/_logistic.py\", line 449, in _check_solver\n",
            "    % (solver, penalty)\n",
            "ValueError: Solver newton-cg supports only 'l2' or 'none' penalties, got l1 penalty.\n",
            "\n",
            "--------------------------------------------------------------------------------\n",
            "40 fits failed with the following error:\n",
            "Traceback (most recent call last):\n",
            "  File \"/usr/local/lib/python3.7/dist-packages/sklearn/model_selection/_validation.py\", line 680, in _fit_and_score\n",
            "    estimator.fit(X_train, y_train, **fit_params)\n",
            "  File \"/usr/local/lib/python3.7/dist-packages/sklearn/linear_model/_logistic.py\", line 1461, in fit\n",
            "    solver = _check_solver(self.solver, self.penalty, self.dual)\n",
            "  File \"/usr/local/lib/python3.7/dist-packages/sklearn/linear_model/_logistic.py\", line 449, in _check_solver\n",
            "    % (solver, penalty)\n",
            "ValueError: Solver lbfgs supports only 'l2' or 'none' penalties, got l1 penalty.\n",
            "\n",
            "--------------------------------------------------------------------------------\n",
            "40 fits failed with the following error:\n",
            "Traceback (most recent call last):\n",
            "  File \"/usr/local/lib/python3.7/dist-packages/sklearn/model_selection/_validation.py\", line 680, in _fit_and_score\n",
            "    estimator.fit(X_train, y_train, **fit_params)\n",
            "  File \"/usr/local/lib/python3.7/dist-packages/sklearn/linear_model/_logistic.py\", line 1461, in fit\n",
            "    solver = _check_solver(self.solver, self.penalty, self.dual)\n",
            "  File \"/usr/local/lib/python3.7/dist-packages/sklearn/linear_model/_logistic.py\", line 464, in _check_solver\n",
            "    raise ValueError(\"penalty='none' is not supported for the liblinear solver\")\n",
            "ValueError: penalty='none' is not supported for the liblinear solver\n",
            "\n",
            "  warnings.warn(some_fits_failed_message, FitFailedWarning)\n",
            "/usr/local/lib/python3.7/dist-packages/sklearn/model_selection/_search.py:972: UserWarning: One or more of the test scores are non-finite: [       nan        nan 0.49852826 0.69166236 0.69166236 0.71160378\n",
            " 0.85502437 0.8549966         nan        nan        nan 0.49852826\n",
            " 0.79389547 0.79389547 0.79925577 0.85502437 0.8549966         nan\n",
            "        nan        nan 0.67266585 0.8410543  0.8410543  0.84113763\n",
            " 0.85502437 0.8549966         nan        nan        nan 0.82983393\n",
            " 0.85524653 0.85521876 0.8552743  0.85502437 0.8549966         nan\n",
            "        nan        nan 0.85585756 0.85588533 0.8559131  0.85588533\n",
            " 0.85502437 0.8549966         nan        nan        nan 0.85510768\n",
            " 0.85480219 0.85482996 0.85480219 0.85502437 0.8549966         nan\n",
            "        nan        nan 0.85491329 0.85496882 0.85496882 0.85496882\n",
            " 0.85502437 0.8549966         nan        nan        nan 0.85496882\n",
            " 0.85502437 0.85494105 0.85502437 0.85502437 0.8549966         nan]\n",
            "  category=UserWarning,\n"
          ]
        }
      ]
    },
    {
      "cell_type": "code",
      "source": [
        "print(\"\\n Optimal parameters: \\n\", bow_clf.best_params_)\n",
        "print(\"\\n Maximum F1 score achieved: \\n\", bow_clf.best_score_)"
      ],
      "metadata": {
        "colab": {
          "base_uri": "https://localhost:8080/"
        },
        "id": "4iYKXxEv5V9M",
        "outputId": "0a287fd2-b27c-4a7a-ef24-a357e0beeefa"
      },
      "execution_count": null,
      "outputs": [
        {
          "output_type": "stream",
          "name": "stdout",
          "text": [
            "\n",
            " Optimal parameters: \n",
            " {'C': 0.1, 'penalty': 'l2', 'solver': 'lbfgs'}\n",
            "\n",
            " Maximum F1 score achieved: \n",
            " 0.8559131011803298\n"
          ]
        }
      ]
    },
    {
      "cell_type": "markdown",
      "source": [
        "Train the model using best hyperparameters"
      ],
      "metadata": {
        "id": "miaxSxovKQcY"
      }
    },
    {
      "cell_type": "code",
      "source": [
        "bow_clf = LogisticRegression(C= 0.1, penalty= 'l2', solver= 'lbfgs', max_iter= 500, n_jobs = -1)\n",
        "bow_clf.fit(X_train_bow, Y_train_bow)"
      ],
      "metadata": {
        "colab": {
          "base_uri": "https://localhost:8080/"
        },
        "id": "mQCb65MdKPDG",
        "outputId": "ddc0a55b-ed2d-4910-cc18-6fb796489c38"
      },
      "execution_count": null,
      "outputs": [
        {
          "output_type": "execute_result",
          "data": {
            "text/plain": [
              "LogisticRegression(C=0.1, max_iter=500, n_jobs=-1)"
            ]
          },
          "metadata": {},
          "execution_count": 50
        }
      ]
    },
    {
      "cell_type": "markdown",
      "source": [
        "**Predict using best hyperparameters**"
      ],
      "metadata": {
        "id": "Ce38QqqKtnIc"
      }
    },
    {
      "cell_type": "code",
      "source": [
        "regression_with_bow = cross_validate(bow_clf, X_test_bow, Y_test_bow, scoring=scoring, cv=cv, n_jobs=-1)\n",
        "\n",
        "precision_bow = mean(regression_with_bow['test_prec_macro'])\n",
        "recall_bow = mean(regression_with_bow['test_rec_macro'])\n",
        "f1_bow = mean(regression_with_bow['test_f1_macro'])"
      ],
      "metadata": {
        "id": "CM1s_GwtKpED"
      },
      "execution_count": null,
      "outputs": []
    },
    {
      "cell_type": "code",
      "source": [
        "# report performance\n",
        "print(\"PERFORMANCE METRICS with BoW\\n\")\n",
        "print(f\"Precision: {precision_bow*100:.2f}\")\n",
        "print(f\"Recall: {recall_bow*100:.2f}\")\n",
        "print(f\"F1 Score: {f1_bow*100:.2f}\")"
      ],
      "metadata": {
        "id": "VnB5MEvMK5aN",
        "colab": {
          "base_uri": "https://localhost:8080/"
        },
        "outputId": "ed70de53-61e4-43b3-d161-d3e4eb9ee4fb"
      },
      "execution_count": null,
      "outputs": [
        {
          "output_type": "stream",
          "name": "stdout",
          "text": [
            "PERFORMANCE METRICS with BoW\n",
            "\n",
            "Precision: 85.01\n",
            "Recall: 85.01\n",
            "F1 Score: 84.99\n"
          ]
        }
      ]
    },
    {
      "cell_type": "code",
      "source": [
        "Y_pred_bow = bow_clf.predict(X_test_bow)\n",
        "cf_matrix_bow = confusion_matrix(Y_test_bow,Y_pred_bow)\n",
        "plt_confusion_matrix(cf=cf_matrix_bow, title=\"Regression with BoW\")"
      ],
      "metadata": {
        "colab": {
          "base_uri": "https://localhost:8080/"
        },
        "id": "Cc8xRKjCzTjR",
        "outputId": "5d7426ea-f3f7-47ad-c5fa-4fe160987fcb"
      },
      "execution_count": null,
      "outputs": [
        {
          "output_type": "display_data",
          "data": {
            "text/plain": [
              "<Figure size 864x576 with 2 Axes>"
            ],
            "image/png": "[encoded data removed]"
          },
          "metadata": {
            "needs_background": "light"
          }
        }
      ]
    },
    {
      "cell_type": "markdown",
      "source": [
        "### **Regression with TF-IDF**"
      ],
      "metadata": {
        "id": "PCBo40XpgHim"
      }
    },
    {
      "cell_type": "markdown",
      "source": [
        "Ignore the warnings due to the invalidation of some combinations of the parameters."
      ],
      "metadata": {
        "id": "GXyBBFFZJ6ay"
      }
    },
    {
      "cell_type": "code",
      "source": [
        "## Grid Search function\n",
        "tfidf_clf = GridSearchCV(estimator=LogisticRegression(max_iter=500, n_jobs = -1), param_grid=parameters, \n",
        "                  cv=cv, refit = 'f1_macro')\n",
        "tfidf_clf.fit(X_train_tfidf, Y_train_tfidf)"
      ],
      "metadata": {
        "id": "ccyq1eg3zztI",
        "colab": {
          "base_uri": "https://localhost:8080/"
        },
        "outputId": "10e7f831-6b3a-4c44-a940-661f96cab098"
      },
      "execution_count": null,
      "outputs": [
        {
          "output_type": "stream",
          "name": "stderr",
          "text": [
            "/usr/local/lib/python3.7/dist-packages/sklearn/linear_model/_logistic.py:1526: UserWarning: 'n_jobs' > 1 does not have any effect when 'solver' is set to 'liblinear'. Got 'n_jobs' = 2.\n",
            "  \" = {}.\".format(effective_n_jobs(self.n_jobs))\n",
            "/usr/local/lib/python3.7/dist-packages/sklearn/linear_model/_logistic.py:1526: UserWarning: 'n_jobs' > 1 does not have any effect when 'solver' is set to 'liblinear'. Got 'n_jobs' = 2.\n",
            "  \" = {}.\".format(effective_n_jobs(self.n_jobs))\n",
            "/usr/local/lib/python3.7/dist-packages/sklearn/linear_model/_logistic.py:1526: UserWarning: 'n_jobs' > 1 does not have any effect when 'solver' is set to 'liblinear'. Got 'n_jobs' = 2.\n",
            "  \" = {}.\".format(effective_n_jobs(self.n_jobs))\n",
            "/usr/local/lib/python3.7/dist-packages/sklearn/linear_model/_logistic.py:1526: UserWarning: 'n_jobs' > 1 does not have any effect when 'solver' is set to 'liblinear'. Got 'n_jobs' = 2.\n",
            "  \" = {}.\".format(effective_n_jobs(self.n_jobs))\n",
            "/usr/local/lib/python3.7/dist-packages/sklearn/linear_model/_logistic.py:1526: UserWarning: 'n_jobs' > 1 does not have any effect when 'solver' is set to 'liblinear'. Got 'n_jobs' = 2.\n",
            "  \" = {}.\".format(effective_n_jobs(self.n_jobs))\n",
            "/usr/local/lib/python3.7/dist-packages/sklearn/linear_model/_logistic.py:1526: UserWarning: 'n_jobs' > 1 does not have any effect when 'solver' is set to 'liblinear'. Got 'n_jobs' = 2.\n",
            "  \" = {}.\".format(effective_n_jobs(self.n_jobs))\n",
            "/usr/local/lib/python3.7/dist-packages/sklearn/linear_model/_logistic.py:1526: UserWarning: 'n_jobs' > 1 does not have any effect when 'solver' is set to 'liblinear'. Got 'n_jobs' = 2.\n",
            "  \" = {}.\".format(effective_n_jobs(self.n_jobs))\n",
            "/usr/local/lib/python3.7/dist-packages/sklearn/linear_model/_logistic.py:1526: UserWarning: 'n_jobs' > 1 does not have any effect when 'solver' is set to 'liblinear'. Got 'n_jobs' = 2.\n",
            "  \" = {}.\".format(effective_n_jobs(self.n_jobs))\n",
            "/usr/local/lib/python3.7/dist-packages/sklearn/linear_model/_logistic.py:1526: UserWarning: 'n_jobs' > 1 does not have any effect when 'solver' is set to 'liblinear'. Got 'n_jobs' = 2.\n",
            "  \" = {}.\".format(effective_n_jobs(self.n_jobs))\n",
            "/usr/local/lib/python3.7/dist-packages/sklearn/linear_model/_logistic.py:1526: UserWarning: 'n_jobs' > 1 does not have any effect when 'solver' is set to 'liblinear'. Got 'n_jobs' = 2.\n",
            "  \" = {}.\".format(effective_n_jobs(self.n_jobs))\n",
            "/usr/local/lib/python3.7/dist-packages/sklearn/linear_model/_logistic.py:1484: UserWarning: Setting penalty='none' will ignore the C and l1_ratio parameters\n",
            "  \"Setting penalty='none' will ignore the C and l1_ratio parameters\"\n",
            "/usr/local/lib/python3.7/dist-packages/sklearn/linear_model/_logistic.py:1484: UserWarning: Setting penalty='none' will ignore the C and l1_ratio parameters\n",
            "  \"Setting penalty='none' will ignore the C and l1_ratio parameters\"\n",
            "/usr/local/lib/python3.7/dist-packages/sklearn/linear_model/_logistic.py:1484: UserWarning: Setting penalty='none' will ignore the C and l1_ratio parameters\n",
            "  \"Setting penalty='none' will ignore the C and l1_ratio parameters\"\n",
            "/usr/local/lib/python3.7/dist-packages/sklearn/linear_model/_logistic.py:1484: UserWarning: Setting penalty='none' will ignore the C and l1_ratio parameters\n",
            "  \"Setting penalty='none' will ignore the C and l1_ratio parameters\"\n",
            "/usr/local/lib/python3.7/dist-packages/sklearn/linear_model/_logistic.py:1484: UserWarning: Setting penalty='none' will ignore the C and l1_ratio parameters\n",
            "  \"Setting penalty='none' will ignore the C and l1_ratio parameters\"\n",
            "/usr/local/lib/python3.7/dist-packages/sklearn/linear_model/_logistic.py:1484: UserWarning: Setting penalty='none' will ignore the C and l1_ratio parameters\n",
            "  \"Setting penalty='none' will ignore the C and l1_ratio parameters\"\n",
            "/usr/local/lib/python3.7/dist-packages/sklearn/linear_model/_logistic.py:1484: UserWarning: Setting penalty='none' will ignore the C and l1_ratio parameters\n",
            "  \"Setting penalty='none' will ignore the C and l1_ratio parameters\"\n",
            "/usr/local/lib/python3.7/dist-packages/sklearn/linear_model/_logistic.py:1484: UserWarning: Setting penalty='none' will ignore the C and l1_ratio parameters\n",
            "  \"Setting penalty='none' will ignore the C and l1_ratio parameters\"\n",
            "/usr/local/lib/python3.7/dist-packages/sklearn/linear_model/_logistic.py:1484: UserWarning: Setting penalty='none' will ignore the C and l1_ratio parameters\n",
            "  \"Setting penalty='none' will ignore the C and l1_ratio parameters\"\n",
            "/usr/local/lib/python3.7/dist-packages/sklearn/linear_model/_logistic.py:1484: UserWarning: Setting penalty='none' will ignore the C and l1_ratio parameters\n",
            "  \"Setting penalty='none' will ignore the C and l1_ratio parameters\"\n",
            "/usr/local/lib/python3.7/dist-packages/sklearn/linear_model/_logistic.py:1526: UserWarning: 'n_jobs' > 1 does not have any effect when 'solver' is set to 'liblinear'. Got 'n_jobs' = 2.\n",
            "  \" = {}.\".format(effective_n_jobs(self.n_jobs))\n",
            "/usr/local/lib/python3.7/dist-packages/sklearn/linear_model/_logistic.py:1526: UserWarning: 'n_jobs' > 1 does not have any effect when 'solver' is set to 'liblinear'. Got 'n_jobs' = 2.\n",
            "  \" = {}.\".format(effective_n_jobs(self.n_jobs))\n",
            "/usr/local/lib/python3.7/dist-packages/sklearn/linear_model/_logistic.py:1526: UserWarning: 'n_jobs' > 1 does not have any effect when 'solver' is set to 'liblinear'. Got 'n_jobs' = 2.\n",
            "  \" = {}.\".format(effective_n_jobs(self.n_jobs))\n",
            "/usr/local/lib/python3.7/dist-packages/sklearn/linear_model/_logistic.py:1526: UserWarning: 'n_jobs' > 1 does not have any effect when 'solver' is set to 'liblinear'. Got 'n_jobs' = 2.\n",
            "  \" = {}.\".format(effective_n_jobs(self.n_jobs))\n",
            "/usr/local/lib/python3.7/dist-packages/sklearn/linear_model/_logistic.py:1526: UserWarning: 'n_jobs' > 1 does not have any effect when 'solver' is set to 'liblinear'. Got 'n_jobs' = 2.\n",
            "  \" = {}.\".format(effective_n_jobs(self.n_jobs))\n",
            "/usr/local/lib/python3.7/dist-packages/sklearn/linear_model/_logistic.py:1526: UserWarning: 'n_jobs' > 1 does not have any effect when 'solver' is set to 'liblinear'. Got 'n_jobs' = 2.\n",
            "  \" = {}.\".format(effective_n_jobs(self.n_jobs))\n",
            "/usr/local/lib/python3.7/dist-packages/sklearn/linear_model/_logistic.py:1526: UserWarning: 'n_jobs' > 1 does not have any effect when 'solver' is set to 'liblinear'. Got 'n_jobs' = 2.\n",
            "  \" = {}.\".format(effective_n_jobs(self.n_jobs))\n",
            "/usr/local/lib/python3.7/dist-packages/sklearn/linear_model/_logistic.py:1526: UserWarning: 'n_jobs' > 1 does not have any effect when 'solver' is set to 'liblinear'. Got 'n_jobs' = 2.\n",
            "  \" = {}.\".format(effective_n_jobs(self.n_jobs))\n",
            "/usr/local/lib/python3.7/dist-packages/sklearn/linear_model/_logistic.py:1526: UserWarning: 'n_jobs' > 1 does not have any effect when 'solver' is set to 'liblinear'. Got 'n_jobs' = 2.\n",
            "  \" = {}.\".format(effective_n_jobs(self.n_jobs))\n",
            "/usr/local/lib/python3.7/dist-packages/sklearn/linear_model/_logistic.py:1526: UserWarning: 'n_jobs' > 1 does not have any effect when 'solver' is set to 'liblinear'. Got 'n_jobs' = 2.\n",
            "  \" = {}.\".format(effective_n_jobs(self.n_jobs))\n",
            "/usr/local/lib/python3.7/dist-packages/sklearn/linear_model/_logistic.py:1484: UserWarning: Setting penalty='none' will ignore the C and l1_ratio parameters\n",
            "  \"Setting penalty='none' will ignore the C and l1_ratio parameters\"\n",
            "/usr/local/lib/python3.7/dist-packages/sklearn/linear_model/_logistic.py:1484: UserWarning: Setting penalty='none' will ignore the C and l1_ratio parameters\n",
            "  \"Setting penalty='none' will ignore the C and l1_ratio parameters\"\n",
            "/usr/local/lib/python3.7/dist-packages/sklearn/linear_model/_logistic.py:1484: UserWarning: Setting penalty='none' will ignore the C and l1_ratio parameters\n",
            "  \"Setting penalty='none' will ignore the C and l1_ratio parameters\"\n",
            "/usr/local/lib/python3.7/dist-packages/sklearn/linear_model/_logistic.py:1484: UserWarning: Setting penalty='none' will ignore the C and l1_ratio parameters\n",
            "  \"Setting penalty='none' will ignore the C and l1_ratio parameters\"\n",
            "/usr/local/lib/python3.7/dist-packages/sklearn/linear_model/_logistic.py:1484: UserWarning: Setting penalty='none' will ignore the C and l1_ratio parameters\n",
            "  \"Setting penalty='none' will ignore the C and l1_ratio parameters\"\n",
            "/usr/local/lib/python3.7/dist-packages/sklearn/linear_model/_logistic.py:1484: UserWarning: Setting penalty='none' will ignore the C and l1_ratio parameters\n",
            "  \"Setting penalty='none' will ignore the C and l1_ratio parameters\"\n",
            "/usr/local/lib/python3.7/dist-packages/sklearn/linear_model/_logistic.py:1484: UserWarning: Setting penalty='none' will ignore the C and l1_ratio parameters\n",
            "  \"Setting penalty='none' will ignore the C and l1_ratio parameters\"\n",
            "/usr/local/lib/python3.7/dist-packages/sklearn/linear_model/_logistic.py:1484: UserWarning: Setting penalty='none' will ignore the C and l1_ratio parameters\n",
            "  \"Setting penalty='none' will ignore the C and l1_ratio parameters\"\n",
            "/usr/local/lib/python3.7/dist-packages/sklearn/linear_model/_logistic.py:1484: UserWarning: Setting penalty='none' will ignore the C and l1_ratio parameters\n",
            "  \"Setting penalty='none' will ignore the C and l1_ratio parameters\"\n",
            "/usr/local/lib/python3.7/dist-packages/sklearn/linear_model/_logistic.py:1484: UserWarning: Setting penalty='none' will ignore the C and l1_ratio parameters\n",
            "  \"Setting penalty='none' will ignore the C and l1_ratio parameters\"\n",
            "/usr/local/lib/python3.7/dist-packages/sklearn/linear_model/_logistic.py:1526: UserWarning: 'n_jobs' > 1 does not have any effect when 'solver' is set to 'liblinear'. Got 'n_jobs' = 2.\n",
            "  \" = {}.\".format(effective_n_jobs(self.n_jobs))\n",
            "/usr/local/lib/python3.7/dist-packages/sklearn/linear_model/_logistic.py:1526: UserWarning: 'n_jobs' > 1 does not have any effect when 'solver' is set to 'liblinear'. Got 'n_jobs' = 2.\n",
            "  \" = {}.\".format(effective_n_jobs(self.n_jobs))\n",
            "/usr/local/lib/python3.7/dist-packages/sklearn/linear_model/_logistic.py:1526: UserWarning: 'n_jobs' > 1 does not have any effect when 'solver' is set to 'liblinear'. Got 'n_jobs' = 2.\n",
            "  \" = {}.\".format(effective_n_jobs(self.n_jobs))\n",
            "/usr/local/lib/python3.7/dist-packages/sklearn/linear_model/_logistic.py:1526: UserWarning: 'n_jobs' > 1 does not have any effect when 'solver' is set to 'liblinear'. Got 'n_jobs' = 2.\n",
            "  \" = {}.\".format(effective_n_jobs(self.n_jobs))\n",
            "/usr/local/lib/python3.7/dist-packages/sklearn/linear_model/_logistic.py:1526: UserWarning: 'n_jobs' > 1 does not have any effect when 'solver' is set to 'liblinear'. Got 'n_jobs' = 2.\n",
            "  \" = {}.\".format(effective_n_jobs(self.n_jobs))\n",
            "/usr/local/lib/python3.7/dist-packages/sklearn/linear_model/_logistic.py:1526: UserWarning: 'n_jobs' > 1 does not have any effect when 'solver' is set to 'liblinear'. Got 'n_jobs' = 2.\n",
            "  \" = {}.\".format(effective_n_jobs(self.n_jobs))\n",
            "/usr/local/lib/python3.7/dist-packages/sklearn/linear_model/_logistic.py:1526: UserWarning: 'n_jobs' > 1 does not have any effect when 'solver' is set to 'liblinear'. Got 'n_jobs' = 2.\n",
            "  \" = {}.\".format(effective_n_jobs(self.n_jobs))\n",
            "/usr/local/lib/python3.7/dist-packages/sklearn/linear_model/_logistic.py:1526: UserWarning: 'n_jobs' > 1 does not have any effect when 'solver' is set to 'liblinear'. Got 'n_jobs' = 2.\n",
            "  \" = {}.\".format(effective_n_jobs(self.n_jobs))\n",
            "/usr/local/lib/python3.7/dist-packages/sklearn/linear_model/_logistic.py:1526: UserWarning: 'n_jobs' > 1 does not have any effect when 'solver' is set to 'liblinear'. Got 'n_jobs' = 2.\n",
            "  \" = {}.\".format(effective_n_jobs(self.n_jobs))\n",
            "/usr/local/lib/python3.7/dist-packages/sklearn/linear_model/_logistic.py:1526: UserWarning: 'n_jobs' > 1 does not have any effect when 'solver' is set to 'liblinear'. Got 'n_jobs' = 2.\n",
            "  \" = {}.\".format(effective_n_jobs(self.n_jobs))\n",
            "/usr/local/lib/python3.7/dist-packages/sklearn/linear_model/_logistic.py:1484: UserWarning: Setting penalty='none' will ignore the C and l1_ratio parameters\n",
            "  \"Setting penalty='none' will ignore the C and l1_ratio parameters\"\n",
            "/usr/local/lib/python3.7/dist-packages/sklearn/linear_model/_logistic.py:1484: UserWarning: Setting penalty='none' will ignore the C and l1_ratio parameters\n",
            "  \"Setting penalty='none' will ignore the C and l1_ratio parameters\"\n",
            "/usr/local/lib/python3.7/dist-packages/sklearn/linear_model/_logistic.py:1484: UserWarning: Setting penalty='none' will ignore the C and l1_ratio parameters\n",
            "  \"Setting penalty='none' will ignore the C and l1_ratio parameters\"\n",
            "/usr/local/lib/python3.7/dist-packages/sklearn/linear_model/_logistic.py:1484: UserWarning: Setting penalty='none' will ignore the C and l1_ratio parameters\n",
            "  \"Setting penalty='none' will ignore the C and l1_ratio parameters\"\n",
            "/usr/local/lib/python3.7/dist-packages/sklearn/linear_model/_logistic.py:1484: UserWarning: Setting penalty='none' will ignore the C and l1_ratio parameters\n",
            "  \"Setting penalty='none' will ignore the C and l1_ratio parameters\"\n",
            "/usr/local/lib/python3.7/dist-packages/sklearn/linear_model/_logistic.py:1484: UserWarning: Setting penalty='none' will ignore the C and l1_ratio parameters\n",
            "  \"Setting penalty='none' will ignore the C and l1_ratio parameters\"\n",
            "/usr/local/lib/python3.7/dist-packages/sklearn/linear_model/_logistic.py:1484: UserWarning: Setting penalty='none' will ignore the C and l1_ratio parameters\n",
            "  \"Setting penalty='none' will ignore the C and l1_ratio parameters\"\n",
            "/usr/local/lib/python3.7/dist-packages/sklearn/linear_model/_logistic.py:1484: UserWarning: Setting penalty='none' will ignore the C and l1_ratio parameters\n",
            "  \"Setting penalty='none' will ignore the C and l1_ratio parameters\"\n",
            "/usr/local/lib/python3.7/dist-packages/sklearn/linear_model/_logistic.py:1484: UserWarning: Setting penalty='none' will ignore the C and l1_ratio parameters\n",
            "  \"Setting penalty='none' will ignore the C and l1_ratio parameters\"\n",
            "/usr/local/lib/python3.7/dist-packages/sklearn/linear_model/_logistic.py:1484: UserWarning: Setting penalty='none' will ignore the C and l1_ratio parameters\n",
            "  \"Setting penalty='none' will ignore the C and l1_ratio parameters\"\n",
            "/usr/local/lib/python3.7/dist-packages/sklearn/linear_model/_logistic.py:1526: UserWarning: 'n_jobs' > 1 does not have any effect when 'solver' is set to 'liblinear'. Got 'n_jobs' = 2.\n",
            "  \" = {}.\".format(effective_n_jobs(self.n_jobs))\n",
            "/usr/local/lib/python3.7/dist-packages/sklearn/linear_model/_logistic.py:1526: UserWarning: 'n_jobs' > 1 does not have any effect when 'solver' is set to 'liblinear'. Got 'n_jobs' = 2.\n",
            "  \" = {}.\".format(effective_n_jobs(self.n_jobs))\n",
            "/usr/local/lib/python3.7/dist-packages/sklearn/linear_model/_logistic.py:1526: UserWarning: 'n_jobs' > 1 does not have any effect when 'solver' is set to 'liblinear'. Got 'n_jobs' = 2.\n",
            "  \" = {}.\".format(effective_n_jobs(self.n_jobs))\n",
            "/usr/local/lib/python3.7/dist-packages/sklearn/linear_model/_logistic.py:1526: UserWarning: 'n_jobs' > 1 does not have any effect when 'solver' is set to 'liblinear'. Got 'n_jobs' = 2.\n",
            "  \" = {}.\".format(effective_n_jobs(self.n_jobs))\n",
            "/usr/local/lib/python3.7/dist-packages/sklearn/linear_model/_logistic.py:1526: UserWarning: 'n_jobs' > 1 does not have any effect when 'solver' is set to 'liblinear'. Got 'n_jobs' = 2.\n",
            "  \" = {}.\".format(effective_n_jobs(self.n_jobs))\n",
            "/usr/local/lib/python3.7/dist-packages/sklearn/linear_model/_logistic.py:1526: UserWarning: 'n_jobs' > 1 does not have any effect when 'solver' is set to 'liblinear'. Got 'n_jobs' = 2.\n",
            "  \" = {}.\".format(effective_n_jobs(self.n_jobs))\n",
            "/usr/local/lib/python3.7/dist-packages/sklearn/linear_model/_logistic.py:1526: UserWarning: 'n_jobs' > 1 does not have any effect when 'solver' is set to 'liblinear'. Got 'n_jobs' = 2.\n",
            "  \" = {}.\".format(effective_n_jobs(self.n_jobs))\n",
            "/usr/local/lib/python3.7/dist-packages/sklearn/linear_model/_logistic.py:1526: UserWarning: 'n_jobs' > 1 does not have any effect when 'solver' is set to 'liblinear'. Got 'n_jobs' = 2.\n",
            "  \" = {}.\".format(effective_n_jobs(self.n_jobs))\n",
            "/usr/local/lib/python3.7/dist-packages/sklearn/linear_model/_logistic.py:1526: UserWarning: 'n_jobs' > 1 does not have any effect when 'solver' is set to 'liblinear'. Got 'n_jobs' = 2.\n",
            "  \" = {}.\".format(effective_n_jobs(self.n_jobs))\n",
            "/usr/local/lib/python3.7/dist-packages/sklearn/linear_model/_logistic.py:1526: UserWarning: 'n_jobs' > 1 does not have any effect when 'solver' is set to 'liblinear'. Got 'n_jobs' = 2.\n",
            "  \" = {}.\".format(effective_n_jobs(self.n_jobs))\n",
            "/usr/local/lib/python3.7/dist-packages/sklearn/linear_model/_logistic.py:1484: UserWarning: Setting penalty='none' will ignore the C and l1_ratio parameters\n",
            "  \"Setting penalty='none' will ignore the C and l1_ratio parameters\"\n",
            "/usr/local/lib/python3.7/dist-packages/sklearn/linear_model/_logistic.py:1484: UserWarning: Setting penalty='none' will ignore the C and l1_ratio parameters\n",
            "  \"Setting penalty='none' will ignore the C and l1_ratio parameters\"\n",
            "/usr/local/lib/python3.7/dist-packages/sklearn/linear_model/_logistic.py:1484: UserWarning: Setting penalty='none' will ignore the C and l1_ratio parameters\n",
            "  \"Setting penalty='none' will ignore the C and l1_ratio parameters\"\n",
            "/usr/local/lib/python3.7/dist-packages/sklearn/linear_model/_logistic.py:1484: UserWarning: Setting penalty='none' will ignore the C and l1_ratio parameters\n",
            "  \"Setting penalty='none' will ignore the C and l1_ratio parameters\"\n",
            "/usr/local/lib/python3.7/dist-packages/sklearn/linear_model/_logistic.py:1484: UserWarning: Setting penalty='none' will ignore the C and l1_ratio parameters\n",
            "  \"Setting penalty='none' will ignore the C and l1_ratio parameters\"\n",
            "/usr/local/lib/python3.7/dist-packages/sklearn/linear_model/_logistic.py:1484: UserWarning: Setting penalty='none' will ignore the C and l1_ratio parameters\n",
            "  \"Setting penalty='none' will ignore the C and l1_ratio parameters\"\n",
            "/usr/local/lib/python3.7/dist-packages/sklearn/linear_model/_logistic.py:1484: UserWarning: Setting penalty='none' will ignore the C and l1_ratio parameters\n",
            "  \"Setting penalty='none' will ignore the C and l1_ratio parameters\"\n",
            "/usr/local/lib/python3.7/dist-packages/sklearn/linear_model/_logistic.py:1484: UserWarning: Setting penalty='none' will ignore the C and l1_ratio parameters\n",
            "  \"Setting penalty='none' will ignore the C and l1_ratio parameters\"\n",
            "/usr/local/lib/python3.7/dist-packages/sklearn/linear_model/_logistic.py:1484: UserWarning: Setting penalty='none' will ignore the C and l1_ratio parameters\n",
            "  \"Setting penalty='none' will ignore the C and l1_ratio parameters\"\n",
            "/usr/local/lib/python3.7/dist-packages/sklearn/linear_model/_logistic.py:1484: UserWarning: Setting penalty='none' will ignore the C and l1_ratio parameters\n",
            "  \"Setting penalty='none' will ignore the C and l1_ratio parameters\"\n",
            "/usr/local/lib/python3.7/dist-packages/sklearn/linear_model/_logistic.py:1526: UserWarning: 'n_jobs' > 1 does not have any effect when 'solver' is set to 'liblinear'. Got 'n_jobs' = 2.\n",
            "  \" = {}.\".format(effective_n_jobs(self.n_jobs))\n",
            "/usr/local/lib/python3.7/dist-packages/sklearn/linear_model/_logistic.py:1526: UserWarning: 'n_jobs' > 1 does not have any effect when 'solver' is set to 'liblinear'. Got 'n_jobs' = 2.\n",
            "  \" = {}.\".format(effective_n_jobs(self.n_jobs))\n",
            "/usr/local/lib/python3.7/dist-packages/sklearn/linear_model/_logistic.py:1526: UserWarning: 'n_jobs' > 1 does not have any effect when 'solver' is set to 'liblinear'. Got 'n_jobs' = 2.\n",
            "  \" = {}.\".format(effective_n_jobs(self.n_jobs))\n",
            "/usr/local/lib/python3.7/dist-packages/sklearn/linear_model/_logistic.py:1526: UserWarning: 'n_jobs' > 1 does not have any effect when 'solver' is set to 'liblinear'. Got 'n_jobs' = 2.\n",
            "  \" = {}.\".format(effective_n_jobs(self.n_jobs))\n",
            "/usr/local/lib/python3.7/dist-packages/sklearn/linear_model/_logistic.py:1526: UserWarning: 'n_jobs' > 1 does not have any effect when 'solver' is set to 'liblinear'. Got 'n_jobs' = 2.\n",
            "  \" = {}.\".format(effective_n_jobs(self.n_jobs))\n",
            "/usr/local/lib/python3.7/dist-packages/sklearn/linear_model/_logistic.py:1526: UserWarning: 'n_jobs' > 1 does not have any effect when 'solver' is set to 'liblinear'. Got 'n_jobs' = 2.\n",
            "  \" = {}.\".format(effective_n_jobs(self.n_jobs))\n",
            "/usr/local/lib/python3.7/dist-packages/sklearn/linear_model/_logistic.py:1526: UserWarning: 'n_jobs' > 1 does not have any effect when 'solver' is set to 'liblinear'. Got 'n_jobs' = 2.\n",
            "  \" = {}.\".format(effective_n_jobs(self.n_jobs))\n",
            "/usr/local/lib/python3.7/dist-packages/sklearn/linear_model/_logistic.py:1526: UserWarning: 'n_jobs' > 1 does not have any effect when 'solver' is set to 'liblinear'. Got 'n_jobs' = 2.\n",
            "  \" = {}.\".format(effective_n_jobs(self.n_jobs))\n",
            "/usr/local/lib/python3.7/dist-packages/sklearn/linear_model/_logistic.py:1526: UserWarning: 'n_jobs' > 1 does not have any effect when 'solver' is set to 'liblinear'. Got 'n_jobs' = 2.\n",
            "  \" = {}.\".format(effective_n_jobs(self.n_jobs))\n",
            "/usr/local/lib/python3.7/dist-packages/sklearn/linear_model/_logistic.py:1526: UserWarning: 'n_jobs' > 1 does not have any effect when 'solver' is set to 'liblinear'. Got 'n_jobs' = 2.\n",
            "  \" = {}.\".format(effective_n_jobs(self.n_jobs))\n",
            "/usr/local/lib/python3.7/dist-packages/sklearn/linear_model/_logistic.py:1484: UserWarning: Setting penalty='none' will ignore the C and l1_ratio parameters\n",
            "  \"Setting penalty='none' will ignore the C and l1_ratio parameters\"\n",
            "/usr/local/lib/python3.7/dist-packages/sklearn/linear_model/_logistic.py:1484: UserWarning: Setting penalty='none' will ignore the C and l1_ratio parameters\n",
            "  \"Setting penalty='none' will ignore the C and l1_ratio parameters\"\n",
            "/usr/local/lib/python3.7/dist-packages/sklearn/linear_model/_logistic.py:1484: UserWarning: Setting penalty='none' will ignore the C and l1_ratio parameters\n",
            "  \"Setting penalty='none' will ignore the C and l1_ratio parameters\"\n",
            "/usr/local/lib/python3.7/dist-packages/sklearn/linear_model/_logistic.py:1484: UserWarning: Setting penalty='none' will ignore the C and l1_ratio parameters\n",
            "  \"Setting penalty='none' will ignore the C and l1_ratio parameters\"\n",
            "/usr/local/lib/python3.7/dist-packages/sklearn/linear_model/_logistic.py:1484: UserWarning: Setting penalty='none' will ignore the C and l1_ratio parameters\n",
            "  \"Setting penalty='none' will ignore the C and l1_ratio parameters\"\n",
            "/usr/local/lib/python3.7/dist-packages/sklearn/linear_model/_logistic.py:1484: UserWarning: Setting penalty='none' will ignore the C and l1_ratio parameters\n",
            "  \"Setting penalty='none' will ignore the C and l1_ratio parameters\"\n",
            "/usr/local/lib/python3.7/dist-packages/sklearn/linear_model/_logistic.py:1484: UserWarning: Setting penalty='none' will ignore the C and l1_ratio parameters\n",
            "  \"Setting penalty='none' will ignore the C and l1_ratio parameters\"\n",
            "/usr/local/lib/python3.7/dist-packages/sklearn/linear_model/_logistic.py:1484: UserWarning: Setting penalty='none' will ignore the C and l1_ratio parameters\n",
            "  \"Setting penalty='none' will ignore the C and l1_ratio parameters\"\n",
            "/usr/local/lib/python3.7/dist-packages/sklearn/linear_model/_logistic.py:1484: UserWarning: Setting penalty='none' will ignore the C and l1_ratio parameters\n",
            "  \"Setting penalty='none' will ignore the C and l1_ratio parameters\"\n",
            "/usr/local/lib/python3.7/dist-packages/sklearn/linear_model/_logistic.py:1484: UserWarning: Setting penalty='none' will ignore the C and l1_ratio parameters\n",
            "  \"Setting penalty='none' will ignore the C and l1_ratio parameters\"\n",
            "/usr/local/lib/python3.7/dist-packages/sklearn/linear_model/_logistic.py:1526: UserWarning: 'n_jobs' > 1 does not have any effect when 'solver' is set to 'liblinear'. Got 'n_jobs' = 2.\n",
            "  \" = {}.\".format(effective_n_jobs(self.n_jobs))\n",
            "/usr/local/lib/python3.7/dist-packages/sklearn/linear_model/_logistic.py:1526: UserWarning: 'n_jobs' > 1 does not have any effect when 'solver' is set to 'liblinear'. Got 'n_jobs' = 2.\n",
            "  \" = {}.\".format(effective_n_jobs(self.n_jobs))\n",
            "/usr/local/lib/python3.7/dist-packages/sklearn/linear_model/_logistic.py:1526: UserWarning: 'n_jobs' > 1 does not have any effect when 'solver' is set to 'liblinear'. Got 'n_jobs' = 2.\n",
            "  \" = {}.\".format(effective_n_jobs(self.n_jobs))\n",
            "/usr/local/lib/python3.7/dist-packages/sklearn/linear_model/_logistic.py:1526: UserWarning: 'n_jobs' > 1 does not have any effect when 'solver' is set to 'liblinear'. Got 'n_jobs' = 2.\n",
            "  \" = {}.\".format(effective_n_jobs(self.n_jobs))\n",
            "/usr/local/lib/python3.7/dist-packages/sklearn/linear_model/_logistic.py:1526: UserWarning: 'n_jobs' > 1 does not have any effect when 'solver' is set to 'liblinear'. Got 'n_jobs' = 2.\n",
            "  \" = {}.\".format(effective_n_jobs(self.n_jobs))\n",
            "/usr/local/lib/python3.7/dist-packages/sklearn/linear_model/_logistic.py:1526: UserWarning: 'n_jobs' > 1 does not have any effect when 'solver' is set to 'liblinear'. Got 'n_jobs' = 2.\n",
            "  \" = {}.\".format(effective_n_jobs(self.n_jobs))\n",
            "/usr/local/lib/python3.7/dist-packages/sklearn/linear_model/_logistic.py:1526: UserWarning: 'n_jobs' > 1 does not have any effect when 'solver' is set to 'liblinear'. Got 'n_jobs' = 2.\n",
            "  \" = {}.\".format(effective_n_jobs(self.n_jobs))\n",
            "/usr/local/lib/python3.7/dist-packages/sklearn/linear_model/_logistic.py:1526: UserWarning: 'n_jobs' > 1 does not have any effect when 'solver' is set to 'liblinear'. Got 'n_jobs' = 2.\n",
            "  \" = {}.\".format(effective_n_jobs(self.n_jobs))\n",
            "/usr/local/lib/python3.7/dist-packages/sklearn/linear_model/_logistic.py:1526: UserWarning: 'n_jobs' > 1 does not have any effect when 'solver' is set to 'liblinear'. Got 'n_jobs' = 2.\n",
            "  \" = {}.\".format(effective_n_jobs(self.n_jobs))\n",
            "/usr/local/lib/python3.7/dist-packages/sklearn/linear_model/_logistic.py:1526: UserWarning: 'n_jobs' > 1 does not have any effect when 'solver' is set to 'liblinear'. Got 'n_jobs' = 2.\n",
            "  \" = {}.\".format(effective_n_jobs(self.n_jobs))\n",
            "/usr/local/lib/python3.7/dist-packages/sklearn/linear_model/_logistic.py:1526: UserWarning: 'n_jobs' > 1 does not have any effect when 'solver' is set to 'liblinear'. Got 'n_jobs' = 2.\n",
            "  \" = {}.\".format(effective_n_jobs(self.n_jobs))\n",
            "/usr/local/lib/python3.7/dist-packages/sklearn/linear_model/_logistic.py:1526: UserWarning: 'n_jobs' > 1 does not have any effect when 'solver' is set to 'liblinear'. Got 'n_jobs' = 2.\n",
            "  \" = {}.\".format(effective_n_jobs(self.n_jobs))\n",
            "/usr/local/lib/python3.7/dist-packages/sklearn/linear_model/_logistic.py:1526: UserWarning: 'n_jobs' > 1 does not have any effect when 'solver' is set to 'liblinear'. Got 'n_jobs' = 2.\n",
            "  \" = {}.\".format(effective_n_jobs(self.n_jobs))\n",
            "/usr/local/lib/python3.7/dist-packages/sklearn/linear_model/_logistic.py:1526: UserWarning: 'n_jobs' > 1 does not have any effect when 'solver' is set to 'liblinear'. Got 'n_jobs' = 2.\n",
            "  \" = {}.\".format(effective_n_jobs(self.n_jobs))\n",
            "/usr/local/lib/python3.7/dist-packages/sklearn/linear_model/_logistic.py:1526: UserWarning: 'n_jobs' > 1 does not have any effect when 'solver' is set to 'liblinear'. Got 'n_jobs' = 2.\n",
            "  \" = {}.\".format(effective_n_jobs(self.n_jobs))\n",
            "/usr/local/lib/python3.7/dist-packages/sklearn/linear_model/_logistic.py:1526: UserWarning: 'n_jobs' > 1 does not have any effect when 'solver' is set to 'liblinear'. Got 'n_jobs' = 2.\n",
            "  \" = {}.\".format(effective_n_jobs(self.n_jobs))\n",
            "/usr/local/lib/python3.7/dist-packages/sklearn/linear_model/_logistic.py:1526: UserWarning: 'n_jobs' > 1 does not have any effect when 'solver' is set to 'liblinear'. Got 'n_jobs' = 2.\n",
            "  \" = {}.\".format(effective_n_jobs(self.n_jobs))\n",
            "/usr/local/lib/python3.7/dist-packages/sklearn/linear_model/_logistic.py:1526: UserWarning: 'n_jobs' > 1 does not have any effect when 'solver' is set to 'liblinear'. Got 'n_jobs' = 2.\n",
            "  \" = {}.\".format(effective_n_jobs(self.n_jobs))\n",
            "/usr/local/lib/python3.7/dist-packages/sklearn/linear_model/_logistic.py:1526: UserWarning: 'n_jobs' > 1 does not have any effect when 'solver' is set to 'liblinear'. Got 'n_jobs' = 2.\n",
            "  \" = {}.\".format(effective_n_jobs(self.n_jobs))\n",
            "/usr/local/lib/python3.7/dist-packages/sklearn/linear_model/_logistic.py:1526: UserWarning: 'n_jobs' > 1 does not have any effect when 'solver' is set to 'liblinear'. Got 'n_jobs' = 2.\n",
            "  \" = {}.\".format(effective_n_jobs(self.n_jobs))\n",
            "/usr/local/lib/python3.7/dist-packages/sklearn/linear_model/_logistic.py:1484: UserWarning: Setting penalty='none' will ignore the C and l1_ratio parameters\n",
            "  \"Setting penalty='none' will ignore the C and l1_ratio parameters\"\n",
            "/usr/local/lib/python3.7/dist-packages/sklearn/linear_model/_logistic.py:1484: UserWarning: Setting penalty='none' will ignore the C and l1_ratio parameters\n",
            "  \"Setting penalty='none' will ignore the C and l1_ratio parameters\"\n",
            "/usr/local/lib/python3.7/dist-packages/sklearn/linear_model/_logistic.py:1484: UserWarning: Setting penalty='none' will ignore the C and l1_ratio parameters\n",
            "  \"Setting penalty='none' will ignore the C and l1_ratio parameters\"\n",
            "/usr/local/lib/python3.7/dist-packages/sklearn/linear_model/_logistic.py:1484: UserWarning: Setting penalty='none' will ignore the C and l1_ratio parameters\n",
            "  \"Setting penalty='none' will ignore the C and l1_ratio parameters\"\n",
            "/usr/local/lib/python3.7/dist-packages/sklearn/linear_model/_logistic.py:1484: UserWarning: Setting penalty='none' will ignore the C and l1_ratio parameters\n",
            "  \"Setting penalty='none' will ignore the C and l1_ratio parameters\"\n",
            "/usr/local/lib/python3.7/dist-packages/sklearn/linear_model/_logistic.py:1484: UserWarning: Setting penalty='none' will ignore the C and l1_ratio parameters\n",
            "  \"Setting penalty='none' will ignore the C and l1_ratio parameters\"\n",
            "/usr/local/lib/python3.7/dist-packages/sklearn/linear_model/_logistic.py:1484: UserWarning: Setting penalty='none' will ignore the C and l1_ratio parameters\n",
            "  \"Setting penalty='none' will ignore the C and l1_ratio parameters\"\n",
            "/usr/local/lib/python3.7/dist-packages/sklearn/linear_model/_logistic.py:1484: UserWarning: Setting penalty='none' will ignore the C and l1_ratio parameters\n",
            "  \"Setting penalty='none' will ignore the C and l1_ratio parameters\"\n",
            "/usr/local/lib/python3.7/dist-packages/sklearn/linear_model/_logistic.py:1484: UserWarning: Setting penalty='none' will ignore the C and l1_ratio parameters\n",
            "  \"Setting penalty='none' will ignore the C and l1_ratio parameters\"\n",
            "/usr/local/lib/python3.7/dist-packages/sklearn/linear_model/_logistic.py:1484: UserWarning: Setting penalty='none' will ignore the C and l1_ratio parameters\n",
            "  \"Setting penalty='none' will ignore the C and l1_ratio parameters\"\n",
            "/usr/local/lib/python3.7/dist-packages/sklearn/linear_model/_logistic.py:1526: UserWarning: 'n_jobs' > 1 does not have any effect when 'solver' is set to 'liblinear'. Got 'n_jobs' = 2.\n",
            "  \" = {}.\".format(effective_n_jobs(self.n_jobs))\n",
            "/usr/local/lib/python3.7/dist-packages/sklearn/linear_model/_logistic.py:1526: UserWarning: 'n_jobs' > 1 does not have any effect when 'solver' is set to 'liblinear'. Got 'n_jobs' = 2.\n",
            "  \" = {}.\".format(effective_n_jobs(self.n_jobs))\n",
            "/usr/local/lib/python3.7/dist-packages/sklearn/linear_model/_logistic.py:1526: UserWarning: 'n_jobs' > 1 does not have any effect when 'solver' is set to 'liblinear'. Got 'n_jobs' = 2.\n",
            "  \" = {}.\".format(effective_n_jobs(self.n_jobs))\n",
            "/usr/local/lib/python3.7/dist-packages/sklearn/linear_model/_logistic.py:1526: UserWarning: 'n_jobs' > 1 does not have any effect when 'solver' is set to 'liblinear'. Got 'n_jobs' = 2.\n",
            "  \" = {}.\".format(effective_n_jobs(self.n_jobs))\n",
            "/usr/local/lib/python3.7/dist-packages/sklearn/linear_model/_logistic.py:1526: UserWarning: 'n_jobs' > 1 does not have any effect when 'solver' is set to 'liblinear'. Got 'n_jobs' = 2.\n",
            "  \" = {}.\".format(effective_n_jobs(self.n_jobs))\n",
            "/usr/local/lib/python3.7/dist-packages/sklearn/linear_model/_logistic.py:1526: UserWarning: 'n_jobs' > 1 does not have any effect when 'solver' is set to 'liblinear'. Got 'n_jobs' = 2.\n",
            "  \" = {}.\".format(effective_n_jobs(self.n_jobs))\n",
            "/usr/local/lib/python3.7/dist-packages/sklearn/linear_model/_logistic.py:1526: UserWarning: 'n_jobs' > 1 does not have any effect when 'solver' is set to 'liblinear'. Got 'n_jobs' = 2.\n",
            "  \" = {}.\".format(effective_n_jobs(self.n_jobs))\n",
            "/usr/local/lib/python3.7/dist-packages/sklearn/linear_model/_logistic.py:1526: UserWarning: 'n_jobs' > 1 does not have any effect when 'solver' is set to 'liblinear'. Got 'n_jobs' = 2.\n",
            "  \" = {}.\".format(effective_n_jobs(self.n_jobs))\n",
            "/usr/local/lib/python3.7/dist-packages/sklearn/linear_model/_logistic.py:1526: UserWarning: 'n_jobs' > 1 does not have any effect when 'solver' is set to 'liblinear'. Got 'n_jobs' = 2.\n",
            "  \" = {}.\".format(effective_n_jobs(self.n_jobs))\n",
            "/usr/local/lib/python3.7/dist-packages/sklearn/linear_model/_logistic.py:1526: UserWarning: 'n_jobs' > 1 does not have any effect when 'solver' is set to 'liblinear'. Got 'n_jobs' = 2.\n",
            "  \" = {}.\".format(effective_n_jobs(self.n_jobs))\n",
            "/usr/local/lib/python3.7/dist-packages/sklearn/linear_model/_logistic.py:1484: UserWarning: Setting penalty='none' will ignore the C and l1_ratio parameters\n",
            "  \"Setting penalty='none' will ignore the C and l1_ratio parameters\"\n",
            "/usr/local/lib/python3.7/dist-packages/sklearn/linear_model/_logistic.py:1484: UserWarning: Setting penalty='none' will ignore the C and l1_ratio parameters\n",
            "  \"Setting penalty='none' will ignore the C and l1_ratio parameters\"\n",
            "/usr/local/lib/python3.7/dist-packages/sklearn/linear_model/_logistic.py:1484: UserWarning: Setting penalty='none' will ignore the C and l1_ratio parameters\n",
            "  \"Setting penalty='none' will ignore the C and l1_ratio parameters\"\n",
            "/usr/local/lib/python3.7/dist-packages/sklearn/linear_model/_logistic.py:1484: UserWarning: Setting penalty='none' will ignore the C and l1_ratio parameters\n",
            "  \"Setting penalty='none' will ignore the C and l1_ratio parameters\"\n",
            "/usr/local/lib/python3.7/dist-packages/sklearn/linear_model/_logistic.py:1484: UserWarning: Setting penalty='none' will ignore the C and l1_ratio parameters\n",
            "  \"Setting penalty='none' will ignore the C and l1_ratio parameters\"\n",
            "/usr/local/lib/python3.7/dist-packages/sklearn/linear_model/_logistic.py:1484: UserWarning: Setting penalty='none' will ignore the C and l1_ratio parameters\n",
            "  \"Setting penalty='none' will ignore the C and l1_ratio parameters\"\n",
            "/usr/local/lib/python3.7/dist-packages/sklearn/linear_model/_logistic.py:1484: UserWarning: Setting penalty='none' will ignore the C and l1_ratio parameters\n",
            "  \"Setting penalty='none' will ignore the C and l1_ratio parameters\"\n",
            "/usr/local/lib/python3.7/dist-packages/sklearn/linear_model/_logistic.py:1484: UserWarning: Setting penalty='none' will ignore the C and l1_ratio parameters\n",
            "  \"Setting penalty='none' will ignore the C and l1_ratio parameters\"\n",
            "/usr/local/lib/python3.7/dist-packages/sklearn/linear_model/_logistic.py:1484: UserWarning: Setting penalty='none' will ignore the C and l1_ratio parameters\n",
            "  \"Setting penalty='none' will ignore the C and l1_ratio parameters\"\n",
            "/usr/local/lib/python3.7/dist-packages/sklearn/linear_model/_logistic.py:1484: UserWarning: Setting penalty='none' will ignore the C and l1_ratio parameters\n",
            "  \"Setting penalty='none' will ignore the C and l1_ratio parameters\"\n",
            "/usr/local/lib/python3.7/dist-packages/sklearn/model_selection/_validation.py:372: FitFailedWarning: \n",
            "120 fits failed out of a total of 360.\n",
            "The score on these train-test partitions for these parameters will be set to nan.\n",
            "If these failures are not expected, you can try to debug them by setting error_score='raise'.\n",
            "\n",
            "Below are more details about the failures:\n",
            "--------------------------------------------------------------------------------\n",
            "40 fits failed with the following error:\n",
            "Traceback (most recent call last):\n",
            "  File \"/usr/local/lib/python3.7/dist-packages/sklearn/model_selection/_validation.py\", line 680, in _fit_and_score\n",
            "    estimator.fit(X_train, y_train, **fit_params)\n",
            "  File \"/usr/local/lib/python3.7/dist-packages/sklearn/linear_model/_logistic.py\", line 1461, in fit\n",
            "    solver = _check_solver(self.solver, self.penalty, self.dual)\n",
            "  File \"/usr/local/lib/python3.7/dist-packages/sklearn/linear_model/_logistic.py\", line 449, in _check_solver\n",
            "    % (solver, penalty)\n",
            "ValueError: Solver newton-cg supports only 'l2' or 'none' penalties, got l1 penalty.\n",
            "\n",
            "--------------------------------------------------------------------------------\n",
            "40 fits failed with the following error:\n",
            "Traceback (most recent call last):\n",
            "  File \"/usr/local/lib/python3.7/dist-packages/sklearn/model_selection/_validation.py\", line 680, in _fit_and_score\n",
            "    estimator.fit(X_train, y_train, **fit_params)\n",
            "  File \"/usr/local/lib/python3.7/dist-packages/sklearn/linear_model/_logistic.py\", line 1461, in fit\n",
            "    solver = _check_solver(self.solver, self.penalty, self.dual)\n",
            "  File \"/usr/local/lib/python3.7/dist-packages/sklearn/linear_model/_logistic.py\", line 449, in _check_solver\n",
            "    % (solver, penalty)\n",
            "ValueError: Solver lbfgs supports only 'l2' or 'none' penalties, got l1 penalty.\n",
            "\n",
            "--------------------------------------------------------------------------------\n",
            "40 fits failed with the following error:\n",
            "Traceback (most recent call last):\n",
            "  File \"/usr/local/lib/python3.7/dist-packages/sklearn/model_selection/_validation.py\", line 680, in _fit_and_score\n",
            "    estimator.fit(X_train, y_train, **fit_params)\n",
            "  File \"/usr/local/lib/python3.7/dist-packages/sklearn/linear_model/_logistic.py\", line 1461, in fit\n",
            "    solver = _check_solver(self.solver, self.penalty, self.dual)\n",
            "  File \"/usr/local/lib/python3.7/dist-packages/sklearn/linear_model/_logistic.py\", line 464, in _check_solver\n",
            "    raise ValueError(\"penalty='none' is not supported for the liblinear solver\")\n",
            "ValueError: penalty='none' is not supported for the liblinear solver\n",
            "\n",
            "  warnings.warn(some_fits_failed_message, FitFailedWarning)\n",
            "/usr/local/lib/python3.7/dist-packages/sklearn/model_selection/_search.py:972: UserWarning: One or more of the test scores are non-finite: [       nan        nan 0.49852826 0.54963228 0.54968782 0.71893659\n",
            " 0.85969023 0.85969023        nan        nan        nan 0.49852826\n",
            " 0.65391573 0.65391573 0.76287318 0.85969023 0.85969023        nan\n",
            "        nan        nan 0.49852826 0.79292328 0.79292328 0.79639512\n",
            " 0.85969023 0.85969023        nan        nan        nan 0.69021832\n",
            " 0.82555686 0.82558464 0.82561241 0.85969023 0.85969023        nan\n",
            "        nan        nan 0.83913793 0.85299682 0.8530246  0.85299682\n",
            " 0.85969023 0.85969023        nan        nan        nan 0.86096778\n",
            " 0.86005125 0.86002348 0.86005125 0.85969023 0.85969023        nan\n",
            "        nan        nan 0.86032903 0.8601346  0.8601346  0.8601346\n",
            " 0.85969023 0.85969023        nan        nan        nan 0.85969023\n",
            " 0.859718   0.859718   0.859718   0.85969023 0.85969023        nan]\n",
            "  category=UserWarning,\n",
            "/usr/local/lib/python3.7/dist-packages/sklearn/linear_model/_logistic.py:1526: UserWarning: 'n_jobs' > 1 does not have any effect when 'solver' is set to 'liblinear'. Got 'n_jobs' = 2.\n",
            "  \" = {}.\".format(effective_n_jobs(self.n_jobs))\n"
          ]
        }
      ]
    },
    {
      "cell_type": "code",
      "source": [
        "print(\"\\n Optimal parameters: \\n\", tfidf_clf.best_params_)\n",
        "print(\"\\n Maximum F1 score achieved: \\n\", tfidf_clf.best_score_)"
      ],
      "metadata": {
        "id": "pkZBH9-VKapZ",
        "colab": {
          "base_uri": "https://localhost:8080/"
        },
        "outputId": "b42673f7-7733-43fa-e389-447bcc447b47"
      },
      "execution_count": null,
      "outputs": [
        {
          "output_type": "stream",
          "name": "stdout",
          "text": [
            "\n",
            " Optimal parameters: \n",
            " {'C': 1, 'penalty': 'l1', 'solver': 'liblinear'}\n",
            "\n",
            " Maximum F1 score achieved: \n",
            " 0.8609677811341039\n"
          ]
        }
      ]
    },
    {
      "cell_type": "markdown",
      "source": [
        "Train the model using best hyperparameters"
      ],
      "metadata": {
        "id": "cTPhHHspIX_b"
      }
    },
    {
      "cell_type": "code",
      "source": [
        "tfidf_clf = LogisticRegression(C= 1, penalty= 'l1', solver= 'liblinear')\n",
        "tfidf_clf.fit(X_train_tfidf, Y_train_tfidf)"
      ],
      "metadata": {
        "id": "XG86gXQNIXg6",
        "colab": {
          "base_uri": "https://localhost:8080/"
        },
        "outputId": "25ad231f-7fe9-4582-d3f5-f07d80928b2c"
      },
      "execution_count": null,
      "outputs": [
        {
          "output_type": "execute_result",
          "data": {
            "text/plain": [
              "LogisticRegression(C=1, penalty='l1', solver='liblinear')"
            ]
          },
          "metadata": {},
          "execution_count": 56
        }
      ]
    },
    {
      "cell_type": "markdown",
      "source": [
        "**Predict using best hyperparameters**"
      ],
      "metadata": {
        "id": "c7QrXkyetpFj"
      }
    },
    {
      "cell_type": "code",
      "source": [
        "regression_with_tfidf = cross_validate(tfidf_clf, X_test_tfidf, Y_test_tfidf, scoring=scoring, cv=cv, n_jobs=-1)\n",
        "precision_tfidf = mean(regression_with_tfidf['test_prec_macro'])\n",
        "recall_tfidf = mean(regression_with_tfidf['test_rec_macro'])\n",
        "f1_tfidf = mean(regression_with_tfidf['test_f1_macro'])"
      ],
      "metadata": {
        "id": "6YTG9KyzGV0G"
      },
      "execution_count": null,
      "outputs": []
    },
    {
      "cell_type": "code",
      "source": [
        "# report performance\n",
        "print(\"PERFORMANCE METRICS with TF-IDF\\n\")\n",
        "print(f\"Precision: {precision_tfidf*100:.2f}\")\n",
        "print(f\"Recall: {recall_tfidf*100:.2f}\")\n",
        "print(f\"F1 Score: {f1_tfidf*100:.2f}\")"
      ],
      "metadata": {
        "id": "MWlcRaT9JApY",
        "colab": {
          "base_uri": "https://localhost:8080/"
        },
        "outputId": "ecd2558d-0265-4a78-b018-f9e78854e961"
      },
      "execution_count": null,
      "outputs": [
        {
          "output_type": "stream",
          "name": "stdout",
          "text": [
            "PERFORMANCE METRICS with TF-IDF\n",
            "\n",
            "Precision: 85.49\n",
            "Recall: 85.48\n",
            "F1 Score: 85.46\n"
          ]
        }
      ]
    },
    {
      "cell_type": "code",
      "source": [
        "Y_pred_tfidf = tfidf_clf.predict(X_test_tfidf)\n",
        "cf_matrix_tfidf = confusion_matrix(Y_test_tfidf,Y_pred_tfidf)\n",
        "plt_confusion_matrix(cf=cf_matrix_tfidf, title=\"Regression with TF-IDF\")"
      ],
      "metadata": {
        "id": "Z2HcY2IY2eLA",
        "colab": {
          "base_uri": "https://localhost:8080/"
        },
        "outputId": "7cbd6248-60ff-4326-bcdc-d110be38f622"
      },
      "execution_count": null,
      "outputs": [
        {
          "output_type": "display_data",
          "data": {
            "text/plain": [
              "<Figure size 864x576 with 2 Axes>"
            ],
            "image/png": "[encoded data removed]"
          },
          "metadata": {
            "needs_background": "light"
          }
        }
      ]
    },
    {
      "cell_type": "code",
      "source": [
        "l_regression_bow = [precision_bow, \n",
        "                    recall_bow, \n",
        "                    f1_bow]\n",
        "                    \n",
        "l_regression_tfidf = [precision_tfidf, \n",
        "                    recall_tfidf, \n",
        "                    f1_tfidf]\n",
        "\n",
        "l_regression_results = [l_regression_bow, l_regression_tfidf]\n",
        "l_regression_df = pd.DataFrame(l_regression_results,\n",
        "                      index = ['BoW', 'TF-IDF'],\n",
        "                      columns = ['Precision', 'Recall', 'F1-Score'])\n",
        "\n",
        "l_regression_df.style.set_caption(\"Logistic Regression Experiments\")\n",
        "l_regression_df.style"
      ],
      "metadata": {
        "id": "kzgE_drZv9UV",
        "colab": {
          "base_uri": "https://localhost:8080/"
        },
        "outputId": "1d8ae30d-fd4a-4e1c-9afb-f108e7e98478"
      },
      "execution_count": null,
      "outputs": [
        {
          "output_type": "execute_result",
          "data": {
            "text/plain": [
              "<pandas.io.formats.style.Styler at 0x7f5a65582e10>"
            ],
            "text/html": [
              "<style type=\"text/css\">\n",
              "</style>\n",
              "<table id=\"T_228b4_\" class=\"dataframe\">\n",
              "  <thead>\n",
              "    <tr>\n",
              "      <th class=\"blank level0\" >&nbsp;</th>\n",
              "      <th class=\"col_heading level0 col0\" >Precision</th>\n",
              "      <th class=\"col_heading level0 col1\" >Recall</th>\n",
              "      <th class=\"col_heading level0 col2\" >F1-Score</th>\n",
              "    </tr>\n",
              "  </thead>\n",
              "  <tbody>\n",
              "    <tr>\n",
              "      <th id=\"T_228b4_level0_row0\" class=\"row_heading level0 row0\" >BoW</th>\n",
              "      <td id=\"T_228b4_row0_col0\" class=\"data row0 col0\" >0.850107</td>\n",
              "      <td id=\"T_228b4_row0_col1\" class=\"data row0 col1\" >0.850051</td>\n",
              "      <td id=\"T_228b4_row0_col2\" class=\"data row0 col2\" >0.849904</td>\n",
              "    </tr>\n",
              "    <tr>\n",
              "      <th id=\"T_228b4_level0_row1\" class=\"row_heading level0 row1\" >TF-IDF</th>\n",
              "      <td id=\"T_228b4_row1_col0\" class=\"data row1 col0\" >0.854925</td>\n",
              "      <td id=\"T_228b4_row1_col1\" class=\"data row1 col1\" >0.854826</td>\n",
              "      <td id=\"T_228b4_row1_col2\" class=\"data row1 col2\" >0.854581</td>\n",
              "    </tr>\n",
              "  </tbody>\n",
              "</table>\n"
            ]
          },
          "metadata": {},
          "execution_count": 60
        }
      ]
    },
    {
      "cell_type": "markdown",
      "source": [
        "## **Summary**"
      ],
      "metadata": {
        "id": "IFgaW7jZQhdp"
      }
    },
    {
      "cell_type": "markdown",
      "source": [
        "For the classification I use logistic regression experimenting with the parameters solver, penalty, C.\n",
        "* **Solver**: The solver I experiment with are **newton-cg, lbfgs, liblinear**.\n",
        "I don’t use sag and saga, because the only benefit they have is faster convergence. The data aren’t too many and so there is no need for greater speed, while scores are more important to maximize.\n",
        "5\n",
        "* **Penalty**: As penalties I use the values **l1**, **l2**, **none**. Penalized logistic\n",
        "regression imposes a penalty to the logistic model for having too many\n",
        "variables. This results in shrinking the coefficients of the less contributive\n",
        "variables toward zero.\n",
        "* **C**: The C values i used are **0.00001, 0.0001, 0.001, 0.01, 0.1, 1, 10,\n",
        "100**. A high value of C tells the model to give more weight to the training\n",
        "data. A lower value of C will indicate the model to give complexity more\n",
        "weight at the cost of fitting the data\n",
        "\n",
        "I use GridSearchCV for finding the optimal parameters of Logistic Regression.\n",
        "As scoring metric I use the F1 score. Using grid search with the several combina￾tions of parameters I mentioned I received the warning that lbgfs didn’t converge\n",
        "in many cases, which is one of the solver’s drawback (it is unsafeguarded, it may\n",
        "not converge to anything). Another factor to take into consideration is scaling,\n",
        "but the most accepted idea is that bag-of-words, Tf-Idf should be left as are.\n",
        "So as to overcome this problem, I increased the parameter max iter, which is the maximum number of iterations\n",
        "taken for the solvers to converge to 500. Grid search result for **bag of words**\n",
        "showed that the best hyperparameters to use for logistic regression are **C: 0.1,\n",
        "penalty: l2, solver: lbfgs**. Although lbgfs uses estimation to the inverse\n",
        "Hessian matrix, which lead to relatively performing the best compared to other\n",
        "methods especially because it saves a lot of memory, it seem that this solver was\n",
        "better that the other solvers in maximizing the F1 score. Grid search result for\n",
        "**TF-IDF** showed that the best hyperparameters to use for logistic regression\n",
        "are **C: 1, penalty: l1, solver: liblinear**. Liblinear is recommended when\n",
        "you have high dimension dataset (recommended for solving large-scale classi￾fication problems). Furthermore,\n",
        "I use cross validation, to improve model prediction. Finally, we conclude that TF-IDF method with the best hyperparameters\n",
        "is slightly better that Bag Of Words.\n"
      ],
      "metadata": {
        "id": "OHfd_g4bP9Ut"
      }
    }
  ]
}